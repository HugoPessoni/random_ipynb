{
  "cells": [
    {
      "cell_type": "markdown",
      "metadata": {
        "id": "HNCcuvO6NPsC"
      },
      "source": [
        "## Informações sobre o aluno:"
      ]
    },
    {
      "cell_type": "markdown",
      "metadata": {
        "id": "7m0ykzA2NMcw"
      },
      "source": [
        "Nomes: Hugo & Thiago (dupla sertaneja)\n",
        "\n",
        "Matrícula: 202204590 &"
      ]
    },
    {
      "cell_type": "markdown",
      "metadata": {
        "id": "wElPv96wNSbW"
      },
      "source": [
        "## Questão 1"
      ]
    },
    {
      "cell_type": "markdown",
      "metadata": {
        "id": "7aTCDlfNNZJ-"
      },
      "source": [
        "Você foi convidado para participar de um projeto de uma empresa BIA Technologies, uma empresa voltada para o comércio de jogos para video-games e computadores. Esse projeto conta com uma equipe de sistemas de recomendação, na qual você foi convidado a participar. Dessa forma, você irá auxiliar o desenvolvimento de um sistema de recomendação para essa empresa.\n",
        "\n",
        "Considere o dataset fornecido pela empresa e faça uma análise básica desse dataset. Em seguida, utilize seus conhecimentos para desenvolver e avaliar três diferentes sistemas de recomendação da seguinte forma:\n",
        "\n",
        "a) Desenvolva um sistema de recomendação utilizando filtragem colaborativa (sem realizar a redução da dimensionalidade dos dados);\n",
        "\n",
        "b) Desenvolva um sistema de recomendação baseado em conteúdo (sem realizar a redução da dimensionalidade dos dados);\n",
        "\n",
        "c) Desenvolva um sistema de recomendação utilizando a redução da dimensionalidade dos dados.\n",
        "\n",
        "Forneça as métricas de avaliações para cada um dos sistemas. Conclua suas observações de forma a convencer o gestor do projeto sobre qual foi o melhor sistema de recomendação obtido até o momento.\n",
        "\n",
        "**Entrega da resolução da prova: dia 03/12/2024 até as 23:59, via SIGAA.**"
      ]
    },
    {
      "cell_type": "markdown",
      "metadata": {
        "id": "LVAKu7nQjNNL"
      },
      "source": [
        "**Obs.:** A outra equipe de sistemas de recomendação da empresa BIA Technologies apresentou uma solução atingindo as métricas abaixo. Seu sistema deverá fornecer métricas melhores que as obtidas pela outra equipe (baseline):\n",
        "\n",
        "'ndcg@5' = 0.0016818836315317604\n",
        "\n",
        "'ndcg@10' = 0.003073280417540927\n",
        "\n",
        "'precision@5' = 0.00016758439071103669\n",
        "\n",
        "'precision@10' = 8.379219535551834e-05"
      ]
    },
    {
      "cell_type": "code",
      "execution_count": 7,
      "metadata": {
        "id": "oYKj52wFAGTz"
      },
      "outputs": [],
      "source": [
        "ndcgA5_prova = 0.0016818836315317604\n",
        "ndcgA10_prova = 0.003073280417540927\n",
        "precisionA5_prova = 0.00016758439071103669\n",
        "precisionA10_prova = 8.379219535551834e-05"
      ]
    },
    {
      "cell_type": "markdown",
      "metadata": {
        "id": "WO2gqsqDrkDa"
      },
      "source": [
        "## Conjunto de Dados"
      ]
    },
    {
      "cell_type": "code",
      "execution_count": 8,
      "metadata": {
        "id": "M3HwmoWOrnEm"
      },
      "outputs": [],
      "source": [
        "import os\n",
        "import json\n",
        "import gzip\n",
        "import pandas as pd\n",
        "import matplotlib.pyplot as plt\n",
        "import numpy as np\n",
        "from sklearn.metrics.pairwise import cosine_similarity\n",
        "from scipy.sparse import csr_matrix\n",
        "from sklearn.feature_extraction.text import TfidfVectorizer\n",
        "from sklearn.decomposition import PCA\n",
        "from scipy.sparse import csr_matrix\n",
        "import time"
      ]
    },
    {
      "cell_type": "code",
      "execution_count": 9,
      "metadata": {
        "colab": {
          "base_uri": "https://localhost:8080/"
        },
        "id": "kmf5VOy7rqG1",
        "outputId": "e8b898c6-8584-4c6c-d262-5527daf42355"
      },
      "outputs": [
        {
          "output_type": "stream",
          "name": "stdout",
          "text": [
            "--2024-12-04 11:41:58--  https://datarepo.eng.ucsd.edu/mcauley_group/data/amazon_v2/categoryFilesSmall/Video_Games_5.json.gz\n",
            "Resolving datarepo.eng.ucsd.edu (datarepo.eng.ucsd.edu)... 132.239.8.30\n",
            "Connecting to datarepo.eng.ucsd.edu (datarepo.eng.ucsd.edu)|132.239.8.30|:443... connected.\n",
            "HTTP request sent, awaiting response... 200 OK\n",
            "Length: 154050105 (147M) [application/x-gzip]\n",
            "Saving to: ‘Video_Games_5.json.gz’\n",
            "\n",
            "Video_Games_5.json. 100%[===================>] 146.91M  13.0MB/s    in 8.0s    \n",
            "\n",
            "2024-12-04 11:42:06 (18.3 MB/s) - ‘Video_Games_5.json.gz’ saved [154050105/154050105]\n",
            "\n"
          ]
        }
      ],
      "source": [
        "!wget https://datarepo.eng.ucsd.edu/mcauley_group/data/amazon_v2/categoryFilesSmall/Video_Games_5.json.gz"
      ]
    },
    {
      "cell_type": "code",
      "execution_count": 10,
      "metadata": {
        "colab": {
          "base_uri": "https://localhost:8080/"
        },
        "id": "e5g-UmgfrqC8",
        "outputId": "42608932-972b-41a7-e63a-79f76393c81c"
      },
      "outputs": [
        {
          "output_type": "stream",
          "name": "stdout",
          "text": [
            "--2024-12-04 11:42:07--  https://datarepo.eng.ucsd.edu/mcauley_group/data/amazon_v2/metaFiles2/meta_Video_Games.json.gz\n",
            "Resolving datarepo.eng.ucsd.edu (datarepo.eng.ucsd.edu)... 132.239.8.30\n",
            "Connecting to datarepo.eng.ucsd.edu (datarepo.eng.ucsd.edu)|132.239.8.30|:443... connected.\n",
            "HTTP request sent, awaiting response... 200 OK\n",
            "Length: 53175983 (51M) [application/x-gzip]\n",
            "Saving to: ‘meta_Video_Games.json.gz’\n",
            "\n",
            "meta_Video_Games.js 100%[===================>]  50.71M  33.7MB/s    in 1.5s    \n",
            "\n",
            "2024-12-04 11:42:08 (33.7 MB/s) - ‘meta_Video_Games.json.gz’ saved [53175983/53175983]\n",
            "\n"
          ]
        }
      ],
      "source": [
        "!wget https://datarepo.eng.ucsd.edu/mcauley_group/data/amazon_v2/metaFiles2/meta_Video_Games.json.gz"
      ]
    },
    {
      "cell_type": "code",
      "execution_count": 11,
      "metadata": {
        "colab": {
          "base_uri": "https://localhost:8080/"
        },
        "id": "ecoioxH6rp9O",
        "outputId": "7d7cfb28-8cb8-4a09-931e-b7823a3b445a"
      },
      "outputs": [
        {
          "output_type": "stream",
          "name": "stdout",
          "text": [
            "Video_Games_5.json.gz 497577\n",
            "meta_Video_Games.json.gz 84819\n"
          ]
        }
      ],
      "source": [
        "def load_file(file_name):\n",
        "    data = []\n",
        "    with gzip.open(file_name) as f:\n",
        "        for l in f:\n",
        "            data.append(json.loads(l.strip()))\n",
        "\n",
        "    print(file_name, len(data))\n",
        "    df = pd.DataFrame.from_dict(data)\n",
        "    return df\n",
        "\n",
        "reviews_df = load_file(\"Video_Games_5.json.gz\")\n",
        "metadata_df = load_file(\"meta_Video_Games.json.gz\")"
      ]
    },
    {
      "cell_type": "markdown",
      "metadata": {
        "id": "l81aOZI_rt6e"
      },
      "source": [
        "### Descrição das colunas reviews_df\n",
        "- reviewerID - ID do avaliador, por exemplo, A2SUAM1J3GNN3B\n",
        "- asin - ID do produto, por exemplo, 0000013714\n",
        "- reviewerName - nome do avaliador\n",
        "- vote - votos úteis da avaliação\n",
        "- style - um dicionário dos metadados do produto, por exemplo, \"Formato\" é \"Capa Dura\"\n",
        "- reviewText - texto da avaliação\n",
        "- overall - classificação do produto\n",
        "- summary - resumo da avaliação\n",
        "- unixReviewTime - tempo da avaliação (tempo Unix)\n",
        "- reviewTime - tempo da avaliação (formato original)\n",
        "- image - imagens que os usuários postam após receberem o produto"
      ]
    },
    {
      "cell_type": "code",
      "execution_count": 12,
      "metadata": {
        "colab": {
          "base_uri": "https://localhost:8080/",
          "height": 293
        },
        "id": "jVM_gvydrvWT",
        "outputId": "241a5f40-a372-42b6-c069-991dcf65428b"
      },
      "outputs": [
        {
          "output_type": "execute_result",
          "data": {
            "text/plain": [
              "   overall  verified   reviewTime      reviewerID        asin  \\\n",
              "0      5.0      True  10 17, 2015  A1HP7NVNPFMA4N  0700026657   \n",
              "1      4.0     False  07 27, 2015  A1JGAP0185YJI6  0700026657   \n",
              "2      3.0      True  02 23, 2015  A1YJWEXHQBWK2B  0700026657   \n",
              "3      2.0      True  02 20, 2015  A2204E1TH211HT  0700026657   \n",
              "4      5.0      True  12 25, 2014  A2RF5B5H74JLPE  0700026657   \n",
              "\n",
              "        reviewerName                                         reviewText  \\\n",
              "0        Ambrosia075  This game is a bit hard to get the hang of, bu...   \n",
              "1             travis  I played it a while but it was alright. The st...   \n",
              "2  Vincent G. Mezera                                           ok game.   \n",
              "3         Grandma KR  found the game a bit too complicated, not what...   \n",
              "4                jon  great game, I love it and have played it since...   \n",
              "\n",
              "                                       summary  unixReviewTime vote style  \\\n",
              "0                  but when you do it's great.      1445040000  NaN   NaN   \n",
              "1  But in spite of that it was fun, I liked it      1437955200  NaN   NaN   \n",
              "2                                  Three Stars      1424649600  NaN   NaN   \n",
              "3                                    Two Stars      1424390400  NaN   NaN   \n",
              "4                               love this game      1419465600  NaN   NaN   \n",
              "\n",
              "  image  \n",
              "0   NaN  \n",
              "1   NaN  \n",
              "2   NaN  \n",
              "3   NaN  \n",
              "4   NaN  "
            ],
            "text/html": [
              "\n",
              "  <div id=\"df-d9c12ccd-59e2-4fdb-919f-64d3081f55d7\" class=\"colab-df-container\">\n",
              "    <div>\n",
              "<style scoped>\n",
              "    .dataframe tbody tr th:only-of-type {\n",
              "        vertical-align: middle;\n",
              "    }\n",
              "\n",
              "    .dataframe tbody tr th {\n",
              "        vertical-align: top;\n",
              "    }\n",
              "\n",
              "    .dataframe thead th {\n",
              "        text-align: right;\n",
              "    }\n",
              "</style>\n",
              "<table border=\"1\" class=\"dataframe\">\n",
              "  <thead>\n",
              "    <tr style=\"text-align: right;\">\n",
              "      <th></th>\n",
              "      <th>overall</th>\n",
              "      <th>verified</th>\n",
              "      <th>reviewTime</th>\n",
              "      <th>reviewerID</th>\n",
              "      <th>asin</th>\n",
              "      <th>reviewerName</th>\n",
              "      <th>reviewText</th>\n",
              "      <th>summary</th>\n",
              "      <th>unixReviewTime</th>\n",
              "      <th>vote</th>\n",
              "      <th>style</th>\n",
              "      <th>image</th>\n",
              "    </tr>\n",
              "  </thead>\n",
              "  <tbody>\n",
              "    <tr>\n",
              "      <th>0</th>\n",
              "      <td>5.0</td>\n",
              "      <td>True</td>\n",
              "      <td>10 17, 2015</td>\n",
              "      <td>A1HP7NVNPFMA4N</td>\n",
              "      <td>0700026657</td>\n",
              "      <td>Ambrosia075</td>\n",
              "      <td>This game is a bit hard to get the hang of, bu...</td>\n",
              "      <td>but when you do it's great.</td>\n",
              "      <td>1445040000</td>\n",
              "      <td>NaN</td>\n",
              "      <td>NaN</td>\n",
              "      <td>NaN</td>\n",
              "    </tr>\n",
              "    <tr>\n",
              "      <th>1</th>\n",
              "      <td>4.0</td>\n",
              "      <td>False</td>\n",
              "      <td>07 27, 2015</td>\n",
              "      <td>A1JGAP0185YJI6</td>\n",
              "      <td>0700026657</td>\n",
              "      <td>travis</td>\n",
              "      <td>I played it a while but it was alright. The st...</td>\n",
              "      <td>But in spite of that it was fun, I liked it</td>\n",
              "      <td>1437955200</td>\n",
              "      <td>NaN</td>\n",
              "      <td>NaN</td>\n",
              "      <td>NaN</td>\n",
              "    </tr>\n",
              "    <tr>\n",
              "      <th>2</th>\n",
              "      <td>3.0</td>\n",
              "      <td>True</td>\n",
              "      <td>02 23, 2015</td>\n",
              "      <td>A1YJWEXHQBWK2B</td>\n",
              "      <td>0700026657</td>\n",
              "      <td>Vincent G. Mezera</td>\n",
              "      <td>ok game.</td>\n",
              "      <td>Three Stars</td>\n",
              "      <td>1424649600</td>\n",
              "      <td>NaN</td>\n",
              "      <td>NaN</td>\n",
              "      <td>NaN</td>\n",
              "    </tr>\n",
              "    <tr>\n",
              "      <th>3</th>\n",
              "      <td>2.0</td>\n",
              "      <td>True</td>\n",
              "      <td>02 20, 2015</td>\n",
              "      <td>A2204E1TH211HT</td>\n",
              "      <td>0700026657</td>\n",
              "      <td>Grandma KR</td>\n",
              "      <td>found the game a bit too complicated, not what...</td>\n",
              "      <td>Two Stars</td>\n",
              "      <td>1424390400</td>\n",
              "      <td>NaN</td>\n",
              "      <td>NaN</td>\n",
              "      <td>NaN</td>\n",
              "    </tr>\n",
              "    <tr>\n",
              "      <th>4</th>\n",
              "      <td>5.0</td>\n",
              "      <td>True</td>\n",
              "      <td>12 25, 2014</td>\n",
              "      <td>A2RF5B5H74JLPE</td>\n",
              "      <td>0700026657</td>\n",
              "      <td>jon</td>\n",
              "      <td>great game, I love it and have played it since...</td>\n",
              "      <td>love this game</td>\n",
              "      <td>1419465600</td>\n",
              "      <td>NaN</td>\n",
              "      <td>NaN</td>\n",
              "      <td>NaN</td>\n",
              "    </tr>\n",
              "  </tbody>\n",
              "</table>\n",
              "</div>\n",
              "    <div class=\"colab-df-buttons\">\n",
              "\n",
              "  <div class=\"colab-df-container\">\n",
              "    <button class=\"colab-df-convert\" onclick=\"convertToInteractive('df-d9c12ccd-59e2-4fdb-919f-64d3081f55d7')\"\n",
              "            title=\"Convert this dataframe to an interactive table.\"\n",
              "            style=\"display:none;\">\n",
              "\n",
              "  <svg xmlns=\"http://www.w3.org/2000/svg\" height=\"24px\" viewBox=\"0 -960 960 960\">\n",
              "    <path d=\"M120-120v-720h720v720H120Zm60-500h600v-160H180v160Zm220 220h160v-160H400v160Zm0 220h160v-160H400v160ZM180-400h160v-160H180v160Zm440 0h160v-160H620v160ZM180-180h160v-160H180v160Zm440 0h160v-160H620v160Z\"/>\n",
              "  </svg>\n",
              "    </button>\n",
              "\n",
              "  <style>\n",
              "    .colab-df-container {\n",
              "      display:flex;\n",
              "      gap: 12px;\n",
              "    }\n",
              "\n",
              "    .colab-df-convert {\n",
              "      background-color: #E8F0FE;\n",
              "      border: none;\n",
              "      border-radius: 50%;\n",
              "      cursor: pointer;\n",
              "      display: none;\n",
              "      fill: #1967D2;\n",
              "      height: 32px;\n",
              "      padding: 0 0 0 0;\n",
              "      width: 32px;\n",
              "    }\n",
              "\n",
              "    .colab-df-convert:hover {\n",
              "      background-color: #E2EBFA;\n",
              "      box-shadow: 0px 1px 2px rgba(60, 64, 67, 0.3), 0px 1px 3px 1px rgba(60, 64, 67, 0.15);\n",
              "      fill: #174EA6;\n",
              "    }\n",
              "\n",
              "    .colab-df-buttons div {\n",
              "      margin-bottom: 4px;\n",
              "    }\n",
              "\n",
              "    [theme=dark] .colab-df-convert {\n",
              "      background-color: #3B4455;\n",
              "      fill: #D2E3FC;\n",
              "    }\n",
              "\n",
              "    [theme=dark] .colab-df-convert:hover {\n",
              "      background-color: #434B5C;\n",
              "      box-shadow: 0px 1px 3px 1px rgba(0, 0, 0, 0.15);\n",
              "      filter: drop-shadow(0px 1px 2px rgba(0, 0, 0, 0.3));\n",
              "      fill: #FFFFFF;\n",
              "    }\n",
              "  </style>\n",
              "\n",
              "    <script>\n",
              "      const buttonEl =\n",
              "        document.querySelector('#df-d9c12ccd-59e2-4fdb-919f-64d3081f55d7 button.colab-df-convert');\n",
              "      buttonEl.style.display =\n",
              "        google.colab.kernel.accessAllowed ? 'block' : 'none';\n",
              "\n",
              "      async function convertToInteractive(key) {\n",
              "        const element = document.querySelector('#df-d9c12ccd-59e2-4fdb-919f-64d3081f55d7');\n",
              "        const dataTable =\n",
              "          await google.colab.kernel.invokeFunction('convertToInteractive',\n",
              "                                                    [key], {});\n",
              "        if (!dataTable) return;\n",
              "\n",
              "        const docLinkHtml = 'Like what you see? Visit the ' +\n",
              "          '<a target=\"_blank\" href=https://colab.research.google.com/notebooks/data_table.ipynb>data table notebook</a>'\n",
              "          + ' to learn more about interactive tables.';\n",
              "        element.innerHTML = '';\n",
              "        dataTable['output_type'] = 'display_data';\n",
              "        await google.colab.output.renderOutput(dataTable, element);\n",
              "        const docLink = document.createElement('div');\n",
              "        docLink.innerHTML = docLinkHtml;\n",
              "        element.appendChild(docLink);\n",
              "      }\n",
              "    </script>\n",
              "  </div>\n",
              "\n",
              "\n",
              "<div id=\"df-2d58e38c-e238-4819-9a58-e14f0c047f2c\">\n",
              "  <button class=\"colab-df-quickchart\" onclick=\"quickchart('df-2d58e38c-e238-4819-9a58-e14f0c047f2c')\"\n",
              "            title=\"Suggest charts\"\n",
              "            style=\"display:none;\">\n",
              "\n",
              "<svg xmlns=\"http://www.w3.org/2000/svg\" height=\"24px\"viewBox=\"0 0 24 24\"\n",
              "     width=\"24px\">\n",
              "    <g>\n",
              "        <path d=\"M19 3H5c-1.1 0-2 .9-2 2v14c0 1.1.9 2 2 2h14c1.1 0 2-.9 2-2V5c0-1.1-.9-2-2-2zM9 17H7v-7h2v7zm4 0h-2V7h2v10zm4 0h-2v-4h2v4z\"/>\n",
              "    </g>\n",
              "</svg>\n",
              "  </button>\n",
              "\n",
              "<style>\n",
              "  .colab-df-quickchart {\n",
              "      --bg-color: #E8F0FE;\n",
              "      --fill-color: #1967D2;\n",
              "      --hover-bg-color: #E2EBFA;\n",
              "      --hover-fill-color: #174EA6;\n",
              "      --disabled-fill-color: #AAA;\n",
              "      --disabled-bg-color: #DDD;\n",
              "  }\n",
              "\n",
              "  [theme=dark] .colab-df-quickchart {\n",
              "      --bg-color: #3B4455;\n",
              "      --fill-color: #D2E3FC;\n",
              "      --hover-bg-color: #434B5C;\n",
              "      --hover-fill-color: #FFFFFF;\n",
              "      --disabled-bg-color: #3B4455;\n",
              "      --disabled-fill-color: #666;\n",
              "  }\n",
              "\n",
              "  .colab-df-quickchart {\n",
              "    background-color: var(--bg-color);\n",
              "    border: none;\n",
              "    border-radius: 50%;\n",
              "    cursor: pointer;\n",
              "    display: none;\n",
              "    fill: var(--fill-color);\n",
              "    height: 32px;\n",
              "    padding: 0;\n",
              "    width: 32px;\n",
              "  }\n",
              "\n",
              "  .colab-df-quickchart:hover {\n",
              "    background-color: var(--hover-bg-color);\n",
              "    box-shadow: 0 1px 2px rgba(60, 64, 67, 0.3), 0 1px 3px 1px rgba(60, 64, 67, 0.15);\n",
              "    fill: var(--button-hover-fill-color);\n",
              "  }\n",
              "\n",
              "  .colab-df-quickchart-complete:disabled,\n",
              "  .colab-df-quickchart-complete:disabled:hover {\n",
              "    background-color: var(--disabled-bg-color);\n",
              "    fill: var(--disabled-fill-color);\n",
              "    box-shadow: none;\n",
              "  }\n",
              "\n",
              "  .colab-df-spinner {\n",
              "    border: 2px solid var(--fill-color);\n",
              "    border-color: transparent;\n",
              "    border-bottom-color: var(--fill-color);\n",
              "    animation:\n",
              "      spin 1s steps(1) infinite;\n",
              "  }\n",
              "\n",
              "  @keyframes spin {\n",
              "    0% {\n",
              "      border-color: transparent;\n",
              "      border-bottom-color: var(--fill-color);\n",
              "      border-left-color: var(--fill-color);\n",
              "    }\n",
              "    20% {\n",
              "      border-color: transparent;\n",
              "      border-left-color: var(--fill-color);\n",
              "      border-top-color: var(--fill-color);\n",
              "    }\n",
              "    30% {\n",
              "      border-color: transparent;\n",
              "      border-left-color: var(--fill-color);\n",
              "      border-top-color: var(--fill-color);\n",
              "      border-right-color: var(--fill-color);\n",
              "    }\n",
              "    40% {\n",
              "      border-color: transparent;\n",
              "      border-right-color: var(--fill-color);\n",
              "      border-top-color: var(--fill-color);\n",
              "    }\n",
              "    60% {\n",
              "      border-color: transparent;\n",
              "      border-right-color: var(--fill-color);\n",
              "    }\n",
              "    80% {\n",
              "      border-color: transparent;\n",
              "      border-right-color: var(--fill-color);\n",
              "      border-bottom-color: var(--fill-color);\n",
              "    }\n",
              "    90% {\n",
              "      border-color: transparent;\n",
              "      border-bottom-color: var(--fill-color);\n",
              "    }\n",
              "  }\n",
              "</style>\n",
              "\n",
              "  <script>\n",
              "    async function quickchart(key) {\n",
              "      const quickchartButtonEl =\n",
              "        document.querySelector('#' + key + ' button');\n",
              "      quickchartButtonEl.disabled = true;  // To prevent multiple clicks.\n",
              "      quickchartButtonEl.classList.add('colab-df-spinner');\n",
              "      try {\n",
              "        const charts = await google.colab.kernel.invokeFunction(\n",
              "            'suggestCharts', [key], {});\n",
              "      } catch (error) {\n",
              "        console.error('Error during call to suggestCharts:', error);\n",
              "      }\n",
              "      quickchartButtonEl.classList.remove('colab-df-spinner');\n",
              "      quickchartButtonEl.classList.add('colab-df-quickchart-complete');\n",
              "    }\n",
              "    (() => {\n",
              "      let quickchartButtonEl =\n",
              "        document.querySelector('#df-2d58e38c-e238-4819-9a58-e14f0c047f2c button');\n",
              "      quickchartButtonEl.style.display =\n",
              "        google.colab.kernel.accessAllowed ? 'block' : 'none';\n",
              "    })();\n",
              "  </script>\n",
              "</div>\n",
              "\n",
              "    </div>\n",
              "  </div>\n"
            ],
            "application/vnd.google.colaboratory.intrinsic+json": {
              "type": "dataframe",
              "variable_name": "reviews_df"
            }
          },
          "metadata": {},
          "execution_count": 12
        }
      ],
      "source": [
        "reviews_df.head()"
      ]
    },
    {
      "cell_type": "markdown",
      "metadata": {
        "id": "U0Xdx5M8rw6U"
      },
      "source": [
        "### Descrição das colunas metadata_df\n",
        "\n",
        "- asin - ID do produto, por exemplo, 0000031852\n",
        "- title - nome do produto\n",
        "- feature - características do produto em formato de lista de itens\n",
        "- description - descrição do produto\n",
        "- price - preço em dólares americanos (no momento da coleta de dados)\n",
        "- imageURL - URL da imagem do produto\n",
        "- imageURLHighRes - URL da imagem do produto em alta resolução\n",
        "- related - produtos relacionados (também comprados, também visualizados comprados juntos, comprar após visualizar)\n",
        "- salesRank - informações do ranking de vendas\n",
        "- brand - nome da marca\n",
        "- categories - lista de categorias às quais o produto pertence\n",
        "- tech1 - primeira tabela de detalhes técnicos do produto\n",
        "- tech2 - segunda tabela de detalhes técnicos do produto\n",
        "- similar - tabela de produtos similares"
      ]
    },
    {
      "cell_type": "code",
      "execution_count": 13,
      "metadata": {
        "colab": {
          "base_uri": "https://localhost:8080/",
          "height": 660
        },
        "id": "rQBCdOwRrvTU",
        "outputId": "49d2f007-7a3b-4cdc-f40c-a990638bef1d"
      },
      "outputs": [
        {
          "output_type": "execute_result",
          "data": {
            "text/plain": [
              "                                            category tech1  \\\n",
              "0                           [Video Games, PC, Games]         \n",
              "1  [Video Games, Xbox 360, Games, </span></span><...         \n",
              "2  [Video Games, Retro Gaming & Microconsoles, Su...         \n",
              "3  [Video Games, Xbox 360, Accessories, Controlle...         \n",
              "4  [Video Games, PC, Games, </span></span></span>...         \n",
              "\n",
              "                                         description fit  \\\n",
              "0                                                 []       \n",
              "1                                [Brand new sealed!]       \n",
              "2                                                 []       \n",
              "3  [MAS's Pro Xbox 360 Stick (Perfect 360 Stick) ...       \n",
              "4  [Phonics Alive! 3, The Speller teaches student...       \n",
              "\n",
              "                                               title      also_buy tech2  \\\n",
              "0                         Reversi Sensory Challenger            []         \n",
              "1  Medal of Honor: Warfighter - Includes Battlefi...  [B00PADROYW]         \n",
              "2  street fighter 2 II turbo super nintendo snes ...            []         \n",
              "3                                 Xbox 360 MAS STICK            []         \n",
              "4                      Phonics Alive! 3: The Speller            []         \n",
              "\n",
              "                                       brand  \\\n",
              "0                       Fidelity Electronics   \n",
              "1                     by\\n    \\n    EA Games   \n",
              "2                                   Nintendo   \n",
              "3                  by\\n    \\n    MAS SYSTEMS   \n",
              "4  by\\n    \\n    Advanced Software Pty. Ltd.   \n",
              "\n",
              "                                             feature  \\\n",
              "0                                                 []   \n",
              "1                                                 []   \n",
              "2                                                 []   \n",
              "3  [Original PCB used from Xbox 360 Control Pad (...   \n",
              "4  [Grades 2-12, Spelling Program, Teaches Spelli...   \n",
              "\n",
              "                                                rank  \\\n",
              "0  [>#2,623,937 in Toys &amp; Games (See Top 100 ...   \n",
              "1  [>#67,231 in Video Games (See Top 100 in Video...   \n",
              "2  [>#134,433 in Video Games (See Top 100 in Vide...   \n",
              "3  [>#105,263 in Video Games (See Top 100 in Vide...   \n",
              "4  [>#92,397 in Video Games (See Top 100 in Video...   \n",
              "\n",
              "                                           also_view          main_cat  \\\n",
              "0                                                 []  Toys &amp; Games   \n",
              "1  [B0050SY5BM, B072NQJCW5, B000TI836G, B002SRSQ7...       Video Games   \n",
              "2                                                 []       Video Games   \n",
              "3                                                 []       Video Games   \n",
              "4                                       [B000BCZ7U0]       Video Games   \n",
              "\n",
              "  similar_item date                                              price  \\\n",
              "0                                                                        \n",
              "1                    \\n\\t\\t\\t\\t\\t\\t\\t\\t\\t\\t\\t\\t<span class=\"vertica...   \n",
              "2                                                                $0.72   \n",
              "3                                                                        \n",
              "4                                                                        \n",
              "\n",
              "         asin                                           imageURL  \\\n",
              "0  0042000742  [https://images-na.ssl-images-amazon.com/image...   \n",
              "1  0078764343  [https://images-na.ssl-images-amazon.com/image...   \n",
              "2  0276425316                                                 []   \n",
              "3  0324411812  [https://images-na.ssl-images-amazon.com/image...   \n",
              "4  0439335310  [https://images-na.ssl-images-amazon.com/image...   \n",
              "\n",
              "                                     imageURLHighRes details  \n",
              "0  [https://images-na.ssl-images-amazon.com/image...     NaN  \n",
              "1  [https://images-na.ssl-images-amazon.com/image...     NaN  \n",
              "2                                                 []     NaN  \n",
              "3  [https://images-na.ssl-images-amazon.com/image...     NaN  \n",
              "4  [https://images-na.ssl-images-amazon.com/image...     NaN  "
            ],
            "text/html": [
              "\n",
              "  <div id=\"df-3174421f-ee39-431c-a129-233480e78827\" class=\"colab-df-container\">\n",
              "    <div>\n",
              "<style scoped>\n",
              "    .dataframe tbody tr th:only-of-type {\n",
              "        vertical-align: middle;\n",
              "    }\n",
              "\n",
              "    .dataframe tbody tr th {\n",
              "        vertical-align: top;\n",
              "    }\n",
              "\n",
              "    .dataframe thead th {\n",
              "        text-align: right;\n",
              "    }\n",
              "</style>\n",
              "<table border=\"1\" class=\"dataframe\">\n",
              "  <thead>\n",
              "    <tr style=\"text-align: right;\">\n",
              "      <th></th>\n",
              "      <th>category</th>\n",
              "      <th>tech1</th>\n",
              "      <th>description</th>\n",
              "      <th>fit</th>\n",
              "      <th>title</th>\n",
              "      <th>also_buy</th>\n",
              "      <th>tech2</th>\n",
              "      <th>brand</th>\n",
              "      <th>feature</th>\n",
              "      <th>rank</th>\n",
              "      <th>also_view</th>\n",
              "      <th>main_cat</th>\n",
              "      <th>similar_item</th>\n",
              "      <th>date</th>\n",
              "      <th>price</th>\n",
              "      <th>asin</th>\n",
              "      <th>imageURL</th>\n",
              "      <th>imageURLHighRes</th>\n",
              "      <th>details</th>\n",
              "    </tr>\n",
              "  </thead>\n",
              "  <tbody>\n",
              "    <tr>\n",
              "      <th>0</th>\n",
              "      <td>[Video Games, PC, Games]</td>\n",
              "      <td></td>\n",
              "      <td>[]</td>\n",
              "      <td></td>\n",
              "      <td>Reversi Sensory Challenger</td>\n",
              "      <td>[]</td>\n",
              "      <td></td>\n",
              "      <td>Fidelity Electronics</td>\n",
              "      <td>[]</td>\n",
              "      <td>[&gt;#2,623,937 in Toys &amp;amp; Games (See Top 100 ...</td>\n",
              "      <td>[]</td>\n",
              "      <td>Toys &amp;amp; Games</td>\n",
              "      <td></td>\n",
              "      <td></td>\n",
              "      <td></td>\n",
              "      <td>0042000742</td>\n",
              "      <td>[https://images-na.ssl-images-amazon.com/image...</td>\n",
              "      <td>[https://images-na.ssl-images-amazon.com/image...</td>\n",
              "      <td>NaN</td>\n",
              "    </tr>\n",
              "    <tr>\n",
              "      <th>1</th>\n",
              "      <td>[Video Games, Xbox 360, Games, &lt;/span&gt;&lt;/span&gt;&lt;...</td>\n",
              "      <td></td>\n",
              "      <td>[Brand new sealed!]</td>\n",
              "      <td></td>\n",
              "      <td>Medal of Honor: Warfighter - Includes Battlefi...</td>\n",
              "      <td>[B00PADROYW]</td>\n",
              "      <td></td>\n",
              "      <td>by\\n    \\n    EA Games</td>\n",
              "      <td>[]</td>\n",
              "      <td>[&gt;#67,231 in Video Games (See Top 100 in Video...</td>\n",
              "      <td>[B0050SY5BM, B072NQJCW5, B000TI836G, B002SRSQ7...</td>\n",
              "      <td>Video Games</td>\n",
              "      <td></td>\n",
              "      <td></td>\n",
              "      <td>\\n\\t\\t\\t\\t\\t\\t\\t\\t\\t\\t\\t\\t&lt;span class=\"vertica...</td>\n",
              "      <td>0078764343</td>\n",
              "      <td>[https://images-na.ssl-images-amazon.com/image...</td>\n",
              "      <td>[https://images-na.ssl-images-amazon.com/image...</td>\n",
              "      <td>NaN</td>\n",
              "    </tr>\n",
              "    <tr>\n",
              "      <th>2</th>\n",
              "      <td>[Video Games, Retro Gaming &amp; Microconsoles, Su...</td>\n",
              "      <td></td>\n",
              "      <td>[]</td>\n",
              "      <td></td>\n",
              "      <td>street fighter 2 II turbo super nintendo snes ...</td>\n",
              "      <td>[]</td>\n",
              "      <td></td>\n",
              "      <td>Nintendo</td>\n",
              "      <td>[]</td>\n",
              "      <td>[&gt;#134,433 in Video Games (See Top 100 in Vide...</td>\n",
              "      <td>[]</td>\n",
              "      <td>Video Games</td>\n",
              "      <td></td>\n",
              "      <td></td>\n",
              "      <td>$0.72</td>\n",
              "      <td>0276425316</td>\n",
              "      <td>[]</td>\n",
              "      <td>[]</td>\n",
              "      <td>NaN</td>\n",
              "    </tr>\n",
              "    <tr>\n",
              "      <th>3</th>\n",
              "      <td>[Video Games, Xbox 360, Accessories, Controlle...</td>\n",
              "      <td></td>\n",
              "      <td>[MAS's Pro Xbox 360 Stick (Perfect 360 Stick) ...</td>\n",
              "      <td></td>\n",
              "      <td>Xbox 360 MAS STICK</td>\n",
              "      <td>[]</td>\n",
              "      <td></td>\n",
              "      <td>by\\n    \\n    MAS SYSTEMS</td>\n",
              "      <td>[Original PCB used from Xbox 360 Control Pad (...</td>\n",
              "      <td>[&gt;#105,263 in Video Games (See Top 100 in Vide...</td>\n",
              "      <td>[]</td>\n",
              "      <td>Video Games</td>\n",
              "      <td></td>\n",
              "      <td></td>\n",
              "      <td></td>\n",
              "      <td>0324411812</td>\n",
              "      <td>[https://images-na.ssl-images-amazon.com/image...</td>\n",
              "      <td>[https://images-na.ssl-images-amazon.com/image...</td>\n",
              "      <td>NaN</td>\n",
              "    </tr>\n",
              "    <tr>\n",
              "      <th>4</th>\n",
              "      <td>[Video Games, PC, Games, &lt;/span&gt;&lt;/span&gt;&lt;/span&gt;...</td>\n",
              "      <td></td>\n",
              "      <td>[Phonics Alive! 3, The Speller teaches student...</td>\n",
              "      <td></td>\n",
              "      <td>Phonics Alive! 3: The Speller</td>\n",
              "      <td>[]</td>\n",
              "      <td></td>\n",
              "      <td>by\\n    \\n    Advanced Software Pty. Ltd.</td>\n",
              "      <td>[Grades 2-12, Spelling Program, Teaches Spelli...</td>\n",
              "      <td>[&gt;#92,397 in Video Games (See Top 100 in Video...</td>\n",
              "      <td>[B000BCZ7U0]</td>\n",
              "      <td>Video Games</td>\n",
              "      <td></td>\n",
              "      <td></td>\n",
              "      <td></td>\n",
              "      <td>0439335310</td>\n",
              "      <td>[https://images-na.ssl-images-amazon.com/image...</td>\n",
              "      <td>[https://images-na.ssl-images-amazon.com/image...</td>\n",
              "      <td>NaN</td>\n",
              "    </tr>\n",
              "  </tbody>\n",
              "</table>\n",
              "</div>\n",
              "    <div class=\"colab-df-buttons\">\n",
              "\n",
              "  <div class=\"colab-df-container\">\n",
              "    <button class=\"colab-df-convert\" onclick=\"convertToInteractive('df-3174421f-ee39-431c-a129-233480e78827')\"\n",
              "            title=\"Convert this dataframe to an interactive table.\"\n",
              "            style=\"display:none;\">\n",
              "\n",
              "  <svg xmlns=\"http://www.w3.org/2000/svg\" height=\"24px\" viewBox=\"0 -960 960 960\">\n",
              "    <path d=\"M120-120v-720h720v720H120Zm60-500h600v-160H180v160Zm220 220h160v-160H400v160Zm0 220h160v-160H400v160ZM180-400h160v-160H180v160Zm440 0h160v-160H620v160ZM180-180h160v-160H180v160Zm440 0h160v-160H620v160Z\"/>\n",
              "  </svg>\n",
              "    </button>\n",
              "\n",
              "  <style>\n",
              "    .colab-df-container {\n",
              "      display:flex;\n",
              "      gap: 12px;\n",
              "    }\n",
              "\n",
              "    .colab-df-convert {\n",
              "      background-color: #E8F0FE;\n",
              "      border: none;\n",
              "      border-radius: 50%;\n",
              "      cursor: pointer;\n",
              "      display: none;\n",
              "      fill: #1967D2;\n",
              "      height: 32px;\n",
              "      padding: 0 0 0 0;\n",
              "      width: 32px;\n",
              "    }\n",
              "\n",
              "    .colab-df-convert:hover {\n",
              "      background-color: #E2EBFA;\n",
              "      box-shadow: 0px 1px 2px rgba(60, 64, 67, 0.3), 0px 1px 3px 1px rgba(60, 64, 67, 0.15);\n",
              "      fill: #174EA6;\n",
              "    }\n",
              "\n",
              "    .colab-df-buttons div {\n",
              "      margin-bottom: 4px;\n",
              "    }\n",
              "\n",
              "    [theme=dark] .colab-df-convert {\n",
              "      background-color: #3B4455;\n",
              "      fill: #D2E3FC;\n",
              "    }\n",
              "\n",
              "    [theme=dark] .colab-df-convert:hover {\n",
              "      background-color: #434B5C;\n",
              "      box-shadow: 0px 1px 3px 1px rgba(0, 0, 0, 0.15);\n",
              "      filter: drop-shadow(0px 1px 2px rgba(0, 0, 0, 0.3));\n",
              "      fill: #FFFFFF;\n",
              "    }\n",
              "  </style>\n",
              "\n",
              "    <script>\n",
              "      const buttonEl =\n",
              "        document.querySelector('#df-3174421f-ee39-431c-a129-233480e78827 button.colab-df-convert');\n",
              "      buttonEl.style.display =\n",
              "        google.colab.kernel.accessAllowed ? 'block' : 'none';\n",
              "\n",
              "      async function convertToInteractive(key) {\n",
              "        const element = document.querySelector('#df-3174421f-ee39-431c-a129-233480e78827');\n",
              "        const dataTable =\n",
              "          await google.colab.kernel.invokeFunction('convertToInteractive',\n",
              "                                                    [key], {});\n",
              "        if (!dataTable) return;\n",
              "\n",
              "        const docLinkHtml = 'Like what you see? Visit the ' +\n",
              "          '<a target=\"_blank\" href=https://colab.research.google.com/notebooks/data_table.ipynb>data table notebook</a>'\n",
              "          + ' to learn more about interactive tables.';\n",
              "        element.innerHTML = '';\n",
              "        dataTable['output_type'] = 'display_data';\n",
              "        await google.colab.output.renderOutput(dataTable, element);\n",
              "        const docLink = document.createElement('div');\n",
              "        docLink.innerHTML = docLinkHtml;\n",
              "        element.appendChild(docLink);\n",
              "      }\n",
              "    </script>\n",
              "  </div>\n",
              "\n",
              "\n",
              "<div id=\"df-ea349726-4926-482c-ab61-4bc768321458\">\n",
              "  <button class=\"colab-df-quickchart\" onclick=\"quickchart('df-ea349726-4926-482c-ab61-4bc768321458')\"\n",
              "            title=\"Suggest charts\"\n",
              "            style=\"display:none;\">\n",
              "\n",
              "<svg xmlns=\"http://www.w3.org/2000/svg\" height=\"24px\"viewBox=\"0 0 24 24\"\n",
              "     width=\"24px\">\n",
              "    <g>\n",
              "        <path d=\"M19 3H5c-1.1 0-2 .9-2 2v14c0 1.1.9 2 2 2h14c1.1 0 2-.9 2-2V5c0-1.1-.9-2-2-2zM9 17H7v-7h2v7zm4 0h-2V7h2v10zm4 0h-2v-4h2v4z\"/>\n",
              "    </g>\n",
              "</svg>\n",
              "  </button>\n",
              "\n",
              "<style>\n",
              "  .colab-df-quickchart {\n",
              "      --bg-color: #E8F0FE;\n",
              "      --fill-color: #1967D2;\n",
              "      --hover-bg-color: #E2EBFA;\n",
              "      --hover-fill-color: #174EA6;\n",
              "      --disabled-fill-color: #AAA;\n",
              "      --disabled-bg-color: #DDD;\n",
              "  }\n",
              "\n",
              "  [theme=dark] .colab-df-quickchart {\n",
              "      --bg-color: #3B4455;\n",
              "      --fill-color: #D2E3FC;\n",
              "      --hover-bg-color: #434B5C;\n",
              "      --hover-fill-color: #FFFFFF;\n",
              "      --disabled-bg-color: #3B4455;\n",
              "      --disabled-fill-color: #666;\n",
              "  }\n",
              "\n",
              "  .colab-df-quickchart {\n",
              "    background-color: var(--bg-color);\n",
              "    border: none;\n",
              "    border-radius: 50%;\n",
              "    cursor: pointer;\n",
              "    display: none;\n",
              "    fill: var(--fill-color);\n",
              "    height: 32px;\n",
              "    padding: 0;\n",
              "    width: 32px;\n",
              "  }\n",
              "\n",
              "  .colab-df-quickchart:hover {\n",
              "    background-color: var(--hover-bg-color);\n",
              "    box-shadow: 0 1px 2px rgba(60, 64, 67, 0.3), 0 1px 3px 1px rgba(60, 64, 67, 0.15);\n",
              "    fill: var(--button-hover-fill-color);\n",
              "  }\n",
              "\n",
              "  .colab-df-quickchart-complete:disabled,\n",
              "  .colab-df-quickchart-complete:disabled:hover {\n",
              "    background-color: var(--disabled-bg-color);\n",
              "    fill: var(--disabled-fill-color);\n",
              "    box-shadow: none;\n",
              "  }\n",
              "\n",
              "  .colab-df-spinner {\n",
              "    border: 2px solid var(--fill-color);\n",
              "    border-color: transparent;\n",
              "    border-bottom-color: var(--fill-color);\n",
              "    animation:\n",
              "      spin 1s steps(1) infinite;\n",
              "  }\n",
              "\n",
              "  @keyframes spin {\n",
              "    0% {\n",
              "      border-color: transparent;\n",
              "      border-bottom-color: var(--fill-color);\n",
              "      border-left-color: var(--fill-color);\n",
              "    }\n",
              "    20% {\n",
              "      border-color: transparent;\n",
              "      border-left-color: var(--fill-color);\n",
              "      border-top-color: var(--fill-color);\n",
              "    }\n",
              "    30% {\n",
              "      border-color: transparent;\n",
              "      border-left-color: var(--fill-color);\n",
              "      border-top-color: var(--fill-color);\n",
              "      border-right-color: var(--fill-color);\n",
              "    }\n",
              "    40% {\n",
              "      border-color: transparent;\n",
              "      border-right-color: var(--fill-color);\n",
              "      border-top-color: var(--fill-color);\n",
              "    }\n",
              "    60% {\n",
              "      border-color: transparent;\n",
              "      border-right-color: var(--fill-color);\n",
              "    }\n",
              "    80% {\n",
              "      border-color: transparent;\n",
              "      border-right-color: var(--fill-color);\n",
              "      border-bottom-color: var(--fill-color);\n",
              "    }\n",
              "    90% {\n",
              "      border-color: transparent;\n",
              "      border-bottom-color: var(--fill-color);\n",
              "    }\n",
              "  }\n",
              "</style>\n",
              "\n",
              "  <script>\n",
              "    async function quickchart(key) {\n",
              "      const quickchartButtonEl =\n",
              "        document.querySelector('#' + key + ' button');\n",
              "      quickchartButtonEl.disabled = true;  // To prevent multiple clicks.\n",
              "      quickchartButtonEl.classList.add('colab-df-spinner');\n",
              "      try {\n",
              "        const charts = await google.colab.kernel.invokeFunction(\n",
              "            'suggestCharts', [key], {});\n",
              "      } catch (error) {\n",
              "        console.error('Error during call to suggestCharts:', error);\n",
              "      }\n",
              "      quickchartButtonEl.classList.remove('colab-df-spinner');\n",
              "      quickchartButtonEl.classList.add('colab-df-quickchart-complete');\n",
              "    }\n",
              "    (() => {\n",
              "      let quickchartButtonEl =\n",
              "        document.querySelector('#df-ea349726-4926-482c-ab61-4bc768321458 button');\n",
              "      quickchartButtonEl.style.display =\n",
              "        google.colab.kernel.accessAllowed ? 'block' : 'none';\n",
              "    })();\n",
              "  </script>\n",
              "</div>\n",
              "\n",
              "    </div>\n",
              "  </div>\n"
            ],
            "application/vnd.google.colaboratory.intrinsic+json": {
              "type": "dataframe",
              "variable_name": "metadata_df",
              "summary": "{\n  \"name\": \"metadata_df\",\n  \"rows\": 84819,\n  \"fields\": [\n    {\n      \"column\": \"category\",\n      \"properties\": {\n        \"dtype\": \"object\",\n        \"semantic_type\": \"\",\n        \"description\": \"\"\n      }\n    },\n    {\n      \"column\": \"tech1\",\n      \"properties\": {\n        \"dtype\": \"category\",\n        \"num_unique_values\": 2481,\n        \"samples\": [\n          \" class=\\\"a-keyvalue prodDetTable\\\" role=\\\"presentation\\\">\\n         \\n           \\n           \\n           \\n           <tr>\\n            \\n            \\n              \\n              \\n               \\n                <th class=\\\"a-color-secondary a-size-base prodDetSectionEntry\\\">\\n                  Brand Name\\n                </th>\\n                \\n              \\n            \\n            \\n           \\n            <td class=\\\"a-size-base\\\">\\n              RinoGear\\n            </td>\\n            \\n           </tr>\\n           \\n           \\n           \\n           <tr>\\n            \\n            \\n              \\n              \\n               \\n                <th class=\\\"a-color-secondary a-size-base prodDetSectionEntry\\\">\\n                  Hardware Platform\\n                </th>\\n                \\n              \\n            \\n            \\n           \\n            <td class=\\\"a-size-base\\\">\\n              playstation vita\\n            </td>\\n            \\n           </tr>\\n           \\n           \\n           \\n           <tr>\\n            \\n            \\n              \\n              \\n               \\n                <th class=\\\"a-color-secondary a-size-base prodDetSectionEntry\\\">\\n                  Item Weight\\n                </th>\\n                \\n              \\n            \\n            \\n           \\n            <td class=\\\"a-size-base\\\">\\n              1.44 ounces\\n            </td>\\n            \\n           </tr>\\n           \\n           \\n           \\n           <tr>\\n            \\n            \\n              \\n              \\n               \\n                <th class=\\\"a-color-secondary a-size-base prodDetSectionEntry\\\">\\n                  Product Dimensions\\n                </th>\\n                \\n              \\n            \\n            \\n           \\n            <td class=\\\"a-size-base\\\">\\n              4.5 x 2.5 x 0.1 inches\\n            </td>\\n            \\n           </tr>\\n           \\n           \\n           \\n           <tr>\\n            \\n            \\n              \\n              \\n               \\n                <th class=\\\"a-color-secondary a-size-base prodDetSectionEntry\\\">\\n                  Item Dimensions  L x W x H\\n                </th>\\n                \\n              \\n            \\n            \\n           \\n            <td class=\\\"a-size-base\\\">\\n              4.5 x 2.5 x 0.1 inches\\n            </td>\\n            \\n           </tr>\\n           \\n           \\n          \\n        \",\n          \" class=\\\"a-keyvalue prodDetTable\\\" role=\\\"presentation\\\">\\n         \\n           \\n           \\n           \\n           <tr>\\n            \\n            \\n              \\n              \\n               \\n                <th class=\\\"a-color-secondary a-size-base prodDetSectionEntry\\\">\\n                  Brand Name\\n                </th>\\n                \\n              \\n            \\n            \\n           \\n            <td class=\\\"a-size-base\\\">\\n              Premium Controllerz\\n            </td>\\n            \\n           </tr>\\n           \\n           \\n           \\n           <tr>\\n            \\n            \\n              \\n              \\n               \\n                <th class=\\\"a-color-secondary a-size-base prodDetSectionEntry\\\">\\n                  Hardware Platform\\n                </th>\\n                \\n              \\n            \\n            \\n           \\n            <td class=\\\"a-size-base\\\">\\n              xbox 360\\n            </td>\\n            \\n           </tr>\\n           \\n           \\n           \\n           <tr>\\n            \\n            \\n              \\n              \\n               \\n                <th class=\\\"a-color-secondary a-size-base prodDetSectionEntry\\\">\\n                  Item Weight\\n                </th>\\n                \\n              \\n            \\n            \\n           \\n            <td class=\\\"a-size-base\\\">\\n              11.4 ounces\\n            </td>\\n            \\n           </tr>\\n           \\n           \\n           \\n           <tr>\\n            \\n            \\n              \\n              \\n               \\n                <th class=\\\"a-color-secondary a-size-base prodDetSectionEntry\\\">\\n                  Product Dimensions\\n                </th>\\n                \\n              \\n            \\n            \\n           \\n            <td class=\\\"a-size-base\\\">\\n              7.3 x 5.4 x 3.7 inches\\n            </td>\\n            \\n           </tr>\\n           \\n           \\n           \\n           <tr>\\n            \\n            \\n              \\n              \\n               \\n                <th class=\\\"a-color-secondary a-size-base prodDetSectionEntry\\\">\\n                  Item Dimensions  L x W x H\\n                </th>\\n                \\n              \\n            \\n            \\n           \\n            <td class=\\\"a-size-base\\\">\\n              7.3 x 5.4 x 3.7 inches\\n            </td>\\n            \\n           </tr>\\n           \\n           \\n          \\n        \",\n          \" class=\\\"a-keyvalue prodDetTable\\\" role=\\\"presentation\\\">\\n         \\n           \\n           \\n           \\n           <tr>\\n            \\n            \\n              \\n              \\n               \\n                <th class=\\\"a-color-secondary a-size-base prodDetSectionEntry\\\">\\n                  Brand Name\\n                </th>\\n                \\n              \\n            \\n            \\n           \\n            <td class=\\\"a-size-base\\\">\\n              JAMSWALL\\n            </td>\\n            \\n           </tr>\\n           \\n           \\n           \\n           <tr>\\n            \\n            \\n              \\n              \\n               \\n                <th class=\\\"a-color-secondary a-size-base prodDetSectionEntry\\\">\\n                  Hardware Platform\\n                </th>\\n                \\n              \\n            \\n            \\n           \\n            <td class=\\\"a-size-base\\\">\\n              pc, playstation 3\\n            </td>\\n            \\n           </tr>\\n           \\n           \\n           \\n           <tr>\\n            \\n            \\n              \\n              \\n               \\n                <th class=\\\"a-color-secondary a-size-base prodDetSectionEntry\\\">\\n                  Item Weight\\n                </th>\\n                \\n              \\n            \\n            \\n           \\n            <td class=\\\"a-size-base\\\">\\n              0.32 ounces\\n            </td>\\n            \\n           </tr>\\n           \\n           \\n           \\n           <tr>\\n            \\n            \\n              \\n              \\n               \\n                <th class=\\\"a-color-secondary a-size-base prodDetSectionEntry\\\">\\n                  Product Dimensions\\n                </th>\\n                \\n              \\n            \\n            \\n           \\n            <td class=\\\"a-size-base\\\">\\n              8 x 4.8 x 1.9 inches\\n            </td>\\n            \\n           </tr>\\n           \\n           \\n           \\n           <tr>\\n            \\n            \\n              \\n              \\n               \\n                <th class=\\\"a-color-secondary a-size-base prodDetSectionEntry\\\">\\n                  Item Dimensions  L x W x H\\n                </th>\\n                \\n              \\n            \\n            \\n           \\n            <td class=\\\"a-size-base\\\">\\n              7.99 x 4.8 x 1.85 inches\\n            </td>\\n            \\n           </tr>\\n           \\n           \\n           \\n           <tr>\\n            \\n            \\n              \\n              \\n               \\n                <th class=\\\"a-color-secondary a-size-base prodDetSectionEntry\\\">\\n                  Color\\r\\n\\n                </th>\\n                \\n              \\n            \\n            \\n           \\n            <td class=\\\"a-size-base\\\">\\n              red9\\n            </td>\\n            \\n           </tr>\\n           \\n           \\n          \\n        \"\n        ],\n        \"semantic_type\": \"\",\n        \"description\": \"\"\n      }\n    },\n    {\n      \"column\": \"description\",\n      \"properties\": {\n        \"dtype\": \"object\",\n        \"semantic_type\": \"\",\n        \"description\": \"\"\n      }\n    },\n    {\n      \"column\": \"fit\",\n      \"properties\": {\n        \"dtype\": \"object\",\n        \"num_unique_values\": 1,\n        \"samples\": [\n          \"\"\n        ],\n        \"semantic_type\": \"\",\n        \"description\": \"\"\n      }\n    },\n    {\n      \"column\": \"title\",\n      \"properties\": {\n        \"dtype\": \"string\",\n        \"num_unique_values\": 68665,\n        \"samples\": [\n          \"D.Gray-Man: Kami no Shitotachi [Japan Import]\"\n        ],\n        \"semantic_type\": \"\",\n        \"description\": \"\"\n      }\n    },\n    {\n      \"column\": \"also_buy\",\n      \"properties\": {\n        \"dtype\": \"object\",\n        \"semantic_type\": \"\",\n        \"description\": \"\"\n      }\n    },\n    {\n      \"column\": \"tech2\",\n      \"properties\": {\n        \"dtype\": \"category\",\n        \"num_unique_values\": 234,\n        \"samples\": [\n          \" class=\\\"a-keyvalue prodDetTable\\\" role=\\\"presentation\\\">\\n         \\n           \\n           \\n           \\n           <tr>\\n            \\n            \\n              \\n              \\n               \\n                <th class=\\\"a-color-secondary a-size-base prodDetSectionEntry\\\">\\n                  Brand Name\\n                </th>\\n                \\n              \\n            \\n            \\n           \\n            <td class=\\\"a-size-base\\\">\\n              ROCCAT\\n            </td>\\n            \\n           </tr>\\n           \\n           \\n           \\n           <tr>\\n            \\n            \\n              \\n              \\n               \\n                <th class=\\\"a-color-secondary a-size-base prodDetSectionEntry\\\">\\n                  Item model number\\n                </th>\\n                \\n              \\n            \\n            \\n           \\n            <td class=\\\"a-size-base\\\">\\n              ROC-12-851-RD\\n            </td>\\n            \\n           </tr>\\n           \\n           \\n           \\n           <tr>\\n            \\n            \\n              \\n              \\n               \\n                <th class=\\\"a-color-secondary a-size-base prodDetSectionEntry\\\">\\n                  Hardware Platform\\n                </th>\\n                \\n              \\n            \\n            \\n           \\n            <td class=\\\"a-size-base\\\">\\n              PC\\n            </td>\\n            \\n           </tr>\\n           \\n           \\n           \\n           <tr>\\n            \\n            \\n              \\n              \\n               \\n                <th class=\\\"a-color-secondary a-size-base prodDetSectionEntry\\\">\\n                  Item Weight\\n                </th>\\n                \\n              \\n            \\n            \\n           \\n            <td class=\\\"a-size-base\\\">\\n              2 pounds\\n            </td>\\n            \\n           </tr>\\n           \\n           \\n           \\n           <tr>\\n            \\n            \\n              \\n              \\n               \\n                <th class=\\\"a-color-secondary a-size-base prodDetSectionEntry\\\">\\n                  Product Dimensions\\n                </th>\\n                \\n              \\n            \\n            \\n           \\n            <td class=\\\"a-size-base\\\">\\n              20 x 9.2 x 1.5 inches\\n            </td>\\n            \\n           </tr>\\n           \\n           \\n           \\n           <tr>\\n            \\n            \\n              \\n              \\n               \\n                <th class=\\\"a-color-secondary a-size-base prodDetSectionEntry\\\">\\n                  Item Dimensions  L x W x H\\n                </th>\\n                \\n              \\n            \\n            \\n           \\n            <td class=\\\"a-size-base\\\">\\n              20 x 9.21 x 1.5 inches\\n            </td>\\n            \\n           </tr>\\n           \\n           \\n           \\n           <tr>\\n            \\n            \\n              \\n              \\n               \\n                <th class=\\\"a-color-secondary a-size-base prodDetSectionEntry\\\">\\n                  Color\\r\\n\\n                </th>\\n                \\n              \\n            \\n            \\n           \\n            <td class=\\\"a-size-base\\\">\\n              Red\\n            </td>\\n            \\n           </tr>\\n           \\n           \\n          \\n        \"\n        ],\n        \"semantic_type\": \"\",\n        \"description\": \"\"\n      }\n    },\n    {\n      \"column\": \"brand\",\n      \"properties\": {\n        \"dtype\": \"category\",\n        \"num_unique_values\": 9197,\n        \"samples\": [\n          \"HighClassRetro\"\n        ],\n        \"semantic_type\": \"\",\n        \"description\": \"\"\n      }\n    },\n    {\n      \"column\": \"feature\",\n      \"properties\": {\n        \"dtype\": \"object\",\n        \"semantic_type\": \"\",\n        \"description\": \"\"\n      }\n    },\n    {\n      \"column\": \"rank\",\n      \"properties\": {\n        \"dtype\": \"object\",\n        \"semantic_type\": \"\",\n        \"description\": \"\"\n      }\n    },\n    {\n      \"column\": \"also_view\",\n      \"properties\": {\n        \"dtype\": \"object\",\n        \"semantic_type\": \"\",\n        \"description\": \"\"\n      }\n    },\n    {\n      \"column\": \"main_cat\",\n      \"properties\": {\n        \"dtype\": \"category\",\n        \"num_unique_values\": 44,\n        \"samples\": [\n          \"Pet Supplies\"\n        ],\n        \"semantic_type\": \"\",\n        \"description\": \"\"\n      }\n    },\n    {\n      \"column\": \"similar_item\",\n      \"properties\": {\n        \"dtype\": \"category\",\n        \"num_unique_values\": 262,\n        \"samples\": [\n          \" class=\\\"a-bordered a-horizontal-stripes  a-spacing-extra-large a-size-base comparison_table\\\">\\n\\n\\n\\n            \\n            \\n            \\n            \\n            \\n            <tr class=\\\"comparison_table_image_row\\\">\\n                <td class=\\\"comparison_table_first_col\\\"></td>\\n\\n\\n                <th class=\\\"comparison_image_title_cell\\\" role=\\\"columnheader\\\">\\n                    <div class=\\\"a-row a-spacing-top-micro\\\">\\n                        <center>\\n                             <img alt=\\\"KOTION EACH G2200 7.1 Surround USB Super Vibration Gaming Headset with Microphone for PS4 Tablet Laptop (Blue)\\\" src=\\\"https://images-na.ssl-images-amazon.com/images/I/51k4NOKPFaL._SL500_AC_SS350_.jpg\\\" id=\\\"comparison_image\\\">\\n                        </center>\\n                    </div>\\n                    <div class=\\\"a-row a-spacing-top-small\\\">\\n                        <div id=\\\"comparison_title\\\" class=\\\"a-section a-spacing-none\\\">\\n                            <span aria-hidden=\\\"true\\\" class=\\\"a-size-base a-color-base a-text-bold\\\">\\n                                This item\\n                            </span>\\n                            <span aria-hidden=\\\"true\\\" class=\\\"a-size-base a-color-base\\\">KOTION EACH G2200 7.1 Surround USB Super Vibration Gaming Headset with Microphone for PS4 Tablet Laptop (Blue)</span>\\n                        </div>\\n                        \\n                        \\n                    </div>\\n                </th>\\n\\n\\n                \\n                    <th class=\\\"comparison_image_title_cell comparable_item0\\\" role=\\\"columnheader\\\">\\n                        <a class=\\\"a-link-normal\\\" target=\\\"_self\\\" rel=\\\"noopener\\\" href=\\\"/dp/B01H6GUCCQ/ref=psdc_172487_t1_B01F8CXV0U\\\">\\n                          <div class=\\\"a-row a-spacing-top-micro\\\">\\n                            <center>\\n                                <img alt=\\\"\\\" src=\\\"https://images-na.ssl-images-amazon.com/images/I/51b40-n8tbL._SL500_AC_SS350_.jpg\\\" aria-hidden=\\\"true\\\" id=\\\"comparison_image0\\\">\\n                            </center>\\n                          </div>\\n                          <div id=\\\"comparison_title0\\\" class=\\\"a-row a-spacing-top-small\\\">\\n                            <span class=\\\"a-size-base\\\">BENGOO G9000 Stereo Gaming Headset for PS4, PC, Xbox One Controller, Noise Cancelling Over Ear Headphones with Mic, LED Light, Bass Surround, Soft Memory Earmuffs for Laptop Mac Nintendo Switch Games</span>\\n                          </div>\\n                        </a>\\n                        \\n                        \\n                            \\n                            <div id=\\\"comparison_zeitgeist_section0\\\" class=\\\"a-row a-spacing-none a-spacing-top-micro\\\">\\n                                \\n\\n\\n\\n\\n\\n\\n\\n\\n\\n\\n\\n<a class=\\\"comparison_zeitgeist\\\"\\n        href=\\\"/gp/bestsellers/electronics/402053011/ref=psdczbs_172487_t1_B01F8CXV0U\\\"\\n        title=\\\"PC Game Headsets\\\">\\n    <i class=\\\"a-icon a-icon-addon comparison_zeitgeist_badge\\\"><span class=\\\"a-text-normal\\\">\\n        #1 Best Seller\\n    </span></i>\\n    \\n    \\n</a>\\n\\n                            </div>\\n                        \\n                    </th>\\n                \\n                    <th class=\\\"comparison_image_title_cell comparable_item1\\\" role=\\\"columnheader\\\">\\n                        <a class=\\\"a-link-normal\\\" target=\\\"_self\\\" rel=\\\"noopener\\\" href=\\\"/dp/B01A73ZIL0/ref=psdc_172487_t2_B01F8CXV0U\\\">\\n                          <div class=\\\"a-row a-spacing-top-micro\\\">\\n                            <center>\\n                                <img alt=\\\"\\\" src=\\\"https://images-na.ssl-images-amazon.com/images/I/41AB0FdYl9L._SL500_AC_SS350_.jpg\\\" aria-hidden=\\\"true\\\" id=\\\"comparison_image1\\\">\\n                            </center>\\n                          </div>\\n                          <div id=\\\"comparison_title1\\\" class=\\\"a-row a-spacing-top-small\\\">\\n                            <span class=\\\"a-size-base\\\">USB Gaming Headset-SADES A60/OMG Computer Over Ear Stereo Heaphones with Microphone Noise Isolating Volume Control LED Light (Black+White) for PC & MAC</span>\\n                          </div>\\n                        </a>\\n                        \\n                        \\n                    </th>\\n                \\n                    <th class=\\\"comparison_image_title_cell comparable_item2\\\" role=\\\"columnheader\\\">\\n                        <a class=\\\"a-link-normal\\\" target=\\\"_self\\\" rel=\\\"noopener\\\" href=\\\"/dp/B01NAFR609/ref=psdc_172487_t3_B01F8CXV0U\\\">\\n                          <div class=\\\"a-row a-spacing-top-micro\\\">\\n                            <center>\\n                                <img alt=\\\"\\\" src=\\\"https://images-na.ssl-images-amazon.com/images/I/51pFyonSLqL._SL500_AC_SS350_.jpg\\\" aria-hidden=\\\"true\\\" id=\\\"comparison_image2\\\">\\n                            </center>\\n                          </div>\\n                          <div id=\\\"comparison_title2\\\" class=\\\"a-row a-spacing-top-small\\\">\\n                            <span class=\\\"a-size-base\\\">SADES A60 Wired 7.1 Surround Sound Gaming Headset USB Headphone</span>\\n                          </div>\\n                        </a>\\n                        \\n                        \\n                    </th>\\n                \\n            </tr>\\n\\n\\n            <tr></tr>\\n\\n\\n            \\n            \\n            <tr>\\n                <td class=\\\"comparison_table_first_col\\\"></td>\\n\\n\\n                <td class=\\\"comparison_add_to_cart_button\\\">\\n                    \\n                        \\n                            \\n                        \\n                        \\n                        \\n                    \\n                </td>\\n\\n\\n                \\n                    <td class=\\\"a-text-left comparison_add_to_cart_button comparable_item0\\\">\\n                        \\n                            \\n                            \\n                                <span id=\\\"comparison_add_to_cart_button0\\\" class=\\\"a-button a-spacing-small a-button-primary\\\"><span class=\\\"a-button-inner\\\"><a id=\\\"comparison_add_to_cart_button0-announce\\\" href=\\\"/gp/item-dispatch/ref=psdc_172487_a1_B01F8CXV0U?ie=UTF8&amp;itemCount=1&amp;nodeID=541966&amp;offeringID.1=5Xq5Or%252F4hAWmhA3Dv5hhYVuzeDYGdmyBObVxio5C26A92j5PPuWHxIHWrC0KoJDHhZNhOSyHwdTWiZ7%252FaUbMIpihjFpluEX1YLxkVRkh%252BGnl10QM6aWEXzX%252FVziXqixIPyJnWm3lYJqBDzUqOLda7wqexEhPO1tL&amp;storeID=pc&amp;session-id=145-3861210-4361441&amp;submit.addToCart=addToCart&amp;signInToHUC=0\\\" class=\\\"a-button-text\\\" role=\\\"button\\\">Add to Cart</a></span></span>\\n                            \\n                        \\n                    </td>\\n                \\n                    <td class=\\\"a-text-left comparison_add_to_cart_button comparable_item1\\\">\\n                        \\n                            \\n                            \\n                                <span id=\\\"comparison_add_to_cart_button1\\\" class=\\\"a-button a-spacing-small a-button-primary\\\"><span class=\\\"a-button-inner\\\"><a id=\\\"comparison_add_to_cart_button1-announce\\\" href=\\\"/gp/item-dispatch/ref=psdc_172487_a2_B01F8CXV0U?ie=UTF8&amp;itemCount=1&amp;nodeID=541966&amp;offeringID.1=Cpe3Y0%252BhhBIHdIKYkDl%252FhRvwgv2ZTDZtSpW4tFV0bTd63pl%252Fz%252BtTwJtwd1qFZihZVl7fDMM3yVePpVsWNm49St%252BvtRfxH7GADuSRmUZkzjCzyUl5pVXO619lVMwkjW6vKn4ukV2NS9RKyuw9FLB%252BkMiQeVgrwZ%252BJ&amp;storeID=pc&amp;session-id=145-3861210-4361441&amp;submit.addToCart=addToCart&amp;signInToHUC=0\\\" class=\\\"a-button-text\\\" role=\\\"button\\\">Add to Cart</a></span></span>\\n                            \\n                        \\n                    </td>\\n                \\n                    <td class=\\\"a-text-left comparison_add_to_cart_button comparable_item2\\\">\\n                        \\n                            \\n                            \\n                                <span id=\\\"comparison_add_to_cart_button2\\\" class=\\\"a-button a-spacing-small a-button-primary\\\"><span class=\\\"a-button-inner\\\"><a id=\\\"comparison_add_to_cart_button2-announce\\\" href=\\\"/gp/item-dispatch/ref=psdc_172487_a3_B01F8CXV0U?ie=UTF8&amp;itemCount=1&amp;nodeID=541966&amp;offeringID.1=Cpe3Y0%252BhhBIHdIKYkDl%252FhVp8wCpaUpLKVG9q1u95SZs5tgu74Ftxl67EkfDdaxt5q5qWkdG6jXNK19vzy%252F01ApSQp4OUCH%252BkYD2aRno%252B%252BKqwH8nzj1hDEJG6tKVBZCtDVPwSC%252FfskXeC6KuVzTzd54a3%252FIMolgDq&amp;storeID=pc&amp;session-id=145-3861210-4361441&amp;submit.addToCart=addToCart&amp;signInToHUC=0\\\" class=\\\"a-button-text\\\" role=\\\"button\\\">Add to Cart</a></span></span>\\n                            \\n                        \\n                    </td>\\n                \\n            </tr>\\n\\n\\n            <tr id=\\\"comparison_custormer_rating_row\\\">\\n                \\n                \\n                \\n                \\n\\n                <th class=\\\"comparison_attribute_name_column comparison_table_first_col\\\" role=\\\"rowheader\\\">\\n                    <span class=\\\"a-size-base a-color-base\\\">Customer Rating</span>\\n                </th>\\n\\n\\n                <td class=\\\"comparison_baseitem_column\\\">\\n                    \\n                    \\n                    \\n                    <span>\\n                        <span class=\\\"a-declarative\\\" data-action=\\\"a-popover\\\" data-a-popover=\\\"{&quot;max-width&quot;:&quot;700&quot;,&quot;closeButton&quot;:&quot;false&quot;,&quot;position&quot;:&quot;triggerBottom&quot;,&quot;url&quot;:&quot; /gp/customer-reviews/widgets/average-customer-review/popover/ref=acr_dpComparsion__popover?contextId=dpComparsion&amp;asin=B01F8CXV0U &quot;,&quot;restoreFocusOnHide&quot;:&quot;false&quot;}\\\">\\n                            <i class=\\\"a-icon a-icon-star a-star-1 a-spacing-none\\\"><span class=\\\"a-icon-alt\\\">1 out of 5 stars</span></i>\\n                        </span>\\n                        <a class=\\\"a-link-normal\\\" target=\\\"_self\\\" rel=\\\"noopener\\\" href=\\\"/product-reviews/B01F8CXV0U/ref=psdc_172487_r0_B01F8CXV0U?_encoding=UTF8&amp;showViewpoints=1\\\">(2)</a>\\n                        <span class=\\\"a-letter-space\\\"></span>\\n                    </span>\\n                </td>\\n\\n\\n                \\n                    <td class=\\\"comparison_sim_items_column comparable_item0\\\">\\n                        \\n                        \\n                        \\n                        <span>\\n                            <span class=\\\"a-declarative\\\" data-action=\\\"a-popover\\\" data-a-popover=\\\"{&quot;max-width&quot;:&quot;700&quot;,&quot;closeButton&quot;:&quot;false&quot;,&quot;position&quot;:&quot;triggerBottom&quot;,&quot;url&quot;:&quot; /gp/customer-reviews/widgets/average-customer-review/popover/ref=acr_dpComparsion__popover?contextId=dpComparsion&amp;asin=B01H6GUCCQ &quot;,&quot;restoreFocusOnHide&quot;:&quot;false&quot;}\\\">\\n                                <i class=\\\"a-icon a-icon-star a-star-4 a-spacing-none\\\"><span class=\\\"a-icon-alt\\\">4 out of 5 stars</span></i>\\n                            </span>\\n                            <a class=\\\"a-link-normal\\\" target=\\\"_self\\\" rel=\\\"noopener\\\" href=\\\"/product-reviews/B01H6GUCCQ/ref=psdc_172487_r1_B01F8CXV0U?_encoding=UTF8&amp;showViewpoints=1\\\">(5661)</a>\\n                            <span class=\\\"a-letter-space\\\"></span>\\n                        </span>\\n                    </td>\\n                \\n                    <td class=\\\"comparison_sim_items_column comparable_item1\\\">\\n                        \\n                        \\n                        \\n                        <span>\\n                            <span class=\\\"a-declarative\\\" data-action=\\\"a-popover\\\" data-a-popover=\\\"{&quot;max-width&quot;:&quot;700&quot;,&quot;closeButton&quot;:&quot;false&quot;,&quot;position&quot;:&quot;triggerBottom&quot;,&quot;url&quot;:&quot; /gp/customer-reviews/widgets/average-customer-review/popover/ref=acr_dpComparsion__popover?contextId=dpComparsion&amp;asin=B01A73ZIL0 &quot;,&quot;restoreFocusOnHide&quot;:&quot;false&quot;}\\\">\\n                                <i class=\\\"a-icon a-icon-star a-star-4 a-spacing-none\\\"><span class=\\\"a-icon-alt\\\">4 out of 5 stars</span></i>\\n                            </span>\\n                            <a class=\\\"a-link-normal\\\" target=\\\"_self\\\" rel=\\\"noopener\\\" href=\\\"/product-reviews/B01A73ZIL0/ref=psdc_172487_r2_B01F8CXV0U?_encoding=UTF8&amp;showViewpoints=1\\\">(1301)</a>\\n                            <span class=\\\"a-letter-space\\\"></span>\\n                        </span>\\n                    </td>\\n                \\n                    <td class=\\\"comparison_sim_items_column comparable_item2\\\">\\n                        \\n                        \\n                        \\n                        <span>\\n                            <span class=\\\"a-declarative\\\" data-action=\\\"a-popover\\\" data-a-popover=\\\"{&quot;max-width&quot;:&quot;700&quot;,&quot;closeButton&quot;:&quot;false&quot;,&quot;position&quot;:&quot;triggerBottom&quot;,&quot;url&quot;:&quot; /gp/customer-reviews/widgets/average-customer-review/popover/ref=acr_dpComparsion__popover?contextId=dpComparsion&amp;asin=B01NAFR609 &quot;,&quot;restoreFocusOnHide&quot;:&quot;false&quot;}\\\">\\n                                <i class=\\\"a-icon a-icon-star a-star-4 a-spacing-none\\\"><span class=\\\"a-icon-alt\\\">4 out of 5 stars</span></i>\\n                            </span>\\n                            <a class=\\\"a-link-normal\\\" target=\\\"_self\\\" rel=\\\"noopener\\\" href=\\\"/product-reviews/B01NAFR609/ref=psdc_172487_r3_B01F8CXV0U?_encoding=UTF8&amp;showViewpoints=1\\\">(133)</a>\\n                            <span class=\\\"a-letter-space\\\"></span>\\n                        </span>\\n                    </td>\\n                \\n            </tr>\\n\\n\\n            <tr id=\\\"comparison_price_row\\\">\\n                <th class=\\\"comparison_attribute_name_column comparison_table_first_col\\\" role=\\\"rowheader\\\">\\n                    <span class=\\\"a-size-base a-color-base\\\">Price</span>\\n                </th>\\n\\n\\n                <td class=\\\"comparison_baseitem_column\\\">\\n                    \\n                        \\n                            \\n                                \\n                                \\n                                    <span class=\\\"a-color-price a-text-bold\\\">\\n                                        Unavailable\\n                                    </span>\\n                                \\n                            \\n                        \\n                        \\n                        \\n                        \\n                    \\n                </td>\\n\\n\\n                \\n                    <td class=\\\"comparison_sim_items_column comparable_item0\\\">\\n                    \\n                        \\n                        \\n                        \\n                            \\n                                \\n                                    <span class=\\\"a-price\\\" data-a-size=\\\"l\\\" data-a-color=\\\"base\\\"><span class=\\\"a-offscreen\\\">$24.99</span><span aria-hidden=\\\"true\\\"><span class=\\\"a-price-symbol\\\">$</span><span class=\\\"a-price-whole\\\">24<span class=\\\"a-price-decimal\\\">\\u0000</span></span><span class=\\\"a-price-fraction\\\">99</span></span></span>\\n                                \\n                                \\n                            \\n                        \\n                    \\n                    </td>\\n                \\n                    <td class=\\\"comparison_sim_items_column comparable_item1\\\">\\n                    \\n                        \\n                        \\n                        \\n                            \\n                                \\n                                    <span class=\\\"a-price\\\" data-a-size=\\\"l\\\" data-a-color=\\\"base\\\"><span class=\\\"a-offscreen\\\">$24.99</span><span aria-hidden=\\\"true\\\"><span class=\\\"a-price-symbol\\\">$</span><span class=\\\"a-price-whole\\\">24<span class=\\\"a-price-decimal\\\">\\u0000</span></span><span class=\\\"a-price-fraction\\\">99</span></span></span>\\n                                \\n                                \\n                            \\n                        \\n                    \\n                    </td>\\n                \\n                    <td class=\\\"comparison_sim_items_column comparable_item2\\\">\\n                    \\n                        \\n                        \\n                        \\n                            \\n                                \\n                                    <span class=\\\"a-price\\\" data-a-size=\\\"l\\\" data-a-color=\\\"base\\\"><span class=\\\"a-offscreen\\\">$69.99</span><span aria-hidden=\\\"true\\\"><span class=\\\"a-price-symbol\\\">$</span><span class=\\\"a-price-whole\\\">69<span class=\\\"a-price-decimal\\\">\\u0000</span></span><span class=\\\"a-price-fraction\\\">99</span></span></span>\\n                                \\n                                \\n                            \\n                        \\n                    \\n                    </td>\\n                \\n            </tr>\\n\\n\\n    \\n                <tr id=\\\"comparison_shipping_info_row\\\">\\n                    <th class=\\\"comparison_attribute_name_column comparison_table_first_col\\\" role=\\\"rowheader\\\">\\n                        <span class=\\\"a-size-base a-color-base\\\">Shipping</span>\\n                    </th>\\n\\n    \\n                    <td class=\\\"comparison_baseitem_column\\\">\\n                        \\n                            \\n                                <span class=\\\"a-color-secondary\\\"></span>\\n                            \\n                            \\n                            \\n                            \\n                            \\n                            \\n                            \\n                        \\n                    </td>\\n\\n    \\n                    \\n                        <td class=\\\"comparison_sim_items_column comparable_item0\\\">\\n                            \\n                                \\n                                \\n                                    <span class=\\\"a-size-base a-color-base\\\">Eligible for FREE Shipping</span>\\n                                \\n                                \\n                                \\n                                \\n                                \\n                            \\n                        </td>\\n                    \\n                        <td class=\\\"comparison_sim_items_column comparable_item1\\\">\\n                            \\n                                \\n                                \\n                                    <span class=\\\"a-size-base a-color-base\\\">Eligible for FREE Shipping</span>\\n                                \\n                                \\n                                \\n                                \\n                                \\n                            \\n                        </td>\\n                    \\n                        <td class=\\\"comparison_sim_items_column comparable_item2\\\">\\n                            \\n                                \\n                                \\n                                    <span class=\\\"a-size-base a-color-base\\\">Eligible for FREE Shipping</span>\\n                                \\n                                \\n                                \\n                                \\n                                \\n                            \\n                        </td>\\n                    \\n                </tr>\\n\\n\\n\\n            <tr id=\\\"comparison_sold_by_row\\\">\\n                <th class=\\\"comparison_attribute_name_column comparison_table_first_col\\\" role=\\\"rowheader\\\">\\n                    <span class=\\\"a-size-base a-color-base\\\">Sold By</span>\\n                </th>\\n\\n  \\n                <td class=\\\"comparison_baseitem_column\\\">\\n                    \\n                        \\n                            \\n                                \\n                                \\n                                    <span class=\\\"a-color-secondary\\\">\\n                                        \\n                                    </span>\\n                                \\n                            \\n                        \\n                        \\n                        \\n                     \\n                </td>\\n\\n\\n                \\n                    <td class=\\\"comparison_sim_items_column comparable_item0\\\">\\n                         \\n                            \\n                         \\n                             <a class=\\\"a-spacing-top-small a-link-normal\\\" target=\\\"_self\\\" rel=\\\"noopener\\\" href=\\\"/gp/help/seller/at-a-glance.html/ref=psdc_172487_s1_B01F8CXV0U?ie=UTF8&amp;seller=A1BCXRJQ9212UU&amp;isAmazonFulfilled=1\\\">Bengoo Inc.</a>\\n                         \\n                         \\n                     </td>\\n                \\n                    <td class=\\\"comparison_sim_items_column comparable_item1\\\">\\n                         \\n                            \\n                         \\n                             <a class=\\\"a-spacing-top-small a-link-normal\\\" target=\\\"_self\\\" rel=\\\"noopener\\\" href=\\\"/gp/help/seller/at-a-glance.html/ref=psdc_172487_s2_B01F8CXV0U?ie=UTF8&amp;seller=A3GRURY5RYWGPU&amp;isAmazonFulfilled=1\\\">GAMERS WORLD</a>\\n                         \\n                         \\n                     </td>\\n                \\n                    <td class=\\\"comparison_sim_items_column comparable_item2\\\">\\n                         \\n                            \\n                         \\n                             <a class=\\\"a-spacing-top-small a-link-normal\\\" target=\\\"_self\\\" rel=\\\"noopener\\\" href=\\\"/gp/help/seller/at-a-glance.html/ref=psdc_172487_s3_B01F8CXV0U?ie=UTF8&amp;seller=A3GRURY5RYWGPU\\\">GAMERS WORLD</a>\\n                         \\n                         \\n                     </td>\\n                \\n             </tr>\\n\\n\\n            \\n                <tr>\\n                    <th class=\\\"a-span3 comparison_attribute_name_column comparison_table_first_col\\\" role=\\\"rowheader\\\">\\n                        <span class=\\\"a-size-base a-color-base\\\">Item Dimensions</span>\\n                    </th>\\n                    \\n\\n                    <td class=\\\"comparison_baseitem_column\\\">\\n                     \\n                        \\n                            \\n                            \\n                                 <span class=\\\"a-size-base a-color-base\\\">9.1 x 8.2 x 4.8 in</span>\\n                            \\n                        \\n                    </td>\\n\\n\\n                    \\n                        <td class=\\\"comparison_sim_items_column comparable_item0\\\">\\n                            \\n                            \\n                            \\n                               \\n                                  \\n                                  \\n                                      <span class=\\\"a-size-base a-color-base\\\">8.3 x 4.4 x 7.9 in</span>\\n                                  \\n                               \\n                        </td>\\n                    \\n                        <td class=\\\"comparison_sim_items_column comparable_item1\\\">\\n                            \\n                            \\n                            \\n                               \\n                                  \\n                                  \\n                                      <span class=\\\"a-size-base a-color-base\\\">8.7 x 4.2 x 7 in</span>\\n                                  \\n                               \\n                        </td>\\n                    \\n                        <td class=\\\"comparison_sim_items_column comparable_item2\\\">\\n                            \\n                            \\n                            \\n                               \\n                                  \\n                                  \\n                                      <span class=\\\"a-size-base a-color-base\\\">8.5 x 7 x 4 in</span>\\n                                  \\n                               \\n                        </td>\\n                    \\n                </tr>\\n            \\n       \"\n        ],\n        \"semantic_type\": \"\",\n        \"description\": \"\"\n      }\n    },\n    {\n      \"column\": \"date\",\n      \"properties\": {\n        \"dtype\": \"category\",\n        \"num_unique_values\": 2544,\n        \"samples\": [\n          \"August 20, 2006\"\n        ],\n        \"semantic_type\": \"\",\n        \"description\": \"\"\n      }\n    },\n    {\n      \"column\": \"price\",\n      \"properties\": {\n        \"dtype\": \"category\",\n        \"num_unique_values\": 4017,\n        \"samples\": [\n          \"$48.98\"\n        ],\n        \"semantic_type\": \"\",\n        \"description\": \"\"\n      }\n    },\n    {\n      \"column\": \"asin\",\n      \"properties\": {\n        \"dtype\": \"string\",\n        \"num_unique_values\": 71911,\n        \"samples\": [\n          \"B015467N40\"\n        ],\n        \"semantic_type\": \"\",\n        \"description\": \"\"\n      }\n    },\n    {\n      \"column\": \"imageURL\",\n      \"properties\": {\n        \"dtype\": \"object\",\n        \"semantic_type\": \"\",\n        \"description\": \"\"\n      }\n    },\n    {\n      \"column\": \"imageURLHighRes\",\n      \"properties\": {\n        \"dtype\": \"object\",\n        \"semantic_type\": \"\",\n        \"description\": \"\"\n      }\n    },\n    {\n      \"column\": \"details\",\n      \"properties\": {\n        \"dtype\": \"object\",\n        \"semantic_type\": \"\",\n        \"description\": \"\"\n      }\n    }\n  ]\n}"
            }
          },
          "metadata": {},
          "execution_count": 13
        }
      ],
      "source": [
        "metadata_df.head()"
      ]
    },
    {
      "cell_type": "markdown",
      "metadata": {
        "id": "52YoMOkS7SPe"
      },
      "source": [
        "Note que o dataset é muito grande e certas manipulações podem não caber na memória RAM. Além disso, alguns desses dados podem ser de baixa qualidade. Esses dados podem ser filtrados e você pode considerar apenas os dados de maior qualidade. Alguns filtros básicos:"
      ]
    },
    {
      "cell_type": "code",
      "execution_count": 14,
      "metadata": {
        "id": "v6nPUom3AKs9"
      },
      "outputs": [],
      "source": [
        "reviews_df_filtrado = reviews_df.copy()\n",
        "\n",
        "# Conversão do unixReviewTime para um formato de data legível\n",
        "reviews_df_filtrado['reviewDate'] = pd.to_datetime(reviews_df_filtrado['unixReviewTime'], unit='s')\n",
        "\n",
        "# Removendo duplicatas e valores nulos\n",
        "reviews_df_filtrado.dropna(subset=['reviewerID', 'asin', 'overall'], inplace=True)\n",
        "reviews_df_filtrado.drop(['unixReviewTime', 'reviewTime'], axis=1, inplace=True)"
      ]
    },
    {
      "cell_type": "code",
      "execution_count": 15,
      "metadata": {
        "id": "5qPLed4fBVoc"
      },
      "outputs": [],
      "source": [
        "# Removendo duplicatas e valores nulos\n",
        "metadata_df.drop_duplicates(subset=['asin'], inplace=True)\n",
        "metadata_df.dropna(subset=['asin', 'title'], inplace=True)"
      ]
    },
    {
      "cell_type": "code",
      "execution_count": 16,
      "metadata": {
        "colab": {
          "base_uri": "https://localhost:8080/"
        },
        "id": "EHBiKmWGBXtG",
        "outputId": "defefca8-edab-4962-da34-6a894880f21f"
      },
      "outputs": [
        {
          "output_type": "stream",
          "name": "stdout",
          "text": [
            "Número original de linhas em reviews_df: 497577\n",
            "Número de linhas após a filtragem: 496315\n"
          ]
        }
      ],
      "source": [
        "# Identificando os IDs de produtos únicos em metadata_df\n",
        "produtos_validos = set(metadata_df['asin'])\n",
        "\n",
        "# Filtrando reviews_df para manter apenas as linhas com produtos que estão em metadata_df\n",
        "reviews_df_filtrado = reviews_df_filtrado[reviews_df_filtrado['asin'].isin(produtos_validos)]\n",
        "\n",
        "# Verificando o resultado\n",
        "print(f\"Número original de linhas em reviews_df: {len(reviews_df)}\")\n",
        "print(f\"Número de linhas após a filtragem: {len(reviews_df_filtrado)}\")\n",
        "reviews_df = reviews_df_filtrado"
      ]
    },
    {
      "cell_type": "code",
      "execution_count": 17,
      "metadata": {
        "colab": {
          "base_uri": "https://localhost:8080/"
        },
        "id": "y5JsKsKMB1Ms",
        "outputId": "993538dc-0602-4bde-97eb-2fcc40d12ae9"
      },
      "outputs": [
        {
          "output_type": "stream",
          "name": "stdout",
          "text": [
            "Número original de linhas em metadata_df: 71911\n",
            "Número de linhas após a filtragem: 17389\n"
          ]
        }
      ],
      "source": [
        "# Identificando os IDs de produtos únicos em reviews_df\n",
        "produtos_validos = set(reviews_df['asin'])\n",
        "\n",
        "# Filtrando metadata_df para manter apenas as linhas com produtos que estão em reviews_df\n",
        "metadata_df_filtrado = metadata_df[metadata_df['asin'].isin(produtos_validos)]\n",
        "\n",
        "# Verificando o resultado\n",
        "print(f\"Número original de linhas em metadata_df: {len(metadata_df)}\")\n",
        "print(f\"Número de linhas após a filtragem: {len(metadata_df_filtrado)}\")\n",
        "metadata_df = metadata_df_filtrado"
      ]
    },
    {
      "cell_type": "markdown",
      "metadata": {
        "id": "G-USMV2ANWLC"
      },
      "source": [
        "## Resolução"
      ]
    },
    {
      "cell_type": "markdown",
      "metadata": {
        "id": "nbIwbINKGOGC"
      },
      "source": [
        "### **Análise e preparação dos dados (0,5 pontos)**"
      ]
    },
    {
      "cell_type": "markdown",
      "metadata": {
        "id": "_scI6-EM8ihA"
      },
      "source": []
    },
    {
      "cell_type": "markdown",
      "metadata": {
        "id": "JlxBaMs1ZGXQ"
      },
      "source": [
        "> Realize análise prévia dos dados. Prepare-os aplicando filtros e selecionando features relevantes.\n",
        "\n",
        "> Insira comentários no decorrer do código"
      ]
    },
    {
      "cell_type": "markdown",
      "metadata": {
        "id": "S33WzekM8e8q"
      },
      "source": [
        ">> `Conferir` se tem algum nulo ainda"
      ]
    },
    {
      "cell_type": "code",
      "execution_count": 18,
      "metadata": {
        "colab": {
          "base_uri": "https://localhost:8080/"
        },
        "id": "NUB1_fyYZFRm",
        "outputId": "592f15f4-459b-45ed-a205-324de21104fc"
      },
      "outputs": [
        {
          "output_type": "stream",
          "name": "stdout",
          "text": [
            "<class 'pandas.core.frame.DataFrame'>\n",
            "Index: 496315 entries, 0 to 497576\n",
            "Data columns (total 11 columns):\n",
            " #   Column        Non-Null Count   Dtype         \n",
            "---  ------        --------------   -----         \n",
            " 0   overall       496315 non-null  float64       \n",
            " 1   verified      496315 non-null  bool          \n",
            " 2   reviewerID    496315 non-null  object        \n",
            " 3   asin          496315 non-null  object        \n",
            " 4   reviewerName  496239 non-null  object        \n",
            " 5   reviewText    496157 non-null  object        \n",
            " 6   summary       496206 non-null  object        \n",
            " 7   vote          107388 non-null  object        \n",
            " 8   style         288079 non-null  object        \n",
            " 9   image         3631 non-null    object        \n",
            " 10  reviewDate    496315 non-null  datetime64[ns]\n",
            "dtypes: bool(1), datetime64[ns](1), float64(1), object(8)\n",
            "memory usage: 42.1+ MB\n",
            "None\n",
            "--------\n",
            "<class 'pandas.core.frame.DataFrame'>\n",
            "Index: 17389 entries, 38 to 84810\n",
            "Data columns (total 19 columns):\n",
            " #   Column           Non-Null Count  Dtype \n",
            "---  ------           --------------  ----- \n",
            " 0   category         17389 non-null  object\n",
            " 1   tech1            17389 non-null  object\n",
            " 2   description      17389 non-null  object\n",
            " 3   fit              17389 non-null  object\n",
            " 4   title            17389 non-null  object\n",
            " 5   also_buy         17389 non-null  object\n",
            " 6   tech2            17389 non-null  object\n",
            " 7   brand            17389 non-null  object\n",
            " 8   feature          17389 non-null  object\n",
            " 9   rank             17389 non-null  object\n",
            " 10  also_view        17389 non-null  object\n",
            " 11  main_cat         17389 non-null  object\n",
            " 12  similar_item     17389 non-null  object\n",
            " 13  date             17389 non-null  object\n",
            " 14  price            17389 non-null  object\n",
            " 15  asin             17389 non-null  object\n",
            " 16  imageURL         17389 non-null  object\n",
            " 17  imageURLHighRes  17389 non-null  object\n",
            " 18  details          17383 non-null  object\n",
            "dtypes: object(19)\n",
            "memory usage: 2.7+ MB\n",
            "None\n"
          ]
        }
      ],
      "source": [
        "print(reviews_df.info())\n",
        "print(\"--------\")\n",
        "print(metadata_df.info())"
      ]
    },
    {
      "cell_type": "markdown",
      "metadata": {
        "id": "x6v0j7uZlXuW"
      },
      "source": [
        ">> Escolhemos algumas colunas dos datasets que acreditamos serem importantes para o modelo de recomendação. (fizemos alguns testes utilizando umas, retirnado outras, enfim, aqui foi mais pra tirar colunas que nao faziam sentido de trabalhar como \"image\". São elas:\n",
        "\n",
        "* `overall`: avaliação (nota) dada pelo usuário. Essencial para entender a preferência do usuário.\n",
        "* `verified`: Indica se a compra foi verificada\n",
        "* `reviewerID`: identificador único do usuário. Necessário para mapear interações entre usuários.\n",
        "* `style`: indica caracterisitcas unicas daquela tupla.\n",
        "* `asin`: identificador único do produto, é a chave entre reviews_df e metadata_df.\n",
        "* `reviewText`: texto completo da avaliação, vou explorar mais depois.\n",
        "* `summary`: resumo da avaliação, vou explorar mais depois.\n",
        "* `vote`: qtde de votos que uma avaliação recebeu.\n",
        "* `reviewDate`: informações temporais. Serveria apenas para saber quais foram os reviwes mais recentes do usuário.\n",
        "--------------------------------------------------------------\n",
        "* `category`: categorias do produto. Ideal para criar clusters ou segmentar produtos.\n",
        "* `brand`: importantes para usuários com preferências, eu acho.\n",
        "* `main_cat`: Categoria principal do produto.\n",
        "* `price`: Preço do produto, ideal caso eu queria utilizar preço para recomendar.\n",
        "* `asin`: ID único do produto, chave para associar metadata_df com reviews_df.\n",
        "* `description`: contem descrição do item"
      ]
    },
    {
      "cell_type": "code",
      "execution_count": 19,
      "metadata": {
        "id": "s_hn0P0WoJX7"
      },
      "outputs": [],
      "source": [
        "# reviews_df['style'] contém dicionários ou strings no formato JSON, logo vamos retirar pra tentar usar essa informação\n",
        "\n",
        "# extrair o conteúdo do dicionário 'style', Suco do GPT\n",
        "def extrair_style(style):\n",
        "    if isinstance(style, dict):\n",
        "        return ', '.join([f\"{key}: {value}\" for key, value in style.items()])\n",
        "    elif isinstance(style, str):\n",
        "        try:\n",
        "            import json\n",
        "            style_dict = json.loads(style)\n",
        "            return ', '.join([f\"{key}: {value}\" for key, value in style_dict.items()])\n",
        "        except json.JSONDecodeError:\n",
        "            return style\n",
        "    return None\n",
        "\n",
        "reviews_df['style'] = reviews_df['style'].apply(extrair_style)"
      ]
    },
    {
      "cell_type": "code",
      "execution_count": 20,
      "metadata": {
        "colab": {
          "base_uri": "https://localhost:8080/"
        },
        "id": "r_XCr39IobCL",
        "outputId": "299f4eaf-021e-44ae-ffb9-93061c2fce8b"
      },
      "outputs": [
        {
          "output_type": "stream",
          "name": "stdout",
          "text": [
            "[None 'Format::  Hardcover' 'Format::  DVD-ROM' ...\n",
            " 'Color::  01 - Xbox 360 PS4 Wii U - Black/White'\n",
            " 'Edition::  In Too Deep, Platform::  PS4 Digital Code'\n",
            " 'Style::  Definitive Edition']\n"
          ]
        }
      ],
      "source": [
        "# valores únicos\n",
        "valores_unicos = reviews_df['style'].unique()\n",
        "print(valores_unicos)"
      ]
    },
    {
      "cell_type": "code",
      "execution_count": 21,
      "metadata": {
        "id": "U0kejaEOprCT"
      },
      "outputs": [],
      "source": [
        "# remover texto antes de \"::\"\n",
        "reviews_df['style'] = reviews_df['style'].str.split(\"::\").str[-1].str.strip()"
      ]
    },
    {
      "cell_type": "code",
      "execution_count": 22,
      "metadata": {
        "id": "eAiG2nWgp3ry"
      },
      "outputs": [],
      "source": [
        "# mantendo as colunas necessárias\n",
        "reviews_df = reviews_df[['overall', 'verified', 'reviewerID', 'asin', 'reviewText', 'summary', 'vote', 'reviewDate', 'style']]\n",
        "metadata_df = metadata_df[['category', 'brand', 'main_cat', 'price', 'asin','description']]"
      ]
    },
    {
      "cell_type": "code",
      "execution_count": 23,
      "metadata": {
        "colab": {
          "base_uri": "https://localhost:8080/"
        },
        "id": "iYAUUC_ip_yO",
        "outputId": "0b1a19e3-8f90-4278-f9c6-95e3d982587f"
      },
      "outputs": [
        {
          "output_type": "stream",
          "name": "stderr",
          "text": [
            "<ipython-input-23-2e33eebf7122>:2: SettingWithCopyWarning: \n",
            "A value is trying to be set on a copy of a slice from a DataFrame.\n",
            "Try using .loc[row_indexer,col_indexer] = value instead\n",
            "\n",
            "See the caveats in the documentation: https://pandas.pydata.org/pandas-docs/stable/user_guide/indexing.html#returning-a-view-versus-a-copy\n",
            "  reviews_df['vote'] = pd.to_numeric(reviews_df['vote'], errors='coerce')\n"
          ]
        }
      ],
      "source": [
        "# convertendo a coluna 'vote' para numérico\n",
        "reviews_df['vote'] = pd.to_numeric(reviews_df['vote'], errors='coerce')"
      ]
    },
    {
      "cell_type": "code",
      "execution_count": 24,
      "metadata": {
        "colab": {
          "base_uri": "https://localhost:8080/"
        },
        "id": "4JytvtTVqf71",
        "outputId": "2f4a2d10-0a18-48fb-abb3-5dec4f7ab705"
      },
      "outputs": [
        {
          "output_type": "stream",
          "name": "stderr",
          "text": [
            "<ipython-input-24-9d69d9e9b5cc>:2: SettingWithCopyWarning: \n",
            "A value is trying to be set on a copy of a slice from a DataFrame.\n",
            "Try using .loc[row_indexer,col_indexer] = value instead\n",
            "\n",
            "See the caveats in the documentation: https://pandas.pydata.org/pandas-docs/stable/user_guide/indexing.html#returning-a-view-versus-a-copy\n",
            "  metadata_df['price'] = pd.to_numeric(metadata_df['price'].str.replace('$', '').str.replace(',', ''), errors='coerce')\n"
          ]
        }
      ],
      "source": [
        "# convertendo a coluna 'price' para numérico\n",
        "metadata_df['price'] = pd.to_numeric(metadata_df['price'].str.replace('$', '').str.replace(',', ''), errors='coerce')"
      ]
    },
    {
      "cell_type": "markdown",
      "metadata": {
        "id": "b0E1DCsT9r50"
      },
      "source": [
        ">> Notamos que existes ` mais que jogos` nesse dataset, entao vmaos remover alguns que nao fazem snetido que sao acessorios."
      ]
    },
    {
      "cell_type": "code",
      "execution_count": 25,
      "metadata": {
        "id": "UCITm0Ql65By"
      },
      "outputs": [],
      "source": [
        "# palavras que quero retirar\n",
        "keywords_to_remove = [\"Accessories\", \"Controlle\", \"Controller\"]\n",
        "\n",
        "# Filtrar o DataFrame\n",
        "metadata_df = metadata_df[~metadata_df['category'].apply(\n",
        "    lambda x: any(keyword in str(x) for keyword in keywords_to_remove)\n",
        ")]"
      ]
    },
    {
      "cell_type": "code",
      "execution_count": 26,
      "metadata": {
        "colab": {
          "base_uri": "https://localhost:8080/",
          "height": 542
        },
        "id": "VuZtpVjN-CIZ",
        "outputId": "3cc04b97-82e2-4805-8c52-b9531ad827ef"
      },
      "outputs": [
        {
          "output_type": "display_data",
          "data": {
            "text/plain": [
              "<Figure size 1000x600 with 1 Axes>"
            ],
            "image/png": "[encoded data removed]"
          },
          "metadata": {}
        }
      ],
      "source": [
        "# histograma das notas\n",
        "plt.figure(figsize=(10, 6))\n",
        "plt.hist(reviews_df['overall'].dropna(), bins=20, edgecolor='k', alpha=0.7)\n",
        "plt.xlabel('Overall')\n",
        "plt.ylabel('Frequência')\n",
        "plt.grid(axis='y', alpha=0.75)\n",
        "plt.show()"
      ]
    },
    {
      "cell_type": "markdown",
      "metadata": {
        "id": "NiZS3DUWGSwf"
      },
      "source": [
        "### **a) (2,0 pontos) Modelo de recomendação com filtragem colaborativa**"
      ]
    },
    {
      "cell_type": "markdown",
      "metadata": {
        "id": "gYVmKBFYwUeh"
      },
      "source": [
        "> Implemente um sistema de recomendação utilizando filtragem colaborativa\n",
        "\n",
        "> Insira comentários no decorrer do código"
      ]
    },
    {
      "cell_type": "markdown",
      "metadata": {
        "id": "a0xiShiusm3l"
      },
      "source": [
        "A filtragem colaborativa utiliza os comportamentos ou preferências dos usuários para sugerir itens. Baseia-se na premissa de que usuários com gostos semelhantes provavelmente gostarão dos mesmos produtos. Abordagens chamada de **user-based**, que recomenda itens com base nas preferências de usuários com comportamentos similares.\n",
        "\n",
        "![image.png](data:image/png;base64,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)"
      ]
    },
    {
      "cell_type": "markdown",
      "metadata": {
        "id": "uG14vSJRtMTi"
      },
      "source": [
        "Primeiramente criamos um Modelo de recomendação com filtragem colaborativa sem redução de dimensionalidade e o testamos. Porém, era preciso realizar o \"treinamento\" desse modelo e fazer o teste tambem. Para isso, separaramos o dataset em treino e teste, porem de uma forma diferente.\n",
        "\n",
        "Pegamos o dataset total, fazemos um groupby por id de usuário. Desse conjunto, dividimos em treino e teste (80/20). Exemplo se um usuário apareceu 10 vezes, 8 tuplas vao pra treino e 2 vao pra teste.\n",
        "\n",
        "Outro ponto é que no teste tem que conter as tuplas mais receites, ordenadas pela data. Ou seja, os dados de treino serão as ultimas compras desse usuário. O treino entao será os dados que modelo possui para recomendar. Teste é o que ele nunca viu.\n",
        "\n",
        "Para a avaliação vamos utilizar 4 métricas: 'ndcg@5', 'ndcg@10', 'precision@5', 'precision@10'. Esse 5 e 10 são os n primeiras recomendações feitas. Pelo que entendemos, para a precisão, dada uma lista de recomendações pelo conjunto de treino, há nela algum jogo que está no conjunto de teste? Se sim, a precisão é retirada desse acerto.\n",
        "\n",
        "Para outra métrica ndcg vamos considerar o indice dos jogos de teste dentro da lista de recomendações feitas, ou seja, dado que acertei o quão bom esse acerto está posicionado na minha lista de recomendações.\n",
        "\n",
        "Por fim, tivemos outro problema que é o uso da memória RAM. Por estar usando colab estouramos a RAM toda hora, não é atoa que estou usando uma versao fracionada do dataset original. Adotamos algumas formas de contornar isso, em parte, como matriz esparças."
      ]
    },
    {
      "cell_type": "code",
      "execution_count": 27,
      "metadata": {
        "id": "PRFWs177p1vp"
      },
      "outputs": [],
      "source": [
        "# ordenar o dataset por `reviewDate`\n",
        "reviews_df = reviews_df.sample(frac=0.30, random_state=42)\n",
        "reviews_df = reviews_df.sort_values(['reviewerID', 'reviewDate'])\n",
        "\n",
        "# treino e teste (80/20) por cada usuario\n",
        "def split_train_test(data, test_ratio=0.2):\n",
        "    train_data, test_data = [], []\n",
        "    for user_id, group in data.groupby('reviewerID'):\n",
        "        n_test = int(len(group) * test_ratio)\n",
        "        train_data.append(group.iloc[:-n_test])\n",
        "        test_data.append(group.iloc[-n_test:])\n",
        "    return pd.concat(train_data), pd.concat(test_data)\n",
        "\n",
        "train_df, test_df = split_train_test(reviews_df)"
      ]
    },
    {
      "cell_type": "markdown",
      "source": [
        ">> A ideia aqui é usar outras informacoes para compor a matriz de principal e ponderar essas informacoes com pesos, afinal uma reocmendacao bem feita leva em consideracao mais de um fator para isso, ou seja, nao usaremos apenas as notas, mas tbm o quanto esse filme eh avaliado e se eh verificado ou nao"
      ],
      "metadata": {
        "id": "mBSusq5herZk"
      }
    },
    {
      "cell_type": "code",
      "execution_count": 28,
      "metadata": {
        "id": "J56jbH4rR1ZU"
      },
      "outputs": [],
      "source": [
        "# funcao para matriz combinada\n",
        "def build_combined_matrix(data, weights):\n",
        "    matrix_overall = data.pivot_table(index='reviewerID', columns='asin', values='overall', fill_value=0)\n",
        "    matrix_verified = data.pivot_table(index='reviewerID', columns='asin', values='verified', fill_value=0)\n",
        "    matrix_votes = data.pivot_table(index='reviewerID', columns='asin', values='vote', fill_value=0)\n",
        "\n",
        "    # pesos para a combinação das matrizes\n",
        "    combined_matrix = (\n",
        "        matrix_overall * weights.get('overall', 0.7) +\n",
        "        matrix_verified * weights.get('verified', 0.2) +\n",
        "        matrix_votes * weights.get('vote', 0.1)\n",
        "    )\n",
        "\n",
        "    combined_matrix.fillna(0, inplace=True)\n",
        "\n",
        "    return csr_matrix(combined_matrix.values), combined_matrix.index, combined_matrix.columns"
      ]
    },
    {
      "cell_type": "code",
      "execution_count": 29,
      "metadata": {
        "id": "5hCQ2N1rR6J-"
      },
      "outputs": [],
      "source": [
        "weights = {'overall': 0.7, 'verified': 0.2, 'vote': 0.1}\n",
        "train_matrix, user_ids, item_ids = build_combined_matrix(train_df, weights)\n",
        "\n",
        "# similaridade de cosseno entre usuários usando\n",
        "user_similarity = cosine_similarity(train_matrix, dense_output=False)"
      ]
    },
    {
      "cell_type": "code",
      "execution_count": 30,
      "metadata": {
        "id": "Avd7mD2a_7Xy"
      },
      "outputs": [],
      "source": [
        "# função da recomendação\n",
        "def recomendar_produtos(user_id, train_matrix, user_similarity, user_ids, item_ids, n_recommendations=10):\n",
        "    user_index = user_ids.get_loc(user_id)\n",
        "    similar_users = user_similarity[user_index].toarray().flatten()\n",
        "    scores = train_matrix.T.dot(similar_users)\n",
        "\n",
        "    # filtrando itens já avaliados pelo usuario antes\n",
        "    user_items = train_matrix[user_index].toarray().flatten()\n",
        "    scores[user_items > 0] = -np.inf\n",
        "\n",
        "    recommended_indices = np.argsort(scores)[::-1][:n_recommendations]\n",
        "    return [item_ids[i] for i in recommended_indices]"
      ]
    },
    {
      "cell_type": "code",
      "execution_count": 31,
      "metadata": {
        "id": "5fbEOtfLST4x"
      },
      "outputs": [],
      "source": [
        "# métricas de avaliação\n",
        "def ndcg(recommended_items, relevant_items, k=5):\n",
        "    dcg = sum((1 / np.log2(i + 2)) for i, item in enumerate(recommended_items[:k]) if item in relevant_items)\n",
        "    idcg = sum((1 / np.log2(i + 2)) for i in range(min(len(relevant_items), k)))\n",
        "    return dcg / idcg if idcg > 0 else 0\n",
        "\n",
        "def precision(recommended_items, relevant_items, k=5):\n",
        "    return sum(1 for item in recommended_items[:k] if item in relevant_items) / k\n",
        "\n",
        "# avaliar o modelo\n",
        "def avaliar_modelo(test_df, train_matrix, user_similarity, user_ids, item_ids, k_values=[5, 10]):\n",
        "    resultados = {'ndcg@5': [], 'ndcg@10': [], 'precision@5': [], 'precision@10': []}\n",
        "    for user_id in test_df['reviewerID'].unique():\n",
        "        if user_id not in user_ids:\n",
        "            continue\n",
        "\n",
        "        relevant_items = test_df[test_df['reviewerID'] == user_id]['asin'].tolist()\n",
        "        recommended_items = recomendar_produtos(user_id, train_matrix, user_similarity, user_ids, item_ids, max(k_values))\n",
        "\n",
        "        for k in k_values:\n",
        "            resultados[f'ndcg@{k}'].append(ndcg(recommended_items, relevant_items, k))\n",
        "            resultados[f'precision@{k}'].append(precision(recommended_items, relevant_items, k))\n",
        "\n",
        "    return {m: np.mean(valores) for m, valores in resultados.items()}"
      ]
    },
    {
      "cell_type": "code",
      "execution_count": 133,
      "metadata": {
        "id": "Hxz9VkVbSFRX",
        "colab": {
          "base_uri": "https://localhost:8080/"
        },
        "outputId": "80608360-9d10-469a-aef5-038e6e44487c"
      },
      "outputs": [
        {
          "output_type": "stream",
          "name": "stdout",
          "text": [
            "Resultados:\n",
            "ndcg@5: 0.00464937475792793695\n",
            "ndcg@10: 0.00559391863222122570\n",
            "precision@5: 0.00168619605601600460\n",
            "precision@10: 0.00127179194055444421\n",
            "Tempo de execução (mdl_1_tempo): 290.2078 segundos\n"
          ]
        }
      ],
      "source": [
        "start_time = time.time()\n",
        "\n",
        "# avaliar o modelo\n",
        "resultados = avaliar_modelo(test_df, train_matrix, user_similarity, user_ids, item_ids)\n",
        "\n",
        "mdl_1_tempo = time.time() - start_time  # tempo total de execução\n",
        "\n",
        "# salvar as métricas com a tag \"mdl_1_\"\n",
        "resultados_tagged = {f\"mdl_1_{metric}\": value for metric, value in resultados.items()}\n",
        "\n",
        "print(\"Resultados:\")\n",
        "for metric, value in resultados.items():\n",
        "    print(f\"{metric}: {value:.20f}\")\n",
        "print(f\"Tempo de execução (mdl_1_tempo): {mdl_1_tempo:.4f} segundos\")"
      ]
    },
    {
      "cell_type": "code",
      "execution_count": 135,
      "metadata": {
        "id": "umGReLmISFJb",
        "colab": {
          "base_uri": "https://localhost:8080/"
        },
        "outputId": "716451ce-bfd3-4bb3-db87-efecb0134a77"
      },
      "outputs": [
        {
          "output_type": "stream",
          "name": "stdout",
          "text": [
            "- ndcg@5 > ndcg@5_prova -> True\n",
            "- ndcg@10 > ndcg@10_prova -> True\n",
            "- precision@5 > precision@5_prova -> True\n",
            "- precision@10 > precision@10_prova -> True\n"
          ]
        }
      ],
      "source": [
        "# comparando os resultados com os valores de prova\n",
        "comparacoes = {\n",
        "    \"ndcg@5\": resultados[\"ndcg@5\"] > ndcgA5_prova,\n",
        "    \"ndcg@10\": resultados[\"ndcg@10\"] > ndcgA10_prova,\n",
        "    \"precision@5\": resultados[\"precision@5\"] > precisionA5_prova,\n",
        "    \"precision@10\": resultados[\"precision@10\"] > precisionA10_prova\n",
        "}\n",
        "\n",
        "for metrica, resultado in comparacoes.items():\n",
        "    print(f\"- {metrica} > {metrica}_prova -> {resultado}\")"
      ]
    },
    {
      "cell_type": "markdown",
      "metadata": {
        "id": "cTnpALjyGVZT"
      },
      "source": [
        "### **b) (2,0 pontos) Modelo de recomendação baseado em conteúdo**"
      ]
    },
    {
      "cell_type": "markdown",
      "metadata": {
        "id": "Zz8UZ-rWbSlM"
      },
      "source": [
        "> Implemente um sistema de recomendação baseado em conteúdo\n",
        "\n",
        "> Insira comentários no decorrer do código"
      ]
    },
    {
      "cell_type": "markdown",
      "metadata": {
        "id": "hQvA_d0WbD5W"
      },
      "source": [
        "Sistema de recomendação baseado em conteúdo utiliza as características dos itens para fazer sugestões personalizadas aos usuários. O modelo analisa as propriedades ou descrições dos itens que o usuário avaliou positivamente e identifica outros itens com características semelhantes.\n",
        "\n",
        "![image.png](data:image/png;base64,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)"
      ]
    },
    {
      "cell_type": "markdown",
      "metadata": {
        "id": "BzgoJTUt1Z4m"
      },
      "source": [
        ">>  Pro estar utilizando informacoes de texto contidas em metadata_df['description'] e metadata_df['category'] escolhemos utilizar uma abordagem de `NLP chamada TF-IDF (Term Frequency-Inverse Document Frequency)` que ajuda a destacar as informações mais relevantes nos dados textuais associados aos itens. Essa técnica atribui maior peso para as palavras que aparecem com frequência em um item, mas que são menos comuns em todo o conjunto de dados, reduzindo o impacto de palavras genéricas ou muito frequentes.\n",
        "\n",
        ">> Esses dados textuais com mais importância são então transformados em representações numéricas vetoriais, o que é essencial para cálculos como similaridade de cosseno."
      ]
    },
    {
      "cell_type": "code",
      "execution_count": 32,
      "metadata": {
        "id": "8WcYkaoEbDrq"
      },
      "outputs": [],
      "source": [
        "# transformar o dataset `metadata_df` para incluir as features combinadas\n",
        "\n",
        "# category seja uma string única ao invés de uma lista.\n",
        "metadata_df['category'] = metadata_df['category'].apply(lambda x: ' '.join(x) if isinstance(x, list) else str(x))\n",
        "\n",
        "#brand incluem quebras de linha (\\n)\n",
        "metadata_df['brand'] = metadata_df['brand'].str.replace(r'\\s+', ' ', regex=True).str.strip()\n",
        "\n",
        "#ubstitui NaN por um valor padrão, como Unknown ou 0:\n",
        "#metadata_df['price'] = metadata_df['price'].fillna('Unknown')\n",
        "\n",
        "# utilizar a coluna descrição tbm\n",
        "metadata_df['description'] = metadata_df['description'].fillna('Unknown')\n",
        "\n",
        "# vou colocar essa combinação tudo em uma nova coluna de texto\n",
        "# category, main_cat, brand e price para representar o conteúdo do item tudo aglutinado\n",
        "metadata_df['combined_features'] = (\n",
        "    metadata_df['category'].astype(str) + \" \" +\n",
        "    metadata_df['main_cat'].astype(str) + \" \" +\n",
        "    metadata_df['brand'].astype(str) + \" \" +\n",
        "    metadata_df['description'].astype(str)\n",
        ")"
      ]
    },
    {
      "cell_type": "code",
      "execution_count": 33,
      "metadata": {
        "id": "uYYRTuoxYAez"
      },
      "outputs": [],
      "source": [
        "# fazer a representação vetorial dos itens usando TF-IDF\n",
        "# vamos ignorar palavras muito comuns ou entãao pouco frequentes\n",
        "tfidf_vectorizer = TfidfVectorizer(stop_words='english')\n",
        "item_profiles = tfidf_vectorizer.fit_transform(metadata_df['combined_features'])"
      ]
    },
    {
      "cell_type": "code",
      "execution_count": 34,
      "metadata": {
        "id": "6zoGlHf_YE14"
      },
      "outputs": [],
      "source": [
        "# função da recomendaçao de itens com base em conteúdo\n",
        "def recomendar_baseado_em_conteudo(item_id, metadata_df, item_profiles, n_recommendations=10):\n",
        "    # verificar se tem o id no DataFrame\n",
        "    if item_id not in metadata_df['asin'].values:\n",
        "        return []\n",
        "\n",
        "    # índice do item no DataFrame\n",
        "    item_index = metadata_df[metadata_df['asin'] == item_id].index[0]\n",
        "\n",
        "    # calculo de similaridade de cosseno entre o item alvo e todos os outros\n",
        "    #similarity_scores = cosine_similarity(item_profiles[item_index], item_profiles).flatten()\n",
        "    similarity_scores = cosine_similarity(\n",
        "        item_profiles[item_index],\n",
        "        item_profiles,\n",
        "        dense_output=False\n",
        "    ).toarray().flatten()\n",
        "\n",
        "    # ordena os itens\n",
        "    similar_items = similarity_scores.argsort()[::-1]\n",
        "\n",
        "    # pegando os itens mais similares\n",
        "    recommended_item_indices = [i for i in similar_items if i != item_index][:n_recommendations]\n",
        "    recommended_items = metadata_df.iloc[recommended_item_indices]\n",
        "\n",
        "    return recommended_items['asin'].tolist()"
      ]
    },
    {
      "cell_type": "code",
      "execution_count": 35,
      "metadata": {
        "id": "MVhR1nhnYRnV"
      },
      "outputs": [],
      "source": [
        "# avaliar o modelo\n",
        "def avaliar_modelo_conteudo(test_df, train_df, metadata_df, item_profiles, k_values=[5, 10]):\n",
        "    resultados = {'ndcg@5': [], 'ndcg@10': [], 'precision@5': [], 'precision@10': []}\n",
        "    train_items = train_df['asin'].unique()\n",
        "\n",
        "    for user_id in test_df['reviewerID'].unique():\n",
        "        user_test_items = test_df[test_df['reviewerID'] == user_id]['asin'].tolist()\n",
        "        user_train_items = train_df[train_df['reviewerID'] == user_id]['asin'].tolist()\n",
        "\n",
        "        if not user_train_items or not user_test_items:\n",
        "            continue\n",
        "\n",
        "        # aqui sao ecomendacoes baseadas nos itens do dataset de treino\n",
        "        recommended_items = []\n",
        "        for train_item in user_train_items:\n",
        "            if train_item in metadata_df['asin'].values:\n",
        "                recommended_items.extend(\n",
        "                    recomendar_baseado_em_conteudo(train_item, metadata_df, item_profiles, max(k_values))\n",
        "                )\n",
        "\n",
        "        # remove duplicatas, tada dando erro de mais\n",
        "        recommended_items = list(dict.fromkeys(recommended_items))\n",
        "\n",
        "        for k in k_values:\n",
        "            top_k_items = recommended_items[:k]\n",
        "            resultados[f'ndcg@{k}'].append(ndcg(top_k_items, user_test_items, k))\n",
        "            resultados[f'precision@{k}'].append(precision(top_k_items, user_test_items, k))\n",
        "\n",
        "    return {m: np.mean(valores) for m, valores in resultados.items()}"
      ]
    },
    {
      "cell_type": "code",
      "execution_count": 25,
      "metadata": {
        "id": "-cn42OW-hPYN"
      },
      "outputs": [],
      "source": [
        "#tive de resetar o index pq sempre tava causando erro de index nao achado\n",
        "metadata_df = metadata_df.reset_index(drop=True)"
      ]
    },
    {
      "cell_type": "code",
      "execution_count": 143,
      "metadata": {
        "colab": {
          "base_uri": "https://localhost:8080/"
        },
        "id": "lZisgLmiY0cW",
        "outputId": "1b2c1e4d-bb48-4c82-9d35-a8848fc2309c"
      },
      "outputs": [
        {
          "output_type": "stream",
          "name": "stdout",
          "text": [
            "Resultados do Modelo Baseado em Conteúdo:\n",
            "ndcg@5: 0.00338071638975232652\n",
            "ndcg@10: 0.00459012988925157350\n",
            "precision@5: 0.00120034295513003720\n",
            "precision@10: 0.00105744498428122342\n",
            "Tempo de execução (mdl_conteudo_tempo): 5277.5195 segundos\n"
          ]
        }
      ],
      "source": [
        "start_time = time.time()\n",
        "\n",
        "# avaliação\n",
        "resultados_conteudo = avaliar_modelo_conteudo(test_df, train_df, metadata_df, item_profiles)\n",
        "mdl_2_tempo = time.time() - start_time  # tempo total de execução\n",
        "\n",
        "# renomear as métricas\n",
        "resultados_conteudo_tagged = {f\"mdl_2_{metric}\": value for metric, value in resultados_conteudo.items()}\n",
        "\n",
        "\n",
        "print(\"Resultados do Modelo Baseado em Conteúdo:\")\n",
        "for metric, value in resultados_conteudo_tagged.items():\n",
        "    print(f\"{metric}: {value:.20f}\")\n",
        "print(f\"Tempo de execução (mdl_2_tempo): {mdl_2_tempo:.4f} segundos\")"
      ]
    },
    {
      "cell_type": "code",
      "execution_count": 144,
      "metadata": {
        "id": "IC8nk6dPhzdK",
        "colab": {
          "base_uri": "https://localhost:8080/"
        },
        "outputId": "beff8656-4e7c-4b5c-be25-dc60f2702658"
      },
      "outputs": [
        {
          "output_type": "stream",
          "name": "stdout",
          "text": [
            "Comparação com os valores de prova:\n",
            "- ndcg@5 > ndcg@5_prova -> True\n",
            "- ndcg@10 > ndcg@10_prova -> True\n",
            "- precision@5 > precision@5_prova -> True\n",
            "- precision@10 > precision@10_prova -> True\n"
          ]
        }
      ],
      "source": [
        "# comparando os resultados com os valores de prova\n",
        "comparacoes = {\n",
        "    \"ndcg@5\": resultados_conteudo[\"ndcg@5\"] > ndcgA5_prova,\n",
        "    \"ndcg@10\": resultados_conteudo[\"ndcg@10\"] > ndcgA10_prova,\n",
        "    \"precision@5\": resultados_conteudo[\"precision@5\"] > precisionA5_prova,\n",
        "    \"precision@10\": resultados_conteudo[\"precision@10\"] > precisionA10_prova\n",
        "}\n",
        "\n",
        "print(\"Comparação com os valores de prova:\")\n",
        "for metrica, resultado in comparacoes.items():\n",
        "    print(f\"- {metrica} > {metrica}_prova -> {resultado}\")"
      ]
    },
    {
      "cell_type": "markdown",
      "metadata": {
        "id": "LLgvj2yvGWwd"
      },
      "source": [
        "### **c) (2,0 pontos) Modelo de recomendação aplicando a redução da dimensionalidade**"
      ]
    },
    {
      "cell_type": "markdown",
      "source": [
        "Vamos usar o PCA (Análise de Componentes Principais) para reduzir a dimensionalidade do modelo de recomendação baseado no modelo de filtragem colaborativa, simplesmente porque ele eh mais rapido. A reudcao da dimensionalidade pode ajudar a melhorar o desempenho computacional, afinal as matrizes serao melhores, permitindo uma análise do impacto na qualidade das recomendações, que é a ideia da comparacao aao final dessa atividade."
      ],
      "metadata": {
        "id": "fw93Ljzh87gE"
      }
    },
    {
      "cell_type": "markdown",
      "source": [
        "#### **Modelo de recomendação com filtragem colaborativa**` com PCA`"
      ],
      "metadata": {
        "id": "WH7NjFnL_1Xi"
      }
    },
    {
      "cell_type": "markdown",
      "source": [
        ">> aporveitei as mesmas funcoes do outro modelo, apenas reduzi a dimensionalidade da matriz"
      ],
      "metadata": {
        "id": "cZCRNsxEBEnE"
      }
    },
    {
      "cell_type": "code",
      "execution_count": 145,
      "metadata": {
        "id": "j6NF8F8DGXgT"
      },
      "outputs": [],
      "source": [
        "# PCA para redução da dimensionalidade\n",
        "def reduzir_dimensionalidade(matrix, n_components=50):\n",
        "    pca = PCA(n_components=n_components)\n",
        "    reduced_matrix = pca.fit_transform(matrix.toarray())\n",
        "    return csr_matrix(reduced_matrix), pca"
      ]
    },
    {
      "cell_type": "code",
      "source": [
        "# matriz combinada e aplicar o PCA, mesmo pesos da outra\n",
        "#weights = {'overall': 0.7, 'verified': 0.2, 'vote': 0.1}\n",
        "#train_matrix, user_ids, item_ids = build_combined_matrix(train_df, weights)\n",
        "\n",
        "train_matrix_reduced, pca_model = reduzir_dimensionalidade(train_matrix, n_components=50)"
      ],
      "metadata": {
        "id": "NIE12-Zn8nwI"
      },
      "execution_count": 146,
      "outputs": []
    },
    {
      "cell_type": "code",
      "source": [
        "# calcuilar a similaridade de cosseno entre usuários na matriz reduzida\n",
        "user_similarity_reduced = cosine_similarity(train_matrix_reduced, dense_output=False)"
      ],
      "metadata": {
        "id": "jvFXgMB78yQI"
      },
      "execution_count": 147,
      "outputs": []
    },
    {
      "cell_type": "code",
      "source": [
        "start_time = time.time()\n",
        "\n",
        "# avaliação do modelo\n",
        "resultados_pca = avaliar_modelo(test_df, train_matrix_reduced, user_similarity_reduced, user_ids, item_ids)\n",
        "mdl_1_pca_tempo = time.time() - start_time\n",
        "\n",
        "# Renomear as métricas com a tag \"mdl_2_pca_\"\n",
        "resultados_pca_filtragem = {f\"mdl_1_pca_{metric}\": value for metric, value in resultados_pca.items()}\n",
        "\n",
        "#resultados\n",
        "print(\"Resultados com PCA:\")\n",
        "for metric, value in resultados_pca_filtragem.items():\n",
        "    print(f\"{metric}: {value:.20f}\")\n",
        "\n",
        "print(f\"Tempo de execução (mdl_1_pca_tempo): {mdl_1_pca_tempo:.4f} segundos\")"
      ],
      "metadata": {
        "colab": {
          "base_uri": "https://localhost:8080/"
        },
        "id": "Y2lvQrnt80RS",
        "outputId": "4d409b1c-b6eb-4dac-f26e-9e74c28bec17"
      },
      "execution_count": 148,
      "outputs": [
        {
          "output_type": "stream",
          "name": "stdout",
          "text": [
            "Resultados com PCA:\n",
            "mdl_2_pca_ndcg@5: 0.00030421743873041047\n",
            "mdl_2_pca_ndcg@10: 0.00059351982945852414\n",
            "mdl_2_pca_precision@5: 0.00017147756501857675\n",
            "mdl_2_pca_precision@10: 0.00018576736210345812\n",
            "Tempo de execução (mdl_2_pca_tempo): 309.3272 segundos\n"
          ]
        }
      ]
    },
    {
      "cell_type": "code",
      "source": [
        "# comparando os resultados com os valores de prova\n",
        "comparacoes_pca = {\n",
        "    \"ndcg@5\": resultados_pca[\"ndcg@5\"] > ndcgA5_prova,\n",
        "    \"ndcg@10\": resultados_pca[\"ndcg@10\"] > ndcgA10_prova,\n",
        "    \"precision@5\": resultados_pca[\"precision@5\"] > precisionA5_prova,\n",
        "    \"precision@10\": resultados_pca[\"precision@10\"] > precisionA10_prova\n",
        "}\n",
        "\n",
        "for metrica, resultado in comparacoes_pca.items():\n",
        "    print(f\"- {metrica} > {metrica}_prova -> {resultado}\")"
      ],
      "metadata": {
        "colab": {
          "base_uri": "https://localhost:8080/"
        },
        "id": "nFZvRT1X82pB",
        "outputId": "90faf25b-a1dc-4ddc-abd1-20a3593a540a"
      },
      "execution_count": 149,
      "outputs": [
        {
          "output_type": "stream",
          "name": "stdout",
          "text": [
            "- ndcg@5 > ndcg@5_prova -> False\n",
            "- ndcg@10 > ndcg@10_prova -> False\n",
            "- precision@5 > precision@5_prova -> True\n",
            "- precision@10 > precision@10_prova -> True\n"
          ]
        }
      ]
    },
    {
      "cell_type": "markdown",
      "source": [
        "#### **Modelo de recomendação baseado em conteúdo** `com PCA`"
      ],
      "metadata": {
        "id": "o_n9c0Js_8Lf"
      }
    },
    {
      "cell_type": "code",
      "source": [
        "# aplicar PCA para reduzir dimensionalidade no modelo baseado em conteúdo\n",
        "def reduzir_dimensionalidade_conteudo(item_profiles, n_components=50):\n",
        "    pca = PCA(n_components=n_components)\n",
        "    reduced_profiles = pca.fit_transform(item_profiles.toarray())\n",
        "    return csr_matrix(reduced_profiles), pca"
      ],
      "metadata": {
        "id": "xi8aKFwFAOoP"
      },
      "execution_count": 36,
      "outputs": []
    },
    {
      "cell_type": "code",
      "source": [
        "#tive de resetar o index pq sempre tava causando erro de index nao achado\n",
        "metadata_df = metadata_df.reset_index(drop=True)"
      ],
      "metadata": {
        "id": "_9m-5tDiASZj"
      },
      "execution_count": 37,
      "outputs": []
    },
    {
      "cell_type": "code",
      "source": [
        "# reduzir dimensionalidade com PCA\n",
        "item_profiles_reduced, pca_model = reduzir_dimensionalidade_conteudo(item_profiles, n_components=50)\n",
        "\n",
        "#pq 50? CHUTOMETRO total, tentei com 10 e 20 e ficou bom nao"
      ],
      "metadata": {
        "id": "aW8ikmCKAUU5"
      },
      "execution_count": 38,
      "outputs": []
    },
    {
      "cell_type": "code",
      "source": [
        "start_time = time.time()\n",
        "\n",
        "# avaliação\n",
        "resultados_conteudo_pca = avaliar_modelo_conteudo(test_df, train_df, metadata_df, item_profiles_reduced)\n",
        "mdl_2_pca_tempo = time.time() - start_time\n",
        "\n",
        "resultados_pca_conteudo = {f\"mdl_2_pca_{metric}\": value for metric, value in resultados_conteudo_pca.items()}\n",
        "\n",
        "print(\"Resultados do Modelo Baseado em Conteúdo (com PCA):\")\n",
        "for metric, value in resultados_pca_conteudo.items():\n",
        "    print(f\"{metric}: {value:.20f}\")\n",
        "print(f\"Tempo de execução (mdl_2_pca_tempo): {mdl_2_pca_tempo:.4f} segundos\")"
      ],
      "metadata": {
        "colab": {
          "base_uri": "https://localhost:8080/"
        },
        "id": "kkrBK1WgBPTl",
        "outputId": "da34d127-e14f-478a-bcc5-598c6dd376c7"
      },
      "execution_count": 39,
      "outputs": [
        {
          "output_type": "stream",
          "name": "stdout",
          "text": [
            "Resultados do Modelo Baseado em Conteúdo (com PCA):\n",
            "mdl_2_pca_ndcg@5: 0.00246900907109895993\n",
            "mdl_2_pca_ndcg@10: 0.00340164251196239378\n",
            "mdl_2_pca_precision@5: 0.00097170620177193490\n",
            "mdl_2_pca_precision@10: 0.00085738782509288370\n",
            "Tempo de execução (mdl_2_pca_tempo): 4491.4965 segundos\n"
          ]
        }
      ]
    },
    {
      "cell_type": "code",
      "source": [
        "# comparando os resultados com os valores de prova\n",
        "comparacoes = {\n",
        "    \"ndcg@5\": resultados_conteudo_pca[\"ndcg@5\"] > ndcgA5_prova,\n",
        "    \"ndcg@10\": resultados_conteudo_pca[\"ndcg@10\"] > ndcgA10_prova,\n",
        "    \"precision@5\": resultados_conteudo_pca[\"precision@5\"] > precisionA5_prova,\n",
        "    \"precision@10\": resultados_conteudo_pca[\"precision@10\"] > precisionA10_prova\n",
        "}\n",
        "\n",
        "print(\"Comparação com os valores de prova:\")\n",
        "for metrica, resultado in comparacoes.items():\n",
        "    print(f\"- {metrica} > {metrica}_prova -> {resultado}\")"
      ],
      "metadata": {
        "colab": {
          "base_uri": "https://localhost:8080/"
        },
        "id": "1_wXoiQiBPrN",
        "outputId": "1d9c87ce-f0dd-4ba7-bbfa-da6afa6a00fa"
      },
      "execution_count": 40,
      "outputs": [
        {
          "output_type": "stream",
          "name": "stdout",
          "text": [
            "Comparação com os valores de prova:\n",
            "- ndcg@5 > ndcg@5_prova -> True\n",
            "- ndcg@10 > ndcg@10_prova -> True\n",
            "- precision@5 > precision@5_prova -> True\n",
            "- precision@10 > precision@10_prova -> True\n"
          ]
        }
      ]
    },
    {
      "cell_type": "markdown",
      "metadata": {
        "id": "iIWOmS0OgSJQ"
      },
      "source": [
        "### **d) (2,0 pontos) Análise das métricas**"
      ]
    },
    {
      "cell_type": "markdown",
      "source": [
        ">> **Tive de anotar as variaveis pq estourou a ram, mas as variaveis sao salvas dentro de dicionarios, eh so olhar na comparacao de cada modelo. **"
      ],
      "metadata": {
        "id": "c4JowvwaeH7a"
      }
    },
    {
      "cell_type": "markdown",
      "source": [
        "Resultados da `prova`:\n",
        "* ndcgA5_prova = 0.0016818836315317604\n",
        "* ndcgA10_prova = 0.003073280417540927\n",
        "* precisionA5_prova = 0.00016758439071103669\n",
        "* precisionA10_prova = 8.379219535551834e-05\n",
        "* prova_tempo: nao informado\n",
        "\n",
        "\n",
        "\n",
        "---\n",
        "\n",
        "\n",
        "Resultados do `modelo 1 - filtragem colaborativa`:\n",
        "* ndcg@5: 0.00464937475792793695\n",
        "* ndcg@10: 0.00559391863222122570\n",
        "* precision@5: 0.00168619605601600460\n",
        "* precision@10: 0.00127179194055444421\n",
        "* Tempo de execução (mdl_1_tempo): 290.2078 segundos\n",
        "---\n",
        "\n",
        "Resultados do `modelo 2 - Baseado em Conteúdo`:\n",
        "* ndcg@5: 0.00338071638975232652\n",
        "* ndcg@10: 0.00459012988925157350\n",
        "* precision@5: 0.00120034295513003720\n",
        "* precision@10: 0.00105744498428122342\n",
        "* Tempo de execução (mdl_conteudo_tempo): 5277.5195 segundos\n",
        "\n",
        "---\n",
        "Resultados com `modelo 1 - filtragem com PCA`:\n",
        "* mdl_1_pca_ndcg@5: 0.00030421743873041047\n",
        "* mdl_1_pca_ndcg@10: 0.00059351982945852414\n",
        "* mdl_1_pca_precision@5: 0.00017147756501857675\n",
        "* mdl_1_pca_precision@10: 0.00018576736210345812\n",
        "* Tempo de execução (mdl_1_pca_tempo): 309.3272 segundos\n",
        "\n",
        "---\n",
        "Resultados do `modelo 2 - baseado em Conteúdo com PCA`:\n",
        "* mdl_2_pca_ndcg@5: 0.00246900907109895993\n",
        "* mdl_2_pca_ndcg@10: 0.00340164251196239378\n",
        "* mdl_2_pca_precision@5: 0.00097170620177193490\n",
        "* mdl_2_pca_precision@10: 0.00085738782509288370\n",
        "* Tempo de execução (mdl_2_pca_tempo): 4491.4965  segundos\n",
        "\n"
      ],
      "metadata": {
        "id": "OZ83COHLd18j"
      }
    },
    {
      "cell_type": "code",
      "execution_count": 41,
      "metadata": {
        "id": "fNitDdpKgVzp"
      },
      "outputs": [],
      "source": [
        "resultados = {\n",
        "    \"prova\": {\n",
        "        \"ndcg@5\": 0.0016818836315317604,\n",
        "        \"ndcg@10\": 0.003073280417540927,\n",
        "        \"precision@5\": 0.00016758439071103669,\n",
        "        \"precision@10\": 8.379219535551834e-05,\n",
        "        \"tempo\": 0\n",
        "    },\n",
        "    \"modelo_1_filtragem\": {\n",
        "        \"ndcg@5\": 0.00464937475792793695,\n",
        "        \"ndcg@10\": 0.00559391863222122570,\n",
        "        \"precision@5\": 0.00168619605601600460,\n",
        "        \"precision@10\": 0.00127179194055444421,\n",
        "        \"tempo\": 290.2078\n",
        "    },\n",
        "    \"modelo_2_conteudo\": {\n",
        "        \"ndcg@5\": 0.00338071638975232652,\n",
        "        \"ndcg@10\": 0.00459012988925157350,\n",
        "        \"precision@5\": 0.00120034295513003720,\n",
        "        \"precision@10\": 0.00105744498428122342,\n",
        "        \"tempo\": 5277.5195\n",
        "    },\n",
        "    \"modelo_1_filtragem_pca\": {\n",
        "        \"ndcg@5\": 0.00030421743873041047,\n",
        "        \"ndcg@10\": 0.00059351982945852414,\n",
        "        \"precision@5\": 0.00017147756501857675,\n",
        "        \"precision@10\": 0.00018576736210345812,\n",
        "        \"tempo\": 309.3272\n",
        "    },\n",
        "    \"modelo_2_conteudo_pca\": {\n",
        "        \"ndcg@5\": 0.00246900907109895993,\n",
        "        \"ndcg@10\": 0.00340164251196239378,\n",
        "        \"precision@5\": 0.00097170620177193490,\n",
        "        \"precision@10\": 0.00085738782509288370,\n",
        "        \"tempo\": 4491.4965\n",
        "    }\n",
        "}"
      ]
    },
    {
      "cell_type": "code",
      "source": [
        "# dados\n",
        "modelos = list(resultados.keys())\n",
        "metricas = [\"ndcg@5\", \"ndcg@10\", \"precision@5\", \"precision@10\"]\n",
        "valores_metricas = [[resultados[modelo][metrica] for metrica in metricas] for modelo in modelos]\n",
        "tempos = [resultados[modelo][\"tempo\"] if resultados[modelo][\"tempo\"] is not None else 0 for modelo in modelos]\n",
        "\n",
        "# para o tempo\n",
        "x = np.arange(len(modelos))\n",
        "width = 0.2\n",
        "\n",
        "fig, ax1 = plt.subplots(figsize=(10, 6))\n",
        "\n",
        "# Barras\n",
        "for i, metrica in enumerate(metricas):\n",
        "    valores = [resultados[modelo][metrica] for modelo in modelos]\n",
        "    ax1.bar(x + i * width, valores, width, label=metrica)\n",
        "\n",
        "# eixo esquerdo (Métricas)\n",
        "ax1.set_xlabel(\"Modelos\")\n",
        "ax1.set_ylabel(\"Valores das Métricas\")\n",
        "ax1.set_title(\"Comparação de Métricas e Tempo de Execução por Modelo\")\n",
        "ax1.set_xticks(x + width * 1.5)\n",
        "ax1.set_xticklabels(modelos, rotation=45, ha=\"right\")\n",
        "ax1.legend(loc=\"upper left\")\n",
        "\n",
        "#  eixo direito\n",
        "ax2 = ax1.twinx()\n",
        "ax2.plot(x + width * 1.5, tempos, color=\"red\", marker=\"o\", label=\"Tempo de Execução\")\n",
        "ax2.set_ylabel(\"Tempo de Execução (segundos)\")\n",
        "ax2.legend(loc=\"upper right\")\n",
        "\n",
        "# layout\n",
        "plt.tight_layout()\n",
        "plt.show()"
      ],
      "metadata": {
        "colab": {
          "base_uri": "https://localhost:8080/",
          "height": 607
        },
        "id": "6mAB4k82d2py",
        "outputId": "21b86114-4c88-4ee5-c74d-faf7fcbb2fa3"
      },
      "execution_count": 42,
      "outputs": [
        {
          "output_type": "display_data",
          "data": {
            "text/plain": [
              "<Figure size 1000x600 with 2 Axes>"
            ],
            "image/png": "[encoded data removed]"
          },
          "metadata": {}
        }
      ]
    },
    {
      "cell_type": "markdown",
      "source": [
        ">>"
      ],
      "metadata": {
        "id": "rmW9ZcoLebC1"
      }
    },
    {
      "cell_type": "markdown",
      "source": [
        ">> Com o grafico acima conseguimos ver o empenho dos modelos, com e sem PCA, em relacao aos dados fornecidos pela prova.\n",
        "\n",
        ">> Um fato interessante é o impacto do PCA, tanto no desempenho quanto no tempo de execução o que já era esperado. Por reduzir a dimensionalidade das matrizes o tempo de execução para ambos os modelos com PCA foi reduzido, mas há um preço alto por isso que foi o impacto no desempenho reduzindo para ambos o que indica a perda de informações relevantes para a recomendação. Pode ter sido a escolha da dimensionalidade? Talvez, um teste a se fazer é dobrar ou até mesmo triplicar o valor original do PCa que foi de 50.\n",
        "\n",
        ">> Outro fato a se notar a diferença no desempenho do modelo antes e depois do PCA. Para o modelo baseado em conteudo houve um perda, mas nem tanto, considerando que seu tempo foi reduzido em quase 1000 segundos. Porém para o modelo com filtragem colaborativa a coisa foi diferente. Enquanto o tempo de execução teve uma diferença muito leve, o desempenho mudou completamente, reduzindo drasticamente esses valores.\n",
        "\n",
        ">> Acreditamos que o essa diferença tao grande se deve ao fato desse modelo colaborativo depender fortemente da matriz original para calcular a similaridades entre usuarios. Com a redução da dimensionalidade o modelo nao conseguiu capturar suficientemtenet a complexidade da interação entre usuários. Mais um vez, utilizamos um dimensao muito baixa quando comparada ao modelo original. Válido testar com muito mais."
      ],
      "metadata": {
        "id": "DjUyHZgEfT1Z"
      }
    },
    {
      "cell_type": "markdown",
      "metadata": {
        "id": "zKKnbfOIHMDA"
      },
      "source": [
        "### **e) Conclusões (1,5 pontos)**"
      ]
    },
    {
      "cell_type": "markdown",
      "metadata": {
        "id": "QbENwF0qg6hF"
      },
      "source": [
        "Dica: Informe as conclusões obtidas. Compare os valores das métricas obtidas entre os modelos e justifique qual seria o melhor modelo a ser utilizado no momento. Foque em convencer o gestor de que os seus modelos de recomendações são bons e qual seria o melhor a ser utilizado apresentando o motivo/justificativa."
      ]
    },
    {
      "cell_type": "markdown",
      "source": [
        ">> Nesse trabalho abordamos quatro sistemas de recomendação: Filtragem Colaborativa e Recomendação Baseada em Conteúdo, com e sem aplicação de PCA para redução de dimensionalidade. Cada modelo foi avaliado com base em métricas comum a todos: ndcg@5, ndcg@10, precision@5, precision@10 e o tempo de execução.\n",
        "\n",
        ">> Os resultados obtidos mostram que cada abordagem tem seus pontos fortes e fracos e vmaos abordar cada um deles:\n",
        "*   `Modelo 1 - Filtragem Colaborativa: ` Apresentou os melhores resultados (ndcg@ e precision@). Isso ocorre porque a filtragem colaborativa aproveita diretamente os padrões de interação, que são altamente específicos e eficazes, utilizando informações de outros usuários semelhantes para recomendar. O tempo de execução foi razoável (290 segundos), tornando-o um modelo eficiente e prático, quando comparado as demais é claro.\n",
        "*   `Modelo 2 - Baseado em Conteúdo:` Embora tenha métricas inferiores ao Modelo 1, seu desempenho ainda supera o da prova, o qual nao sabemos qual baseline e parâmetros foram utilizados. No entanto, o tempo de execução foi alto de mais (mais de 5000 segundos), indicando que o modelo baseado em conteúdo, sem otimizações adicionais, pode ser inviável para aplicações em larga escala.\n",
        "* `Filtragem Colaborativa com PCA:` A redução de dimensionalidade com PCA comprometeu significativamente o desempenho das recomendações desse modelo, pois diluiu quase que completamente as relações importantes entre usuários e itens. Lembrando que utilziamos um nuemro muito baixo (50) no PCA. Embora o tempo de execução tenha sido ligeiramente inferior ao modelo original, o impacto negativo no desempenho torna esta abordagem inviável.\n",
        "* `Baseado em Conteúdo com PCA:` Apresentou um equilíbrio razoável entre desempenho e eficiência. Embora as métricas tenham sido inferiores ao modelo original, o tempo de execução foi reduzido em mais de 1000 segundos, mostrando que o PCA é uma estratégia viável para melhorar a escalabilidade em modelos baseados em conteúdo. E foi melhor que a baseline da prova. Uma otimização de parâmetros pode sim tornar esse o melhor modelo, basta testes.\n",
        "\n"
      ],
      "metadata": {
        "id": "XZ6cmU4wiGp7"
      }
    },
    {
      "cell_type": "markdown",
      "source": [
        "\n",
        "\n",
        "---\n",
        "\n"
      ],
      "metadata": {
        "id": "xhGrODz2kzKq"
      }
    },
    {
      "cell_type": "markdown",
      "source": [
        ">> Dito isso Chefe, o `Modelo 1 - Filtragem Colaborativa` é o mais indicado para o cenário da sua loja. Ele combina precisão, cobertura e eficiência computacional melhor que todos os outros que testamos, sendo capaz de gerar recomendações boas sem comprometer o tempo de execução. Indicando para seus clientes boas recomendações que podem induzí-lo a comprar mais e você ter um aumento na receita na loja. Se o fluxo da loja tiver um volume considerável de interações passadas entre usuários e itens, ou seja, clientes comprando e recebendo recomendações, esse modelo é o mais adequado com certeza. Podemos subir para aplicação?\n",
        "\n",
        ">> Dado que fizemos o deploy do modelo na loja, a pesquisa não para. Precisamos realizar mais testes para saber se podemos melhorar esses resultados. Como teste Chefe, enquanto o modelo que você aprovou está rodando, sugerimos o seguinte:\n",
        "*   Investir em otimizações do` Modelo 2 - Baseado em Conteúdo com PCA` para cenários onde as informações dos itens (e não das interações) são a principal fonte de dados.\n",
        "*   Investir em otimizações do Modelo `1 - Filtragem Colaborativa com PCA` buscando melhorar sua performance uma vez que ele gasta menos poder de processamento, buscando um equilíbrio entre custo cumputacional e boas recomendações.\n",
        "* Testar os modelos em um conjunto de `treino maior`, pois houve limitacoes nossas em questao de RAM do Colab.\n",
        "* Avaliar a possibilidade de `combinar ambas as abordagens` em um modelo híbrido.\n"
      ],
      "metadata": {
        "id": "om0G73bTkzx4"
      }
    },
    {
      "cell_type": "markdown",
      "source": [
        ">>"
      ],
      "metadata": {
        "id": "-60f7U_u_C1K"
      }
    }
  ],
  "metadata": {
    "colab": {
      "provenance": [],
      "toc_visible": true
    },
    "kernelspec": {
      "display_name": "Python 3",
      "name": "python3"
    },
    "language_info": {
      "name": "python"
    }
  },
  "nbformat": 4,
  "nbformat_minor": 0
}