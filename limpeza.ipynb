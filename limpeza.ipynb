{
 "cells": [
  {
   "metadata": {},
   "cell_type": "markdown",
   "source": "Essa colab tem por objetivo proporcionar uma limpeza e ajuste dos dados que estão vindo do topsolid.",
   "id": "ca2320942c297004"
  },
  {
   "metadata": {
    "ExecuteTime": {
     "end_time": "2024-04-27T21:50:30.073448Z",
     "start_time": "2024-04-27T21:50:30.004324Z"
    }
   },
   "cell_type": "code",
   "source": [
    "import pandas as pd\n",
    "import seaborn as sns\n",
    "import matplotlib.pyplot as plt\n",
    "from sklearn.preprocessing import LabelEncoder"
   ],
   "id": "initial_id",
   "outputs": [],
   "execution_count": 128
  },
  {
   "metadata": {
    "ExecuteTime": {
     "end_time": "2024-04-27T21:35:02.233663Z",
     "start_time": "2024-04-27T21:35:02.183470Z"
    }
   },
   "cell_type": "code",
   "source": "df = pd.read_csv('data/df_concat.csv')",
   "id": "a0cf2d56473f41eb",
   "outputs": [],
   "execution_count": 105
  },
  {
   "metadata": {},
   "cell_type": "markdown",
   "source": "## FUNÇÕES",
   "id": "214b2bb57693bc78"
  },
  {
   "metadata": {
    "ExecuteTime": {
     "end_time": "2024-04-27T21:57:31.432841Z",
     "start_time": "2024-04-27T21:57:31.426517Z"
    }
   },
   "cell_type": "code",
   "source": [
    "'''Essa célula irá armazenar todas as funções de limpeza usadas ao longo do código, contendo na sua descrição o objetivo'''\n",
    "\n",
    "\n",
    "def ajusta_grain_orientation(elemento):\n",
    "    \"\"\"Essa função tem por objetivo padronizar a coluna GRAIN_ORIENTATION, que possui padrões diferentes entre os antigos e novos projetos.\"\"\"\n",
    "    if elemento.upper() == 'SIM':\n",
    "        return -1\n",
    "    elif elemento.upper() == 'NÃO':\n",
    "        return 1\n",
    "    return 'NÃO ENCONTRADO'\n",
    "\n",
    "\n",
    "def retorna_processo(elemento):\n",
    "    \"\"\"Esssa função tem por objetivo trazer o fluxo a uma forma mais simples de ser trabalhada, atuando em cima do processo\"\"\"\n",
    "    if pd.isna(elemento):\n",
    "        return -1\n",
    "    elemento = str(elemento)\n",
    "    return elemento[6:8]\n",
    "\n",
    "\n",
    "def retorna_maquina(elemento):\n",
    "    \"\"\"Esssa função tem por objetivo trazer o fluxo a uma forma mais simples de ser trabalhada, atuando em cima da máquina\"\"\"\n",
    "    if pd.isna(elemento):\n",
    "        return -1\n",
    "    elemento = str(elemento)\n",
    "    return elemento[10:15]\n",
    "\n",
    "\n",
    "def transforma_lista(elemento):\n",
    "    \"\"\"Essa função tem por objetivo padronizar as colunas processos e maquinas, para processos ela definira o formato de lista de inteiros, e para maquinas o formato de lista de strings.\"\"\"\n",
    "    lista = []\n",
    "    for i in elemento.strip().split():\n",
    "        if i.isnumeric():\n",
    "            lista.append(int(i))\n",
    "        else:\n",
    "            lista.append(i)\n",
    "    return lista\n",
    "\n",
    "\n",
    "def limpa_fluxo(lista, maquinas):\n",
    "    \"\"\"Essa função tem por objetivo manter no fluxo somente as máquinas que entrarão na classificação.\"\"\"\n",
    "    lista_modificada = [num for num in lista if num not in [1, 29, 16, 13, 11, 8, 2, 12]]\n",
    "    maquinas_modificadas = [maquinas[i] for i in range(len(lista)) if lista[i] not in [1, 29, 16, 13, 11, 8, 2, 12]]\n",
    "    return lista_modificada, maquinas_modificadas\n",
    "\n",
    "\n",
    "def retorna_mat_prod(elemento):\n",
    "    \"\"\"Essa função tem por objetivo fazer com que as colunas que carregam material e produto como informação mantenham somente o relevante, ignorando o id de cada peça específica.\"\"\"\n",
    "    return float(elemento[0:6])"
   ],
   "id": "e7afcc7e8756e235",
   "outputs": [],
   "execution_count": 131
  },
  {
   "metadata": {},
   "cell_type": "markdown",
   "source": "# LIMPEZA DOS DADOS",
   "id": "8089b1a32f7fabda"
  },
  {
   "metadata": {},
   "cell_type": "markdown",
   "source": "## IGUALANDO PROJETOS",
   "id": "bdc1a5807d0f68a7"
  },
  {
   "metadata": {},
   "cell_type": "markdown",
   "source": "A primeira coisa a ser relatada é que existem duas versões dos dados, uma que modela os projetos antigos, e a outra que modela os novos projetos. Essa seção tem por objetivo padronizar as mudanças",
   "id": "3364bd2a0580f95f"
  },
  {
   "metadata": {
    "ExecuteTime": {
     "end_time": "2024-04-27T21:35:03.173428Z",
     "start_time": "2024-04-27T21:35:03.159817Z"
    }
   },
   "cell_type": "code",
   "source": [
    "'''A primeira coisa vista foi que o codigo do produto habita colunas diferentes nas duas versões dos dados, onde na primeira a informação está no campo REFERÊNCIA, e na segunda a informação está no campo CODIGO. Unificaremos no campo CODIGO.'''\n",
    "\n",
    "df['CODIGO'] = df['CODIGO'].fillna(df['REFERÊNCIA'])\n",
    "\n",
    "try:\n",
    "    df = df.drop(columns=['REFERÊNCIA', 'CAM_FILE_NAME']) #A coluna CAM_FILE_NAME é uma repetição de REFERÊNCIA\n",
    "except:\n",
    "    df = df.drop(columns=['REFERÊNCIA'])"
   ],
   "id": "84a2804193bb1fe8",
   "outputs": [],
   "execution_count": 107
  },
  {
   "metadata": {
    "ExecuteTime": {
     "end_time": "2024-04-27T21:35:03.301979Z",
     "start_time": "2024-04-27T21:35:03.293117Z"
    }
   },
   "cell_type": "code",
   "source": [
    "'''Outro ponto é que na base antiga a oluna grain_orientation vai de -1 a 1, já na nova ela vai de 0 a 1. Vamos padronizar, transformando o valor 0 em -1, faremos isso usando a coluna MATTER_GRAIN_ORIENTATION que possui a mesma informação em formato de string'''\n",
    "\n",
    "df['GRAIN_ORIENTATION'] = df['MATTER_GRAIN_ORIENTATION'].apply(ajusta_grain_orientation)\n",
    "df = df.drop(columns=['MATTER_GRAIN_ORIENTATION'])"
   ],
   "id": "bc4f40e78fbf8162",
   "outputs": [],
   "execution_count": 108
  },
  {
   "metadata": {},
   "cell_type": "markdown",
   "source": "## AJUSTANDO FLUXO",
   "id": "8feb5184ba387783"
  },
  {
   "metadata": {
    "ExecuteTime": {
     "end_time": "2024-04-27T21:35:03.654946Z",
     "start_time": "2024-04-27T21:35:03.564917Z"
    }
   },
   "cell_type": "code",
   "source": [
    "'''Outro ponto necessário é trazer o fluxo a um padrão mais \"trabalhável\", dessa forma, sairemos das 7 colunas existentes, com muitos nulos, para apenas duas colunas, sendo essas colunas uma lista de processos (coluna 1) e máquinas (coluna 2).'''\n",
    "\n",
    "colunas_label = ['CAM_FILE_NAME_0', 'CAM_FILE_NAME_1', 'CAM_FILE_NAME_2', 'CAM_FILE_NAME_3',\n",
    "                 'CAM_FILE_NAME_4', 'CAM_FILE_NAME_5', 'CAM_FILE_NAME_6']\n",
    "\n",
    "df['PROCESSOS'] = df[colunas_label].apply(lambda row: ' '.join(str(retorna_processo(elem)) for elem in row if retorna_processo(elem) != -1), axis=1)\n",
    "\n",
    "df['MAQUINAS'] = df[colunas_label].apply(lambda row: ' '.join(str(retorna_maquina(elem)) for elem in row if retorna_maquina(elem) != -1), axis=1)\n",
    "\n",
    "\n",
    "df = df.drop(columns=['CAM_FILE_NAME_0', 'CAM_FILE_NAME_1', 'CAM_FILE_NAME_2', 'CAM_FILE_NAME_3','CAM_FILE_NAME_4','CAM_FILE_NAME_5','CAM_FILE_NAME_6'])"
   ],
   "id": "6aa6f1ed11b0596b",
   "outputs": [],
   "execution_count": 109
  },
  {
   "metadata": {
    "ExecuteTime": {
     "end_time": "2024-04-27T21:35:03.812324Z",
     "start_time": "2024-04-27T21:35:03.801203Z"
    }
   },
   "cell_type": "code",
   "source": [
    "'''Além de adiionar o novo formato, iremos transformar cada elemento dentro da lista de processos em um inteiro, e definir para processos e maquinas o formato de uma lista'''\n",
    "\n",
    "df['PROCESSOS'] = df['PROCESSOS'].apply(transforma_lista)\n",
    "df['MAQUINAS'] = df['MAQUINAS'].apply(transforma_lista)"
   ],
   "id": "16265a33d329809b",
   "outputs": [],
   "execution_count": 110
  },
  {
   "metadata": {
    "ExecuteTime": {
     "end_time": "2024-04-27T21:35:04.018959Z",
     "start_time": "2024-04-27T21:35:03.967579Z"
    }
   },
   "cell_type": "code",
   "source": [
    "'''Vamos também manter no \"fluxo\" somente os processos que entram para classificação, processos como montagem virarão uma checkbox, pois no fim, são de escolha \"pessoal\".'''\n",
    "\n",
    "df['PROCESSOS'], df['MAQUINAS'] = zip(*df.apply(lambda row: limpa_fluxo(row['PROCESSOS'], row['MAQUINAS']), axis=1))\n",
    "\n",
    "df = df[df['PROCESSOS'].apply(lambda x: len(x) > 0)] #Retirando linhas sem fluxo"
   ],
   "id": "8672661e337f16e5",
   "outputs": [],
   "execution_count": 111
  },
  {
   "metadata": {},
   "cell_type": "markdown",
   "source": "## VERIFICANDO INFORMAÇÃO REPETIDA",
   "id": "31764a1f63dd6a30"
  },
  {
   "metadata": {
    "ExecuteTime": {
     "end_time": "2024-04-27T21:35:04.437282Z",
     "start_time": "2024-04-27T21:35:04.383667Z"
    }
   },
   "cell_type": "code",
   "source": [
    "'''Vamos verificar e excluir (caso haja) colunas repetidas'''\n",
    "\n",
    "colunas_iguais = []\n",
    "n = len(df.columns)\n",
    "\n",
    "for i in range(n):\n",
    "    for j in range(i + 1, n):\n",
    "        if df.iloc[:, i].equals(df.iloc[:, j]) and df.columns[i] != df.columns[j]:\n",
    "            colunas_iguais.append((df.columns[i], df.columns[j]))"
   ],
   "id": "e382a62db51bbe0b",
   "outputs": [],
   "execution_count": 112
  },
  {
   "metadata": {
    "ExecuteTime": {
     "end_time": "2024-04-27T21:35:04.774728Z",
     "start_time": "2024-04-27T21:35:04.770348Z"
    }
   },
   "cell_type": "code",
   "source": "colunas_iguais #O print abaixo exibe as colunas repetidas",
   "id": "dca9c56667340ec3",
   "outputs": [
    {
     "data": {
      "text/plain": [
       "[('DESCRIÇÃO', 'DESIGNAÇÃO'),\n",
       " ('CODIGO_MATERIAL', 'VALORISATION_REFERENCE'),\n",
       " ('DESCRIÇÃO_MATERIAL', 'MATERIAL')]"
      ]
     },
     "execution_count": 113,
     "metadata": {},
     "output_type": "execute_result"
    }
   ],
   "execution_count": 113
  },
  {
   "metadata": {
    "ExecuteTime": {
     "end_time": "2024-04-27T21:35:05.003332Z",
     "start_time": "2024-04-27T21:35:04.986781Z"
    }
   },
   "cell_type": "code",
   "source": [
    "'''Essa célula percorre a informação acima e exclui uma das colunas de cada par de informação repetida.'''\n",
    "\n",
    "for coluna in colunas_iguais:\n",
    "    df = df.drop(columns=[coluna[1]])"
   ],
   "id": "4fd7b63d3c15a57f",
   "outputs": [],
   "execution_count": 114
  },
  {
   "metadata": {
    "ExecuteTime": {
     "end_time": "2024-04-27T21:35:05.183769Z",
     "start_time": "2024-04-27T21:35:05.175443Z"
    }
   },
   "cell_type": "code",
   "source": [
    "'''Além disso, as informações das colunas ONE_EDGE_OR_LAMINATE_AXIS_1...ONE_EDGE_OR_LAMINATE_AXIS_6 me parecem não conter muita informação, e a pouca informação parece ser repetida, desse modo elas serão excluídas'''\n",
    "\n",
    "edges = ['ONE_EDGE_OR_LAMINATE_AXIS_1', 'ONE_EDGE_OR_LAMINATE_AXIS_2',\n",
    "         'ONE_EDGE_OR_LAMINATE_AXIS_3', 'ONE_EDGE_OR_LAMINATE_AXIS_4',\n",
    "         'ONE_EDGE_OR_LAMINATE_AXIS_5', 'ONE_EDGE_OR_LAMINATE_AXIS_6']\n",
    "\n",
    "df = df.drop(columns=edges)"
   ],
   "id": "5fe7a29d2da927f0",
   "outputs": [],
   "execution_count": 115
  },
  {
   "metadata": {
    "ExecuteTime": {
     "end_time": "2024-04-27T21:35:05.797206Z",
     "start_time": "2024-04-27T21:35:05.594775Z"
    }
   },
   "cell_type": "code",
   "source": [
    "'''Ainda asssim, vamos verificar se não existem colunas que mesmo não sendo identicas, possuem uma alta correspondência'''\n",
    "\n",
    "limite_percentual = 90\n",
    "\n",
    "colunas_correspondentes = []\n",
    "\n",
    "for i in range(len(df.columns)):\n",
    "    for j in range(i + 1, len(df.columns)):\n",
    "        coluna1 = df.columns[i]\n",
    "        coluna2 = df.columns[j]\n",
    "        igualdade_percentual = (df[coluna1] == df[coluna2]).mean() * 100\n",
    "        if igualdade_percentual >= limite_percentual:\n",
    "            colunas_correspondentes.append((coluna1, coluna2, igualdade_percentual))\n",
    "\n",
    "print(\"Pares de colunas com alta correspondência:\")\n",
    "for par in colunas_correspondentes:\n",
    "    print(f\"{par[0]} e {par[1]} têm {par[2]:.2f}% de correspondência.\")"
   ],
   "id": "cdea718452b17b9",
   "outputs": [
    {
     "name": "stdout",
     "output_type": "stream",
     "text": [
      "Pares de colunas com alta correspondência:\n",
      "DESCRIÇÃO e DESCOBRIR têm 99.89% de correspondência.\n",
      "OP_SUP e FU_SUP têm 93.80% de correspondência.\n",
      "OP_INF e FU_INF têm 98.62% de correspondência.\n",
      "OP_LAT e FU_LAT têm 95.63% de correspondência.\n",
      "OP_LAT e CAV_SUP têm 91.99% de correspondência.\n",
      "OP_LAT e CAV_INF têm 93.13% de correspondência.\n",
      "OP_LAT e CAV_LAT têm 93.91% de correspondência.\n",
      "OP_LAT e FRE_INF têm 91.66% de correspondência.\n",
      "OP_LAT e FRE_LAT têm 97.14% de correspondência.\n",
      "FU_LAT e CAV_SUP têm 96.28% de correspondência.\n",
      "FU_LAT e CAV_INF têm 97.50% de correspondência.\n",
      "FU_LAT e CAV_LAT têm 97.39% de correspondência.\n",
      "FU_LAT e FRE_INF têm 95.92% de correspondência.\n",
      "FU_LAT e FRE_LAT têm 93.65% de correspondência.\n",
      "CAV_SUP e CAV_INF têm 98.44% de correspondência.\n",
      "CAV_SUP e CAV_LAT têm 97.77% de correspondência.\n",
      "CAV_SUP e FRE_INF têm 96.89% de correspondência.\n",
      "CAV_SUP e FRE_LAT têm 94.61% de correspondência.\n",
      "CAV_INF e CAV_LAT têm 99.20% de correspondência.\n",
      "CAV_INF e FRE_SUP têm 90.98% de correspondência.\n",
      "CAV_INF e FRE_INF têm 98.32% de correspondência.\n",
      "CAV_INF e FRE_LAT têm 95.96% de correspondência.\n",
      "CAV_LAT e FRE_SUP têm 90.31% de correspondência.\n",
      "CAV_LAT e FRE_INF têm 97.65% de correspondência.\n",
      "CAV_LAT e FRE_LAT têm 95.30% de correspondência.\n",
      "FRE_INF e FRE_LAT têm 94.52% de correspondência.\n"
     ]
    }
   ],
   "execution_count": 116
  },
  {
   "metadata": {
    "ExecuteTime": {
     "end_time": "2024-04-27T21:35:19.594606Z",
     "start_time": "2024-04-27T21:35:19.586481Z"
    }
   },
   "cell_type": "code",
   "source": [
    "'''Desse modo, percebemos que não faz sentido manter decrição e descobrir, assim, iremos excluir descobrir. Além disso, vemos que as informações de operação, cavidade e furação possuem uma correspondência muito alta, isso pode ser explorado na hora da modelagem, como por exemplo, reduzir as dimensões para OP, FU E CAV, sem se preocupar o \"lado\", isso pois, talvez, para o problema de classificar processo, o lado de operação não faça diferença, mas isso é só uma hipótese.'''\n",
    "\n",
    "df = df.drop(columns=['DESCOBRIR'])"
   ],
   "id": "21b50a1349110416",
   "outputs": [],
   "execution_count": 117
  },
  {
   "metadata": {
    "ExecuteTime": {
     "end_time": "2024-04-27T21:35:19.734585Z",
     "start_time": "2024-04-27T21:35:19.728518Z"
    }
   },
   "cell_type": "code",
   "source": [
    "'''Além disso, ao analisar os campos de texto vemos muitas semelhanças\n",
    "    \n",
    "    designação+isolante é igual a designação-codigo a única mudança é que o segundo tem informações de dimensão, que já são contempladas em outras colunas\n",
    "    \n",
    "    Valorisation_designation é igual a descrição_material, com informações de dimensão\n",
    "    \n",
    "    O mesmo acontece com descrição e designação+isolante\n",
    "'''\n",
    "\n",
    "df = df.drop(columns=['DESIGNAÇÃO-CODIGO', 'VALORISATION_DESIGNATION', 'DESIGNAÇÃO+ISOLANTE'])"
   ],
   "id": "328458a493bfd59f",
   "outputs": [],
   "execution_count": 118
  },
  {
   "metadata": {
    "ExecuteTime": {
     "end_time": "2024-04-27T21:39:28.514915Z",
     "start_time": "2024-04-27T21:39:28.358755Z"
    }
   },
   "cell_type": "code",
   "source": [
    "'''Vamos verificar também se temos informação repetida nos campos que envolvem a dimensao da peça'''\n",
    "dimensao = ['COMP', 'LARG', 'ESP', 'MASSA', 'SURFACE']\n",
    "dim = df[dimensao]\n",
    "\n",
    "correlation_matrix = dim.corr()\n",
    "\n",
    "sns.set(style=\"white\")\n",
    "plt.figure(figsize=(12, 10))\n",
    "sns.heatmap(correlation_matrix, annot=True, cmap='coolwarm', fmt=\".2f\", linewidths=0.5)\n",
    "plt.title('Matriz de Correlação entre as Colunas do DataFrame')\n",
    "plt.show()\n"
   ],
   "id": "46fc2575c2daa66f",
   "outputs": [
    {
     "data": {
      "text/plain": [
       "<Figure size 1200x1000 with 2 Axes>"
      ],
      "image/png": "[encoded data removed]"
     },
     "metadata": {},
     "output_type": "display_data"
    }
   ],
   "execution_count": 125
  },
  {
   "metadata": {
    "ExecuteTime": {
     "end_time": "2024-04-27T21:40:36.999445Z",
     "start_time": "2024-04-27T21:40:36.993221Z"
    }
   },
   "cell_type": "code",
   "source": [
    "'''Com isso, vemos que SURFACE E MASSA possuem uma correlação altíssima, portanto, iremos excluir a coluna surface'''\n",
    "df = df.drop(columns=['SURFACE'])"
   ],
   "id": "356e179879f1ed8d",
   "outputs": [],
   "execution_count": 126
  },
  {
   "metadata": {},
   "cell_type": "markdown",
   "source": "## APLICANDO ENCODINGS",
   "id": "4c751cd9b63209b8"
  },
  {
   "metadata": {
    "ExecuteTime": {
     "end_time": "2024-04-27T21:53:06.503891Z",
     "start_time": "2024-04-27T21:53:06.486982Z"
    }
   },
   "cell_type": "code",
   "source": [
    "'''Aplica label encoder nas colunas binárias'''\n",
    "\n",
    "colunas_label = ['OP_SUP', 'OP_INF', 'OP_LAT','FU_SUP','FU_INF','FU_LAT', 'CAV_SUP','CAV_INF','CAV_LAT','FRE_SUP','FRE_INF','FRE_LAT', 'RECTANGULAR'] #Aplica label encoder para todas as colunas nesssa lista\n",
    "\n",
    "label_encoder = LabelEncoder()\n",
    "\n",
    "for coluna in colunas_label:\n",
    "    if coluna in df.columns:\n",
    "        df[coluna] = label_encoder.fit_transform(df[coluna])"
   ],
   "id": "942f2f42f87d8ba7",
   "outputs": [],
   "execution_count": 129
  },
  {
   "metadata": {
    "ExecuteTime": {
     "end_time": "2024-04-27T21:58:09.937775Z",
     "start_time": "2024-04-27T21:58:09.925087Z"
    }
   },
   "cell_type": "code",
   "source": [
    "'''Ajusta material e produto para ficar somente com o codigo referente a peça em si, ignorando os \"ids\" de cada prouto e material específico.'''\n",
    "\n",
    "df['CODIGO_MATERIAL'] = df['CODIGO_MATERIAL'].astype(str).apply(retorna_mat_prod)\n",
    "df['CODIGO'] = df['CODIGO'].astype(str).apply(retorna_mat_prod)"
   ],
   "id": "b7d9e4a205a0c7bd",
   "outputs": [],
   "execution_count": 135
  },
  {
   "metadata": {
    "ExecuteTime": {
     "end_time": "2024-04-27T21:58:10.638744Z",
     "start_time": "2024-04-27T21:58:10.616Z"
    }
   },
   "cell_type": "code",
   "source": "df",
   "id": "759688a799c71514",
   "outputs": [
    {
     "data": {
      "text/plain": [
       "                                                 MOB-B  CODIGO  \\\n",
       "0     800.02.00000441 - ARM ALT 3P - SUITE 2-3 1760 F2  850.19   \n",
       "1     800.02.00000441 - ARM ALT 3P - SUITE 2-3 1760 F2  850.19   \n",
       "3     800.02.00000441 - ARM ALT 3P - SUITE 2-3 1760 F2  852.37   \n",
       "4     800.02.00000441 - ARM ALT 3P - SUITE 2-3 1760 F2  852.37   \n",
       "5     800.02.00000441 - ARM ALT 3P - SUITE 2-3 1760 F2  852.37   \n",
       "...                                                ...     ...   \n",
       "7782                                   - PERFIL Z FIXO  850.22   \n",
       "7783                                      - TRAVA TETO  850.26   \n",
       "7784                                      - TRAVA TETO  850.26   \n",
       "7785                                      - TRAVA TETO  850.26   \n",
       "7786                                      - TRAVA TETO  850.26   \n",
       "\n",
       "                            DESCRIÇÃO  CODIGO_MATERIAL  \\\n",
       "0     TARUGO DO ARREMATE 1650X30X18MM           100.99   \n",
       "1          REGUA DE MDF 100X1450X18MM           100.99   \n",
       "3                       PERFIL RM 298           350.10   \n",
       "4                       PERFIL RM 298           350.10   \n",
       "5                       PERFIL RM 298           350.10   \n",
       "...                               ...              ...   \n",
       "7782                 PERFIL Z - TRAVA           100.99   \n",
       "7783                       TRAVA TETO           100.20   \n",
       "7784                       TRAVA TETO           100.20   \n",
       "7785                       TRAVA TETO           100.20   \n",
       "7786                       TRAVA TETO           100.20   \n",
       "\n",
       "                          DESCRIÇÃO_MATERIAL    COMP   LARG   ESP  OP_SUP  \\\n",
       "0                                     SUCATA  1650.0   30.0  18.0       1   \n",
       "1                                     SUCATA  1450.0  100.0  18.0       0   \n",
       "3     PERFIL ALUM PORTA REF RM 298 COR PRETO  2425.0   44.0  19.7       0   \n",
       "4     PERFIL ALUM PORTA REF RM 298 COR PRETO  2425.0   45.0  19.7       1   \n",
       "5     PERFIL ALUM PORTA REF RM 298 COR PRETO  2425.0   44.0  19.7       0   \n",
       "...                                      ...     ...    ...   ...     ...   \n",
       "7782                                  SUCATA   500.0   82.0  18.0       0   \n",
       "7783                        COMPENSADO COMUM   800.0   80.0  15.0       0   \n",
       "7784                        COMPENSADO COMUM   600.0  103.0  15.0       1   \n",
       "7785                        COMPENSADO COMUM   232.0  103.0  15.0       0   \n",
       "7786                        COMPENSADO COMUM   232.0   80.0  15.0       0   \n",
       "\n",
       "      OP_INF  ...  MACHINING_PROCESSES  RECTANGULAR  MATTER_REFERENCE  \\\n",
       "0          0  ...                  NaN            1            SUCATO   \n",
       "1          0  ...                  NaN            1            SUCATO   \n",
       "3          1  ...                  NaN            0               NaN   \n",
       "4          0  ...    Cavidade Aluminio            0               NaN   \n",
       "5          0  ...    Cavidade Aluminio            0               NaN   \n",
       "...      ...  ...                  ...          ...               ...   \n",
       "7782       0  ...                  NaN            1            SUCATO   \n",
       "7783       0  ...                  NaN            1        Comp comum   \n",
       "7784       0  ...                  NaN            1        Comp comum   \n",
       "7785       1  ...                  NaN            1        Comp comum   \n",
       "7786       0  ...                  NaN            1        Comp comum   \n",
       "\n",
       "      MATTER_SUPPLIER    MASSA  GRAIN_ORIENTATION  \\\n",
       "0                 NaN   666.55                  1   \n",
       "1                 NaN  1957.50                  1   \n",
       "3                 NaN   975.60                  1   \n",
       "4                 NaN   969.28                  1   \n",
       "5                 NaN   969.28                  1   \n",
       "...               ...      ...                ...   \n",
       "7782              NaN   553.50                  1   \n",
       "7783              NaN   624.00                  1   \n",
       "7784              NaN   601.98                  1   \n",
       "7785              NaN   232.60                  1   \n",
       "7786              NaN   180.96                  1   \n",
       "\n",
       "                                        EDGES_CUT_TYPES           projeto  \\\n",
       "0                                                   NaN      ACQUA_EXEC_7   \n",
       "1                                                   NaN      ACQUA_EXEC_7   \n",
       "3                                                   NaN      ACQUA_EXEC_7   \n",
       "4                                                   NaN      ACQUA_EXEC_7   \n",
       "5                                                   NaN      ACQUA_EXEC_7   \n",
       "...                                                 ...               ...   \n",
       "7782  Em esquadria-Em esquadria Em esquadria-Em esqu...  Salinas_Social_5   \n",
       "7783                                                NaN  Salinas_Social_5   \n",
       "7784                                                NaN  Salinas_Social_5   \n",
       "7785                                                NaN  Salinas_Social_5   \n",
       "7786                                                NaN  Salinas_Social_5   \n",
       "\n",
       "      PROCESSOS        MAQUINAS  \n",
       "0       [3, 27]  [SEC02, FUR02]  \n",
       "1           [3]         [SEC02]  \n",
       "3       [3, 21]  [ESQ01, CNC01]  \n",
       "4       [3, 21]  [ESQ01, CNC01]  \n",
       "5       [3, 21]  [ESQ01, CNC01]  \n",
       "...         ...             ...  \n",
       "7782        [3]         [SEC02]  \n",
       "7783        [3]         [NES01]  \n",
       "7784        [3]         [NES01]  \n",
       "7785        [3]         [NES01]  \n",
       "7786        [3]         [NES01]  \n",
       "\n",
       "[7482 rows x 32 columns]"
      ],
      "text/html": [
       "<div>\n",
       "<style scoped>\n",
       "    .dataframe tbody tr th:only-of-type {\n",
       "        vertical-align: middle;\n",
       "    }\n",
       "\n",
       "    .dataframe tbody tr th {\n",
       "        vertical-align: top;\n",
       "    }\n",
       "\n",
       "    .dataframe thead th {\n",
       "        text-align: right;\n",
       "    }\n",
       "</style>\n",
       "<table border=\"1\" class=\"dataframe\">\n",
       "  <thead>\n",
       "    <tr style=\"text-align: right;\">\n",
       "      <th></th>\n",
       "      <th>MOB-B</th>\n",
       "      <th>CODIGO</th>\n",
       "      <th>DESCRIÇÃO</th>\n",
       "      <th>CODIGO_MATERIAL</th>\n",
       "      <th>DESCRIÇÃO_MATERIAL</th>\n",
       "      <th>COMP</th>\n",
       "      <th>LARG</th>\n",
       "      <th>ESP</th>\n",
       "      <th>OP_SUP</th>\n",
       "      <th>OP_INF</th>\n",
       "      <th>...</th>\n",
       "      <th>MACHINING_PROCESSES</th>\n",
       "      <th>RECTANGULAR</th>\n",
       "      <th>MATTER_REFERENCE</th>\n",
       "      <th>MATTER_SUPPLIER</th>\n",
       "      <th>MASSA</th>\n",
       "      <th>GRAIN_ORIENTATION</th>\n",
       "      <th>EDGES_CUT_TYPES</th>\n",
       "      <th>projeto</th>\n",
       "      <th>PROCESSOS</th>\n",
       "      <th>MAQUINAS</th>\n",
       "    </tr>\n",
       "  </thead>\n",
       "  <tbody>\n",
       "    <tr>\n",
       "      <th>0</th>\n",
       "      <td>800.02.00000441 - ARM ALT 3P - SUITE 2-3 1760 F2</td>\n",
       "      <td>850.19</td>\n",
       "      <td>TARUGO DO ARREMATE 1650X30X18MM</td>\n",
       "      <td>100.99</td>\n",
       "      <td>SUCATA</td>\n",
       "      <td>1650.0</td>\n",
       "      <td>30.0</td>\n",
       "      <td>18.0</td>\n",
       "      <td>1</td>\n",
       "      <td>0</td>\n",
       "      <td>...</td>\n",
       "      <td>NaN</td>\n",
       "      <td>1</td>\n",
       "      <td>SUCATO</td>\n",
       "      <td>NaN</td>\n",
       "      <td>666.55</td>\n",
       "      <td>1</td>\n",
       "      <td>NaN</td>\n",
       "      <td>ACQUA_EXEC_7</td>\n",
       "      <td>[3, 27]</td>\n",
       "      <td>[SEC02, FUR02]</td>\n",
       "    </tr>\n",
       "    <tr>\n",
       "      <th>1</th>\n",
       "      <td>800.02.00000441 - ARM ALT 3P - SUITE 2-3 1760 F2</td>\n",
       "      <td>850.19</td>\n",
       "      <td>REGUA DE MDF 100X1450X18MM</td>\n",
       "      <td>100.99</td>\n",
       "      <td>SUCATA</td>\n",
       "      <td>1450.0</td>\n",
       "      <td>100.0</td>\n",
       "      <td>18.0</td>\n",
       "      <td>0</td>\n",
       "      <td>0</td>\n",
       "      <td>...</td>\n",
       "      <td>NaN</td>\n",
       "      <td>1</td>\n",
       "      <td>SUCATO</td>\n",
       "      <td>NaN</td>\n",
       "      <td>1957.50</td>\n",
       "      <td>1</td>\n",
       "      <td>NaN</td>\n",
       "      <td>ACQUA_EXEC_7</td>\n",
       "      <td>[3]</td>\n",
       "      <td>[SEC02]</td>\n",
       "    </tr>\n",
       "    <tr>\n",
       "      <th>3</th>\n",
       "      <td>800.02.00000441 - ARM ALT 3P - SUITE 2-3 1760 F2</td>\n",
       "      <td>852.37</td>\n",
       "      <td>PERFIL RM 298</td>\n",
       "      <td>350.10</td>\n",
       "      <td>PERFIL ALUM PORTA REF RM 298 COR PRETO</td>\n",
       "      <td>2425.0</td>\n",
       "      <td>44.0</td>\n",
       "      <td>19.7</td>\n",
       "      <td>0</td>\n",
       "      <td>1</td>\n",
       "      <td>...</td>\n",
       "      <td>NaN</td>\n",
       "      <td>0</td>\n",
       "      <td>NaN</td>\n",
       "      <td>NaN</td>\n",
       "      <td>975.60</td>\n",
       "      <td>1</td>\n",
       "      <td>NaN</td>\n",
       "      <td>ACQUA_EXEC_7</td>\n",
       "      <td>[3, 21]</td>\n",
       "      <td>[ESQ01, CNC01]</td>\n",
       "    </tr>\n",
       "    <tr>\n",
       "      <th>4</th>\n",
       "      <td>800.02.00000441 - ARM ALT 3P - SUITE 2-3 1760 F2</td>\n",
       "      <td>852.37</td>\n",
       "      <td>PERFIL RM 298</td>\n",
       "      <td>350.10</td>\n",
       "      <td>PERFIL ALUM PORTA REF RM 298 COR PRETO</td>\n",
       "      <td>2425.0</td>\n",
       "      <td>45.0</td>\n",
       "      <td>19.7</td>\n",
       "      <td>1</td>\n",
       "      <td>0</td>\n",
       "      <td>...</td>\n",
       "      <td>Cavidade Aluminio</td>\n",
       "      <td>0</td>\n",
       "      <td>NaN</td>\n",
       "      <td>NaN</td>\n",
       "      <td>969.28</td>\n",
       "      <td>1</td>\n",
       "      <td>NaN</td>\n",
       "      <td>ACQUA_EXEC_7</td>\n",
       "      <td>[3, 21]</td>\n",
       "      <td>[ESQ01, CNC01]</td>\n",
       "    </tr>\n",
       "    <tr>\n",
       "      <th>5</th>\n",
       "      <td>800.02.00000441 - ARM ALT 3P - SUITE 2-3 1760 F2</td>\n",
       "      <td>852.37</td>\n",
       "      <td>PERFIL RM 298</td>\n",
       "      <td>350.10</td>\n",
       "      <td>PERFIL ALUM PORTA REF RM 298 COR PRETO</td>\n",
       "      <td>2425.0</td>\n",
       "      <td>44.0</td>\n",
       "      <td>19.7</td>\n",
       "      <td>0</td>\n",
       "      <td>0</td>\n",
       "      <td>...</td>\n",
       "      <td>Cavidade Aluminio</td>\n",
       "      <td>0</td>\n",
       "      <td>NaN</td>\n",
       "      <td>NaN</td>\n",
       "      <td>969.28</td>\n",
       "      <td>1</td>\n",
       "      <td>NaN</td>\n",
       "      <td>ACQUA_EXEC_7</td>\n",
       "      <td>[3, 21]</td>\n",
       "      <td>[ESQ01, CNC01]</td>\n",
       "    </tr>\n",
       "    <tr>\n",
       "      <th>...</th>\n",
       "      <td>...</td>\n",
       "      <td>...</td>\n",
       "      <td>...</td>\n",
       "      <td>...</td>\n",
       "      <td>...</td>\n",
       "      <td>...</td>\n",
       "      <td>...</td>\n",
       "      <td>...</td>\n",
       "      <td>...</td>\n",
       "      <td>...</td>\n",
       "      <td>...</td>\n",
       "      <td>...</td>\n",
       "      <td>...</td>\n",
       "      <td>...</td>\n",
       "      <td>...</td>\n",
       "      <td>...</td>\n",
       "      <td>...</td>\n",
       "      <td>...</td>\n",
       "      <td>...</td>\n",
       "      <td>...</td>\n",
       "      <td>...</td>\n",
       "    </tr>\n",
       "    <tr>\n",
       "      <th>7782</th>\n",
       "      <td>- PERFIL Z FIXO</td>\n",
       "      <td>850.22</td>\n",
       "      <td>PERFIL Z - TRAVA</td>\n",
       "      <td>100.99</td>\n",
       "      <td>SUCATA</td>\n",
       "      <td>500.0</td>\n",
       "      <td>82.0</td>\n",
       "      <td>18.0</td>\n",
       "      <td>0</td>\n",
       "      <td>0</td>\n",
       "      <td>...</td>\n",
       "      <td>NaN</td>\n",
       "      <td>1</td>\n",
       "      <td>SUCATO</td>\n",
       "      <td>NaN</td>\n",
       "      <td>553.50</td>\n",
       "      <td>1</td>\n",
       "      <td>Em esquadria-Em esquadria Em esquadria-Em esqu...</td>\n",
       "      <td>Salinas_Social_5</td>\n",
       "      <td>[3]</td>\n",
       "      <td>[SEC02]</td>\n",
       "    </tr>\n",
       "    <tr>\n",
       "      <th>7783</th>\n",
       "      <td>- TRAVA TETO</td>\n",
       "      <td>850.26</td>\n",
       "      <td>TRAVA TETO</td>\n",
       "      <td>100.20</td>\n",
       "      <td>COMPENSADO COMUM</td>\n",
       "      <td>800.0</td>\n",
       "      <td>80.0</td>\n",
       "      <td>15.0</td>\n",
       "      <td>0</td>\n",
       "      <td>0</td>\n",
       "      <td>...</td>\n",
       "      <td>NaN</td>\n",
       "      <td>1</td>\n",
       "      <td>Comp comum</td>\n",
       "      <td>NaN</td>\n",
       "      <td>624.00</td>\n",
       "      <td>1</td>\n",
       "      <td>NaN</td>\n",
       "      <td>Salinas_Social_5</td>\n",
       "      <td>[3]</td>\n",
       "      <td>[NES01]</td>\n",
       "    </tr>\n",
       "    <tr>\n",
       "      <th>7784</th>\n",
       "      <td>- TRAVA TETO</td>\n",
       "      <td>850.26</td>\n",
       "      <td>TRAVA TETO</td>\n",
       "      <td>100.20</td>\n",
       "      <td>COMPENSADO COMUM</td>\n",
       "      <td>600.0</td>\n",
       "      <td>103.0</td>\n",
       "      <td>15.0</td>\n",
       "      <td>1</td>\n",
       "      <td>0</td>\n",
       "      <td>...</td>\n",
       "      <td>NaN</td>\n",
       "      <td>1</td>\n",
       "      <td>Comp comum</td>\n",
       "      <td>NaN</td>\n",
       "      <td>601.98</td>\n",
       "      <td>1</td>\n",
       "      <td>NaN</td>\n",
       "      <td>Salinas_Social_5</td>\n",
       "      <td>[3]</td>\n",
       "      <td>[NES01]</td>\n",
       "    </tr>\n",
       "    <tr>\n",
       "      <th>7785</th>\n",
       "      <td>- TRAVA TETO</td>\n",
       "      <td>850.26</td>\n",
       "      <td>TRAVA TETO</td>\n",
       "      <td>100.20</td>\n",
       "      <td>COMPENSADO COMUM</td>\n",
       "      <td>232.0</td>\n",
       "      <td>103.0</td>\n",
       "      <td>15.0</td>\n",
       "      <td>0</td>\n",
       "      <td>1</td>\n",
       "      <td>...</td>\n",
       "      <td>NaN</td>\n",
       "      <td>1</td>\n",
       "      <td>Comp comum</td>\n",
       "      <td>NaN</td>\n",
       "      <td>232.60</td>\n",
       "      <td>1</td>\n",
       "      <td>NaN</td>\n",
       "      <td>Salinas_Social_5</td>\n",
       "      <td>[3]</td>\n",
       "      <td>[NES01]</td>\n",
       "    </tr>\n",
       "    <tr>\n",
       "      <th>7786</th>\n",
       "      <td>- TRAVA TETO</td>\n",
       "      <td>850.26</td>\n",
       "      <td>TRAVA TETO</td>\n",
       "      <td>100.20</td>\n",
       "      <td>COMPENSADO COMUM</td>\n",
       "      <td>232.0</td>\n",
       "      <td>80.0</td>\n",
       "      <td>15.0</td>\n",
       "      <td>0</td>\n",
       "      <td>0</td>\n",
       "      <td>...</td>\n",
       "      <td>NaN</td>\n",
       "      <td>1</td>\n",
       "      <td>Comp comum</td>\n",
       "      <td>NaN</td>\n",
       "      <td>180.96</td>\n",
       "      <td>1</td>\n",
       "      <td>NaN</td>\n",
       "      <td>Salinas_Social_5</td>\n",
       "      <td>[3]</td>\n",
       "      <td>[NES01]</td>\n",
       "    </tr>\n",
       "  </tbody>\n",
       "</table>\n",
       "<p>7482 rows × 32 columns</p>\n",
       "</div>"
      ]
     },
     "execution_count": 136,
     "metadata": {},
     "output_type": "execute_result"
    }
   ],
   "execution_count": 136
  },
  {
   "metadata": {
    "ExecuteTime": {
     "end_time": "2024-04-27T21:58:27.806072Z",
     "start_time": "2024-04-27T21:58:27.758996Z"
    }
   },
   "cell_type": "code",
   "source": "df.to_csv('df_prelimpo.csv', index=False)",
   "id": "ac217bed392b217c",
   "outputs": [],
   "execution_count": 138
  },
  {
   "metadata": {},
   "cell_type": "code",
   "outputs": [],
   "execution_count": null,
   "source": "",
   "id": "49eaf35cca071c87"
  }
 ],
 "metadata": {
  "kernelspec": {
   "display_name": "Python 3",
   "language": "python",
   "name": "python3"
  },
  "language_info": {
   "codemirror_mode": {
    "name": "ipython",
    "version": 2
   },
   "file_extension": ".py",
   "mimetype": "text/x-python",
   "name": "python",
   "nbconvert_exporter": "python",
   "pygments_lexer": "ipython2",
   "version": "2.7.6"
  }
 },
 "nbformat": 4,
 "nbformat_minor": 5
}
