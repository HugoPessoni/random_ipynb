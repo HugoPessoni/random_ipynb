{
 "cells": [
  {
   "cell_type": "code",
   "execution_count": null,
   "id": "b38c09a0",
   "metadata": {},
   "outputs": [],
   "source": [
    "\n",
    "# Instalando o Selenium (é necessário executar apenas uma vez)\n",
    "%pip install selenium\n",
    "%pip install beautifulsoup4\n",
    "%pip install webdriver-manager\n",
    "    "
   ]
  },
  {
   "cell_type": "code",
   "execution_count": 25,
   "metadata": {},
   "outputs": [],
   "source": [
    "from selenium import webdriver\n",
    "from selenium.webdriver.common.by import By\n",
    "from selenium.webdriver.common.keys import Keys\n",
    "from selenium.webdriver.chrome.service import Service\n",
    "from webdriver_manager.chrome import ChromeDriverManager\n",
    "import time\n",
    "import pandas as pd"
   ]
  },
  {
   "cell_type": "code",
   "execution_count": 26,
   "metadata": {},
   "outputs": [],
   "source": [
    "\n",
    "driver = webdriver.Chrome()\n",
    "#London Victoria & Albert Museum URL\n",
    "url = 'https://www.google.com.br/maps/place/Bar+da+GAB/@-16.362947,-49.4942473,1043m/data=!3m2!1e3!4b1!4m6!3m5!1s0x935e793c837268df:0x902da28d94068209!8m2!3d-16.3629522!4d-49.4893764!16s%2Fg%2F11qg3xt7by?entry=ttu'\n",
    "driver.get(url)"
   ]
  },
  {
   "cell_type": "code",
   "execution_count": 27,
   "metadata": {},
   "outputs": [
    {
     "data": {
      "text/plain": [
       "'try:\\n    driver.find_element(By.XPATH,\\'//*[@id=\"yDmH0d\"]/c-wiz/div/div/div/div[2]/div[1]/div[4]/form/div[1]/div/button\\').click()\\n#to make sure content is fully loaded we can use time.sleep() after navigating to each page\\ntime.sleep(3)'"
      ]
     },
     "execution_count": 27,
     "metadata": {},
     "output_type": "execute_result"
    }
   ],
   "source": [
    "'''try:\n",
    "    driver.find_element(By.XPATH,'//*[@id=\"yDmH0d\"]/c-wiz/div/div/div/div[2]/div[1]/div[4]/form/div[1]/div/button').click()\n",
    "#to make sure content is fully loaded we can use time.sleep() after navigating to each page\n",
    "time.sleep(3)'''"
   ]
  },
  {
   "cell_type": "code",
   "execution_count": 28,
   "metadata": {},
   "outputs": [
    {
     "ename": "NoSuchElementException",
     "evalue": "Message: no such element: Unable to locate element: {\"method\":\"xpath\",\"selector\":\"//*[@id=\"pane\"]/div/div[1]/div/div/div[2]/div[2]/div/div[2]/div[2]\"}\n  (Session info: chrome=119.0.6045.124); For documentation on this error, please visit: https://www.selenium.dev/documentation/webdriver/troubleshooting/errors#no-such-element-exception\nStacktrace:\n\tGetHandleVerifier [0x00007FF75F4182B2+55298]\n\t(No symbol) [0x00007FF75F385E02]\n\t(No symbol) [0x00007FF75F2405AB]\n\t(No symbol) [0x00007FF75F28175C]\n\t(No symbol) [0x00007FF75F2818DC]\n\t(No symbol) [0x00007FF75F2BCBC7]\n\t(No symbol) [0x00007FF75F2A20EF]\n\t(No symbol) [0x00007FF75F2BAAA4]\n\t(No symbol) [0x00007FF75F2A1E83]\n\t(No symbol) [0x00007FF75F27670A]\n\t(No symbol) [0x00007FF75F277964]\n\tGetHandleVerifier [0x00007FF75F790AAB+3694587]\n\tGetHandleVerifier [0x00007FF75F7E728E+4048862]\n\tGetHandleVerifier [0x00007FF75F7DF173+4015811]\n\tGetHandleVerifier [0x00007FF75F4B47D6+695590]\n\t(No symbol) [0x00007FF75F390CE8]\n\t(No symbol) [0x00007FF75F38CF34]\n\t(No symbol) [0x00007FF75F38D062]\n\t(No symbol) [0x00007FF75F37D3A3]\n\tBaseThreadInitThunk [0x00007FFCAACB257D+29]\n\tRtlUserThreadStart [0x00007FFCAC94AA78+40]\n",
     "output_type": "error",
     "traceback": [
      "\u001b[1;31m---------------------------------------------------------------------------\u001b[0m",
      "\u001b[1;31mNoSuchElementException\u001b[0m                    Traceback (most recent call last)",
      "\u001b[1;32md:\\scraping_google_reviews.ipynb Cell 5\u001b[0m line \u001b[0;36m2\n\u001b[0;32m      <a href='vscode-notebook-cell:/d%3A/scraping_google_reviews.ipynb#X16sZmlsZQ%3D%3D?line=0'>1</a>\u001b[0m \u001b[39m#Find the total number of reviews\u001b[39;00m\n\u001b[1;32m----> <a href='vscode-notebook-cell:/d%3A/scraping_google_reviews.ipynb#X16sZmlsZQ%3D%3D?line=1'>2</a>\u001b[0m total_number_of_reviews \u001b[39m=\u001b[39m driver\u001b[39m.\u001b[39;49mfind_element(By\u001b[39m.\u001b[39;49mXPATH, \u001b[39m'\u001b[39;49m\u001b[39m//*[@id=\u001b[39;49m\u001b[39m\"\u001b[39;49m\u001b[39mpane\u001b[39;49m\u001b[39m\"\u001b[39;49m\u001b[39m]/div/div[1]/div/div/div[2]/div[2]/div/div[2]/div[2]\u001b[39;49m\u001b[39m'\u001b[39;49m)\u001b[39m.\u001b[39mtext\u001b[39m.\u001b[39msplit(\u001b[39m\"\u001b[39m\u001b[39m \u001b[39m\u001b[39m\"\u001b[39m)[\u001b[39m0\u001b[39m]\n\u001b[0;32m      <a href='vscode-notebook-cell:/d%3A/scraping_google_reviews.ipynb#X16sZmlsZQ%3D%3D?line=2'>3</a>\u001b[0m \u001b[39m#element = driver.find_element(By.XPATH, 'INSIRA_O_XPATH_PARA_CARREGAR_MAIS_REVIEWS_AQUI')\u001b[39;00m\n\u001b[0;32m      <a href='vscode-notebook-cell:/d%3A/scraping_google_reviews.ipynb#X16sZmlsZQ%3D%3D?line=3'>4</a>\u001b[0m total_number_of_reviews \u001b[39m=\u001b[39m \u001b[39mint\u001b[39m(total_number_of_reviews\u001b[39m.\u001b[39mreplace(\u001b[39m'\u001b[39m\u001b[39m,\u001b[39m\u001b[39m'\u001b[39m,\u001b[39m'\u001b[39m\u001b[39m'\u001b[39m)) \u001b[39mif\u001b[39;00m \u001b[39m'\u001b[39m\u001b[39m,\u001b[39m\u001b[39m'\u001b[39m \u001b[39min\u001b[39;00m total_number_of_reviews \u001b[39melse\u001b[39;00m \u001b[39mint\u001b[39m(total_number_of_reviews)\n",
      "File \u001b[1;32mc:\\Users\\pesso\\AppData\\Local\\Programs\\Python\\Python310\\lib\\site-packages\\selenium\\webdriver\\remote\\webdriver.py:741\u001b[0m, in \u001b[0;36mWebDriver.find_element\u001b[1;34m(self, by, value)\u001b[0m\n\u001b[0;32m    738\u001b[0m     by \u001b[39m=\u001b[39m By\u001b[39m.\u001b[39mCSS_SELECTOR\n\u001b[0;32m    739\u001b[0m     value \u001b[39m=\u001b[39m \u001b[39mf\u001b[39m\u001b[39m'\u001b[39m\u001b[39m[name=\u001b[39m\u001b[39m\"\u001b[39m\u001b[39m{\u001b[39;00mvalue\u001b[39m}\u001b[39;00m\u001b[39m\"\u001b[39m\u001b[39m]\u001b[39m\u001b[39m'\u001b[39m\n\u001b[1;32m--> 741\u001b[0m \u001b[39mreturn\u001b[39;00m \u001b[39mself\u001b[39;49m\u001b[39m.\u001b[39;49mexecute(Command\u001b[39m.\u001b[39;49mFIND_ELEMENT, {\u001b[39m\"\u001b[39;49m\u001b[39musing\u001b[39;49m\u001b[39m\"\u001b[39;49m: by, \u001b[39m\"\u001b[39;49m\u001b[39mvalue\u001b[39;49m\u001b[39m\"\u001b[39;49m: value})[\u001b[39m\"\u001b[39m\u001b[39mvalue\u001b[39m\u001b[39m\"\u001b[39m]\n",
      "File \u001b[1;32mc:\\Users\\pesso\\AppData\\Local\\Programs\\Python\\Python310\\lib\\site-packages\\selenium\\webdriver\\remote\\webdriver.py:347\u001b[0m, in \u001b[0;36mWebDriver.execute\u001b[1;34m(self, driver_command, params)\u001b[0m\n\u001b[0;32m    345\u001b[0m response \u001b[39m=\u001b[39m \u001b[39mself\u001b[39m\u001b[39m.\u001b[39mcommand_executor\u001b[39m.\u001b[39mexecute(driver_command, params)\n\u001b[0;32m    346\u001b[0m \u001b[39mif\u001b[39;00m response:\n\u001b[1;32m--> 347\u001b[0m     \u001b[39mself\u001b[39;49m\u001b[39m.\u001b[39;49merror_handler\u001b[39m.\u001b[39;49mcheck_response(response)\n\u001b[0;32m    348\u001b[0m     response[\u001b[39m\"\u001b[39m\u001b[39mvalue\u001b[39m\u001b[39m\"\u001b[39m] \u001b[39m=\u001b[39m \u001b[39mself\u001b[39m\u001b[39m.\u001b[39m_unwrap_value(response\u001b[39m.\u001b[39mget(\u001b[39m\"\u001b[39m\u001b[39mvalue\u001b[39m\u001b[39m\"\u001b[39m, \u001b[39mNone\u001b[39;00m))\n\u001b[0;32m    349\u001b[0m     \u001b[39mreturn\u001b[39;00m response\n",
      "File \u001b[1;32mc:\\Users\\pesso\\AppData\\Local\\Programs\\Python\\Python310\\lib\\site-packages\\selenium\\webdriver\\remote\\errorhandler.py:229\u001b[0m, in \u001b[0;36mErrorHandler.check_response\u001b[1;34m(self, response)\u001b[0m\n\u001b[0;32m    227\u001b[0m         alert_text \u001b[39m=\u001b[39m value[\u001b[39m\"\u001b[39m\u001b[39malert\u001b[39m\u001b[39m\"\u001b[39m]\u001b[39m.\u001b[39mget(\u001b[39m\"\u001b[39m\u001b[39mtext\u001b[39m\u001b[39m\"\u001b[39m)\n\u001b[0;32m    228\u001b[0m     \u001b[39mraise\u001b[39;00m exception_class(message, screen, stacktrace, alert_text)  \u001b[39m# type: ignore[call-arg]  # mypy is not smart enough here\u001b[39;00m\n\u001b[1;32m--> 229\u001b[0m \u001b[39mraise\u001b[39;00m exception_class(message, screen, stacktrace)\n",
      "\u001b[1;31mNoSuchElementException\u001b[0m: Message: no such element: Unable to locate element: {\"method\":\"xpath\",\"selector\":\"//*[@id=\"pane\"]/div/div[1]/div/div/div[2]/div[2]/div/div[2]/div[2]\"}\n  (Session info: chrome=119.0.6045.124); For documentation on this error, please visit: https://www.selenium.dev/documentation/webdriver/troubleshooting/errors#no-such-element-exception\nStacktrace:\n\tGetHandleVerifier [0x00007FF75F4182B2+55298]\n\t(No symbol) [0x00007FF75F385E02]\n\t(No symbol) [0x00007FF75F2405AB]\n\t(No symbol) [0x00007FF75F28175C]\n\t(No symbol) [0x00007FF75F2818DC]\n\t(No symbol) [0x00007FF75F2BCBC7]\n\t(No symbol) [0x00007FF75F2A20EF]\n\t(No symbol) [0x00007FF75F2BAAA4]\n\t(No symbol) [0x00007FF75F2A1E83]\n\t(No symbol) [0x00007FF75F27670A]\n\t(No symbol) [0x00007FF75F277964]\n\tGetHandleVerifier [0x00007FF75F790AAB+3694587]\n\tGetHandleVerifier [0x00007FF75F7E728E+4048862]\n\tGetHandleVerifier [0x00007FF75F7DF173+4015811]\n\tGetHandleVerifier [0x00007FF75F4B47D6+695590]\n\t(No symbol) [0x00007FF75F390CE8]\n\t(No symbol) [0x00007FF75F38CF34]\n\t(No symbol) [0x00007FF75F38D062]\n\t(No symbol) [0x00007FF75F37D3A3]\n\tBaseThreadInitThunk [0x00007FFCAACB257D+29]\n\tRtlUserThreadStart [0x00007FFCAC94AA78+40]\n"
     ]
    }
   ],
   "source": [
    "#Find the total number of reviews\n",
    "total_number_of_reviews = driver.find_element(By.XPATH, '//*[@id=\"pane\"]/div/div[1]/div/div/div[2]/div[2]/div/div[2]/div[2]').text.split(\" \")[0]\n",
    "#element = driver.find_element(By.XPATH, 'INSIRA_O_XPATH_PARA_CARREGAR_MAIS_REVIEWS_AQUI')\n",
    "total_number_of_reviews = int(total_number_of_reviews.replace(',','')) if ',' in total_number_of_reviews else int(total_number_of_reviews)\n",
    "total_number_of_reviews"
   ]
  },
  {
   "cell_type": "code",
   "execution_count": null,
   "metadata": {},
   "outputs": [],
   "source": [
    "\n",
    "#Find scroll layout\n",
    "scrollable_div = driver.find_element(By.XPATH,'//*[@id=\"pane\"]/div/div[1]/div/div/div[2]')\n",
    "#Scroll as many times as necessary to load all reviews\n",
    "for i in range(0,(round(total_number_of_reviews/10 - 1))):\n",
    "        driver.execute_script('arguments[0].scrollTop = arguments[0].scrollHeight', \n",
    "                scrollable_div)\n",
    "        time.sleep(1)"
   ]
  },
  {
   "cell_type": "code",
   "execution_count": null,
   "metadata": {},
   "outputs": [],
   "source": [
    "response = BeautifulSoup(driver.page_source, 'html.parser')\n",
    "driver.close()\n",
    "reviews = response.find_all('div', class_='ODSEW-ShBeI NIyLF-haAclf gm2-body-2')"
   ]
  },
  {
   "cell_type": "code",
   "execution_count": null,
   "metadata": {},
   "outputs": [],
   "source": [
    "def get_review_summary(result_set):\n",
    "    rev_dict = {'Review Rate': [],\n",
    "        'Review Time': [],\n",
    "        'Review Text' : []}\n",
    "    for result in result_set:\n",
    "        review_rate = result.find('span', class_='ODSEW-ShBeI-H1e3jb')[\"aria-label\"]\n",
    "        review_time = result.find('span',class_='ODSEW-ShBeI-RgZmSc-date').text\n",
    "        review_text = result.find('span',class_='ODSEW-ShBeI-text').text\n",
    "        rev_dict['Review Rate'].append(review_rate)\n",
    "        rev_dict['Review Time'].append(review_time)\n",
    "        rev_dict['Review Text'].append(review_text)\n",
    "     \n",
    "    return(pd.DataFrame(rev_dict))"
   ]
  },
  {
   "cell_type": "code",
   "execution_count": null,
   "metadata": {},
   "outputs": [],
   "source": [
    "rev_summ = get_review_summary(reviews)"
   ]
  },
  {
   "cell_type": "code",
   "execution_count": null,
   "metadata": {},
   "outputs": [],
   "source": [
    "rev_summ"
   ]
  },
  {
   "cell_type": "code",
   "execution_count": null,
   "id": "810cf717",
   "metadata": {},
   "outputs": [],
   "source": [
    "\n",
    "'''from selenium import webdriver\n",
    "from selenium.webdriver.common.by import By\n",
    "from selenium.webdriver.common.keys import Keys\n",
    "from selenium.webdriver.chrome.service import Service\n",
    "from webdriver_manager.chrome import ChromeDriverManager\n",
    "import time\n",
    "import pandas as pd\n",
    "\n",
    "# Configuração do Selenium para usar o Chrome Driver\n",
    "service = Service(ChromeDriverManager().install())\n",
    "driver = webdriver.Chrome(service=service)\n",
    "\n",
    "# Acessando a página do Google Maps\n",
    "url = 'INSIRA_A_URL_DO_GOOGLE_MAPS_AQUI'\n",
    "driver.get(url)\n",
    "\n",
    "# Esperando a página carregar completamente\n",
    "time.sleep(5)\n",
    "\n",
    "# Encontrar onde clicar para carregar mais reviews\n",
    "element = driver.find_element(By.XPATH, 'INSIRA_O_XPATH_PARA_CARREGAR_MAIS_REVIEWS_AQUI')\n",
    "driver.execute_script(\"arguments[0].click();\", element)\n",
    "\n",
    "# Pausa para carregar as reviews\n",
    "time.sleep(3)'''\n",
    "    "
   ]
  },
  {
   "cell_type": "code",
   "execution_count": null,
   "id": "f15963ca",
   "metadata": {},
   "outputs": [],
   "source": [
    "\n",
    "'''# Extração das informações das reviews\n",
    "reviews = driver.find_elements(By.XPATH, 'INSIRA_O_XPATH_PARA_AS_REVIEWS_AQUI')\n",
    "\n",
    "dados_reviews = []\n",
    "\n",
    "for review in reviews:\n",
    "    nome = review.find_element(By.XPATH, './INSIRA_O_XPATH_PARA_O_NOME_AQUI').text\n",
    "    data = review.find_element(By.XPATH, './INSIRA_O_XPATH_PARA_A_DATA_AQUI').text\n",
    "    texto = review.find_element(By.XPATH, './INSIRA_O_XPATH_PARA_O_TEXTO_DA_REVIEW_AQUI').text\n",
    "    dados_reviews.append([nome, data, texto])\n",
    "\n",
    "# Fechar o navegador\n",
    "driver.quit()\n",
    "    '''"
   ]
  },
  {
   "cell_type": "code",
   "execution_count": null,
   "id": "cd801830",
   "metadata": {},
   "outputs": [],
   "source": [
    "\n",
    "'''# Criando um DataFrame com os dados coletados\n",
    "df_reviews = pd.DataFrame(dados_reviews, columns=['Nome', 'Data', 'Review'])\n",
    "\n",
    "# Exibindo as primeiras linhas do DataFrame\n",
    "df_reviews.head()'''\n",
    "    "
   ]
  },
  {
   "cell_type": "code",
   "execution_count": null,
   "id": "4370571c",
   "metadata": {},
   "outputs": [],
   "source": [
    "\n",
    "'''# Salvar os dados em um arquivo CSV\n",
    "df_reviews.to_csv('reviews_google_maps.csv', index=False)'''\n",
    "    "
   ]
  }
 ],
 "metadata": {
  "kernelspec": {
   "display_name": "Python 3",
   "language": "python",
   "name": "python3"
  },
  "language_info": {
   "codemirror_mode": {
    "name": "ipython",
    "version": 3
   },
   "file_extension": ".py",
   "mimetype": "text/x-python",
   "name": "python",
   "nbconvert_exporter": "python",
   "pygments_lexer": "ipython3",
   "version": "3.10.6"
  }
 },
 "nbformat": 4,
 "nbformat_minor": 5
}
