{
  "nbformat": 4,
  "nbformat_minor": 0,
  "metadata": {
    "colab": {
      "provenance": []
    },
    "kernelspec": {
      "name": "python3",
      "display_name": "Python 3"
    },
    "language_info": {
      "name": "python"
    }
  },
  "cells": [
    {
      "cell_type": "markdown",
      "source": [
        "# Processamento de Linguagem Natural (NLP)\n",
        "\n",
        "Professor: Arlindo Galvão\n",
        "\n",
        "Data: 03/09/2024\n",
        "\n",
        "## Cronograma\n",
        "\n",
        "* Parte I: N-Gram Language Model\n",
        "    \n",
        "* Parte II: Character-Level RNN Language Model\n",
        "\n",
        "## OBS\n",
        "Deixar registrado as repostas nas saídas das celulas do notebook de submissão."
      ],
      "metadata": {
        "id": "cSbf4X_sBon2"
      }
    },
    {
      "cell_type": "markdown",
      "source": [
        "## N-Gram Language Model"
      ],
      "metadata": {
        "id": "Alwru669_i_J"
      }
    },
    {
      "cell_type": "code",
      "source": [
        "import torch\n",
        "import torch.nn as nn\n",
        "import torch.optim as optim\n",
        "import torch.nn.functional as F"
      ],
      "metadata": {
        "id": "x5_RCJnf_lmU"
      },
      "execution_count": null,
      "outputs": []
    },
    {
      "cell_type": "code",
      "source": [
        "class NGramLanguageModel(nn.Module):\n",
        "    def __init__(self, vocab_size, embedding_dim, context_size):\n",
        "        super(NGramLanguageModel, self).__init__()\n",
        "        self.embeddings = nn.Embedding(vocab_size, embedding_dim)\n",
        "        self.linear1 = nn.Linear(context_size * embedding_dim, 128)\n",
        "        self.linear2 = nn.Linear(128, vocab_size)\n",
        "\n",
        "    def forward(self, inputs):\n",
        "        embeds = self.embeddings(inputs).view((1, -1))\n",
        "        out = F.relu(self.linear1(embeds))\n",
        "        out = self.linear2(out)\n",
        "        log_probs = F.log_softmax(out, dim=1)\n",
        "        return log_probs"
      ],
      "metadata": {
        "id": "SqmNe3Bq_n3l"
      },
      "execution_count": null,
      "outputs": []
    },
    {
      "cell_type": "code",
      "source": [
        "# Parâmetros do modelo\n",
        "CONTEXT_SIZE = 2\n",
        "EMBEDDING_DIM = 10\n",
        "test_sentence = \"\"\"When forty winters shall besiege thy brow,\n",
        "And dig deep trenches in thy beauty's field,\n",
        "Thy youth's proud livery so gazed on now,\n",
        "Will be a totter'd weed of small worth held:\n",
        "Then being asked, where all thy beauty lies,\n",
        "Where all the treasure of thy lusty days;\n",
        "To say, within thine own deep sunken eyes,\n",
        "Were an all-eating shame, and thriftless praise.\n",
        "How much more praise deserv'd thy beauty's use,\n",
        "If thou couldst answer 'This fair child of mine\n",
        "Shall sum my count, and make my old excuse,'\n",
        "Proving his beauty by succession thine!\n",
        "This were to be new made when thou art old,\n",
        "And see thy blood warm when thou feel'st it cold.\"\"\".split()"
      ],
      "metadata": {
        "id": "cakVuXXnACti"
      },
      "execution_count": null,
      "outputs": []
    },
    {
      "cell_type": "code",
      "source": [
        "# Criar n-grams\n",
        "ngrams = [([test_sentence[i - CONTEXT_SIZE + j] for j in range(CONTEXT_SIZE)], test_sentence[i]) for i in range(CONTEXT_SIZE, len(test_sentence))]\n",
        "\n",
        "# Construir o vocabulário\n",
        "vocab = set(test_sentence)\n",
        "word_to_ix = {word: i for i, word in enumerate(vocab)}\n",
        "ix_to_word = {i: word for word, i in word_to_ix.items()}"
      ],
      "metadata": {
        "id": "8LVqLyBr9yC5"
      },
      "execution_count": null,
      "outputs": []
    },
    {
      "cell_type": "code",
      "source": [
        "# Treinamento\n",
        "losses = []\n",
        "loss_function = nn.NLLLoss()\n",
        "model = NGramLanguageModel(len(vocab), EMBEDDING_DIM, CONTEXT_SIZE)\n",
        "optimizer = optim.SGD(model.parameters(), lr=0.001)\n",
        "\n",
        "for epoch in range(10):\n",
        "    total_loss = 0\n",
        "    for context, target in ngrams:\n",
        "        context_idxs = torch.tensor([word_to_ix[w] for w in context], dtype=torch.long)\n",
        "        model.zero_grad()\n",
        "        log_probs = model(context_idxs)\n",
        "        loss = loss_function(log_probs, torch.tensor([word_to_ix[target]], dtype=torch.long))\n",
        "        loss.backward()\n",
        "        optimizer.step()\n",
        "        total_loss += loss.item()\n",
        "    losses.append(total_loss)\n",
        "\n",
        "print(\"Losses:\", losses)"
      ],
      "metadata": {
        "id": "D0BbXTG187mk"
      },
      "execution_count": null,
      "outputs": []
    },
    {
      "cell_type": "code",
      "source": [
        "# Função de geração de texto"
      ],
      "metadata": {
        "id": "g1EVJ5naAIK0"
      },
      "execution_count": null,
      "outputs": []
    },
    {
      "cell_type": "markdown",
      "source": [
        "### Atividades"
      ],
      "metadata": {
        "id": "12p2tj-czmEH"
      }
    },
    {
      "cell_type": "markdown",
      "source": [
        "__1 - Escreva a função generate da classe NGramLanguageModel.__\n",
        "\n",
        "__2 - Depois de treinar o modelo, gere uma sentença de 128 tokens.__\n",
        "\n",
        "__3 - Calcule e print a similaridade entre duas palavras. A similaridade resultante está correta? Justifique a sua resposta.__\n",
        "\n",
        "__4 - Proponha três alterações no código e demonstre que melhorou o desempenho do modelo.__"
      ],
      "metadata": {
        "id": "FK3egeQ3zpYa"
      }
    },
    {
      "cell_type": "markdown",
      "source": [
        "## Character-Level RNN Language Model"
      ],
      "metadata": {
        "id": "vUUyNF04BdyC"
      }
    },
    {
      "cell_type": "code",
      "source": [
        "# RNN BASE\n",
        "\n",
        "import torch\n",
        "import torch.nn as nn\n",
        "import torch.nn.functional as F\n",
        "\n",
        "class RNN(nn.Module):\n",
        "    def __init__(self, input_size, hidden_size, output_size):\n",
        "        super(RNN, self).__init__()\n",
        "        self.hidden_size = hidden_size\n",
        "        self.i2h = nn.Linear(input_size + hidden_size, hidden_size)\n",
        "        self.i2o = nn.Linear(hidden_size, output_size)\n",
        "        self.softmax = nn.LogSoftmax(dim=1)\n",
        "\n",
        "    def forward(self, input, hidden):\n",
        "        input_combined = torch.cat((input, hidden), 1)\n",
        "        hidden = self.i2h(input_combined)\n",
        "        output = self.i2o(hidden)\n",
        "        output = self.softmax(output)\n",
        "        return output, hidden\n",
        "\n",
        "    def initHidden(self):\n",
        "        return torch.zeros(1, self.hidden_size)"
      ],
      "metadata": {
        "id": "beqhEWJqJAV3"
      },
      "execution_count": null,
      "outputs": []
    },
    {
      "cell_type": "code",
      "source": [
        "# def load_dataset\n",
        "# def preprocess_data\n",
        "# def tokenize_data\n",
        "# def create_input"
      ],
      "metadata": {
        "id": "TYvtTwXIypmQ"
      },
      "execution_count": null,
      "outputs": []
    },
    {
      "cell_type": "code",
      "source": [
        "# Parâmetros do modelo\n",
        "n_hidden = 128\n",
        "learning_rate = # Setar LR\n",
        "n_epochs = # Setar epoch\n",
        "print_every = # Setar log epoch"
      ],
      "metadata": {
        "id": "FryXi6d8zL6x"
      },
      "execution_count": null,
      "outputs": []
    },
    {
      "cell_type": "code",
      "source": [
        "rnn = RNN(vocab_len, n_hidden, vocab_len)\n",
        "criterion = nn.NLLLoss()\n",
        "optimizer = optim.Adam(rnn.parameters(), lr=learning_rate)\n",
        "\n",
        "def train(input_tensor, target_tensor):\n",
        "    hidden = rnn.initHidden()\n",
        "    rnn.zero_grad()\n",
        "    loss = 0\n",
        "    for i in range(input_tensor.size(0)):\n",
        "        output, hidden = rnn(input_tensor[i], hidden)\n",
        "        loss += criterion(output, target_tensor[i].unsqueeze(0))\n",
        "\n",
        "    loss.backward()\n",
        "    optimizer.step()\n",
        "\n",
        "    return loss.item() / input_tensor.size(0)"
      ],
      "metadata": {
        "id": "avgrvR5qKGgF"
      },
      "execution_count": null,
      "outputs": []
    },
    {
      "cell_type": "code",
      "source": [
        "for epoch in range(1, n_epochs + 1):\n",
        "    total_loss = 0\n",
        "    for start_idx in range(0, len(test_sentence) - max_sequence_len, max_sequence_len):\n",
        "        input_tensor, target_tensor = input_target_tensor(test_sentence, start_idx, max_sequence_len)\n",
        "        loss = train(input_tensor, target_tensor)\n",
        "        total_loss += loss\n",
        "\n",
        "    if epoch % print_every == 0:\n",
        "        print(f'Epoch: {epoch}, Loss: {loss}')"
      ],
      "metadata": {
        "id": "vVhiIarsKGdt"
      },
      "execution_count": null,
      "outputs": []
    },
    {
      "cell_type": "markdown",
      "source": [
        "###  Atividades"
      ],
      "metadata": {
        "id": "GAAq1xab2Jy2"
      }
    },
    {
      "cell_type": "markdown",
      "source": [
        "__1 - Escreva a função generate da classe RNN.__\n",
        "\n",
        "__2 - Escreva as funções de load_dataset, preprocess_data, tokenize_data e create_input.__\n",
        "\n",
        "__3 - Realize otimização de hiperparâmetros. Justifique a escolha dos hiperparâmetros otimizados e o espaço de busca definido.__\n",
        "\n",
        "__4 - Adicione uma Layer de Dropout na classe RNN. Treine o novo modelo e argumente sobre o impacto dessa alteração no modelo.__\n",
        "\n",
        "__5 - Adicione uma nova nn.Layer que recebe como input os vetores hidden e output combinados. Treine o novo modelo e argumente sobre o impacto dessa alteração no modelo.__\n",
        "\n",
        "__6 - Adicione uma função para printar uma geração de texto de no máximo 100 caracteres sempre que printar a loss do modelo.__\n",
        "\n",
        "__7 - Adicione uma função que calcula a perplexidade e printe com a loss.__\n",
        "\n",
        "__8 - Proponha três alterações no código e demonstre que melhorou o desempenho do modelo.__\n",
        "\n",
        "**Desafio**\n",
        "\n",
        "__1 - Desenvolva um modelo Word-Level utilizando LSTM.__\n",
        "- __Escrever a classe LSTM.__\n",
        "- __Escrever a função generate.__\n",
        "- __Otimizar o modelo.__\n",
        "- __Comparar com as outras abordagens acima__"
      ],
      "metadata": {
        "id": "UuDCK43l2N6z"
      }
    },
    {
      "cell_type": "code",
      "source": [],
      "metadata": {
        "id": "4BdUmCbw7V62"
      },
      "execution_count": null,
      "outputs": []
    }
  ]
}