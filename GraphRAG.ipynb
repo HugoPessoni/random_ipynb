{
  "cells": [
    {
      "cell_type": "markdown",
      "metadata": {
        "id": "11rqIj3odz1h"
      },
      "source": [
        "# Using Knowledge Graph with Neo4jGraphStore\n"
      ]
    },
    {
      "cell_type": "code",
      "execution_count": null,
      "metadata": {
        "collapsed": true,
        "id": "jEThaobShkxV"
      },
      "outputs": [],
      "source": [
        "!pip install llama-index-llms-openai llama-index-graph-stores-neo4j llama-index-embeddings-openai llama-index-llms-azure-openai llama-index-readers-file neo4j llama-index-readers-s3"
      ]
    },
    {
      "cell_type": "code",
      "execution_count": null,
      "metadata": {
        "id": "5A9Lb4DxTx29"
      },
      "outputs": [],
      "source": [
        "from llama_index.core import KnowledgeGraphIndex, SimpleDirectoryReader\n",
        "from llama_index.core import StorageContext\n",
        "from llama_index.graph_stores.neo4j import Neo4jGraphStore\n",
        "import logging\n",
        "import sys\n",
        "from llama_index.llms.openai import OpenAI\n",
        "from llama_index.core import Settings\n",
        "from llama_index.llms.openai import OpenAI\n",
        "from IPython.display import Markdown, display\n",
        "import os\n",
        "from llama_index.readers.s3 import S3Reader\n",
        "import time\n",
        "from google.colab import userdata"
      ]
    },
    {
      "cell_type": "code",
      "execution_count": null,
      "metadata": {
        "id": "NnAxWzCkjiJT"
      },
      "outputs": [],
      "source": [
        "key = userdata.get('openai')\n",
        "password = userdata.get('password')\n",
        "url = userdata.get('url')\n",
        "aws_access_id = userdata.get('aws_access_id')\n",
        "aws_access_secret = userdata.get('aws_secret')"
      ]
    },
    {
      "cell_type": "markdown",
      "metadata": {
        "id": "6puFA5OGCWfG"
      },
      "source": [
        "## Configurando LLM"
      ]
    },
    {
      "cell_type": "code",
      "execution_count": null,
      "metadata": {
        "id": "cMCxjocGipc3"
      },
      "outputs": [],
      "source": [
        "os.environ[\"OPENAI_API_KEY\"] = key\n",
        "\n",
        "logging.basicConfig(stream=sys.stdout, level=logging.INFO)\n",
        "\n",
        "# define LLM\n",
        "llm = OpenAI(temperature=0, model=\"gpt-4o-mini\")\n",
        "Settings.llm = llm\n",
        "Settings.chunk_size = 512"
      ]
    },
    {
      "cell_type": "markdown",
      "metadata": {
        "id": "UpQORKO-CasY"
      },
      "source": [
        "## Carregando documentos"
      ]
    },
    {
      "cell_type": "code",
      "execution_count": null,
      "metadata": {
        "id": "dyYqj4162Fvw"
      },
      "outputs": [],
      "source": [
        "inicio = time.time()\n",
        "\n",
        "loader = S3Reader(\n",
        "    bucket='macall-dados-pcrj',\n",
        "    prefix='documentos/',\n",
        "    aws_access_id=aws_access_id,\n",
        "    aws_access_secret=aws_access_secret,\n",
        ")\n",
        "documents = loader.load_data()\n",
        "\n",
        "fim = time.time()\n",
        "\n",
        "tempo_decorrido = fim - inicio"
      ]
    },
    {
      "cell_type": "code",
      "execution_count": null,
      "metadata": {
        "colab": {
          "base_uri": "https://localhost:8080/"
        },
        "id": "kRLCqGDMOGAY",
        "outputId": "8aedaf5a-c9cb-4932-af85-79a10e30aff9"
      },
      "outputs": [
        {
          "name": "stdout",
          "output_type": "stream",
          "text": [
            "Tempo para indexação de 1270 documentos: 1.31 minutos\n"
          ]
        }
      ],
      "source": [
        "print(f\"Tempo para indexação de {len(documents)} documentos: {tempo_decorrido/60:.2f} minutos\")"
      ]
    },
    {
      "cell_type": "code",
      "execution_count": null,
      "metadata": {
        "id": "ybn4ul13lD1V"
      },
      "outputs": [],
      "source": [
        "# Você pode usar o código abaixo caso queira carregar documentos localmente\n",
        "\"\"\"documents = SimpleDirectoryReader(\n",
        "    \"./texto\"\n",
        ").load_data()\"\"\""
      ]
    },
    {
      "cell_type": "markdown",
      "metadata": {
        "id": "Bv6qvWxId8P4"
      },
      "source": [
        "## Indexando documentos no Neo4j"
      ]
    },
    {
      "cell_type": "code",
      "execution_count": null,
      "metadata": {
        "id": "HJHAmMIasd_Y"
      },
      "outputs": [],
      "source": [
        "# Credenciais de Acesso ao banco de dados de grafos Neo4j\n",
        "username = \"neo4j\"\n",
        "password = password\n",
        "url = url\n",
        "database = \"neo4j\""
      ]
    },
    {
      "cell_type": "code",
      "execution_count": null,
      "metadata": {
        "id": "B5qkIzVVl4ol"
      },
      "outputs": [],
      "source": [
        "graph_store = Neo4jGraphStore(\n",
        "    username=username,\n",
        "    password=password,\n",
        "    url=url,\n",
        "    database=database,\n",
        ")"
      ]
    },
    {
      "cell_type": "code",
      "execution_count": null,
      "metadata": {
        "id": "F6ikMpzit0sl"
      },
      "outputs": [],
      "source": [
        "inicio = time.time()\n",
        "\n",
        "storage_context = StorageContext.from_defaults(graph_store=graph_store)\n",
        "\n",
        "index = KnowledgeGraphIndex.from_documents(\n",
        "    documents,\n",
        "    storage_context=storage_context,\n",
        "    max_triplets_per_chunk=2,\n",
        "    include_embeddings=True\n",
        ")\n",
        "\n",
        "fim = time.time()\n",
        "\n",
        "tempo_decorrido = fim - inicio"
      ]
    },
    {
      "cell_type": "code",
      "execution_count": null,
      "metadata": {
        "colab": {
          "base_uri": "https://localhost:8080/"
        },
        "id": "q05fExxqNzqQ",
        "outputId": "30fc6c6a-300a-4ae8-f2aa-7c29950ef638"
      },
      "outputs": [
        {
          "output_type": "stream",
          "name": "stdout",
          "text": [
            "Tempo para indexação de 1270 documentos: 52.60 minutos\n"
          ]
        }
      ],
      "source": [
        "print(f\"Tempo para indexação de {len(documents)} documentos: {tempo_decorrido/60:.2f} minutos\")"
      ]
    },
    {
      "cell_type": "markdown",
      "source": [
        "![image.png](data:image/png;base64,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)"
      ],
      "metadata": {
        "id": "LgOfZ6tQK4Ys"
      }
    },
    {
      "cell_type": "markdown",
      "metadata": {
        "id": "Gmm1QZA1fEC-"
      },
      "source": [
        "## Queries"
      ]
    },
    {
      "cell_type": "markdown",
      "source": [
        "### RAG"
      ],
      "metadata": {
        "id": "bL1tCQpOHVBd"
      }
    },
    {
      "cell_type": "markdown",
      "source": [
        "Iniciaremos com testes de recuperação + geração de resposta (LLM)"
      ],
      "metadata": {
        "id": "nYvjQtDMFNMA"
      }
    },
    {
      "cell_type": "code",
      "execution_count": null,
      "metadata": {
        "id": "HkA9n6Kwt7DH"
      },
      "outputs": [],
      "source": [
        "query_engine = index.as_query_engine(\n",
        "    include_text=False, response_mode=\"tree_summarize\", # include_text =True send the text from where the retrieved tripets were extracted.\n",
        "    embedding_mode=\"hybrid\",\n",
        "    similarity_top_k=5,\n",
        ")\n"
      ]
    },
    {
      "cell_type": "code",
      "source": [
        "inicio = time.time()\n",
        "response_1 = query_engine.query(\"Como pagar a segunda via do IPTU\")\n",
        "fim = time.time()\n",
        "\n",
        "tempo_decorrido = fim - inicio\n",
        "print(f\"Tempo de recuperação+geração: {tempo_decorrido} segundos\")"
      ],
      "metadata": {
        "id": "d5lEgPQmITy0",
        "colab": {
          "base_uri": "https://localhost:8080/"
        },
        "outputId": "07f46ce1-43cf-4db9-b18a-d7afd2b2b3ee"
      },
      "execution_count": null,
      "outputs": [
        {
          "output_type": "stream",
          "name": "stdout",
          "text": [
            "Tempo de recuperação+geração: 2.6655800342559814 segundos\n"
          ]
        }
      ]
    },
    {
      "cell_type": "code",
      "source": [
        "response_1"
      ],
      "metadata": {
        "colab": {
          "base_uri": "https://localhost:8080/"
        },
        "collapsed": true,
        "id": "cUJ-KUv_I19C",
        "outputId": "f757f3d5-8c29-47a3-ea72-213817a0ee02"
      },
      "execution_count": null,
      "outputs": [
        {
          "output_type": "execute_result",
          "data": {
            "text/plain": [
              "Response(response='Para pagar a segunda via do IPTU, você pode solicitar diretamente no banco ou obtê-la no site da Nota Carioca. Além disso, o pagamento pode ser feito na maioria dos bancos.', source_nodes=[NodeWithScore(node=TextNode(id_='0ccd65dc-43be-4ef0-9c58-96aaffae970f', embedding=None, metadata={'kg_rel_texts': [\"('Secretaria municipal de fazenda e planejamento', 'Enviou', 'Nova guia de pagamento do iptu 2022')\", \"('Nota carioca', 'Oferece', 'Crédito para abatimento no iptu')\", \"('Nota carioca', 'Gera crédito para', 'Abatimento no iptu')\", \"('Nota carioca', 'É', 'Crédito para abatimento no iptu')\", \"['DEVE_SER_SOLICITADO', 'Diretamente no banco']\", \"['PODE_SER_OBTIDA_NO', 'Site da nota carioca']\", \"('Pagamento do iptu', 'Tem', 'Desconto de 7%')\", \"['DEPENDE_DE', 'Características do imóvel']\", \"['PODE_SER_PAGO', 'Na maioria dos bancos']\", \"['PODE_VARIAR', 'Com base na decad']\", \"['PODE_SER_ABATIDO_EM', 'Até 100%']\"], 'kg_rel_map': {'Segunda via': [['PODE_SER_OBTIDA_NO', 'Site da nota carioca']], 'Iptu': [['PODE_SER_PAGO', 'Na maioria dos bancos'], ['PODE_VARIAR', 'Com base na decad'], ['DEPENDE_DE', 'Características do imóvel'], ['PODE_SER_ABATIDO_EM', 'Até 100%'], ['DEVE_SER_SOLICITADO', 'Diretamente no banco']]}, 'kg_schema': {'schema': 'Node properties are the following:\\n\\nRelationship properties are the following:\\n\\nThe relationships are the following:\\n'}}, excluded_embed_metadata_keys=['kg_rel_map', 'kg_rel_texts'], excluded_llm_metadata_keys=['kg_rel_map', 'kg_rel_texts'], relationships={}, text=\"The following are knowledge sequence in max depth 2 in the form of directed graph like:\\n`subject -[predicate]->, object, <-[predicate_next_hop]-, object_next_hop ...`\\n('Secretaria municipal de fazenda e planejamento', 'Enviou', 'Nova guia de pagamento do iptu 2022')\\n('Nota carioca', 'Oferece', 'Crédito para abatimento no iptu')\\n('Nota carioca', 'Gera crédito para', 'Abatimento no iptu')\\n('Nota carioca', 'É', 'Crédito para abatimento no iptu')\\n['DEVE_SER_SOLICITADO', 'Diretamente no banco']\\n['PODE_SER_OBTIDA_NO', 'Site da nota carioca']\\n('Pagamento do iptu', 'Tem', 'Desconto de 7%')\\n['DEPENDE_DE', 'Características do imóvel']\\n['PODE_SER_PAGO', 'Na maioria dos bancos']\\n['PODE_VARIAR', 'Com base na decad']\\n['PODE_SER_ABATIDO_EM', 'Até 100%']\", mimetype='text/plain', start_char_idx=None, end_char_idx=None, text_template='{metadata_str}\\n\\n{content}', metadata_template='{key}: {value}', metadata_seperator='\\n'), score=1000.0)], metadata={'0ccd65dc-43be-4ef0-9c58-96aaffae970f': {'kg_rel_texts': [\"('Secretaria municipal de fazenda e planejamento', 'Enviou', 'Nova guia de pagamento do iptu 2022')\", \"('Nota carioca', 'Oferece', 'Crédito para abatimento no iptu')\", \"('Nota carioca', 'Gera crédito para', 'Abatimento no iptu')\", \"('Nota carioca', 'É', 'Crédito para abatimento no iptu')\", \"['DEVE_SER_SOLICITADO', 'Diretamente no banco']\", \"['PODE_SER_OBTIDA_NO', 'Site da nota carioca']\", \"('Pagamento do iptu', 'Tem', 'Desconto de 7%')\", \"['DEPENDE_DE', 'Características do imóvel']\", \"['PODE_SER_PAGO', 'Na maioria dos bancos']\", \"['PODE_VARIAR', 'Com base na decad']\", \"['PODE_SER_ABATIDO_EM', 'Até 100%']\"], 'kg_rel_map': {'Segunda via': [['PODE_SER_OBTIDA_NO', 'Site da nota carioca']], 'Iptu': [['PODE_SER_PAGO', 'Na maioria dos bancos'], ['PODE_VARIAR', 'Com base na decad'], ['DEPENDE_DE', 'Características do imóvel'], ['PODE_SER_ABATIDO_EM', 'Até 100%'], ['DEVE_SER_SOLICITADO', 'Diretamente no banco']]}, 'kg_schema': {'schema': 'Node properties are the following:\\n\\nRelationship properties are the following:\\n\\nThe relationships are the following:\\n'}}})"
            ]
          },
          "metadata": {},
          "execution_count": 62
        }
      ]
    },
    {
      "cell_type": "markdown",
      "source": [
        "Nós recuperados:"
      ],
      "metadata": {
        "id": "UBrzWIA1Nd4-"
      }
    },
    {
      "cell_type": "code",
      "source": [
        "kg_rel_texts = [node.node.metadata.get('kg_rel_texts', None) for node in response_1.source_nodes if node.node.metadata.get('kg_rel_texts', None) is not None]\n",
        "kg_rel_map = [node.node.metadata.get('kg_rel_map', None) for node in response_1.source_nodes if node.node.metadata.get('kg_rel_map', None) is not None]\n",
        "kg_rel_texts, kg_rel_map"
      ],
      "metadata": {
        "colab": {
          "base_uri": "https://localhost:8080/"
        },
        "id": "wEa6d_cVMjeX",
        "outputId": "ecf042b2-c8cb-4a6d-ef84-e2e25179e265"
      },
      "execution_count": null,
      "outputs": [
        {
          "output_type": "execute_result",
          "data": {
            "text/plain": [
              "([[\"('Secretaria municipal de fazenda e planejamento', 'Enviou', 'Nova guia de pagamento do iptu 2022')\",\n",
              "   \"('Nota carioca', 'Oferece', 'Crédito para abatimento no iptu')\",\n",
              "   \"('Nota carioca', 'Gera crédito para', 'Abatimento no iptu')\",\n",
              "   \"('Nota carioca', 'É', 'Crédito para abatimento no iptu')\",\n",
              "   \"['DEVE_SER_SOLICITADO', 'Diretamente no banco']\",\n",
              "   \"['PODE_SER_OBTIDA_NO', 'Site da nota carioca']\",\n",
              "   \"('Pagamento do iptu', 'Tem', 'Desconto de 7%')\",\n",
              "   \"['DEPENDE_DE', 'Características do imóvel']\",\n",
              "   \"['PODE_SER_PAGO', 'Na maioria dos bancos']\",\n",
              "   \"['PODE_VARIAR', 'Com base na decad']\",\n",
              "   \"['PODE_SER_ABATIDO_EM', 'Até 100%']\"]],\n",
              " [{'Segunda via': [['PODE_SER_OBTIDA_NO', 'Site da nota carioca']],\n",
              "   'Iptu': [['PODE_SER_PAGO', 'Na maioria dos bancos'],\n",
              "    ['PODE_VARIAR', 'Com base na decad'],\n",
              "    ['DEPENDE_DE', 'Características do imóvel'],\n",
              "    ['PODE_SER_ABATIDO_EM', 'Até 100%'],\n",
              "    ['DEVE_SER_SOLICITADO', 'Diretamente no banco']]}])"
            ]
          },
          "metadata": {},
          "execution_count": 91
        }
      ]
    },
    {
      "cell_type": "code",
      "execution_count": null,
      "metadata": {
        "colab": {
          "base_uri": "https://localhost:8080/",
          "height": 64
        },
        "id": "zlTIMe-Xxf8P",
        "outputId": "cc537c29-57ff-4754-d20a-dbb72ed01771"
      },
      "outputs": [
        {
          "output_type": "display_data",
          "data": {
            "text/plain": [
              "<IPython.core.display.Markdown object>"
            ],
            "text/markdown": "<b>Para pagar a segunda via do IPTU, você pode solicitar diretamente no banco ou obtê-la no site da Nota Carioca. Além disso, o pagamento pode ser feito na maioria dos bancos.</b>"
          },
          "metadata": {}
        }
      ],
      "source": [
        "display(Markdown(f\"<b>{response_1}</b>\")) # Output do LLM"
      ]
    },
    {
      "cell_type": "code",
      "execution_count": null,
      "metadata": {
        "id": "DM8Y_MRmwchD",
        "colab": {
          "base_uri": "https://localhost:8080/"
        },
        "outputId": "07bec4ea-6e3b-4cdd-b48a-0a8a73c98156"
      },
      "outputs": [
        {
          "output_type": "stream",
          "name": "stdout",
          "text": [
            "Tempo de recuperação+geração: 3.9493372440338135 segundos\n"
          ]
        }
      ],
      "source": [
        "inicio = time.time()\n",
        "response_2 = query_engine.query(\"Como matricular minha filha na creche?\")\n",
        "fim = time.time()\n",
        "\n",
        "tempo_decorrido = fim - inicio\n",
        "print(f\"Tempo de recuperação+geração: {tempo_decorrido} segundos\")"
      ]
    },
    {
      "cell_type": "code",
      "source": [
        "response_2"
      ],
      "metadata": {
        "colab": {
          "base_uri": "https://localhost:8080/"
        },
        "collapsed": true,
        "id": "MT0Foh0yJgzE",
        "outputId": "a390f1c6-70eb-4376-cb0f-3a1bb67f0c52"
      },
      "execution_count": null,
      "outputs": [
        {
          "output_type": "execute_result",
          "data": {
            "text/plain": [
              "Response(response='Para matricular sua filha na creche, você deve seguir alguns passos. Primeiro, verifique se sua filha tem entre 6 meses e 3 anos e 11 meses, pois essa é a faixa etária permitida para inscrição. Em seguida, procure informações sobre o período de inscrição da creche pública desejada, pois as matrículas são garantidas para crianças com deficiência. Após isso, você pode iniciar o processo de inscrição, que geralmente começa a partir do mês da inscrição. Certifique-se de ter todos os documentos necessários para completar a matrícula.', source_nodes=[NodeWithScore(node=TextNode(id_='e9818565-4e3b-4833-b604-0720b9c3dbfa', embedding=None, metadata={'kg_rel_texts': [\"('Criança com deficiência', 'Tem matrícula garantida', 'Creche institucional dr. paulo niemeyer')\", \"('Crianças', 'Podem ser inscritas', '6 meses a 3 anos e 11 meses')\", \"('Previ-creche', 'Dá-se a partir do mês', 'Da inscrição')\", \"('Creche pública', 'Tem', 'Período de inscrição')\", \"('Educação infantil', 'Inclui', 'Creche')\"], 'kg_rel_map': {}, 'kg_schema': {'schema': 'Node properties are the following:\\n\\nRelationship properties are the following:\\n\\nThe relationships are the following:\\n'}}, excluded_embed_metadata_keys=['kg_rel_map', 'kg_rel_texts'], excluded_llm_metadata_keys=['kg_rel_map', 'kg_rel_texts'], relationships={}, text=\"The following are knowledge sequence in max depth 2 in the form of directed graph like:\\n`subject -[predicate]->, object, <-[predicate_next_hop]-, object_next_hop ...`\\n('Criança com deficiência', 'Tem matrícula garantida', 'Creche institucional dr. paulo niemeyer')\\n('Crianças', 'Podem ser inscritas', '6 meses a 3 anos e 11 meses')\\n('Previ-creche', 'Dá-se a partir do mês', 'Da inscrição')\\n('Creche pública', 'Tem', 'Período de inscrição')\\n('Educação infantil', 'Inclui', 'Creche')\", mimetype='text/plain', start_char_idx=None, end_char_idx=None, text_template='{metadata_str}\\n\\n{content}', metadata_template='{key}: {value}', metadata_seperator='\\n'), score=1000.0)], metadata={'e9818565-4e3b-4833-b604-0720b9c3dbfa': {'kg_rel_texts': [\"('Criança com deficiência', 'Tem matrícula garantida', 'Creche institucional dr. paulo niemeyer')\", \"('Crianças', 'Podem ser inscritas', '6 meses a 3 anos e 11 meses')\", \"('Previ-creche', 'Dá-se a partir do mês', 'Da inscrição')\", \"('Creche pública', 'Tem', 'Período de inscrição')\", \"('Educação infantil', 'Inclui', 'Creche')\"], 'kg_rel_map': {}, 'kg_schema': {'schema': 'Node properties are the following:\\n\\nRelationship properties are the following:\\n\\nThe relationships are the following:\\n'}}})"
            ]
          },
          "metadata": {},
          "execution_count": 75
        }
      ]
    },
    {
      "cell_type": "markdown",
      "source": [
        "Nós recuperados:"
      ],
      "metadata": {
        "id": "ncldf6fJNhQv"
      }
    },
    {
      "cell_type": "code",
      "execution_count": null,
      "metadata": {
        "colab": {
          "base_uri": "https://localhost:8080/"
        },
        "id": "1nMLKv_c5D2g",
        "outputId": "f5a38f34-353c-416f-c2bb-24d23f68244d"
      },
      "outputs": [
        {
          "output_type": "execute_result",
          "data": {
            "text/plain": [
              "([[\"('Criança com deficiência', 'Tem matrícula garantida', 'Creche institucional dr. paulo niemeyer')\",\n",
              "   \"('Crianças', 'Podem ser inscritas', '6 meses a 3 anos e 11 meses')\",\n",
              "   \"('Previ-creche', 'Dá-se a partir do mês', 'Da inscrição')\",\n",
              "   \"('Creche pública', 'Tem', 'Período de inscrição')\",\n",
              "   \"('Educação infantil', 'Inclui', 'Creche')\"]],\n",
              " [{}])"
            ]
          },
          "metadata": {},
          "execution_count": 92
        }
      ],
      "source": [
        "kg_rel_texts = [node.node.metadata.get('kg_rel_texts', None) for node in response_2.source_nodes if node.node.metadata.get('kg_rel_texts', None) is not None]\n",
        "kg_rel_map = [node.node.metadata.get('kg_rel_map', None) for node in response_2.source_nodes if node.node.metadata.get('kg_rel_map', None) is not None]\n",
        "kg_rel_texts, kg_rel_map"
      ]
    },
    {
      "cell_type": "code",
      "execution_count": null,
      "metadata": {
        "colab": {
          "base_uri": "https://localhost:8080/",
          "height": 98
        },
        "id": "Y_xAwuJcw9Vq",
        "outputId": "b4d39b2b-3ac3-49d0-c5bc-3a805323a3b7"
      },
      "outputs": [
        {
          "output_type": "display_data",
          "data": {
            "text/plain": [
              "<IPython.core.display.Markdown object>"
            ],
            "text/markdown": "<b>Para matricular sua filha na creche, você deve seguir alguns passos. Primeiro, verifique se sua filha tem entre 6 meses e 3 anos e 11 meses, pois essa é a faixa etária permitida para inscrição. Em seguida, procure informações sobre o período de inscrição da creche pública desejada, pois as matrículas são garantidas para crianças com deficiência. Após isso, você pode iniciar o processo de inscrição, que geralmente começa a partir do mês da inscrição. Certifique-se de ter todos os documentos necessários para completar a matrícula.</b>"
          },
          "metadata": {}
        }
      ],
      "source": [
        "display(Markdown(f\"<b>{response_2}</b>\")) # Output do LLM\n"
      ]
    },
    {
      "cell_type": "markdown",
      "metadata": {
        "id": "wFzzOXA8e_I6"
      },
      "source": [
        "### Recuperação"
      ]
    },
    {
      "cell_type": "markdown",
      "source": [
        "Agora faremos testes apenas de recuperação"
      ],
      "metadata": {
        "id": "BFg21Dl7HeVA"
      }
    },
    {
      "cell_type": "code",
      "execution_count": null,
      "metadata": {
        "id": "nth0J-6q_IHv",
        "colab": {
          "base_uri": "https://localhost:8080/"
        },
        "outputId": "7b3ad374-ec9f-4262-b12c-c7468f148c24"
      },
      "outputs": [
        {
          "output_type": "stream",
          "name": "stdout",
          "text": [
            "Tempo de recuperação: 2.02494478225708 segundos\n"
          ]
        }
      ],
      "source": [
        "inicio = time.time()\n",
        "retriever_response_1 = index.as_retriever(similarity_top_k=5, vector_store_query_mode=\"hybrid\").retrieve(\"Como solicitar remoção de árvore caída?\")\n",
        "fim = time.time()\n",
        "tempo_decorrido = fim - inicio\n",
        "print(f\"Tempo de recuperação: {tempo_decorrido} segundos\")"
      ]
    },
    {
      "cell_type": "code",
      "execution_count": null,
      "metadata": {
        "colab": {
          "base_uri": "https://localhost:8080/"
        },
        "id": "-_gwaiQt_OXh",
        "outputId": "1cb479c9-c32d-451b-c7d6-688b1fa7197f",
        "collapsed": true
      },
      "outputs": [
        {
          "output_type": "execute_result",
          "data": {
            "text/plain": [
              "[NodeWithScore(node=TextNode(id_='cd8021d8-3eaf-48fb-8f07-40040c6d48cd', embedding=None, metadata={'file_path': 'macall-dados-pcrj/documentos/Reclamação_Manejo Arbóreo_Avaliação de risco de queda da árvore.txt', 'file_name': 'Reclamação_Manejo Arbóreo_Avaliação de risco de queda da árvore.txt', 'file_type': 'text/plain', 'file_size': 813}, excluded_embed_metadata_keys=['file_name', 'file_type', 'file_size', 'creation_date', 'last_modified_date', 'last_accessed_date'], excluded_llm_metadata_keys=['file_name', 'file_type', 'file_size', 'creation_date', 'last_modified_date', 'last_accessed_date'], relationships={<NodeRelationship.SOURCE: '1'>: RelatedNodeInfo(node_id='s3_macall-dados-pcrj/documentos/Reclamação_Manejo Arbóreo_Avaliação de risco de queda da árvore.txt', node_type=<ObjectType.DOCUMENT: '4'>, metadata={'file_path': 'macall-dados-pcrj/documentos/Reclamação_Manejo Arbóreo_Avaliação de risco de queda da árvore.txt', 'file_name': 'Reclamação_Manejo Arbóreo_Avaliação de risco de queda da árvore.txt', 'file_type': 'text/plain', 'file_size': 813}, hash='6e151e2602d88c2385b0dc0b4bc5ef7dc3c24a726aec78f45d4f890a4605213a')}, text='<b>\\xa01. O que é o serviço:</b>\\n\\nVistoria e avaliação da necessidade de retirada de árvore em logradouro público de livre acesso que apresente sinais de que esteja prestes a cair. Caso seja constatada a necessidade do serviço, será providenciada a remoção da árvore.\\n\\n\\n\\n\\n<b>2. Informações necessárias para solicitação do serviço:</b>\\n\\n\\xa0 \\xa0 • Nome completo;\\n\\xa0 \\xa0 • E-mail;\\n\\xa0 \\xa0 • Telefone;\\n\\xa0 \\xa0 • Endereço completo (nome da rua, número, bairro) da ocorrência com pontos de referência;\\n\\n\\n\\n\\n<b>3. Prazo para a prestação do serviço:</b>\\n\\nEm até 10 dias corridos para avaliação e realização do serviço (se for constatado o risco de queda da árvore).\\n\\n\\n\\n\\n<b>4. Informações complementares:</b>\\n\\nÁrvores localizadas em áreas particulares não são atendidas pela COMLURB.', mimetype='text/plain', start_char_idx=1, end_char_idx=756, text_template='{metadata_str}\\n\\n{content}', metadata_template='{key}: {value}', metadata_seperator='\\n'), score=1000.0),\n",
              " NodeWithScore(node=TextNode(id_='22cab5b4-5c06-4efe-9777-e3f723bbb7cf', embedding=None, metadata={'file_path': 'macall-dados-pcrj/documentos/Reclamação_Manejo Arbóreo_Retirada de árvore caída.txt', 'file_name': 'Reclamação_Manejo Arbóreo_Retirada de árvore caída.txt', 'file_type': 'text/plain', 'file_size': 1710}, excluded_embed_metadata_keys=['file_name', 'file_type', 'file_size', 'creation_date', 'last_modified_date', 'last_accessed_date'], excluded_llm_metadata_keys=['file_name', 'file_type', 'file_size', 'creation_date', 'last_modified_date', 'last_accessed_date'], relationships={<NodeRelationship.SOURCE: '1'>: RelatedNodeInfo(node_id='s3_macall-dados-pcrj/documentos/Reclamação_Manejo Arbóreo_Retirada de árvore caída.txt', node_type=<ObjectType.DOCUMENT: '4'>, metadata={'file_path': 'macall-dados-pcrj/documentos/Reclamação_Manejo Arbóreo_Retirada de árvore caída.txt', 'file_name': 'Reclamação_Manejo Arbóreo_Retirada de árvore caída.txt', 'file_type': 'text/plain', 'file_size': 1710}, hash='28a814bdcf36fda959c38549cde997f85b3291d446639d501f79527af82baa98'), <NodeRelationship.NEXT: '3'>: RelatedNodeInfo(node_id='48d388e0-f492-4ba8-98a4-cecbe6159cd7', node_type=<ObjectType.TEXT: '1'>, metadata={}, hash='c2419972ebe7e9b3ac8bc6692b36b0357aa41df4694e428bef72ac47b01860e1')}, text='<b>1.\\xa0O que é o serviço:</b>\\n\\nRetirada de árvore caída em decorrência de chuvas e ventos.\\n\\n\\n\\n\\n<b>2.\\xa0Como o órgão atua:</b>\\n\\nO Centro de Operações Rio mobilizará os órgãos e agências necessários para execução dos serviços decorrentes de queda da árvore e desobstrução do logradouro.\\nCaso se tratem de galhos e troncos em áreas particulares, use o subtipo Remoção de entulho e bens inservíveis.\\n\\n\\n\\n\\n\\n\\n\\n\\n\\n\\n\\n\\n<b>3. Casos em que o COR não atua:</b>\\n\\nEm árvores situadas em áreas privadas (dentro de vilas, de condomínios, de terrenos, ou em logradouros com cancelas ou guaritas).\\nEm árvores caídas sobre a fiação energizada da rede elétrica, até que a Light realize o desligamento da rede.\\nNos casos de vítimas ou risco de vida, em vista das competências do Corpo de Bombeiros, acionado pelo telefone 193.\\n\\n\\nNos casos de pequenos resíduos de árvores e outros decorrentes de acidentes, use o subtipo Remoção de resíduos após chuva/vento e acidentes com veículos.\\xa0\\nEm vias públicas, caso a arvore já tenha sido cortada, use o subtipo Remoção de resíduos de Poda.\\xa0\\n\\n\\n\\n\\n\\n\\n\\n<b>4.\\xa0Informações necessárias para registro da ocorrência:</b>\\n\\n\\n\\n\\n\\nEndereço (logradouro, número, ponto de referência)\\nDescrição da situação no local e data da queda\\nInformar se há obstrução da via\\nInformar se há veículos ou imóveis atingidos\\n\\n\\n<b>5. Informações complementares:</b>\\n\\nEsta solicitação deve ser feita pelo <b>telefone 1746 </b>ou pelo <b>app do COR.Rio\\xa0</b>\\n\\n<b>\\n\\n</b>', mimetype='text/plain', start_char_idx=2, end_char_idx=1449, text_template='{metadata_str}\\n\\n{content}', metadata_template='{key}: {value}', metadata_seperator='\\n'), score=1000.0),\n",
              " NodeWithScore(node=TextNode(id_='aa9fb52b-c8d9-4b7a-aed0-70ef187335ad', embedding=None, metadata={'file_path': 'macall-dados-pcrj/documentos/Crítica_Manejo Arbóreo_Poda e remoção de árvore.txt', 'file_name': 'Crítica_Manejo Arbóreo_Poda e remoção de árvore.txt', 'file_type': 'text/plain', 'file_size': 1677}, excluded_embed_metadata_keys=['file_name', 'file_type', 'file_size', 'creation_date', 'last_modified_date', 'last_accessed_date'], excluded_llm_metadata_keys=['file_name', 'file_type', 'file_size', 'creation_date', 'last_modified_date', 'last_accessed_date'], relationships={<NodeRelationship.SOURCE: '1'>: RelatedNodeInfo(node_id='s3_macall-dados-pcrj/documentos/Crítica_Manejo Arbóreo_Poda e remoção de árvore.txt', node_type=<ObjectType.DOCUMENT: '4'>, metadata={'file_path': 'macall-dados-pcrj/documentos/Crítica_Manejo Arbóreo_Poda e remoção de árvore.txt', 'file_name': 'Crítica_Manejo Arbóreo_Poda e remoção de árvore.txt', 'file_type': 'text/plain', 'file_size': 1677}, hash='28bd7dc1dea9584f420ed7a06db8edaf4d08a223fced86715610c0ac4b30865a')}, text='<b>1. O que é o serviço:</b>\\n\\nPoda e remoção de árvores em áreas públicas realizadas por particular.\\n\\n\\n\\n\\n<b>2. Como solicitar:</b>\\n\\nPara execução de serviços privados de poda ou remoção de árvore em área pública (calçadas, praças e parques), é necessária a abertura de processo administrativo no Setor de Protocolo da Fundação Parques e Jardins (Praça da República, s/nº, Campo de Santana, Centro), contendo obrigatoriamente a seguinte documentação:\\n\\n\\nRequerimento específico preenchido, disponível no site da Fundação\\nCópia da carteira de identidade e CPF do requerente\\nComprovante de residência\\nCroqui e foto da(s) árvore(s)\\nProcuração do representante legal, se for o caso\\n\\n\\nO processo será encaminhado à Diretoria de Arborização para vistoria e análise do serviço necessário. Posteriormente, e se autorizado o serviço solicitado, será emitida autorização específica. O serviço de poda ou remoção deverá ser realizado por empresa ou profissional credenciado na Fundação Parques e Jardins, conforme determina o Decreto 28.328/2007.\\nA autorização não implica em pagamento de taxa e a sua entrega será feita mediante a indicação do credenciado que realizará o serviço. Os custos decorrentes da execução do(s) serviço(s) são arcados pelo requerente e não pela Fundação Parques e Jardins.\\n\\n\\n\\n\\n<b>3. Informações complementares:</b>\\n\\nO serviço público de poda e remoção de árvores em calçadas, praças e parques é de responsabilidade da Companhia Municipal de Limpeza Urbana – COMLURB, conforme determinado pelo Decreto n° 28.981/2008.\\n\\n\\n\\n\\n<b>4. Prazo para avaliação técnica:</b>\\n\\nEm até 60 dias.', mimetype='text/plain', start_char_idx=1, end_char_idx=1592, text_template='{metadata_str}\\n\\n{content}', metadata_template='{key}: {value}', metadata_seperator='\\n'), score=1000.0),\n",
              " NodeWithScore(node=TextNode(id_='8f10204e-1d7a-4924-8afa-e1586d7e0c13', embedding=None, metadata={'file_path': 'macall-dados-pcrj/documentos/Reclamação_Arborização_Informações sobre poda e remoção de árvores em áreas públicas.txt', 'file_name': 'Reclamação_Arborização_Informações sobre poda e remoção de árvores em áreas públicas.txt', 'file_type': 'text/plain', 'file_size': 1679}, excluded_embed_metadata_keys=['file_name', 'file_type', 'file_size', 'creation_date', 'last_modified_date', 'last_accessed_date'], excluded_llm_metadata_keys=['file_name', 'file_type', 'file_size', 'creation_date', 'last_modified_date', 'last_accessed_date'], relationships={<NodeRelationship.SOURCE: '1'>: RelatedNodeInfo(node_id='s3_macall-dados-pcrj/documentos/Reclamação_Arborização_Informações sobre poda e remoção de árvores em áreas públicas.txt', node_type=<ObjectType.DOCUMENT: '4'>, metadata={'file_path': 'macall-dados-pcrj/documentos/Reclamação_Arborização_Informações sobre poda e remoção de árvores em áreas públicas.txt', 'file_name': 'Reclamação_Arborização_Informações sobre poda e remoção de árvores em áreas públicas.txt', 'file_type': 'text/plain', 'file_size': 1679}, hash='73bb4140ae81a333996556635df926058f38db8b472e885e1fbbc9ae89c0a291')}, text='<b>1. O que é o serviço:</b>\\n\\nPoda e remoção de árvores em áreas públicas realizadas por particular.\\n\\n\\n\\n\\n<b>2. Como solicitar:</b>\\n\\nPara execução de serviços privados de poda ou remoção de árvore em área pública (calçadas, praças e parques), é necessária a abertura de processo administrativo no Setor de Protocolo da Fundação Parques e Jardins (Praça da República, s/nº, Campo de Santana, Centro), contendo obrigatoriamente a seguinte documentação:\\n\\n\\nRequerimento específico preenchido, disponível no site da Fundação\\nCópia da carteira de identidade e CPF do requerente\\nComprovante de residência\\nCroqui e foto da(s) árvore(s)\\nProcuração do representante legal, se for o caso\\n\\n\\nO processo será encaminhado à Diretoria de Arborização para vistoria e análise do serviço necessário. Posteriormente, e se autorizado o serviço solicitado, será emitida autorização específica. O serviço de poda ou remoção deverá ser realizado por empresa ou profissional credenciado na Fundação Parques e Jardins, conforme determina o Decreto 28.328/2007.\\n\\nA autorização não implica em pagamento de taxa e a sua entrega será feita mediante a indicação do credenciado que realizará o serviço. Os custos decorrentes da execução do(s) serviço(s) são arcados pelo requerente e não pela Fundação Parques e Jardins.\\n\\n\\n\\n\\n\\n<b>3. Informações complementares:</b>\\n\\nO serviço público de poda e remoção de árvores em calçadas, praças e parques é de responsabilidade da Companhia Municipal de Limpeza Urbana – COMLURB, conforme determinado pelo Decreto n° 28.981/2008.\\n\\n\\n\\n\\n<b>4. Prazo para avaliação técnica:</b>\\n\\nEm até 60 dias.', mimetype='text/plain', start_char_idx=1, end_char_idx=1594, text_template='{metadata_str}\\n\\n{content}', metadata_template='{key}: {value}', metadata_seperator='\\n'), score=1000.0),\n",
              " NodeWithScore(node=TextNode(id_='1c4da35e-25ca-4f5a-9394-0be40b964279', embedding=None, metadata={'file_path': 'macall-dados-pcrj/documentos/Serviço_Pavimentação_Reparo de buraco, deformação ou afundamento na pista.txt', 'file_name': 'Serviço_Pavimentação_Reparo de buraco, deformação ou afundamento na pista.txt', 'file_type': 'text/plain', 'file_size': 2311}, excluded_embed_metadata_keys=['file_name', 'file_type', 'file_size', 'creation_date', 'last_modified_date', 'last_accessed_date'], excluded_llm_metadata_keys=['file_name', 'file_type', 'file_size', 'creation_date', 'last_modified_date', 'last_accessed_date'], relationships={<NodeRelationship.SOURCE: '1'>: RelatedNodeInfo(node_id='s3_macall-dados-pcrj/documentos/Serviço_Pavimentação_Reparo de buraco, deformação ou afundamento na pista.txt', node_type=<ObjectType.DOCUMENT: '4'>, metadata={'file_path': 'macall-dados-pcrj/documentos/Serviço_Pavimentação_Reparo de buraco, deformação ou afundamento na pista.txt', 'file_name': 'Serviço_Pavimentação_Reparo de buraco, deformação ou afundamento na pista.txt', 'file_type': 'text/plain', 'file_size': 2311}, hash='116aaff6974146b1803ea0fa331c77215c4179d90ac001063a42f4e94db62ab5'), <NodeRelationship.PREVIOUS: '2'>: RelatedNodeInfo(node_id='025dbb3e-e32e-4b8d-9d7c-4d968e83f40b', node_type=<ObjectType.TEXT: '1'>, metadata={'file_path': 'macall-dados-pcrj/documentos/Serviço_Pavimentação_Reparo de buraco, deformação ou afundamento na pista.txt', 'file_name': 'Serviço_Pavimentação_Reparo de buraco, deformação ou afundamento na pista.txt', 'file_type': 'text/plain', 'file_size': 2311}, hash='ac19bddc6766439821d2f71cd782d2f88658a706afa7fff7c28e73b0669e6eec')}, text='<b>3. Informações necessárias para abertura do chamado:</b>\\n\\n- Rua, bairro, pontos de referência (número da residência ou estabelecimento localizado em frente do buraco, deformação ou afundamento; localização entre as ruas x e y, na esquina entre a rua x e rua y etc)\\n- Informar se há água no buraco ou afundamento\\n- Informar se há risco de acidente\\n- Informar sobre o tipo de pavimento (asfalto, paralelepípedo, terra)\\n\\n\\n\\nSerá feita uma vistoria técnica e este chamado será requalificado, podendo haver alteração no prazo de acordo com a avaliação técnica.\\n- Fiscalização em até 72h,\\n- Reparo de Buraco na Pista em até 6 dias úteis,\\n- Reparo de Asfalto com Afundamento em até 20 dias úteis,\\n- Renivelamento de Tampão e Grelha em até 12 dias úteis.\\n\\n<b>\\n\\n</b>\\n\\n\\n<b>4. Prazo de atendimento:</b>\\n\\nAté 6 dias úteis.\\n\\n<b>\\n\\n</b>\\n\\n\\n<b>5. Informações complementares:</b>\\n\\nCaso o buraco ou afundamento tenha provocado dano ao veículo que impeça sua movimentação, deve-se entrar em contato com o telefone 0800-282-8664 da CETRIO, para reboque do veículo e melhoria da fluidez do trânsito. O serviço funciona gratuitamente em diversas regiões da cidade, 24 horas por dia, 7 dias por semana.', mimetype='text/plain', start_char_idx=1049, end_char_idx=2229, text_template='{metadata_str}\\n\\n{content}', metadata_template='{key}: {value}', metadata_seperator='\\n'), score=1000.0),\n",
              " NodeWithScore(node=TextNode(id_='f91e2efb-305a-4960-b1a7-2d998a6d17d7', embedding=None, metadata={'file_path': 'macall-dados-pcrj/documentos/Serviço_Iluminação Pública_Poda de árvore por obstrução da Iluminação Pública.txt', 'file_name': 'Serviço_Iluminação Pública_Poda de árvore por obstrução da Iluminação Pública.txt', 'file_type': 'text/plain', 'file_size': 696}, excluded_embed_metadata_keys=['file_name', 'file_type', 'file_size', 'creation_date', 'last_modified_date', 'last_accessed_date'], excluded_llm_metadata_keys=['file_name', 'file_type', 'file_size', 'creation_date', 'last_modified_date', 'last_accessed_date'], relationships={<NodeRelationship.SOURCE: '1'>: RelatedNodeInfo(node_id='s3_macall-dados-pcrj/documentos/Serviço_Iluminação Pública_Poda de árvore por obstrução da Iluminação Pública.txt', node_type=<ObjectType.DOCUMENT: '4'>, metadata={'file_path': 'macall-dados-pcrj/documentos/Serviço_Iluminação Pública_Poda de árvore por obstrução da Iluminação Pública.txt', 'file_name': 'Serviço_Iluminação Pública_Poda de árvore por obstrução da Iluminação Pública.txt', 'file_type': 'text/plain', 'file_size': 696}, hash='7eb2e34b98826685ee04b964b6c815d113e3e6b7dc42d1b7aab2b59b483565dc')}, text='<b>1. O que é o serviço:</b>\\n\\n\\n\\nSolicitação de poda de árvore por obstrução da Iluminação Pública. Quando a iluminação pública estiver prejudicada por galhos/folhagem de árvores, ou atrapalhando o conserto da lâmpada.\\n\\n\\n\\xa0\\n\\n\\n\\n<b>2. Informações necessárias para solicitação do serviço:</b>\\n\\n\\n\\nEndereço completo, com o nome do bairro, rua e pontos de referência.\\xa0\\n\\n\\nEm condomínio, vila, loteamento, comunidade e conjunto habitacional: informe rua e o número de acesso, juntamente com o endereço.\\xa0\\n\\n\\nEm praças: informe o nome e se é dentro da praça ou na quadra de esportes\\n\\n\\n\\n\\n\\n\\n\\n\\n<b>3. Prazo previsto para execução do serviço:\\xa0</b>\\n\\n\\n\\nEm até 7 dias corridos.', mimetype='text/plain', start_char_idx=2, end_char_idx=658, text_template='{metadata_str}\\n\\n{content}', metadata_template='{key}: {value}', metadata_seperator='\\n'), score=1000.0),\n",
              " NodeWithScore(node=TextNode(id_='9be39c19-150d-4224-ae8e-454ff3c73863', embedding=None, metadata={'file_path': 'macall-dados-pcrj/documentos/Reclamação_Iluminação Pública_Reparo de lâmpada acesa durante o dia na TransOeste.txt', 'file_name': 'Reclamação_Iluminação Pública_Reparo de lâmpada acesa durante o dia na TransOeste.txt', 'file_type': 'text/plain', 'file_size': 542}, excluded_embed_metadata_keys=['file_name', 'file_type', 'file_size', 'creation_date', 'last_modified_date', 'last_accessed_date'], excluded_llm_metadata_keys=['file_name', 'file_type', 'file_size', 'creation_date', 'last_modified_date', 'last_accessed_date'], relationships={<NodeRelationship.SOURCE: '1'>: RelatedNodeInfo(node_id='s3_macall-dados-pcrj/documentos/Reclamação_Iluminação Pública_Reparo de lâmpada acesa durante o dia na TransOeste.txt', node_type=<ObjectType.DOCUMENT: '4'>, metadata={'file_path': 'macall-dados-pcrj/documentos/Reclamação_Iluminação Pública_Reparo de lâmpada acesa durante o dia na TransOeste.txt', 'file_name': 'Reclamação_Iluminação Pública_Reparo de lâmpada acesa durante o dia na TransOeste.txt', 'file_type': 'text/plain', 'file_size': 542}, hash='9872d15f8f95776d9ebbbc87dfb61437f692efe52a7612fe1dc0eb43e59b8179')}, text='<b>1. O que é serviço:</b>\\xa0\\nVerificação de até 4 postes com lâmpadas acesas durante o dia, intercalados ou em sequência.\\xa0\\xa0 <b>2. Caso de uso de outro subtipo:</b>\\nSe forem\\xa05 ou mais postes em sequência com lâmpadas acesas, use o subtipo\\xa0Reparo de bloco de lâmpadas acesas durante o dia na TransOeste.\\n\\n<b>3. Informações necessárias para abertura do chamado:</b>\\n\\n\\n\\n\\nNome da Estação BRT\\nPonto de referência\\nSentido: Barra da Tijuca ou Santa Cruz.\\nDescrição\\n\\n<b>4.\\xa0Prazo de atendimento:\\xa0</b>\\nEm até 48 horas corridas.', mimetype='text/plain', start_char_idx=1, end_char_idx=516, text_template='{metadata_str}\\n\\n{content}', metadata_template='{key}: {value}', metadata_seperator='\\n'), score=1000.0),\n",
              " NodeWithScore(node=TextNode(id_='c5ff725f-0ec7-4dc6-b462-cc671c0271a8', embedding=None, metadata={'file_path': 'macall-dados-pcrj/documentos/Reclamação_Incentivo Cultural_Informações sobre o uso da marca da Prefeitura .txt', 'file_name': 'Reclamação_Incentivo Cultural_Informações sobre o uso da marca da Prefeitura .txt', 'file_type': 'text/plain', 'file_size': 656}, excluded_embed_metadata_keys=['file_name', 'file_type', 'file_size', 'creation_date', 'last_modified_date', 'last_accessed_date'], excluded_llm_metadata_keys=['file_name', 'file_type', 'file_size', 'creation_date', 'last_modified_date', 'last_accessed_date'], relationships={<NodeRelationship.SOURCE: '1'>: RelatedNodeInfo(node_id='s3_macall-dados-pcrj/documentos/Reclamação_Incentivo Cultural_Informações sobre o uso da marca da Prefeitura .txt', node_type=<ObjectType.DOCUMENT: '4'>, metadata={'file_path': 'macall-dados-pcrj/documentos/Reclamação_Incentivo Cultural_Informações sobre o uso da marca da Prefeitura .txt', 'file_name': 'Reclamação_Incentivo Cultural_Informações sobre o uso da marca da Prefeitura .txt', 'file_type': 'text/plain', 'file_size': 656}, hash='ab0ae17e0ffad1daa823d7eabe6b3d922787d3c90dc60071c770e3e4cfa876a6')}, text='<b>1. O que é o serviço:</b>\\n\\nInformações sobre o uso da marca da Prefeitura da Cidade do Rio de Janeiro (PCRJ) em projetos culturais para comunicação social feita pelos produtores contemplados por editais da Secretaria Municipal de Cultura, além do uso de marcas dos próprios editais.\\n\\n\\n\\n\\n<b>2. Como solicitar:\\xa0</b>\\n\\nO contato para aprovação deve ser feito pelo e-mail marcasmc.cultura@gmail.com, com até 10 dias de antecedência da etapa de divulgação do projeto cultural. Todos os materiais devem ser aprovados. O Manual de Aplicação da Marca deve ser solicitado pelo mesmo e-mail.\\nNão é possível solicitar as marcas presencialmente.', mimetype='text/plain', start_char_idx=1, end_char_idx=636, text_template='{metadata_str}\\n\\n{content}', metadata_template='{key}: {value}', metadata_seperator='\\n'), score=1000.0),\n",
              " NodeWithScore(node=TextNode(id_='ae6eebd9-40ab-4c71-b433-9fa291022908', embedding=None, metadata={'file_path': 'macall-dados-pcrj/documentos/Reclamação_Nota Carioca_Nota Carioca - Base de Cálculo: Deduções.txt', 'file_name': 'Reclamação_Nota Carioca_Nota Carioca - Base de Cálculo: Deduções.txt', 'file_type': 'text/plain', 'file_size': 627}, excluded_embed_metadata_keys=['file_name', 'file_type', 'file_size', 'creation_date', 'last_modified_date', 'last_accessed_date'], excluded_llm_metadata_keys=['file_name', 'file_type', 'file_size', 'creation_date', 'last_modified_date', 'last_accessed_date'], relationships={<NodeRelationship.SOURCE: '1'>: RelatedNodeInfo(node_id='s3_macall-dados-pcrj/documentos/Reclamação_Nota Carioca_Nota Carioca - Base de Cálculo: Deduções.txt', node_type=<ObjectType.DOCUMENT: '4'>, metadata={'file_path': 'macall-dados-pcrj/documentos/Reclamação_Nota Carioca_Nota Carioca - Base de Cálculo: Deduções.txt', 'file_name': 'Reclamação_Nota Carioca_Nota Carioca - Base de Cálculo: Deduções.txt', 'file_type': 'text/plain', 'file_size': 627}, hash='16fa18e715f932a949a6d2a444f2ef848fa337f414e36c162ac4816f4dd22ac5')}, text='<b>1. O que é o serviço:</b>\\xa0Informações sobre deduções sobre a base de cálculo do imposto.<b>2. Como solicitar:</b>A cada emissão de Nota Carioca será necessário informar o item da lista de serviços a que corresponde o serviço prestado, conforme a legislação.Caso haja previsão legal para deduções de base de cálculo de ISS naquele serviço, o sistema permitirá o registro de valores no campo Deduções. Caso contrário, este campo estará desabilitado.<b>3. Informações complementares:</b>Dedução  é quando é permitido, por lei, subtrair/abater algum valor do total de imposto a ser recolhido/pago.', mimetype='text/plain', start_char_idx=0, end_char_idx=596, text_template='{metadata_str}\\n\\n{content}', metadata_template='{key}: {value}', metadata_seperator='\\n'), score=1000.0),\n",
              " NodeWithScore(node=TextNode(id_='6db60331-49aa-4c75-8bf5-5763a380b6d7', embedding=None, metadata={'file_path': 'macall-dados-pcrj/documentos/Informações_Feiras_Restabelecimento de Matrícula para Feiras Livres, Feiras Móveis, Feiras Especiais, Antiquários e Feirartes.txt', 'file_name': 'Informações_Feiras_Restabelecimento de Matrícula para Feiras Livres, Feiras Móveis, Feiras Especiais, Antiquários e Feirartes.txt', 'file_type': 'text/plain', 'file_size': 3276}, excluded_embed_metadata_keys=['file_name', 'file_type', 'file_size', 'creation_date', 'last_modified_date', 'last_accessed_date'], excluded_llm_metadata_keys=['file_name', 'file_type', 'file_size', 'creation_date', 'last_modified_date', 'last_accessed_date'], relationships={<NodeRelationship.SOURCE: '1'>: RelatedNodeInfo(node_id='s3_macall-dados-pcrj/documentos/Informações_Feiras_Restabelecimento de Matrícula para Feiras Livres, Feiras Móveis, Feiras Especiais, Antiquários e Feirartes.txt', node_type=<ObjectType.DOCUMENT: '4'>, metadata={'file_path': 'macall-dados-pcrj/documentos/Informações_Feiras_Restabelecimento de Matrícula para Feiras Livres, Feiras Móveis, Feiras Especiais, Antiquários e Feirartes.txt', 'file_name': 'Informações_Feiras_Restabelecimento de Matrícula para Feiras Livres, Feiras Móveis, Feiras Especiais, Antiquários e Feirartes.txt', 'file_type': 'text/plain', 'file_size': 3276}, hash='484d7d8fe73410de2c516cfbb14e86252fdae59fae95d1158e8fa51f5be2a642'), <NodeRelationship.NEXT: '3'>: RelatedNodeInfo(node_id='d7d66fac-b6df-4848-8f30-7d7f1d94048c', node_type=<ObjectType.TEXT: '1'>, metadata={}, hash='f9802e8c70b52edb34f4dac68a7778d0aff518e249c672ac4aff3286d428495c')}, text='<b>1. O que é o serviço:</b>\\xa0\\n\\n\\n\\nRequerimento de restabelecimento de matrícula para feiras livres, feiras móveis, feiras especiais, antiquários e feirartes, junto à Coordenadoria de Feiras.\\n\\n\\n\\n\\n<b>2. Prazo de atendimento:</b>\\n\\nAté 90 dias corridos.\\n\\n\\n\\n\\n<b>3. Como solicitar:</b>\\n\\n\\n\\n\\n\\n\\nPARA SOLICITAR VIRTUALMENTE:\\n\\n\\n\\n\\n\\nAcesse\\xa0https://carioca.rio/servicos/requerimento-de-restabelecimento-de-matricula-para-feiras-livres-feiras-moveis-feiras-especiais-antiquarios-e-feirartes/\\xa0e seja redirecionado para a página do serviço no Carioca Digital.\\n\\n\\n\\nClique em Acessar o serviço e entre com sua identidade carioca ou sua conta Gov.Br. Caso não possua nenhum deles, você terá que criá-lo para acessar o serviço.\\n\\n\\n\\nApós o login, suas informações pessoais serão automaticamente exibidas.\\n\\n\\n\\nCaso você seja um representante legal (Procurador ou Despachante), selecione “Solicitação feita por representante legal” e preencha com o nome e CPF do representado. Nesse caso, é obrigatória a apresentação da Procuração ou documento comprobatório da representação legal.\\n\\n\\n\\nInforme o Motivo, o número da Matrícula e Telefone.\\n\\n\\n\\nAnexe os arquivos em PDF com até 10 Mb contendo a documentação necessária.\\n\\n\\n\\n\\nSelecione o campo “Declaro que li e estou ciente dos termos de uso e de que todas as notificações eletrônicas serão feitas através do e-mail\\ncadastrado”.\\n\\n\\n\\n\\n\\n<b>IMPORTANTE: TODAS AS COMUNICAÇÕES ELETRÔNICAS SERÃO FEITAS ATRAVÉS DO E-MAIL CADASTRADO.</b>\\n\\n\\n\\n\\nClique em Enviar.', mimetype='text/plain', start_char_idx=1, end_char_idx=1469, text_template='{metadata_str}\\n\\n{content}', metadata_template='{key}: {value}', metadata_seperator='\\n'), score=1000.0),\n",
              " NodeWithScore(node=TextNode(id_='38efe141-de6e-4f5f-b7a4-a929a7be47ee', embedding=None, metadata={'kg_rel_texts': [\"('Serviço', 'É', 'Vistoria e avaliação da necessidade de retirada de árvore')\", \"('Engenheiro florestal', 'Avalia', 'Necessidade de poda da árvore')\", \"('Serviço', 'É', 'Poda e remoção de árvores em áreas públicas')\", \"('Serviço', 'É', 'Poda e remoção de árvores')\", \"['É', 'Necessária após exumação definitiva']\", \"('Serviço', 'É', 'Retirada de árvore caída')\", \"['CAUSA', 'Dano ou morte do vegetal']\"], 'kg_rel_map': {'Remoção': [['É', 'Necessária após exumação definitiva']], 'Árvore': [['CAUSA', 'Dano ou morte do vegetal']]}, 'kg_schema': {'schema': 'Node properties are the following:\\n\\nRelationship properties are the following:\\n\\nThe relationships are the following:\\n'}}, excluded_embed_metadata_keys=['kg_rel_map', 'kg_rel_texts'], excluded_llm_metadata_keys=['kg_rel_map', 'kg_rel_texts'], relationships={}, text=\"The following are knowledge sequence in max depth 2 in the form of directed graph like:\\n`subject -[predicate]->, object, <-[predicate_next_hop]-, object_next_hop ...`\\n('Serviço', 'É', 'Vistoria e avaliação da necessidade de retirada de árvore')\\n('Engenheiro florestal', 'Avalia', 'Necessidade de poda da árvore')\\n('Serviço', 'É', 'Poda e remoção de árvores em áreas públicas')\\n('Serviço', 'É', 'Poda e remoção de árvores')\\n['É', 'Necessária após exumação definitiva']\\n('Serviço', 'É', 'Retirada de árvore caída')\\n['CAUSA', 'Dano ou morte do vegetal']\", mimetype='text/plain', start_char_idx=None, end_char_idx=None, text_template='{metadata_str}\\n\\n{content}', metadata_template='{key}: {value}', metadata_seperator='\\n'), score=1000.0)]"
            ]
          },
          "metadata": {},
          "execution_count": 81
        }
      ],
      "source": [
        "retriever_response_1"
      ]
    },
    {
      "cell_type": "markdown",
      "source": [
        "Nós recuperados:"
      ],
      "metadata": {
        "id": "7J0G_CLeNjTm"
      }
    },
    {
      "cell_type": "code",
      "source": [
        "kg_rel_texts = [node.node.metadata.get('kg_rel_texts', None) for node in retriever_response_1 if node.node.metadata.get('kg_rel_texts', None) is not None]\n",
        "kg_rel_map = [node.node.metadata.get('kg_rel_map', None) for node in retriever_response_1 if node.node.metadata.get('kg_rel_map', None) is not None]\n",
        "kg_rel_texts, kg_rel_map"
      ],
      "metadata": {
        "colab": {
          "base_uri": "https://localhost:8080/"
        },
        "id": "9FDsC5nVLBYh",
        "outputId": "bab630c7-3b21-45ad-8e0d-96d64a7c76f3"
      },
      "execution_count": null,
      "outputs": [
        {
          "output_type": "execute_result",
          "data": {
            "text/plain": [
              "([[\"('Serviço', 'É', 'Vistoria e avaliação da necessidade de retirada de árvore')\",\n",
              "   \"('Engenheiro florestal', 'Avalia', 'Necessidade de poda da árvore')\",\n",
              "   \"('Serviço', 'É', 'Poda e remoção de árvores em áreas públicas')\",\n",
              "   \"('Serviço', 'É', 'Poda e remoção de árvores')\",\n",
              "   \"['É', 'Necessária após exumação definitiva']\",\n",
              "   \"('Serviço', 'É', 'Retirada de árvore caída')\",\n",
              "   \"['CAUSA', 'Dano ou morte do vegetal']\"]],\n",
              " [{'Remoção': [['É', 'Necessária após exumação definitiva']],\n",
              "   'Árvore': [['CAUSA', 'Dano ou morte do vegetal']]}])"
            ]
          },
          "metadata": {},
          "execution_count": 86
        }
      ]
    },
    {
      "cell_type": "code",
      "source": [
        "inicio = time.time()\n",
        "retriever_response_2 = index.as_retriever(similarity_top_k=5, vector_store_query_mode=\"hybrid\").retrieve(\"Como me ser beneficiado pelo bolsa-família?\")\n",
        "fim = time.time()\n",
        "tempo_decorrido = fim - inicio\n",
        "print(f\"Tempo de recuperação: {tempo_decorrido} segundos\")"
      ],
      "metadata": {
        "id": "ezS9Y-JNLh0v",
        "colab": {
          "base_uri": "https://localhost:8080/"
        },
        "outputId": "59bb2781-be1d-4235-95d9-e7675c4cbf21"
      },
      "execution_count": null,
      "outputs": [
        {
          "output_type": "stream",
          "name": "stdout",
          "text": [
            "Tempo de recuperação: 1.7258391380310059 segundos\n"
          ]
        }
      ]
    },
    {
      "cell_type": "code",
      "source": [
        "retriever_response_2"
      ],
      "metadata": {
        "colab": {
          "base_uri": "https://localhost:8080/"
        },
        "collapsed": true,
        "id": "x96XlTJTLrwF",
        "outputId": "ffcecf56-afb1-44ae-e795-3940a39cdf94"
      },
      "execution_count": null,
      "outputs": [
        {
          "output_type": "execute_result",
          "data": {
            "text/plain": [
              "[NodeWithScore(node=TextNode(id_='277016bf-1dc0-4bbf-9e78-4619018ce6c8', embedding=None, metadata={'file_path': 'macall-dados-pcrj/documentos/Informações_Cadastro Único_Informações sobre o Programa Bolsa Família .txt', 'file_name': 'Informações_Cadastro Único_Informações sobre o Programa Bolsa Família .txt', 'file_type': 'text/plain', 'file_size': 4440}, excluded_embed_metadata_keys=['file_name', 'file_type', 'file_size', 'creation_date', 'last_modified_date', 'last_accessed_date'], excluded_llm_metadata_keys=['file_name', 'file_type', 'file_size', 'creation_date', 'last_modified_date', 'last_accessed_date'], relationships={<NodeRelationship.SOURCE: '1'>: RelatedNodeInfo(node_id='s3_macall-dados-pcrj/documentos/Informações_Cadastro Único_Informações sobre o Programa Bolsa Família .txt', node_type=<ObjectType.DOCUMENT: '4'>, metadata={'file_path': 'macall-dados-pcrj/documentos/Informações_Cadastro Único_Informações sobre o Programa Bolsa Família .txt', 'file_name': 'Informações_Cadastro Único_Informações sobre o Programa Bolsa Família .txt', 'file_type': 'text/plain', 'file_size': 4440}, hash='44b157a77d9cdd3ac357e5c945b99b75029bc930471944aefe7f2dddea769b5d'), <NodeRelationship.PREVIOUS: '2'>: RelatedNodeInfo(node_id='8098547b-49c9-424a-a761-75176530a2bb', node_type=<ObjectType.TEXT: '1'>, metadata={'file_path': 'macall-dados-pcrj/documentos/Informações_Cadastro Único_Informações sobre o Programa Bolsa Família .txt', 'file_name': 'Informações_Cadastro Único_Informações sobre o Programa Bolsa Família .txt', 'file_type': 'text/plain', 'file_size': 4440}, hash='7f691012c79a3b6e27ff52dfb36668b9542cd475737f7bb74218ba4ef9bafcda'), <NodeRelationship.NEXT: '3'>: RelatedNodeInfo(node_id='305fafc0-3472-449e-9aea-baa6dd5f8a36', node_type=<ObjectType.TEXT: '1'>, metadata={}, hash='1e27a923d716044f3312c0889c1566536b0e9f3444208200b29348263f3e6821')}, text='<b>2. Benefícios dos programa:</b>\\xa0\\n\\nBenefício de Renda de Cidadania: no valor de R$142,00 (cento e quarenta e dois reais) por integrante da família, destinado a todas as famílias beneficiárias do Programa Bolsa Família;\\n\\n\\n\\n\\nBenefício Complementar: pago às famílias beneficiárias do Programa Bolsa Família que receberem, na soma dos benefícios financeiros, valor inferior a R$ 600,00 (seiscentos reais), e calculado pela diferença entre os dois valores;\\n\\n\\n\\n\\nBenefício Primeira Infância: no valor de R$ 150,00 (cento e cinquenta reais) por criança, e destinado às famílias beneficiárias que possuírem, em sua composição, crianças com idade entre 0 (zero) e 7 (sete) anos incompletos;\\n\\n\\n\\n\\nBenefício Variável Familiar: no valor de R$ 50,00 (cinquenta reais), e destinado às famílias beneficiárias que possuam, em sua composição:\\na) gestantes;\\nb) crianças, com idade entre 7 (sete) e 12 (doze) anos incompletos; ou\\nc) adolescentes, com idade entre 12 (doze) e 18 (dezoito) anos incompletos;\\xa0\\n\\n\\n\\n\\nBenefício Extraordinário de Transição: a ser pago exclusivamente às famílias que constarem como beneficiárias do Programa Auxílio Brasil, calculado pelo valor da diferença entre o montante dos valores recebidos pela família em maio de 2023 e o que vier a receber em junho de 2023. O valor será o suficiente para que não haja prejuízo para a família.\\n\\n\\n\\n\\n<b>3. Como Solicitar:</b>\\xa0\\nCompareça no Centro de Referência de Assistência Social – CRAS de referência de sua residência, de segunda a sexta das 8h às 17h, com todos os documentos originais das pessoas que residem na casa.', mimetype='text/plain', start_char_idx=1164, end_char_idx=2733, text_template='{metadata_str}\\n\\n{content}', metadata_template='{key}: {value}', metadata_seperator='\\n'), score=1000.0),\n",
              " NodeWithScore(node=TextNode(id_='305fafc0-3472-449e-9aea-baa6dd5f8a36', embedding=None, metadata={'file_path': 'macall-dados-pcrj/documentos/Informações_Cadastro Único_Informações sobre o Programa Bolsa Família .txt', 'file_name': 'Informações_Cadastro Único_Informações sobre o Programa Bolsa Família .txt', 'file_type': 'text/plain', 'file_size': 4440}, excluded_embed_metadata_keys=['file_name', 'file_type', 'file_size', 'creation_date', 'last_modified_date', 'last_accessed_date'], excluded_llm_metadata_keys=['file_name', 'file_type', 'file_size', 'creation_date', 'last_modified_date', 'last_accessed_date'], relationships={<NodeRelationship.SOURCE: '1'>: RelatedNodeInfo(node_id='s3_macall-dados-pcrj/documentos/Informações_Cadastro Único_Informações sobre o Programa Bolsa Família .txt', node_type=<ObjectType.DOCUMENT: '4'>, metadata={'file_path': 'macall-dados-pcrj/documentos/Informações_Cadastro Único_Informações sobre o Programa Bolsa Família .txt', 'file_name': 'Informações_Cadastro Único_Informações sobre o Programa Bolsa Família .txt', 'file_type': 'text/plain', 'file_size': 4440}, hash='44b157a77d9cdd3ac357e5c945b99b75029bc930471944aefe7f2dddea769b5d'), <NodeRelationship.PREVIOUS: '2'>: RelatedNodeInfo(node_id='277016bf-1dc0-4bbf-9e78-4619018ce6c8', node_type=<ObjectType.TEXT: '1'>, metadata={'file_path': 'macall-dados-pcrj/documentos/Informações_Cadastro Único_Informações sobre o Programa Bolsa Família .txt', 'file_name': 'Informações_Cadastro Único_Informações sobre o Programa Bolsa Família .txt', 'file_type': 'text/plain', 'file_size': 4440}, hash='265bd61f29fe6eda54378e66f225821c3f0b9dc9ebd29a1dc20bfb4935cc2c48'), <NodeRelationship.NEXT: '3'>: RelatedNodeInfo(node_id='3df91121-0ef3-466a-8e45-67a423f2799c', node_type=<ObjectType.TEXT: '1'>, metadata={}, hash='f4ce56a391ec215ca7fb3849779f075ed27e94327c88f8e1356515d548b8b3f2')}, text='Benefício Extraordinário de Transição: a ser pago exclusivamente às famílias que constarem como beneficiárias do Programa Auxílio Brasil, calculado pelo valor da diferença entre o montante dos valores recebidos pela família em maio de 2023 e o que vier a receber em junho de 2023. O valor será o suficiente para que não haja prejuízo para a família.\\n\\n\\n\\n\\n<b>3. Como Solicitar:</b>\\xa0\\nCompareça no Centro de Referência de Assistência Social – CRAS de referência de sua residência, de segunda a sexta das 8h às 17h, com todos os documentos originais das pessoas que residem na casa.\\n\\n\\n\\n\\n\\n<b>4. Documentos necessários:</b>\\xa0\\xa0\\nDocumentos originais necessários para cadastro no CadÚnico:\\n\\n\\n\\n- Para o Responsável Familiar (documentos obrigatórios):\\n\\n\\nUm documento com foto;\\nCPF ou Título de Eleitor;\\nComprovante de residência ou, em sua falta, declaração de residência firmada pelo próprio Responsável Familiar.\\nPara os demais integrantes da família, é obrigatório um dos seguintes documentos:\\nCPF, de preferência;\\nTítulo de Eleitor;\\nCertidão de Nascimento ou Casamento;\\nCarteira de Identidade;\\nCarteira de Trabalho.\\n\\n\\n- Se houver crianças/adolescentes:\\n\\n\\nDeclaração escolar (preferencialmente).\\n\\n\\n- Família Unipessoal:\\n\\n\\nDocumento de identificação com foto;\\nDocumento contendo o número de CPF (de preferência) ou?o Título de Eleitor;?e\\xa0\\nComprovante de endereço, preferencialmente a conta de luz.', mimetype='text/plain', start_char_idx=2156, end_char_idx=3542, text_template='{metadata_str}\\n\\n{content}', metadata_template='{key}: {value}', metadata_seperator='\\n'), score=1000.0),\n",
              " NodeWithScore(node=TextNode(id_='8098547b-49c9-424a-a761-75176530a2bb', embedding=None, metadata={'file_path': 'macall-dados-pcrj/documentos/Informações_Cadastro Único_Informações sobre o Programa Bolsa Família .txt', 'file_name': 'Informações_Cadastro Único_Informações sobre o Programa Bolsa Família .txt', 'file_type': 'text/plain', 'file_size': 4440}, excluded_embed_metadata_keys=['file_name', 'file_type', 'file_size', 'creation_date', 'last_modified_date', 'last_accessed_date'], excluded_llm_metadata_keys=['file_name', 'file_type', 'file_size', 'creation_date', 'last_modified_date', 'last_accessed_date'], relationships={<NodeRelationship.SOURCE: '1'>: RelatedNodeInfo(node_id='s3_macall-dados-pcrj/documentos/Informações_Cadastro Único_Informações sobre o Programa Bolsa Família .txt', node_type=<ObjectType.DOCUMENT: '4'>, metadata={'file_path': 'macall-dados-pcrj/documentos/Informações_Cadastro Único_Informações sobre o Programa Bolsa Família .txt', 'file_name': 'Informações_Cadastro Único_Informações sobre o Programa Bolsa Família .txt', 'file_type': 'text/plain', 'file_size': 4440}, hash='44b157a77d9cdd3ac357e5c945b99b75029bc930471944aefe7f2dddea769b5d'), <NodeRelationship.NEXT: '3'>: RelatedNodeInfo(node_id='277016bf-1dc0-4bbf-9e78-4619018ce6c8', node_type=<ObjectType.TEXT: '1'>, metadata={}, hash='46eef797487bf68082ebf0f92a785e49d52353a6c517c6998833808a0d46e45a')}, text='<b>1. O que é o Serviço:</b>\\xa0\\nO Programa Auxílio Brasil foi substituído pelo programa bolsa família em março de 2023. O Bolsa Família é o maior programa de transferência de renda do Brasil, reconhecido internacionalmente por já ter tirado milhões de famílias da fome. O Governo Federal relançou o programa com mais proteção às famílias, com um modelo de benefício que considera o tamanho e as características familiares, aquelas com três ou mais pessoas passarão a receber mais do que uma pessoa que vive sozinha. Além de garantir renda básica para as famílias em situação de pobreza, o Programa Bolsa Família busca integrar políticas públicas, fortalecendo o acesso das famílias a direitos básicos como saúde, educação e assistência social. O Bolsa Família vai resgatar a dignidade e a cidadania das famílias também pela atuação em ações complementares por meio de articulação com outras políticas para a superação da pobreza e transformação social, tais como assistência social, esporte, ciência e trabalho. Para ser selecionada para o Programa Bolsa Família, a principal regra é que a renda de cada pessoa da família seja de, no máximo, R$ 218,00 por mês.\\n\\n\\n\\n\\n<b>2. Benefícios dos programa:</b>\\xa0\\n\\nBenefício de Renda de Cidadania: no valor de R$142,00 (cento e quarenta e dois reais) por integrante da família, destinado a todas as famílias beneficiárias do Programa Bolsa Família;\\n\\n\\n\\n\\nBenefício Complementar: pago às famílias beneficiárias do Programa Bolsa Família que receberem, na soma dos benefícios financeiros, valor inferior a R$ 600,00 (seiscentos reais), e calculado pela diferença entre os dois valores;', mimetype='text/plain', start_char_idx=1, end_char_idx=1617, text_template='{metadata_str}\\n\\n{content}', metadata_template='{key}: {value}', metadata_seperator='\\n'), score=1000.0),\n",
              " NodeWithScore(node=TextNode(id_='4ebdd1f7-5e01-4a3d-a786-f527e046dd14', embedding=None, metadata={'file_path': 'macall-dados-pcrj/documentos/Informações_Benefícios   Auxílios_Informações sobre o auxílio natalidade.txt', 'file_name': 'Informações_Benefícios   Auxílios_Informações sobre o auxílio natalidade.txt', 'file_type': 'text/plain', 'file_size': 2951}, excluded_embed_metadata_keys=['file_name', 'file_type', 'file_size', 'creation_date', 'last_modified_date', 'last_accessed_date'], excluded_llm_metadata_keys=['file_name', 'file_type', 'file_size', 'creation_date', 'last_modified_date', 'last_accessed_date'], relationships={<NodeRelationship.SOURCE: '1'>: RelatedNodeInfo(node_id='s3_macall-dados-pcrj/documentos/Informações_Benefícios   Auxílios_Informações sobre o auxílio natalidade.txt', node_type=<ObjectType.DOCUMENT: '4'>, metadata={'file_path': 'macall-dados-pcrj/documentos/Informações_Benefícios   Auxílios_Informações sobre o auxílio natalidade.txt', 'file_name': 'Informações_Benefícios   Auxílios_Informações sobre o auxílio natalidade.txt', 'file_type': 'text/plain', 'file_size': 2951}, hash='59b46796872fe77752f5effb004933c3bd018eae32ff2cd10e0cd95c893b892d'), <NodeRelationship.PREVIOUS: '2'>: RelatedNodeInfo(node_id='81b00e7d-1468-44f9-8f2c-7671937e5d11', node_type=<ObjectType.TEXT: '1'>, metadata={'file_path': 'macall-dados-pcrj/documentos/Informações_Benefícios   Auxílios_Informações sobre o auxílio natalidade.txt', 'file_name': 'Informações_Benefícios   Auxílios_Informações sobre o auxílio natalidade.txt', 'file_type': 'text/plain', 'file_size': 2951}, hash='05b32d5a4301ac0592e9b22f7ad99c5f1a6ecf5f7969065157b4b8af05da0021')}, text='<b>4. Informações complementares:</b>\\n\\nO Previ-Rio faz a leitura no sistema, analisa os requisitos e profere a decisão, que é migrada para o ERGON (Sistema de Recursos Humanos da PCRJ).\\xa0\\n\\n\\n\\nPerderá o direito ao auxílio, o segurado que não o requerer no prazo máximo de 2 meses, contados da data do nascimento.\\nSe ambos os genitores forem segurados do FUNPREVI o auxílio natalidade será pago àquele que tem o dependente cadastrado no salário família.\\nNo caso de natimorto, o auxílio natalidade será pago desde que a gestação tenha atingido a vigésima semana.\\nSe o segurado vier a falecer, o auxílio natalidade poderá ser requerido pelo representante legal do menor, observadas as disposições legais.\\n\\xa0\\n\\n<b>5. Prazo para a prestação do serviço:</b>\\xa0\\nA concessão de Auxílio Natalidade é deferida/indeferida automaticamente por parâmetros no sistema, baseados na legislação vigente.\\xa0\\nPara saber se o benefício foi creditado na conta bancária cadastrada, ligue 2599-4746 ou acesse http://wpro.rio.rj.gov.br/previrio\\xa0&gt; Consulta pagamentos &gt; Siga as instruções e quando abrir a planilha aperte as teclas “CTRL” + “F” ao mesmo tempo e ao abrir a janela, digitar matrícula.\\xa0\\n\\xa0\\n\\n<b>6. Legislação:</b>\\n\\nPortaria PREVI-RIO nº 969 de 12.01.2018.', mimetype='text/plain', start_char_idx=1590, end_char_idx=2828, text_template='{metadata_str}\\n\\n{content}', metadata_template='{key}: {value}', metadata_seperator='\\n'), score=1000.0),\n",
              " NodeWithScore(node=TextNode(id_='a0f2e1d3-f2f5-4757-bd02-e1ac1fa64db2', embedding=None, metadata={'file_path': 'macall-dados-pcrj/documentos/Reclamação_Ouvidoria Previ-Rio_Previ-Rio (servidores aposentados, ativos, dependentes e pensionistas).txt', 'file_name': 'Reclamação_Ouvidoria Previ-Rio_Previ-Rio (servidores aposentados, ativos, dependentes e pensionistas).txt', 'file_type': 'text/plain', 'file_size': 1974}, excluded_embed_metadata_keys=['file_name', 'file_type', 'file_size', 'creation_date', 'last_modified_date', 'last_accessed_date'], excluded_llm_metadata_keys=['file_name', 'file_type', 'file_size', 'creation_date', 'last_modified_date', 'last_accessed_date'], relationships={<NodeRelationship.SOURCE: '1'>: RelatedNodeInfo(node_id='s3_macall-dados-pcrj/documentos/Reclamação_Ouvidoria Previ-Rio_Previ-Rio (servidores aposentados, ativos, dependentes e pensionistas).txt', node_type=<ObjectType.DOCUMENT: '4'>, metadata={'file_path': 'macall-dados-pcrj/documentos/Reclamação_Ouvidoria Previ-Rio_Previ-Rio (servidores aposentados, ativos, dependentes e pensionistas).txt', 'file_name': 'Reclamação_Ouvidoria Previ-Rio_Previ-Rio (servidores aposentados, ativos, dependentes e pensionistas).txt', 'file_type': 'text/plain', 'file_size': 1974}, hash='c264e76bcc5df7179cc9b6ee9180ec0dac9750b797587c1238d1f2c71e664174'), <NodeRelationship.PREVIOUS: '2'>: RelatedNodeInfo(node_id='58b521f0-df44-456f-9bed-149c60b273c3', node_type=<ObjectType.TEXT: '1'>, metadata={'file_path': 'macall-dados-pcrj/documentos/Reclamação_Ouvidoria Previ-Rio_Previ-Rio (servidores aposentados, ativos, dependentes e pensionistas).txt', 'file_name': 'Reclamação_Ouvidoria Previ-Rio_Previ-Rio (servidores aposentados, ativos, dependentes e pensionistas).txt', 'file_type': 'text/plain', 'file_size': 1974}, hash='b5a110d8243dbe7ffcdbfdf6460eb7c2e70bdd72d62151f0772d46d36d8c5172')}, text='auxílio natalidade (só servidores aposentados e ativos têm direito)\\nauxílio adoção (só servidores aposentados e ativos têm direito)\\nauxílio educação (dependentes de servidores aposentados e ativos e pensionistas têm direito)\\nauxílio funeral (cidadãos e herdeiros após a morte de servidores aposentados, ativos e pensionistas têm direito)\\npecúlio “post-mortem” (somente herdeiros após a morte de servidores aposentados, ativos e pensionistas têm direito)\\nauxílio medicamento (servidores aposentados e ativos e pensionistas têm direito)\\nauxílio moradia (servidor acima de 65 anos e outros requisitos)\\nauxílio reclusão (será objeto de regulamentação própria)\\n\\n\\n\\n<b>5. Informações necessárias para abertura de chamado para a Ouvidoria:</b>\\n\\n\\n\\nnome completo e correto do servidor ou pensionista\\nCPF (com 11 algarismos, no formato XXX.XXX.XXX-XX)\\nMatrícula (com 7 algarismos, no formato: XXX.XXX-X)\\nProcesso (com 12 algarismos), sendo:\\n\\n\\nOs recentes do Previ-Rio\\xa0começam com 01/95X.XXX/201X\\xa0\\xa0\\nOs antigos com 05/ 5XX.XXX/XXXX (abertos antes de 2016/17)', mimetype='text/plain', start_char_idx=864, end_char_idx=1909, text_template='{metadata_str}\\n\\n{content}', metadata_template='{key}: {value}', metadata_seperator='\\n'), score=1000.0),\n",
              " NodeWithScore(node=TextNode(id_='2bea5473-43ee-4b94-a503-1833ab12d732', embedding=None, metadata={'file_path': 'macall-dados-pcrj/documentos/Informações_Benefícios   Auxílios_Informações sobre o auxílio natalidade.txt', 'file_name': 'Informações_Benefícios   Auxílios_Informações sobre o auxílio natalidade.txt', 'file_type': 'text/plain', 'file_size': 2951}, excluded_embed_metadata_keys=['file_name', 'file_type', 'file_size', 'creation_date', 'last_modified_date', 'last_accessed_date'], excluded_llm_metadata_keys=['file_name', 'file_type', 'file_size', 'creation_date', 'last_modified_date', 'last_accessed_date'], relationships={<NodeRelationship.SOURCE: '1'>: RelatedNodeInfo(node_id='s3_macall-dados-pcrj/documentos/Informações_Benefícios   Auxílios_Informações sobre o auxílio natalidade.txt', node_type=<ObjectType.DOCUMENT: '4'>, metadata={'file_path': 'macall-dados-pcrj/documentos/Informações_Benefícios   Auxílios_Informações sobre o auxílio natalidade.txt', 'file_name': 'Informações_Benefícios   Auxílios_Informações sobre o auxílio natalidade.txt', 'file_type': 'text/plain', 'file_size': 2951}, hash='59b46796872fe77752f5effb004933c3bd018eae32ff2cd10e0cd95c893b892d'), <NodeRelationship.NEXT: '3'>: RelatedNodeInfo(node_id='81b00e7d-1468-44f9-8f2c-7671937e5d11', node_type=<ObjectType.TEXT: '1'>, metadata={}, hash='44ad335f67f774bb6b0918f0aa20624e070b094d6a25e56ac94ea7a1cbf241c6')}, text='<b>1. O que é o serviço:\\xa0</b>\\n\\nO Auxílio Natalidade é um benefício pago uma única vez, como uma ajuda financeira a servidores estatutários ativos ou inativos, ou ao representante legal do menor em caso de falecimento do servidor segurado, que tiverem filho.\\xa0\\n\\xa0\\n\\n<b>2. Como o órgão atua:</b>\\n\\nO valor do auxílio natalidade corresponderá ao valor do menor vencimento vigente no Município (não corresponde ao salário mínimo nacional) na data da ocorrência do fato gerador do benefício.\\nO pagamento do benefício será realizado em conta corrente cadastrada do segurado e a criança deve ser registrada no setor de recursos humanos da secretaria do servidor ativo ou no Previ-Rio para aqueles que são aposentados, comparecer na Central de atendimento Previrio situada na Rua Afonso Cavalcanti, 455 bloco 2 Térreo – Cidade Nova.\\nO segurado do FUNPREVI que tenha percebido remuneração, proventos e pensão que, somados, sejam iguais ou inferiores ao valor correspondente a 4 vezes o valor do salário mínimo nacional no mês do fato gerador, fará jus ao pagamento de 1 auxílio natalidade, para cada filho que nascer.\\xa0\\n\\xa0\\n\\n<b>3. Como solicitar:\\xa0</b>\\n\\nApós 48 horas do registro da criança no sistema, deve ser feita a inscrição para o auxílio natalidade no site do Previ-Rio (http://wpro.rio.rj.gov.br/previrio) &gt; Inscrições e consultas &gt; Escolher uma das opções \"Se você já possui uma senha”; \"Se você esqueceu a sua senha\" e “Se você ainda não possui uma senha ou não tem mais acesso ao seu e-mail cadastrado” &gt; Acessar o sistema &gt; Natalidade &gt; realizar a inscrição da criança.', mimetype='text/plain', start_char_idx=5, end_char_idx=1584, text_template='{metadata_str}\\n\\n{content}', metadata_template='{key}: {value}', metadata_seperator='\\n'), score=1000.0),\n",
              " NodeWithScore(node=TextNode(id_='d5510713-03e8-42a2-b6a8-5e1671a6ea0c', embedding=None, metadata={'kg_rel_texts': [\"('Auxílio natalidade', 'Será pago', 'Àquele que tem o dependente cadastrado no salário família')\", \"('Programa bolsa família', 'É', 'Maior programa de transferência de renda do brasil')\", \"('Programa bolsa família', 'Paga', 'Benefício extraordinário de transição')\", \"('Programa bolsa família', 'Oferece', 'Benefício de renda de cidadania')\", \"('Programa bolsa família', 'Oferece', 'Benefício complementar')\", \"['DEVE_OBSERVAR', 'Último dígito do nis']\"], 'kg_rel_map': {'Família': [['DEVE_OBSERVAR', 'Último dígito do nis']]}, 'kg_schema': {'schema': 'Node properties are the following:\\n\\nRelationship properties are the following:\\n\\nThe relationships are the following:\\n'}}, excluded_embed_metadata_keys=['kg_rel_map', 'kg_rel_texts'], excluded_llm_metadata_keys=['kg_rel_map', 'kg_rel_texts'], relationships={}, text=\"The following are knowledge sequence in max depth 2 in the form of directed graph like:\\n`subject -[predicate]->, object, <-[predicate_next_hop]-, object_next_hop ...`\\n('Auxílio natalidade', 'Será pago', 'Àquele que tem o dependente cadastrado no salário família')\\n('Programa bolsa família', 'É', 'Maior programa de transferência de renda do brasil')\\n('Programa bolsa família', 'Paga', 'Benefício extraordinário de transição')\\n('Programa bolsa família', 'Oferece', 'Benefício de renda de cidadania')\\n('Programa bolsa família', 'Oferece', 'Benefício complementar')\\n['DEVE_OBSERVAR', 'Último dígito do nis']\", mimetype='text/plain', start_char_idx=None, end_char_idx=None, text_template='{metadata_str}\\n\\n{content}', metadata_template='{key}: {value}', metadata_seperator='\\n'), score=1000.0)]"
            ]
          },
          "metadata": {},
          "execution_count": 88
        }
      ]
    },
    {
      "cell_type": "markdown",
      "source": [
        "Nós recuperados:"
      ],
      "metadata": {
        "id": "nQjH2FkdNkm1"
      }
    },
    {
      "cell_type": "code",
      "source": [
        "kg_rel_texts = [node.node.metadata.get('kg_rel_texts', None) for node in retriever_response_2 if node.node.metadata.get('kg_rel_texts', None) is not None]\n",
        "kg_rel_map = [node.node.metadata.get('kg_rel_map', None) for node in retriever_response_2 if node.node.metadata.get('kg_rel_map', None) is not None]\n",
        "kg_rel_texts, kg_rel_map"
      ],
      "metadata": {
        "colab": {
          "base_uri": "https://localhost:8080/"
        },
        "id": "FBkF5MsJLu2c",
        "outputId": "71dbe4ef-4f4a-419a-e7e6-7bd33a7edc98"
      },
      "execution_count": null,
      "outputs": [
        {
          "output_type": "execute_result",
          "data": {
            "text/plain": [
              "([[\"('Auxílio natalidade', 'Será pago', 'Àquele que tem o dependente cadastrado no salário família')\",\n",
              "   \"('Programa bolsa família', 'É', 'Maior programa de transferência de renda do brasil')\",\n",
              "   \"('Programa bolsa família', 'Paga', 'Benefício extraordinário de transição')\",\n",
              "   \"('Programa bolsa família', 'Oferece', 'Benefício de renda de cidadania')\",\n",
              "   \"('Programa bolsa família', 'Oferece', 'Benefício complementar')\",\n",
              "   \"['DEVE_OBSERVAR', 'Último dígito do nis']\"]],\n",
              " [{'Família': [['DEVE_OBSERVAR', 'Último dígito do nis']]}])"
            ]
          },
          "metadata": {},
          "execution_count": 89
        }
      ]
    }
  ],
  "metadata": {
    "colab": {
      "provenance": []
    },
    "kernelspec": {
      "display_name": "Python 3",
      "name": "python3"
    },
    "language_info": {
      "name": "python"
    }
  },
  "nbformat": 4,
  "nbformat_minor": 0
}