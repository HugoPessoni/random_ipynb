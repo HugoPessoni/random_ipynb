{
  "nbformat": 4,
  "nbformat_minor": 0,
  "metadata": {
    "colab": {
      "provenance": [],
      "toc_visible": true
    },
    "kernelspec": {
      "name": "python3",
      "display_name": "Python 3"
    },
    "language_info": {
      "name": "python"
    }
  },
  "cells": [
    {
      "cell_type": "markdown",
      "source": [
        "# Arquitetura Medallion\n",
        "A Arquitetura Medallion é uma abordagem para construir um Data Warehouse ou Data Lake focada em qualidade, confiabilidade e acessibilidade dos dados. Ela organiza os dados em camadas com níveis crescentes de refinamento, estrutura e valor de negócio, similar a um processo de lapidação de um diamante bruto até uma joia polida e valiosa.\n",
        "\n",
        "As camadas da Arquitetura Medallion são:\n",
        "\n",
        "1. Bronze (Bruta):\n",
        "\n",
        "* Objetivo: armazenar os dados brutos, exatamente como foram capturados das fontes originais, sem qualquer transformação ou limpeza.\n",
        "* Formato: arquivos no formato original (CSV, JSON, XML, etc.), geralmente armazenados em um Data Lake (e.g., HDFS, S3).\n",
        "* Características:\n",
        "  * Dados brutos e não processados.\n",
        "  * Schema-on-read (o esquema é inferido quando os dados são lidos).\n",
        "  * Alta variedade e volume de dados.\n",
        "  * Baixa latência de ingestão (dados são disponibilizados rapidamente).\n",
        "  * Exemplo: logs de aplicação, feeds de dados de sensores, dados de redes sociais.\n",
        "\n",
        "2. Silver (Aprimorada):\n",
        "\n",
        "* Objetivo: limpar, transformar e enriquecer os dados brutos da camada Bronze.\n",
        "* Formato: dados estruturados em formatos como Parquet ou ORC, armazenados em um Data Lake ou Data Warehouse.\n",
        "* Características:\n",
        "  * Dados limpos, consistentes e com maior qualidade.\n",
        "  * Schema-on-write (o esquema é definido antes da escrita dos dados).\n",
        "  * Dados desduplicados e com valores nulos tratados.\n",
        "  * Adição de informações contextuais e enriquecimento dos dados.\n",
        "  * Exemplo: dados de clientes com informações demográficas unificadas e padronizadas, dados de vendas com informações de produtos e promoções.\n",
        "3. Gold (Refinada):\n",
        "\n",
        "* Objetivo: criar datasets agregados e otimizados para análises de negócios e tomada de decisão.\n",
        "* Formato: tabelas dimensionais e fatos, armazenadas em um Data Warehouse, Data Marts ou agregados pré-calculados para dashboards.\n",
        "* Características:\n",
        "  * Dados altamente estruturados e organizados para atender às necessidades específicas de negócio.\n",
        "  * Dados históricos e dados atuais consolidados.\n",
        "  * Dados otimizados para performance em consultas analíticas.\n",
        "  * Alta qualidade e confiabilidade dos dados.\n",
        "  * Exemplo: tabelas de dimensão de tempo, cliente e produto, tabelas de fatos de vendas, indicadores chave de performance (KPIs) pré-calculados.\n",
        "\n",
        "Benefícios da Arquitetura Medallion:\n",
        "\n",
        "* Escalabilidade e flexibilidade: permite lidar com grandes volumes e variedade de dados.\n",
        "* Qualidade e confiabilidade dos dados: assegura a qualidade dos dados através de um processo incremental de refinamento.\n",
        "* Agilidade: facilita a ingestão e processamento de novos dados.\n",
        "* Reutilização de dados: permite que os mesmos dados brutos sejam utilizados para diferentes propósitos.\n",
        "* Governança de dados: facilita a gestão e controle dos dados em cada camada.\n",
        "\n",
        "![medallion-architecture](https://miro.medium.com/v2/resize:fit:1400/1*O4ey_K0ZbsESf8na7OirJg.jpeg)\n"
      ],
      "metadata": {
        "id": "_NCGbNGg5jml"
      }
    },
    {
      "cell_type": "markdown",
      "source": [
        "# Download dos arquivos\n",
        "\n",
        "Iremos baixar os arquivos de entrada:\n",
        "- clients.csv\n",
        "- vendas.csv\n",
        "\n",
        "Os dados em `vendas.csv` são relativos a vendas realizadas por atacadistas e distribuidores."
      ],
      "metadata": {
        "id": "wZNyqh8F8Yz4"
      }
    },
    {
      "cell_type": "markdown",
      "source": [
        "## Dados de clientes\n",
        "\n",
        "Iremos realizar o download de dados de clientes do link abaixo:"
      ],
      "metadata": {
        "id": "xNZitw1TEPTY"
      }
    },
    {
      "cell_type": "code",
      "execution_count": null,
      "metadata": {
        "id": "xVJyy_fUNNyW",
        "colab": {
          "base_uri": "https://localhost:8080/"
        },
        "outputId": "ea75af54-cb06-4cfc-cdba-bcb391b0bdca"
      },
      "outputs": [
        {
          "output_type": "stream",
          "name": "stdout",
          "text": [
            "--2024-10-18 22:10:06--  https://www.dropbox.com/scl/fi/vd5hmlr7ghj2j5rx3w681/clients.csv?rlkey=rmcalhytfjm6nfklw7hhtykid\n",
            "Resolving www.dropbox.com (www.dropbox.com)... 162.125.5.18, 2620:100:601d:18::a27d:512\n",
            "Connecting to www.dropbox.com (www.dropbox.com)|162.125.5.18|:443... connected.\n",
            "HTTP request sent, awaiting response... 302 Found\n",
            "Location: https://uc09f3cf9165c35a70b4fdc9c098.dl.dropboxusercontent.com/cd/0/inline/CctoTeyj_TqSOkcEk6mUwnk11eXK04ldV3NlFa_s7H-ajBNn-0Iaz9eimi4G01HJL5qIu8mrzoEJK8MmSOlP5hBSV_3C_bAlh4S0NW2toPZyw-KFVws7TS1uIxG4eA1GZ0DiNx-Zbu1cRP5JSOjC2haR/file# [following]\n",
            "--2024-10-18 22:10:07--  https://uc09f3cf9165c35a70b4fdc9c098.dl.dropboxusercontent.com/cd/0/inline/CctoTeyj_TqSOkcEk6mUwnk11eXK04ldV3NlFa_s7H-ajBNn-0Iaz9eimi4G01HJL5qIu8mrzoEJK8MmSOlP5hBSV_3C_bAlh4S0NW2toPZyw-KFVws7TS1uIxG4eA1GZ0DiNx-Zbu1cRP5JSOjC2haR/file\n",
            "Resolving uc09f3cf9165c35a70b4fdc9c098.dl.dropboxusercontent.com (uc09f3cf9165c35a70b4fdc9c098.dl.dropboxusercontent.com)... 162.125.5.15, 2620:100:601d:15::a27d:50f\n",
            "Connecting to uc09f3cf9165c35a70b4fdc9c098.dl.dropboxusercontent.com (uc09f3cf9165c35a70b4fdc9c098.dl.dropboxusercontent.com)|162.125.5.15|:443... connected.\n",
            "HTTP request sent, awaiting response... 200 OK\n",
            "Length: 42358668 (40M) [text/plain]\n",
            "Saving to: ‘clients.csv’\n",
            "\n",
            "clients.csv         100%[===================>]  40.40M  64.7MB/s    in 0.6s    \n",
            "\n",
            "2024-10-18 22:10:08 (64.7 MB/s) - ‘clients.csv’ saved [42358668/42358668]\n",
            "\n"
          ]
        }
      ],
      "source": [
        "!wget -O clients.csv https://www.dropbox.com/scl/fi/vd5hmlr7ghj2j5rx3w681/clients.csv?rlkey=rmcalhytfjm6nfklw7hhtykid&dl=1"
      ]
    },
    {
      "cell_type": "markdown",
      "source": [
        "**Se não funcionar o download acima, tente o link abaixo:**\n",
        "\n",
        "---\n",
        "\n"
      ],
      "metadata": {
        "id": "R-PhnPvyCnZH"
      }
    },
    {
      "cell_type": "code",
      "source": [
        "#!gdown https://drive.google.com/uc?id=1SQn8nCPhdFXFOe2wZ9wn1exTAIdgo2QU"
      ],
      "metadata": {
        "id": "oInJIJszCryu"
      },
      "execution_count": null,
      "outputs": []
    },
    {
      "cell_type": "markdown",
      "source": [
        "## Dados de vendas\n",
        "\n",
        "Iremos realizar o download dos dados de vendas presentes no arquivo `vendas.csv`:"
      ],
      "metadata": {
        "id": "Grs7LvgUEXbO"
      }
    },
    {
      "cell_type": "code",
      "source": [
        "!wget -O vendas.csv https://www.dropbox.com/scl/fi/y6h3do8rp9fhovunvj36c/vendas.csv?rlkey=m4yl4h8vzfyg5fq8vyb2sbd2x&st=nz4dme6m&dl=1"
      ],
      "metadata": {
        "id": "XKdikSZa7GNp",
        "colab": {
          "base_uri": "https://localhost:8080/"
        },
        "outputId": "d2956679-5fea-4186-d405-49b3039c1d36"
      },
      "execution_count": null,
      "outputs": [
        {
          "output_type": "stream",
          "name": "stdout",
          "text": [
            "--2024-10-18 22:10:09--  https://www.dropbox.com/scl/fi/y6h3do8rp9fhovunvj36c/vendas.csv?rlkey=m4yl4h8vzfyg5fq8vyb2sbd2x\n",
            "Resolving www.dropbox.com (www.dropbox.com)... 162.125.5.18, 2620:100:601d:18::a27d:512\n",
            "Connecting to www.dropbox.com (www.dropbox.com)|162.125.5.18|:443... connected.\n",
            "HTTP request sent, awaiting response... 302 Found\n",
            "Location: https://uc07ac74abb0f50910e29f6fd1ed.dl.dropboxusercontent.com/cd/0/inline/CcuUpVyE2pjRPHElajdiORqIXIdAPpUEgM95-sZ548BZhZnRab00609h-62iVTESWAec1HCbfzX3DDfm7n_4Hzh4CfH9ZoC5YEiH7Scfefi_u8OMGkhNPISlFgnAvVTjDIpSaSjzO5fW1r_AXJvtWlJM/file# [following]\n",
            "--2024-10-18 22:10:09--  https://uc07ac74abb0f50910e29f6fd1ed.dl.dropboxusercontent.com/cd/0/inline/CcuUpVyE2pjRPHElajdiORqIXIdAPpUEgM95-sZ548BZhZnRab00609h-62iVTESWAec1HCbfzX3DDfm7n_4Hzh4CfH9ZoC5YEiH7Scfefi_u8OMGkhNPISlFgnAvVTjDIpSaSjzO5fW1r_AXJvtWlJM/file\n",
            "Resolving uc07ac74abb0f50910e29f6fd1ed.dl.dropboxusercontent.com (uc07ac74abb0f50910e29f6fd1ed.dl.dropboxusercontent.com)... 162.125.5.15, 2620:100:601d:15::a27d:50f\n",
            "Connecting to uc07ac74abb0f50910e29f6fd1ed.dl.dropboxusercontent.com (uc07ac74abb0f50910e29f6fd1ed.dl.dropboxusercontent.com)|162.125.5.15|:443... connected.\n",
            "HTTP request sent, awaiting response... 200 OK\n",
            "Length: 36215113 (35M) [text/plain]\n",
            "Saving to: ‘vendas.csv’\n",
            "\n",
            "vendas.csv          100%[===================>]  34.54M  67.6MB/s    in 0.5s    \n",
            "\n",
            "2024-10-18 22:10:10 (67.6 MB/s) - ‘vendas.csv’ saved [36215113/36215113]\n",
            "\n"
          ]
        }
      ]
    },
    {
      "cell_type": "markdown",
      "source": [
        "**Se não funcionar o download acima, tente o link abaixo:**"
      ],
      "metadata": {
        "id": "WpYgkXP3DLTW"
      }
    },
    {
      "cell_type": "code",
      "source": [
        "#!gdown https://drive.google.com/uc?id=1ubiLTdjEdy8C86MdkW1HRyPOFZl4irT1"
      ],
      "metadata": {
        "id": "vAREVqLIDPXR"
      },
      "execution_count": null,
      "outputs": []
    },
    {
      "cell_type": "markdown",
      "source": [
        "# Analisando dados de vendas\n",
        "Você está recebendo um conjunto de dados histórico de vendas de ERPs de várias empresas. Temos o histórico de vendas de várias empresas dentro do arquivo e, por isso, podemos ter períodos históricos diferentes de dados de vendas disponíveis.\n",
        "\n",
        "## Arquivos\n",
        "- **vendas.csv** - contém dados históricos de vendas até junho de 2022.\n",
        "- **clients.csv** - dados dos clientes que compraram o produto.\n",
        "\n",
        "## Campos do arquivo de vendas\n",
        "\n",
        "- *client_id*: id do cliente.\n",
        "- *items_count*: número de itens vendidos\n",
        "- *list_price*: preço do produto no catálogo da empresa.\n",
        "- *order_date*: data da venda.\n",
        "- *order_id*: id do pedido. Cada pedido pode conter vários produtos vendidos dentro dele.\n",
        "- *product_id*: id do produto vendido.\n",
        "- *sale_price*: preço vendido ao cliente.\n",
        "- *salesman_id*: id do vendedor.\n",
        "- *supplier_id*: id do fornecedor do produto. Por exemplo, a indústria fabricando do produto.\n",
        "- *company_id*: id da empresa. Temos dentro da base o histórico de vendas de várias empresas para clientes finais.\n",
        "- *product*: nome do produto.\n",
        "- *salesman*: nome do vendedor.\n",
        "- *supplier*: nome do fornecedor.\n",
        "- *client*: nome do cliente.\n",
        "\n",
        "\n",
        "## Campos do arquivo clients.csv\n",
        "- *client_id*: id do cliente.\n",
        "- *cnae_id*: CNAE do cliente que está realizando a compra.\n",
        "- *cod_city*: código da cidade no IBGE em que o cliente está localizado.\n",
        "- *cod_tract*: código do setor censitário no IBGE em que o cliente está localizado.\n",
        "- *cod_uf*: código da UF no IBGE em que o cliente está localizado.\n",
        "- *city*: cidade do cliente.\n",
        "- *state*: UF do cliente.\n",
        "- *client*: nome do cliente.\n",
        "- *company_id*: id da empresa. Temos dentro da base o histórico de vendas de várias empresas para clientes finais.\n"
      ],
      "metadata": {
        "id": "byQsilyGtLLJ"
      }
    },
    {
      "cell_type": "markdown",
      "metadata": {
        "id": "5ts2iqOfStVG"
      },
      "source": [
        "## Iniciando o PySpark\n",
        "\n",
        "Esta célula de código instala o Spark no ambiente de execução Colab. Aqui está uma explicação passo a passo:\n",
        "\n",
        "1. **`!apt-get install openjdk-11-jdk-headless -qq > /dev/null`**: este comando instala o OpenJDK 11 (versão headless, sem interface gráfica), que é um requisito para o Spark. O `-qq` suprime a saída e o `> /dev/null` redireciona a saída para o nada, tornando o processo mais silencioso.\n",
        "\n",
        "2. **`!wget -q https://dlcdn.apache.org/spark/spark-3.5.2/spark-3.5.2-bin-hadoop3.tgz`**: Este comando baixa o arquivo compactado do Spark 3.5.2 (construído para o Hadoop 3) do site oficial do Apache Spark. O `-q` suprime a saída de download.\n",
        "\n",
        "3. **`!tar xf spark-3.5.2-bin-hadoop3.tgz`**: Este comando extrai o arquivo compactado baixado do Spark, criando um diretório chamado `spark-3.5.2-bin-hadoop3`.\n",
        "\n",
        "4. **`!pip -q install findspark`**: Este comando instala a biblioteca `findspark` usando `pip`. Findspark é uma biblioteca Python que torna mais fácil configurar o Spark em um ambiente Python, principalmente no Colab. Ela define as variáveis de ambiente necessárias para que o Spark funcione corretamente.\n",
        "\n",
        "Após executar essas linhas, você terá o Spark instalado e pronto para ser usado em seu notebook Colab."
      ]
    },
    {
      "cell_type": "code",
      "execution_count": null,
      "metadata": {
        "id": "Ek_RTaPXSwLp"
      },
      "outputs": [],
      "source": [
        "!apt-get install openjdk-11-jdk-headless -qq > /dev/null\n",
        "!wget -q https://archive.apache.org/dist/spark/spark-3.5.2/spark-3.5.2-bin-hadoop3.tgz\n",
        "!tar xf spark-3.5.2-bin-hadoop3.tgz\n",
        "!pip -q install findspark"
      ]
    },
    {
      "cell_type": "markdown",
      "source": [
        "Defina as variáveis de ambiente do Spark:"
      ],
      "metadata": {
        "id": "duVQdGSXo1fS"
      }
    },
    {
      "cell_type": "code",
      "execution_count": null,
      "metadata": {
        "id": "qM3oCEa4Sx1g"
      },
      "outputs": [],
      "source": [
        "import os\n",
        "os.environ[\"JAVA_HOME\"] = \"/usr/lib/jvm/java-11-openjdk-amd64\"\n",
        "os.environ[\"SPARK_HOME\"] = \"/content/spark-3.5.2-bin-hadoop3\""
      ]
    },
    {
      "cell_type": "markdown",
      "source": [
        "O código a seguir garante que o Spark seja configurado corretamente e esteja pronto para uso em seu ambiente Python.\n",
        "\n",
        "* **`findspark.init()`**: executa a função `init()` do módulo `findspark`. Esta função:\n",
        "    * Localiza a instalação do Spark em seu sistema.\n",
        "    * Configura as variáveis de ambiente necessárias para que o Python possa interagir com o Spark. Isso permite que o driver Python (seu código Python) se comunique com o executor Spark (o código que realmente processa os dados).\n"
      ],
      "metadata": {
        "id": "QV6xIUNwo2KZ"
      }
    },
    {
      "cell_type": "code",
      "execution_count": null,
      "metadata": {
        "id": "LgkpQMC6S0SE"
      },
      "outputs": [],
      "source": [
        "import findspark\n",
        "findspark.init()"
      ]
    },
    {
      "cell_type": "markdown",
      "source": [
        "Depois de executar a célula anterior, você poderá importar e usar as bibliotecas Spark como `pyspark.sql.SparkSession` para criar uma sessão Spark e começar a trabalhar com dados."
      ],
      "metadata": {
        "id": "WMUFJ_Bto5BJ"
      }
    },
    {
      "cell_type": "code",
      "execution_count": null,
      "metadata": {
        "id": "IAhdigi7S04j"
      },
      "outputs": [],
      "source": [
        "from pyspark.sql import SparkSession\n",
        "from pyspark.sql.functions import *\n",
        "spark = SparkSession.builder.appName('Aula 1').master(\"local[*]\").getOrCreate()"
      ]
    },
    {
      "cell_type": "markdown",
      "metadata": {
        "id": "gRw-e1pRT9qD"
      },
      "source": [
        "# Primeira etapa: carregar os arquivos\n",
        "\n",
        "Nessa etapa você deve carregar os quatro arquivos abaixos, utilizando o **Spark**\n",
        "\n",
        "**Dicas:**\n",
        "\n",
        "- Separador dos arquivos é , (vírgula)\n",
        "- Os arquivos possuem cabeçalho"
      ]
    },
    {
      "cell_type": "code",
      "source": [
        "clients_df = spark.read.csv(\"clients.csv\", header=True, inferSchema=True)"
      ],
      "metadata": {
        "id": "gSa8umScM6NI"
      },
      "execution_count": null,
      "outputs": []
    },
    {
      "cell_type": "code",
      "source": [
        "clients_df.show()"
      ],
      "metadata": {
        "id": "C2eQZ6FmNvqz",
        "colab": {
          "base_uri": "https://localhost:8080/"
        },
        "outputId": "193de07d-464c-44ae-c510-19cca0bd6864"
      },
      "execution_count": null,
      "outputs": [
        {
          "output_type": "stream",
          "name": "stdout",
          "text": [
            "+--------------------+---------+-------+--------+---------------+------+-----+--------------+----------+\n",
            "|                city|client_id|cnae_id|cod_city|      cod_tract|cod_uf|state|        client|company_id|\n",
            "+--------------------+---------+-------+--------+---------------+------+-----+--------------+----------+\n",
            "|                NULL|  c855767|   NULL| 5211503|521150305000094|    52|   GO|Client c855767|       567|\n",
            "|               POSSE|  c836888|   NULL| 5218300|521830005000006|    52|   GO|Client c836888|       567|\n",
            "|                 POA|  c836597|   NULL| 3539806|353980605000005|    35|   SP|Client c836597|       567|\n",
            "|           SAO PAULO|  c836596|   NULL| 3550308|355030837000019|    35|   SP|Client c836596|       567|\n",
            "|              CUIABA|  c855005|   NULL| 5103403|510340310400031|    51|   MT|Client c855005|       567|\n",
            "|         BREU BRANCO|  c855045|   NULL| 1501782|150178205000045|    15|   PA|Client c855045|       567|\n",
            "|APARECIDA DE GOIANIA|  c836630|   NULL| 5201405|520140505000019|    52|   GO|Client c836630|       567|\n",
            "|      PEDRAS MA CRUZ|  c904501|   NULL| 3149150|314915005000003|    31|   MG|Client c904501|       567|\n",
            "|            JANUARIA|  c903627|   NULL| 3135209|313520905000021|    31|   MG|Client c903627|       567|\n",
            "|        RONDONOPOLIS|  c903616|   NULL| 5107602|510760205000190|    51|   MT|Client c903616|       567|\n",
            "|             JANAUBA|  c903671|   NULL| 3135100|313510005000048|    31|   MG|Client c903671|       567|\n",
            "|             GOIANIA|  c903669|   NULL| 5208707|520870705020011|    52|   GO|Client c903669|       567|\n",
            "|      PATOS DE MINAS|  c903656|   NULL| 3148004|314800405000184|    31|   MG|Client c903656|       567|\n",
            "|         SAO GOTARDO|  c903643|   NULL| 3162104|316210415000001|    31|   MG|Client c903643|       567|\n",
            "|        PORTO FRANCO|  c903694|   NULL| 2109007|210900705000023|    21|   MA|Client c903694|       567|\n",
            "|        PORTO FRANCO|  c903693|   NULL| 2109007|210900705000023|    21|   MA|Client c903693|       567|\n",
            "|        PORTO FRANCO|  c903692|   NULL| 2109007|210900705000008|    21|   MA|Client c903692|       567|\n",
            "|             GOIANIA|  c903681|   NULL| 5208707|520870705090001|    52|   GO|Client c903681|       567|\n",
            "|     SAO FELIX XINGU|  c903751|   NULL| 1507300|150730005000010|    15|   PA|Client c903751|       567|\n",
            "|        RONDONOPOLIS|  c903715|   NULL| 5107602|510760205000022|    51|   MT|Client c903715|       567|\n",
            "+--------------------+---------+-------+--------+---------------+------+-----+--------------+----------+\n",
            "only showing top 20 rows\n",
            "\n"
          ]
        }
      ]
    },
    {
      "cell_type": "code",
      "source": [
        "clients_df.printSchema()"
      ],
      "metadata": {
        "id": "eH1zh5moNerl",
        "colab": {
          "base_uri": "https://localhost:8080/"
        },
        "outputId": "c5cf867b-4cd5-4e22-b416-4116b46477e5"
      },
      "execution_count": null,
      "outputs": [
        {
          "output_type": "stream",
          "name": "stdout",
          "text": [
            "root\n",
            " |-- city: string (nullable = true)\n",
            " |-- client_id: string (nullable = true)\n",
            " |-- cnae_id: string (nullable = true)\n",
            " |-- cod_city: integer (nullable = true)\n",
            " |-- cod_tract: long (nullable = true)\n",
            " |-- cod_uf: integer (nullable = true)\n",
            " |-- state: string (nullable = true)\n",
            " |-- client: string (nullable = true)\n",
            " |-- company_id: integer (nullable = true)\n",
            "\n"
          ]
        }
      ]
    },
    {
      "cell_type": "code",
      "execution_count": null,
      "metadata": {
        "id": "WzsaH61tUH6b"
      },
      "outputs": [],
      "source": [
        "clients_schema = \"city string, client_id string, cnae_id string, \\\n",
        "cod_city integer, cod_tract long, cod_uf integer, state string, client string, \\\n",
        " company_id integer\"\n",
        "clients_df = spark.read.csv(\"clients.csv\", header=True, schema=clients_schema, mode=\"DROPMALFORMED\")"
      ]
    },
    {
      "cell_type": "code",
      "source": [
        "vendas_df = spark.read.csv(\"vendas.csv\",header=True)"
      ],
      "metadata": {
        "id": "U7yMcAkXXlKF"
      },
      "execution_count": null,
      "outputs": []
    },
    {
      "cell_type": "code",
      "execution_count": null,
      "metadata": {
        "id": "xFpp2lmlUT8A"
      },
      "outputs": [],
      "source": [
        "vendas_schema = \"client_id string, items_count integer, list_price float, \\\n",
        "order_date date, order_id integer, product_id string, sale_price float, \\\n",
        "salesman_id string, supplier_id string, company_id integer, product string, \\\n",
        "salesman string, supplier string, client string\"\n",
        "vendas_df = spark.read.csv(\"vendas.csv\",header=True, schema=vendas_schema)"
      ]
    },
    {
      "cell_type": "code",
      "source": [
        "vendas_df.printSchema()"
      ],
      "metadata": {
        "id": "2CXctYolWiYi",
        "colab": {
          "base_uri": "https://localhost:8080/"
        },
        "outputId": "b34ca2b8-5950-4d84-875b-4de41a5ab706"
      },
      "execution_count": null,
      "outputs": [
        {
          "output_type": "stream",
          "name": "stdout",
          "text": [
            "root\n",
            " |-- client_id: string (nullable = true)\n",
            " |-- items_count: integer (nullable = true)\n",
            " |-- list_price: float (nullable = true)\n",
            " |-- order_date: date (nullable = true)\n",
            " |-- order_id: integer (nullable = true)\n",
            " |-- product_id: string (nullable = true)\n",
            " |-- sale_price: float (nullable = true)\n",
            " |-- salesman_id: string (nullable = true)\n",
            " |-- supplier_id: string (nullable = true)\n",
            " |-- company_id: integer (nullable = true)\n",
            " |-- product: string (nullable = true)\n",
            " |-- salesman: string (nullable = true)\n",
            " |-- supplier: string (nullable = true)\n",
            " |-- client: string (nullable = true)\n",
            "\n"
          ]
        }
      ]
    },
    {
      "cell_type": "code",
      "execution_count": null,
      "metadata": {
        "id": "GbeJjvp3X7jQ",
        "colab": {
          "base_uri": "https://localhost:8080/"
        },
        "outputId": "24aec373-8d7d-4496-80cb-8d04286bd1ad"
      },
      "outputs": [
        {
          "output_type": "stream",
          "name": "stdout",
          "text": [
            "+--------------------+---------+-------+--------+---------------+------+-----+--------------+----------+\n",
            "|                city|client_id|cnae_id|cod_city|      cod_tract|cod_uf|state|        client|company_id|\n",
            "+--------------------+---------+-------+--------+---------------+------+-----+--------------+----------+\n",
            "|                NULL|  c855767|   NULL| 5211503|521150305000094|    52|   GO|Client c855767|       567|\n",
            "|               POSSE|  c836888|   NULL| 5218300|521830005000006|    52|   GO|Client c836888|       567|\n",
            "|                 POA|  c836597|   NULL| 3539806|353980605000005|    35|   SP|Client c836597|       567|\n",
            "|           SAO PAULO|  c836596|   NULL| 3550308|355030837000019|    35|   SP|Client c836596|       567|\n",
            "|              CUIABA|  c855005|   NULL| 5103403|510340310400031|    51|   MT|Client c855005|       567|\n",
            "|         BREU BRANCO|  c855045|   NULL| 1501782|150178205000045|    15|   PA|Client c855045|       567|\n",
            "|APARECIDA DE GOIANIA|  c836630|   NULL| 5201405|520140505000019|    52|   GO|Client c836630|       567|\n",
            "|      PEDRAS MA CRUZ|  c904501|   NULL| 3149150|314915005000003|    31|   MG|Client c904501|       567|\n",
            "|            JANUARIA|  c903627|   NULL| 3135209|313520905000021|    31|   MG|Client c903627|       567|\n",
            "|        RONDONOPOLIS|  c903616|   NULL| 5107602|510760205000190|    51|   MT|Client c903616|       567|\n",
            "|             JANAUBA|  c903671|   NULL| 3135100|313510005000048|    31|   MG|Client c903671|       567|\n",
            "|             GOIANIA|  c903669|   NULL| 5208707|520870705020011|    52|   GO|Client c903669|       567|\n",
            "|      PATOS DE MINAS|  c903656|   NULL| 3148004|314800405000184|    31|   MG|Client c903656|       567|\n",
            "|         SAO GOTARDO|  c903643|   NULL| 3162104|316210415000001|    31|   MG|Client c903643|       567|\n",
            "|        PORTO FRANCO|  c903694|   NULL| 2109007|210900705000023|    21|   MA|Client c903694|       567|\n",
            "|        PORTO FRANCO|  c903693|   NULL| 2109007|210900705000023|    21|   MA|Client c903693|       567|\n",
            "|        PORTO FRANCO|  c903692|   NULL| 2109007|210900705000008|    21|   MA|Client c903692|       567|\n",
            "|             GOIANIA|  c903681|   NULL| 5208707|520870705090001|    52|   GO|Client c903681|       567|\n",
            "|     SAO FELIX XINGU|  c903751|   NULL| 1507300|150730005000010|    15|   PA|Client c903751|       567|\n",
            "|        RONDONOPOLIS|  c903715|   NULL| 5107602|510760205000022|    51|   MT|Client c903715|       567|\n",
            "+--------------------+---------+-------+--------+---------------+------+-----+--------------+----------+\n",
            "only showing top 20 rows\n",
            "\n"
          ]
        }
      ],
      "source": [
        "clients_df.show()"
      ]
    },
    {
      "cell_type": "code",
      "source": [
        "vendas_df.show()"
      ],
      "metadata": {
        "id": "QyeGXccNX6Xf",
        "colab": {
          "base_uri": "https://localhost:8080/"
        },
        "outputId": "398a1d01-73d8-4af5-cb75-4966dcea7328"
      },
      "execution_count": null,
      "outputs": [
        {
          "output_type": "stream",
          "name": "stdout",
          "text": [
            "+---------+-----------+----------+----------+--------+----------+----------+-----------+-----------+----------+-------------+------------+-------------+------------+\n",
            "|client_id|items_count|list_price|order_date|order_id|product_id|sale_price|salesman_id|supplier_id|company_id|      product|    salesman|     supplier|      client|\n",
            "+---------+-----------+----------+----------+--------+----------+----------+-----------+-----------+----------+-------------+------------+-------------+------------+\n",
            "|    c2943|          3|       0.0|2020-05-21|    NULL|     p1477| 25.166666|        s69|       su28|       603|Product p1477|Salesman s69|Supplier su28|Client c2943|\n",
            "|    c2943|         12|       0.0|2020-05-21|    NULL|      p156|   19.4653|        s69|       su16|       603| Product p156|Salesman s69|Supplier su16|Client c2943|\n",
            "|    c2092|          2|       0.0|2020-05-21|    NULL|     p1314|    39.985|        s19|       su16|       603|Product p1314|Salesman s19|Supplier su16|Client c2092|\n",
            "|    c3412|          5|       0.0|2020-05-18|    NULL|      p272|     26.25|        s79|       su19|       603| Product p272|Salesman s79|Supplier su19|Client c3412|\n",
            "|    c3412|         10|       0.0|2020-05-18|    NULL|      p339|     13.68|        s79|       su19|       603| Product p339|Salesman s79|Supplier su19|Client c3412|\n",
            "|    c3412|         20|       0.0|2020-05-18|    NULL|      p480|      4.02|        s79|       su19|       603| Product p480|Salesman s79|Supplier su19|Client c3412|\n",
            "|    c4073|          3|       0.0|2020-05-18|    NULL|      p359|       5.7|        s81|       su19|       603| Product p359|Salesman s81|Supplier su19|Client c4073|\n",
            "|    c4073|          5|       0.0|2020-05-18|    NULL|      p361|       5.7|        s81|       su19|       603| Product p361|Salesman s81|Supplier su19|Client c4073|\n",
            "|    c4073|          2|       0.0|2020-05-18|    NULL|      p362|       5.7|        s81|       su19|       603| Product p362|Salesman s81|Supplier su19|Client c4073|\n",
            "|    c4073|          1|       0.0|2020-05-18|    NULL|      p469|       6.8|        s81|       su19|       603| Product p469|Salesman s81|Supplier su19|Client c4073|\n",
            "|    c4073|          2|       0.0|2020-05-18|    NULL|     p1280|      3.74|        s81|       su19|       603|Product p1280|Salesman s81|Supplier su19|Client c4073|\n",
            "|    c3305|          6|       0.0|2020-05-18|    NULL|      p485|      5.95|        s79|       su19|       603| Product p485|Salesman s79|Supplier su19|Client c3305|\n",
            "|     c355|         12|       0.0|2020-05-18|    NULL|      p485| 6.2716665|        s12|       su19|       603| Product p485|Salesman s12|Supplier su19| Client c355|\n",
            "|    c4848|         40|       0.0|2020-05-18|    NULL|      p576|      2.54|        s25|       su19|       603| Product p576|Salesman s25|Supplier su19|Client c4848|\n",
            "|     c269|          1|       0.0|2020-05-18|    NULL|      p373|     14.01|        s12|       su19|       603| Product p373|Salesman s12|Supplier su19| Client c269|\n",
            "|    c4854|        100|       0.0|2020-05-18|    NULL|      p433|      0.58|        s81|       su19|       603| Product p433|Salesman s81|Supplier su19|Client c4854|\n",
            "|    c1692|          2|       0.0|2020-05-18|    NULL|      p234|      10.0|        s59|       su19|       603| Product p234|Salesman s59|Supplier su19|Client c1692|\n",
            "|    c1692|          2|       0.0|2020-05-18|    NULL|      p486|      22.4|        s59|       su19|       603| Product p486|Salesman s59|Supplier su19|Client c1692|\n",
            "|    c1692|         10|       0.0|2020-05-18|    NULL|      p340|      8.84|        s59|       su19|       603| Product p340|Salesman s59|Supplier su19|Client c1692|\n",
            "|    c1692|         50|       0.0|2020-05-18|    NULL|     p2239|      1.31|        s59|       su19|       603|Product p2239|Salesman s59|Supplier su19|Client c1692|\n",
            "+---------+-----------+----------+----------+--------+----------+----------+-----------+-----------+----------+-------------+------------+-------------+------------+\n",
            "only showing top 20 rows\n",
            "\n"
          ]
        }
      ]
    },
    {
      "cell_type": "markdown",
      "source": [
        "## Spark Pandas\n",
        "\n",
        "### O que é Spark Pandas?\n",
        "\n",
        "Spark Pandas é uma biblioteca que fornece uma interface similar ao Pandas para trabalhar com dados em clusters Apache Spark. Isso significa que você pode usar as mesmas funções e métodos do Pandas, mas com a capacidade de processar datasets imensos distribuídos em vários nós.\n",
        "\n",
        "### Por que usar Spark Pandas?\n",
        "\n",
        "Para cientistas de dados, o Spark Pandas oferece diversas vantagens:\n",
        "\n",
        "- Escalabilidade: processa conjuntos de dados enormes com rapidez e eficiência, utilizando a computação distribuída do Spark.\n",
        "- Familiaridade: permite utilizar a linguagem e as funções do Pandas, que você já conhece, para análise de dados em grande escala.\n",
        "- Performance: aproveita as otimizações do Spark para acelerar tarefas como leitura, transformação e agregação de dados.\n",
        "- Integração: funciona perfeitamente com outros componentes do ecossistema Spark, como Spark SQL e MLlib."
      ],
      "metadata": {
        "id": "D3KMk5UC7Ey3"
      }
    },
    {
      "cell_type": "markdown",
      "source": [
        "Agora vamos fazer a mesma operação de leitura de dados de clientes e vendas com **Spark Pandas** (vide [documentação](https://spark.apache.org/docs/latest/api/python/user_guide/pandas_on_spark/index.html)).\n",
        "\n",
        "Os clientes vamos armazenar no Dataframe `clients_pdf` e os dados de vendas em `vendas_pdf`. A leitura do csv é semelhante ao Pandas com o método `read_csv`."
      ],
      "metadata": {
        "id": "Sx-MIEKB7K_A"
      }
    },
    {
      "cell_type": "code",
      "source": [
        "import pyspark.pandas as ps"
      ],
      "metadata": {
        "id": "UkjV-kl37VMT",
        "colab": {
          "base_uri": "https://localhost:8080/"
        },
        "outputId": "4a747092-4487-4664-afa0-c3b10fa28dc9"
      },
      "execution_count": null,
      "outputs": [
        {
          "output_type": "stream",
          "name": "stderr",
          "text": [
            "/content/spark-3.5.2-bin-hadoop3/python/pyspark/pandas/__init__.py:50: UserWarning: 'PYARROW_IGNORE_TIMEZONE' environment variable was not set. It is required to set this environment variable to '1' in both driver and executor sides if you use pyarrow>=2.0.0. pandas-on-Spark will set it for you but it does not work if there is a Spark context already launched.\n",
            "  warnings.warn(\n"
          ]
        }
      ]
    },
    {
      "cell_type": "markdown",
      "source": [
        "# Camadas da Arquitetura Medallion\n",
        "\n",
        "\n",
        "\n",
        "\n",
        "\n",
        "## Gold (Dados Agregados):\n",
        "\n",
        "* Ler os dados da camada Silver.\n",
        "* Criar agregações para diferentes níveis de análise:\n",
        "  * Total de vendas por dia.\n",
        "  * Total de vendas por mês.\n",
        "  * Total de vendas por cliente.\n",
        "  * Total de vendas por produto.\n",
        "  * Total de vendas por vendedor.\n",
        "\n",
        "Armazenar os dados agregados em tabelas na camada Gold, otimizadas para consultas analíticas."
      ],
      "metadata": {
        "id": "50S6eMBa59UJ"
      }
    },
    {
      "cell_type": "markdown",
      "source": [
        "## Bronze (Dados Brutos):\n",
        "\n",
        "* Carregar os arquivos CSV vendas.csv e clientes.csv como DataFrames Spark.\n",
        "* Criar tabelas brutas na camada Bronze, armazenando os dados brutos sem alterações."
      ],
      "metadata": {
        "id": "fBYUxhWilqYO"
      }
    },
    {
      "cell_type": "code",
      "source": [
        "# sessão Spark\n",
        "spark = SparkSession.builder \\\n",
        "    .appName(\"Arquitetura Medallion\") \\\n",
        "    .getOrCreate()"
      ],
      "metadata": {
        "id": "LgXDbB7FlsNJ"
      },
      "execution_count": null,
      "outputs": []
    },
    {
      "cell_type": "code",
      "source": [
        "# clients.csv bruto\n",
        "clientes_df = ps.read_csv(\"clients.csv\", header=0)\n",
        "# vendas.csv bruto\n",
        "vendas_df = ps.read_csv(\"vendas.csv\", header=0)"
      ],
      "metadata": {
        "colab": {
          "base_uri": "https://localhost:8080/"
        },
        "id": "7AreATjLosS0",
        "outputId": "f456a6cc-be62-48cd-e082-4e879b1cbb61"
      },
      "execution_count": null,
      "outputs": [
        {
          "output_type": "stream",
          "name": "stderr",
          "text": [
            "/content/spark-3.5.2-bin-hadoop3/python/pyspark/pandas/utils.py:1016: PandasAPIOnSparkAdviceWarning: If `index_col` is not specified for `read_csv`, the default index is attached which can cause additional overhead.\n",
            "  warnings.warn(message, PandasAPIOnSparkAdviceWarning)\n"
          ]
        }
      ]
    },
    {
      "cell_type": "code",
      "source": [
        "print(clientes_df.shape)\n",
        "print(vendas_df.shape)"
      ],
      "metadata": {
        "colab": {
          "base_uri": "https://localhost:8080/"
        },
        "id": "Ufn4ZRKjpONR",
        "outputId": "f843ddfe-bb89-427a-96ff-583c8574861c"
      },
      "execution_count": null,
      "outputs": [
        {
          "output_type": "stream",
          "name": "stdout",
          "text": [
            "(600750, 9)\n",
            "(349828, 14)\n"
          ]
        }
      ]
    },
    {
      "cell_type": "markdown",
      "source": [
        "`muitas duplicadas` na chave primaria o que resultou em varias combinacoes aumentando de mais esse shape dos join"
      ],
      "metadata": {
        "id": "XAIf_6Oorbp3"
      }
    },
    {
      "cell_type": "code",
      "source": [
        "from google.colab import drive\n",
        "drive.mount('/content/drive')"
      ],
      "metadata": {
        "colab": {
          "base_uri": "https://localhost:8080/"
        },
        "id": "bzo0OP9VFvWj",
        "outputId": "1f8586fa-0251-466e-c879-f0475ea65f1f"
      },
      "execution_count": null,
      "outputs": [
        {
          "output_type": "stream",
          "name": "stdout",
          "text": [
            "Mounted at /content/drive\n"
          ]
        }
      ]
    },
    {
      "cell_type": "code",
      "source": [
        "# salvar as tabelas brutas na camada/pasta Bronze\n",
        "clientes_df.to_spark().write.option(\"header\", True).mode(\"overwrite\").csv(\"/content/drive/MyDrive/bronze/clients_bronze.csv\")\n",
        "vendas_df.to_spark().write.option(\"header\", True).mode(\"overwrite\").csv(\"/content/drive/MyDrive/bronze/vendas_bronze.csv\")"
      ],
      "metadata": {
        "colab": {
          "base_uri": "https://localhost:8080/"
        },
        "id": "TTLyYoqMo8wP",
        "outputId": "5b77b408-f163-4ee6-958d-7699286bbabb"
      },
      "execution_count": null,
      "outputs": [
        {
          "output_type": "stream",
          "name": "stderr",
          "text": [
            "/content/spark-3.5.2-bin-hadoop3/python/pyspark/pandas/utils.py:1016: PandasAPIOnSparkAdviceWarning: If `index_col` is not specified for `to_spark`, the existing index is lost when converting to Spark DataFrame.\n",
            "  warnings.warn(message, PandasAPIOnSparkAdviceWarning)\n"
          ]
        }
      ]
    },
    {
      "cell_type": "markdown",
      "source": [
        "## Silver (Dados Limpos e Enriquecidos):\n",
        "\n",
        "* Ler os dados das tabelas da camada Bronze.\n",
        "* Limpeza de dados:\n",
        "  * Remover duplicatas.\n",
        "  * Tratar valores ausentes, utilizando estratégias adequadas para cada coluna (ex: preenchimento com valores padrão, médias, etc.).\n",
        "  * Converter tipos de dados para os formatos corretos (ex: datas, números).\n",
        "* Enriquecimento de dados:\n",
        "  * Juntar as tabelas vendas e clientes utilizando a chave client_id.\n",
        "  * Criar novas colunas com informações relevantes, como:\n",
        "  `valor_total`: multiplicar `items_count` por `sale_price`.\n",
        "  * Ano da venda (extraído da coluna `order_date`).\n",
        "  * Mês da venda (extraído da coluna `order_date`).\n",
        "  * Salvar os dados enriquecidos e limpos como tabelas na camada Silver."
      ],
      "metadata": {
        "id": "Qo5Yxv22spg0"
      }
    },
    {
      "cell_type": "markdown",
      "source": [
        "### Ler os dados das tabelas da camada Bronze."
      ],
      "metadata": {
        "id": "LV935X10MaH-"
      }
    },
    {
      "cell_type": "code",
      "source": [
        "# Ler os dados das tabelas da camada Bronze.\n",
        "clientes_path = \"/content/drive/MyDrive/bronze/clients_bronze.csv\"\n",
        "vendas_path = \"/content/drive/MyDrive/bronze/vendas_bronze.csv\"\n",
        "\n",
        "# Ler os arquivos CSV no Spark\n",
        "clientes_df = spark.read.option(\"header\", True).csv(clientes_path)\n",
        "vendas_df = spark.read.option(\"header\", True).csv(vendas_path)"
      ],
      "metadata": {
        "id": "r6XMDFWZstmp"
      },
      "execution_count": null,
      "outputs": []
    },
    {
      "cell_type": "code",
      "source": [
        "clientes_df = clientes_df.toPandas()\n",
        "vendas_df = vendas_df.toPandas()"
      ],
      "metadata": {
        "id": "Zveq19JZMf92"
      },
      "execution_count": null,
      "outputs": []
    },
    {
      "cell_type": "code",
      "source": [
        "clientes_df.head(5)"
      ],
      "metadata": {
        "colab": {
          "base_uri": "https://localhost:8080/",
          "height": 206
        },
        "id": "UsunSGGP7sXJ",
        "outputId": "84121848-6b35-4d6e-a3a1-1793aa9d77a3"
      },
      "execution_count": null,
      "outputs": [
        {
          "output_type": "execute_result",
          "data": {
            "text/plain": [
              "        city client_id cnae_id cod_city        cod_tract cod_uf state  \\\n",
              "0       None   c855767    None  5211503  521150305000094     52    GO   \n",
              "1      POSSE   c836888    None  5218300  521830005000006     52    GO   \n",
              "2        POA   c836597    None  3539806  353980605000005     35    SP   \n",
              "3  SAO PAULO   c836596    None  3550308  355030837000019     35    SP   \n",
              "4     CUIABA   c855005    None  5103403  510340310400031     51    MT   \n",
              "\n",
              "           client company_id  \n",
              "0  Client c855767        567  \n",
              "1  Client c836888        567  \n",
              "2  Client c836597        567  \n",
              "3  Client c836596        567  \n",
              "4  Client c855005        567  "
            ],
            "text/html": [
              "\n",
              "  <div id=\"df-ef81515c-1d01-4e49-80ec-05f81e969398\" class=\"colab-df-container\">\n",
              "    <div>\n",
              "<style scoped>\n",
              "    .dataframe tbody tr th:only-of-type {\n",
              "        vertical-align: middle;\n",
              "    }\n",
              "\n",
              "    .dataframe tbody tr th {\n",
              "        vertical-align: top;\n",
              "    }\n",
              "\n",
              "    .dataframe thead th {\n",
              "        text-align: right;\n",
              "    }\n",
              "</style>\n",
              "<table border=\"1\" class=\"dataframe\">\n",
              "  <thead>\n",
              "    <tr style=\"text-align: right;\">\n",
              "      <th></th>\n",
              "      <th>city</th>\n",
              "      <th>client_id</th>\n",
              "      <th>cnae_id</th>\n",
              "      <th>cod_city</th>\n",
              "      <th>cod_tract</th>\n",
              "      <th>cod_uf</th>\n",
              "      <th>state</th>\n",
              "      <th>client</th>\n",
              "      <th>company_id</th>\n",
              "    </tr>\n",
              "  </thead>\n",
              "  <tbody>\n",
              "    <tr>\n",
              "      <th>0</th>\n",
              "      <td>None</td>\n",
              "      <td>c855767</td>\n",
              "      <td>None</td>\n",
              "      <td>5211503</td>\n",
              "      <td>521150305000094</td>\n",
              "      <td>52</td>\n",
              "      <td>GO</td>\n",
              "      <td>Client c855767</td>\n",
              "      <td>567</td>\n",
              "    </tr>\n",
              "    <tr>\n",
              "      <th>1</th>\n",
              "      <td>POSSE</td>\n",
              "      <td>c836888</td>\n",
              "      <td>None</td>\n",
              "      <td>5218300</td>\n",
              "      <td>521830005000006</td>\n",
              "      <td>52</td>\n",
              "      <td>GO</td>\n",
              "      <td>Client c836888</td>\n",
              "      <td>567</td>\n",
              "    </tr>\n",
              "    <tr>\n",
              "      <th>2</th>\n",
              "      <td>POA</td>\n",
              "      <td>c836597</td>\n",
              "      <td>None</td>\n",
              "      <td>3539806</td>\n",
              "      <td>353980605000005</td>\n",
              "      <td>35</td>\n",
              "      <td>SP</td>\n",
              "      <td>Client c836597</td>\n",
              "      <td>567</td>\n",
              "    </tr>\n",
              "    <tr>\n",
              "      <th>3</th>\n",
              "      <td>SAO PAULO</td>\n",
              "      <td>c836596</td>\n",
              "      <td>None</td>\n",
              "      <td>3550308</td>\n",
              "      <td>355030837000019</td>\n",
              "      <td>35</td>\n",
              "      <td>SP</td>\n",
              "      <td>Client c836596</td>\n",
              "      <td>567</td>\n",
              "    </tr>\n",
              "    <tr>\n",
              "      <th>4</th>\n",
              "      <td>CUIABA</td>\n",
              "      <td>c855005</td>\n",
              "      <td>None</td>\n",
              "      <td>5103403</td>\n",
              "      <td>510340310400031</td>\n",
              "      <td>51</td>\n",
              "      <td>MT</td>\n",
              "      <td>Client c855005</td>\n",
              "      <td>567</td>\n",
              "    </tr>\n",
              "  </tbody>\n",
              "</table>\n",
              "</div>\n",
              "    <div class=\"colab-df-buttons\">\n",
              "\n",
              "  <div class=\"colab-df-container\">\n",
              "    <button class=\"colab-df-convert\" onclick=\"convertToInteractive('df-ef81515c-1d01-4e49-80ec-05f81e969398')\"\n",
              "            title=\"Convert this dataframe to an interactive table.\"\n",
              "            style=\"display:none;\">\n",
              "\n",
              "  <svg xmlns=\"http://www.w3.org/2000/svg\" height=\"24px\" viewBox=\"0 -960 960 960\">\n",
              "    <path d=\"M120-120v-720h720v720H120Zm60-500h600v-160H180v160Zm220 220h160v-160H400v160Zm0 220h160v-160H400v160ZM180-400h160v-160H180v160Zm440 0h160v-160H620v160ZM180-180h160v-160H180v160Zm440 0h160v-160H620v160Z\"/>\n",
              "  </svg>\n",
              "    </button>\n",
              "\n",
              "  <style>\n",
              "    .colab-df-container {\n",
              "      display:flex;\n",
              "      gap: 12px;\n",
              "    }\n",
              "\n",
              "    .colab-df-convert {\n",
              "      background-color: #E8F0FE;\n",
              "      border: none;\n",
              "      border-radius: 50%;\n",
              "      cursor: pointer;\n",
              "      display: none;\n",
              "      fill: #1967D2;\n",
              "      height: 32px;\n",
              "      padding: 0 0 0 0;\n",
              "      width: 32px;\n",
              "    }\n",
              "\n",
              "    .colab-df-convert:hover {\n",
              "      background-color: #E2EBFA;\n",
              "      box-shadow: 0px 1px 2px rgba(60, 64, 67, 0.3), 0px 1px 3px 1px rgba(60, 64, 67, 0.15);\n",
              "      fill: #174EA6;\n",
              "    }\n",
              "\n",
              "    .colab-df-buttons div {\n",
              "      margin-bottom: 4px;\n",
              "    }\n",
              "\n",
              "    [theme=dark] .colab-df-convert {\n",
              "      background-color: #3B4455;\n",
              "      fill: #D2E3FC;\n",
              "    }\n",
              "\n",
              "    [theme=dark] .colab-df-convert:hover {\n",
              "      background-color: #434B5C;\n",
              "      box-shadow: 0px 1px 3px 1px rgba(0, 0, 0, 0.15);\n",
              "      filter: drop-shadow(0px 1px 2px rgba(0, 0, 0, 0.3));\n",
              "      fill: #FFFFFF;\n",
              "    }\n",
              "  </style>\n",
              "\n",
              "    <script>\n",
              "      const buttonEl =\n",
              "        document.querySelector('#df-ef81515c-1d01-4e49-80ec-05f81e969398 button.colab-df-convert');\n",
              "      buttonEl.style.display =\n",
              "        google.colab.kernel.accessAllowed ? 'block' : 'none';\n",
              "\n",
              "      async function convertToInteractive(key) {\n",
              "        const element = document.querySelector('#df-ef81515c-1d01-4e49-80ec-05f81e969398');\n",
              "        const dataTable =\n",
              "          await google.colab.kernel.invokeFunction('convertToInteractive',\n",
              "                                                    [key], {});\n",
              "        if (!dataTable) return;\n",
              "\n",
              "        const docLinkHtml = 'Like what you see? Visit the ' +\n",
              "          '<a target=\"_blank\" href=https://colab.research.google.com/notebooks/data_table.ipynb>data table notebook</a>'\n",
              "          + ' to learn more about interactive tables.';\n",
              "        element.innerHTML = '';\n",
              "        dataTable['output_type'] = 'display_data';\n",
              "        await google.colab.output.renderOutput(dataTable, element);\n",
              "        const docLink = document.createElement('div');\n",
              "        docLink.innerHTML = docLinkHtml;\n",
              "        element.appendChild(docLink);\n",
              "      }\n",
              "    </script>\n",
              "  </div>\n",
              "\n",
              "\n",
              "<div id=\"df-98f2db30-554a-47bb-9119-fae4da7fdd5d\">\n",
              "  <button class=\"colab-df-quickchart\" onclick=\"quickchart('df-98f2db30-554a-47bb-9119-fae4da7fdd5d')\"\n",
              "            title=\"Suggest charts\"\n",
              "            style=\"display:none;\">\n",
              "\n",
              "<svg xmlns=\"http://www.w3.org/2000/svg\" height=\"24px\"viewBox=\"0 0 24 24\"\n",
              "     width=\"24px\">\n",
              "    <g>\n",
              "        <path d=\"M19 3H5c-1.1 0-2 .9-2 2v14c0 1.1.9 2 2 2h14c1.1 0 2-.9 2-2V5c0-1.1-.9-2-2-2zM9 17H7v-7h2v7zm4 0h-2V7h2v10zm4 0h-2v-4h2v4z\"/>\n",
              "    </g>\n",
              "</svg>\n",
              "  </button>\n",
              "\n",
              "<style>\n",
              "  .colab-df-quickchart {\n",
              "      --bg-color: #E8F0FE;\n",
              "      --fill-color: #1967D2;\n",
              "      --hover-bg-color: #E2EBFA;\n",
              "      --hover-fill-color: #174EA6;\n",
              "      --disabled-fill-color: #AAA;\n",
              "      --disabled-bg-color: #DDD;\n",
              "  }\n",
              "\n",
              "  [theme=dark] .colab-df-quickchart {\n",
              "      --bg-color: #3B4455;\n",
              "      --fill-color: #D2E3FC;\n",
              "      --hover-bg-color: #434B5C;\n",
              "      --hover-fill-color: #FFFFFF;\n",
              "      --disabled-bg-color: #3B4455;\n",
              "      --disabled-fill-color: #666;\n",
              "  }\n",
              "\n",
              "  .colab-df-quickchart {\n",
              "    background-color: var(--bg-color);\n",
              "    border: none;\n",
              "    border-radius: 50%;\n",
              "    cursor: pointer;\n",
              "    display: none;\n",
              "    fill: var(--fill-color);\n",
              "    height: 32px;\n",
              "    padding: 0;\n",
              "    width: 32px;\n",
              "  }\n",
              "\n",
              "  .colab-df-quickchart:hover {\n",
              "    background-color: var(--hover-bg-color);\n",
              "    box-shadow: 0 1px 2px rgba(60, 64, 67, 0.3), 0 1px 3px 1px rgba(60, 64, 67, 0.15);\n",
              "    fill: var(--button-hover-fill-color);\n",
              "  }\n",
              "\n",
              "  .colab-df-quickchart-complete:disabled,\n",
              "  .colab-df-quickchart-complete:disabled:hover {\n",
              "    background-color: var(--disabled-bg-color);\n",
              "    fill: var(--disabled-fill-color);\n",
              "    box-shadow: none;\n",
              "  }\n",
              "\n",
              "  .colab-df-spinner {\n",
              "    border: 2px solid var(--fill-color);\n",
              "    border-color: transparent;\n",
              "    border-bottom-color: var(--fill-color);\n",
              "    animation:\n",
              "      spin 1s steps(1) infinite;\n",
              "  }\n",
              "\n",
              "  @keyframes spin {\n",
              "    0% {\n",
              "      border-color: transparent;\n",
              "      border-bottom-color: var(--fill-color);\n",
              "      border-left-color: var(--fill-color);\n",
              "    }\n",
              "    20% {\n",
              "      border-color: transparent;\n",
              "      border-left-color: var(--fill-color);\n",
              "      border-top-color: var(--fill-color);\n",
              "    }\n",
              "    30% {\n",
              "      border-color: transparent;\n",
              "      border-left-color: var(--fill-color);\n",
              "      border-top-color: var(--fill-color);\n",
              "      border-right-color: var(--fill-color);\n",
              "    }\n",
              "    40% {\n",
              "      border-color: transparent;\n",
              "      border-right-color: var(--fill-color);\n",
              "      border-top-color: var(--fill-color);\n",
              "    }\n",
              "    60% {\n",
              "      border-color: transparent;\n",
              "      border-right-color: var(--fill-color);\n",
              "    }\n",
              "    80% {\n",
              "      border-color: transparent;\n",
              "      border-right-color: var(--fill-color);\n",
              "      border-bottom-color: var(--fill-color);\n",
              "    }\n",
              "    90% {\n",
              "      border-color: transparent;\n",
              "      border-bottom-color: var(--fill-color);\n",
              "    }\n",
              "  }\n",
              "</style>\n",
              "\n",
              "  <script>\n",
              "    async function quickchart(key) {\n",
              "      const quickchartButtonEl =\n",
              "        document.querySelector('#' + key + ' button');\n",
              "      quickchartButtonEl.disabled = true;  // To prevent multiple clicks.\n",
              "      quickchartButtonEl.classList.add('colab-df-spinner');\n",
              "      try {\n",
              "        const charts = await google.colab.kernel.invokeFunction(\n",
              "            'suggestCharts', [key], {});\n",
              "      } catch (error) {\n",
              "        console.error('Error during call to suggestCharts:', error);\n",
              "      }\n",
              "      quickchartButtonEl.classList.remove('colab-df-spinner');\n",
              "      quickchartButtonEl.classList.add('colab-df-quickchart-complete');\n",
              "    }\n",
              "    (() => {\n",
              "      let quickchartButtonEl =\n",
              "        document.querySelector('#df-98f2db30-554a-47bb-9119-fae4da7fdd5d button');\n",
              "      quickchartButtonEl.style.display =\n",
              "        google.colab.kernel.accessAllowed ? 'block' : 'none';\n",
              "    })();\n",
              "  </script>\n",
              "</div>\n",
              "\n",
              "    </div>\n",
              "  </div>\n"
            ],
            "application/vnd.google.colaboratory.intrinsic+json": {
              "type": "dataframe",
              "variable_name": "clientes_df"
            }
          },
          "metadata": {},
          "execution_count": 26
        }
      ]
    },
    {
      "cell_type": "code",
      "source": [
        "vendas_df.head(5)"
      ],
      "metadata": {
        "colab": {
          "base_uri": "https://localhost:8080/",
          "height": 313
        },
        "id": "4GXsS8CFxSBZ",
        "outputId": "2e71aa45-308f-476c-cb2f-caeaa1e87453"
      },
      "execution_count": null,
      "outputs": [
        {
          "output_type": "execute_result",
          "data": {
            "text/plain": [
              "  client_id items_count list_price  order_date order_id product_id sale_price  \\\n",
              "0     c2943           3        0.0  2020-05-21     None      p1477  25.166666   \n",
              "1     c2943          12        0.0  2020-05-21     None       p156    19.4653   \n",
              "2     c2092           2        0.0  2020-05-21     None      p1314     39.985   \n",
              "3     c3412           5        0.0  2020-05-18     None       p272      26.25   \n",
              "4     c3412          10        0.0  2020-05-18     None       p339      13.68   \n",
              "\n",
              "  salesman_id supplier_id company_id        product      salesman  \\\n",
              "0         s69        su28        603  Product p1477  Salesman s69   \n",
              "1         s69        su16        603   Product p156  Salesman s69   \n",
              "2         s19        su16        603  Product p1314  Salesman s19   \n",
              "3         s79        su19        603   Product p272  Salesman s79   \n",
              "4         s79        su19        603   Product p339  Salesman s79   \n",
              "\n",
              "        supplier        client  \n",
              "0  Supplier su28  Client c2943  \n",
              "1  Supplier su16  Client c2943  \n",
              "2  Supplier su16  Client c2092  \n",
              "3  Supplier su19  Client c3412  \n",
              "4  Supplier su19  Client c3412  "
            ],
            "text/html": [
              "\n",
              "  <div id=\"df-7ecd5f2a-b2cf-4be1-aa65-5f8b40a1f88a\" class=\"colab-df-container\">\n",
              "    <div>\n",
              "<style scoped>\n",
              "    .dataframe tbody tr th:only-of-type {\n",
              "        vertical-align: middle;\n",
              "    }\n",
              "\n",
              "    .dataframe tbody tr th {\n",
              "        vertical-align: top;\n",
              "    }\n",
              "\n",
              "    .dataframe thead th {\n",
              "        text-align: right;\n",
              "    }\n",
              "</style>\n",
              "<table border=\"1\" class=\"dataframe\">\n",
              "  <thead>\n",
              "    <tr style=\"text-align: right;\">\n",
              "      <th></th>\n",
              "      <th>client_id</th>\n",
              "      <th>items_count</th>\n",
              "      <th>list_price</th>\n",
              "      <th>order_date</th>\n",
              "      <th>order_id</th>\n",
              "      <th>product_id</th>\n",
              "      <th>sale_price</th>\n",
              "      <th>salesman_id</th>\n",
              "      <th>supplier_id</th>\n",
              "      <th>company_id</th>\n",
              "      <th>product</th>\n",
              "      <th>salesman</th>\n",
              "      <th>supplier</th>\n",
              "      <th>client</th>\n",
              "    </tr>\n",
              "  </thead>\n",
              "  <tbody>\n",
              "    <tr>\n",
              "      <th>0</th>\n",
              "      <td>c2943</td>\n",
              "      <td>3</td>\n",
              "      <td>0.0</td>\n",
              "      <td>2020-05-21</td>\n",
              "      <td>None</td>\n",
              "      <td>p1477</td>\n",
              "      <td>25.166666</td>\n",
              "      <td>s69</td>\n",
              "      <td>su28</td>\n",
              "      <td>603</td>\n",
              "      <td>Product p1477</td>\n",
              "      <td>Salesman s69</td>\n",
              "      <td>Supplier su28</td>\n",
              "      <td>Client c2943</td>\n",
              "    </tr>\n",
              "    <tr>\n",
              "      <th>1</th>\n",
              "      <td>c2943</td>\n",
              "      <td>12</td>\n",
              "      <td>0.0</td>\n",
              "      <td>2020-05-21</td>\n",
              "      <td>None</td>\n",
              "      <td>p156</td>\n",
              "      <td>19.4653</td>\n",
              "      <td>s69</td>\n",
              "      <td>su16</td>\n",
              "      <td>603</td>\n",
              "      <td>Product p156</td>\n",
              "      <td>Salesman s69</td>\n",
              "      <td>Supplier su16</td>\n",
              "      <td>Client c2943</td>\n",
              "    </tr>\n",
              "    <tr>\n",
              "      <th>2</th>\n",
              "      <td>c2092</td>\n",
              "      <td>2</td>\n",
              "      <td>0.0</td>\n",
              "      <td>2020-05-21</td>\n",
              "      <td>None</td>\n",
              "      <td>p1314</td>\n",
              "      <td>39.985</td>\n",
              "      <td>s19</td>\n",
              "      <td>su16</td>\n",
              "      <td>603</td>\n",
              "      <td>Product p1314</td>\n",
              "      <td>Salesman s19</td>\n",
              "      <td>Supplier su16</td>\n",
              "      <td>Client c2092</td>\n",
              "    </tr>\n",
              "    <tr>\n",
              "      <th>3</th>\n",
              "      <td>c3412</td>\n",
              "      <td>5</td>\n",
              "      <td>0.0</td>\n",
              "      <td>2020-05-18</td>\n",
              "      <td>None</td>\n",
              "      <td>p272</td>\n",
              "      <td>26.25</td>\n",
              "      <td>s79</td>\n",
              "      <td>su19</td>\n",
              "      <td>603</td>\n",
              "      <td>Product p272</td>\n",
              "      <td>Salesman s79</td>\n",
              "      <td>Supplier su19</td>\n",
              "      <td>Client c3412</td>\n",
              "    </tr>\n",
              "    <tr>\n",
              "      <th>4</th>\n",
              "      <td>c3412</td>\n",
              "      <td>10</td>\n",
              "      <td>0.0</td>\n",
              "      <td>2020-05-18</td>\n",
              "      <td>None</td>\n",
              "      <td>p339</td>\n",
              "      <td>13.68</td>\n",
              "      <td>s79</td>\n",
              "      <td>su19</td>\n",
              "      <td>603</td>\n",
              "      <td>Product p339</td>\n",
              "      <td>Salesman s79</td>\n",
              "      <td>Supplier su19</td>\n",
              "      <td>Client c3412</td>\n",
              "    </tr>\n",
              "  </tbody>\n",
              "</table>\n",
              "</div>\n",
              "    <div class=\"colab-df-buttons\">\n",
              "\n",
              "  <div class=\"colab-df-container\">\n",
              "    <button class=\"colab-df-convert\" onclick=\"convertToInteractive('df-7ecd5f2a-b2cf-4be1-aa65-5f8b40a1f88a')\"\n",
              "            title=\"Convert this dataframe to an interactive table.\"\n",
              "            style=\"display:none;\">\n",
              "\n",
              "  <svg xmlns=\"http://www.w3.org/2000/svg\" height=\"24px\" viewBox=\"0 -960 960 960\">\n",
              "    <path d=\"M120-120v-720h720v720H120Zm60-500h600v-160H180v160Zm220 220h160v-160H400v160Zm0 220h160v-160H400v160ZM180-400h160v-160H180v160Zm440 0h160v-160H620v160ZM180-180h160v-160H180v160Zm440 0h160v-160H620v160Z\"/>\n",
              "  </svg>\n",
              "    </button>\n",
              "\n",
              "  <style>\n",
              "    .colab-df-container {\n",
              "      display:flex;\n",
              "      gap: 12px;\n",
              "    }\n",
              "\n",
              "    .colab-df-convert {\n",
              "      background-color: #E8F0FE;\n",
              "      border: none;\n",
              "      border-radius: 50%;\n",
              "      cursor: pointer;\n",
              "      display: none;\n",
              "      fill: #1967D2;\n",
              "      height: 32px;\n",
              "      padding: 0 0 0 0;\n",
              "      width: 32px;\n",
              "    }\n",
              "\n",
              "    .colab-df-convert:hover {\n",
              "      background-color: #E2EBFA;\n",
              "      box-shadow: 0px 1px 2px rgba(60, 64, 67, 0.3), 0px 1px 3px 1px rgba(60, 64, 67, 0.15);\n",
              "      fill: #174EA6;\n",
              "    }\n",
              "\n",
              "    .colab-df-buttons div {\n",
              "      margin-bottom: 4px;\n",
              "    }\n",
              "\n",
              "    [theme=dark] .colab-df-convert {\n",
              "      background-color: #3B4455;\n",
              "      fill: #D2E3FC;\n",
              "    }\n",
              "\n",
              "    [theme=dark] .colab-df-convert:hover {\n",
              "      background-color: #434B5C;\n",
              "      box-shadow: 0px 1px 3px 1px rgba(0, 0, 0, 0.15);\n",
              "      filter: drop-shadow(0px 1px 2px rgba(0, 0, 0, 0.3));\n",
              "      fill: #FFFFFF;\n",
              "    }\n",
              "  </style>\n",
              "\n",
              "    <script>\n",
              "      const buttonEl =\n",
              "        document.querySelector('#df-7ecd5f2a-b2cf-4be1-aa65-5f8b40a1f88a button.colab-df-convert');\n",
              "      buttonEl.style.display =\n",
              "        google.colab.kernel.accessAllowed ? 'block' : 'none';\n",
              "\n",
              "      async function convertToInteractive(key) {\n",
              "        const element = document.querySelector('#df-7ecd5f2a-b2cf-4be1-aa65-5f8b40a1f88a');\n",
              "        const dataTable =\n",
              "          await google.colab.kernel.invokeFunction('convertToInteractive',\n",
              "                                                    [key], {});\n",
              "        if (!dataTable) return;\n",
              "\n",
              "        const docLinkHtml = 'Like what you see? Visit the ' +\n",
              "          '<a target=\"_blank\" href=https://colab.research.google.com/notebooks/data_table.ipynb>data table notebook</a>'\n",
              "          + ' to learn more about interactive tables.';\n",
              "        element.innerHTML = '';\n",
              "        dataTable['output_type'] = 'display_data';\n",
              "        await google.colab.output.renderOutput(dataTable, element);\n",
              "        const docLink = document.createElement('div');\n",
              "        docLink.innerHTML = docLinkHtml;\n",
              "        element.appendChild(docLink);\n",
              "      }\n",
              "    </script>\n",
              "  </div>\n",
              "\n",
              "\n",
              "<div id=\"df-0af0abf6-47a2-4f11-a3b7-e1d74185cebf\">\n",
              "  <button class=\"colab-df-quickchart\" onclick=\"quickchart('df-0af0abf6-47a2-4f11-a3b7-e1d74185cebf')\"\n",
              "            title=\"Suggest charts\"\n",
              "            style=\"display:none;\">\n",
              "\n",
              "<svg xmlns=\"http://www.w3.org/2000/svg\" height=\"24px\"viewBox=\"0 0 24 24\"\n",
              "     width=\"24px\">\n",
              "    <g>\n",
              "        <path d=\"M19 3H5c-1.1 0-2 .9-2 2v14c0 1.1.9 2 2 2h14c1.1 0 2-.9 2-2V5c0-1.1-.9-2-2-2zM9 17H7v-7h2v7zm4 0h-2V7h2v10zm4 0h-2v-4h2v4z\"/>\n",
              "    </g>\n",
              "</svg>\n",
              "  </button>\n",
              "\n",
              "<style>\n",
              "  .colab-df-quickchart {\n",
              "      --bg-color: #E8F0FE;\n",
              "      --fill-color: #1967D2;\n",
              "      --hover-bg-color: #E2EBFA;\n",
              "      --hover-fill-color: #174EA6;\n",
              "      --disabled-fill-color: #AAA;\n",
              "      --disabled-bg-color: #DDD;\n",
              "  }\n",
              "\n",
              "  [theme=dark] .colab-df-quickchart {\n",
              "      --bg-color: #3B4455;\n",
              "      --fill-color: #D2E3FC;\n",
              "      --hover-bg-color: #434B5C;\n",
              "      --hover-fill-color: #FFFFFF;\n",
              "      --disabled-bg-color: #3B4455;\n",
              "      --disabled-fill-color: #666;\n",
              "  }\n",
              "\n",
              "  .colab-df-quickchart {\n",
              "    background-color: var(--bg-color);\n",
              "    border: none;\n",
              "    border-radius: 50%;\n",
              "    cursor: pointer;\n",
              "    display: none;\n",
              "    fill: var(--fill-color);\n",
              "    height: 32px;\n",
              "    padding: 0;\n",
              "    width: 32px;\n",
              "  }\n",
              "\n",
              "  .colab-df-quickchart:hover {\n",
              "    background-color: var(--hover-bg-color);\n",
              "    box-shadow: 0 1px 2px rgba(60, 64, 67, 0.3), 0 1px 3px 1px rgba(60, 64, 67, 0.15);\n",
              "    fill: var(--button-hover-fill-color);\n",
              "  }\n",
              "\n",
              "  .colab-df-quickchart-complete:disabled,\n",
              "  .colab-df-quickchart-complete:disabled:hover {\n",
              "    background-color: var(--disabled-bg-color);\n",
              "    fill: var(--disabled-fill-color);\n",
              "    box-shadow: none;\n",
              "  }\n",
              "\n",
              "  .colab-df-spinner {\n",
              "    border: 2px solid var(--fill-color);\n",
              "    border-color: transparent;\n",
              "    border-bottom-color: var(--fill-color);\n",
              "    animation:\n",
              "      spin 1s steps(1) infinite;\n",
              "  }\n",
              "\n",
              "  @keyframes spin {\n",
              "    0% {\n",
              "      border-color: transparent;\n",
              "      border-bottom-color: var(--fill-color);\n",
              "      border-left-color: var(--fill-color);\n",
              "    }\n",
              "    20% {\n",
              "      border-color: transparent;\n",
              "      border-left-color: var(--fill-color);\n",
              "      border-top-color: var(--fill-color);\n",
              "    }\n",
              "    30% {\n",
              "      border-color: transparent;\n",
              "      border-left-color: var(--fill-color);\n",
              "      border-top-color: var(--fill-color);\n",
              "      border-right-color: var(--fill-color);\n",
              "    }\n",
              "    40% {\n",
              "      border-color: transparent;\n",
              "      border-right-color: var(--fill-color);\n",
              "      border-top-color: var(--fill-color);\n",
              "    }\n",
              "    60% {\n",
              "      border-color: transparent;\n",
              "      border-right-color: var(--fill-color);\n",
              "    }\n",
              "    80% {\n",
              "      border-color: transparent;\n",
              "      border-right-color: var(--fill-color);\n",
              "      border-bottom-color: var(--fill-color);\n",
              "    }\n",
              "    90% {\n",
              "      border-color: transparent;\n",
              "      border-bottom-color: var(--fill-color);\n",
              "    }\n",
              "  }\n",
              "</style>\n",
              "\n",
              "  <script>\n",
              "    async function quickchart(key) {\n",
              "      const quickchartButtonEl =\n",
              "        document.querySelector('#' + key + ' button');\n",
              "      quickchartButtonEl.disabled = true;  // To prevent multiple clicks.\n",
              "      quickchartButtonEl.classList.add('colab-df-spinner');\n",
              "      try {\n",
              "        const charts = await google.colab.kernel.invokeFunction(\n",
              "            'suggestCharts', [key], {});\n",
              "      } catch (error) {\n",
              "        console.error('Error during call to suggestCharts:', error);\n",
              "      }\n",
              "      quickchartButtonEl.classList.remove('colab-df-spinner');\n",
              "      quickchartButtonEl.classList.add('colab-df-quickchart-complete');\n",
              "    }\n",
              "    (() => {\n",
              "      let quickchartButtonEl =\n",
              "        document.querySelector('#df-0af0abf6-47a2-4f11-a3b7-e1d74185cebf button');\n",
              "      quickchartButtonEl.style.display =\n",
              "        google.colab.kernel.accessAllowed ? 'block' : 'none';\n",
              "    })();\n",
              "  </script>\n",
              "</div>\n",
              "\n",
              "    </div>\n",
              "  </div>\n"
            ],
            "application/vnd.google.colaboratory.intrinsic+json": {
              "type": "dataframe",
              "variable_name": "vendas_df"
            }
          },
          "metadata": {},
          "execution_count": 27
        }
      ]
    },
    {
      "cell_type": "markdown",
      "source": [
        "### Limpeza de dados"
      ],
      "metadata": {
        "id": "7Urxq_YeMdjH"
      }
    },
    {
      "cell_type": "markdown",
      "source": [
        "#### Remover duplicatas"
      ],
      "metadata": {
        "id": "QeAKNK47Mfha"
      }
    },
    {
      "cell_type": "code",
      "source": [
        "# valores únicos de 'client_id' em ambas as tabelas\n",
        "clientes_unicos = clientes_df['client_id'].to_numpy()\n",
        "vendas_unicos = vendas_df['client_id'].to_numpy()\n",
        "\n",
        "print(\"--------------------------------------------\")\n",
        "print(f\"Quantidade de clientes que estão em vendas_df: {len(set(clientes_unicos).intersection(set(vendas_unicos)))}\")\n",
        "print(f\"quantidade client_id em clientes_df: {len(clientes_unicos)}\")\n",
        "print(f\"quantidade client_id em vendas_df: {len(vendas_unicos)}\")\n",
        "print(\"--------------------------------------------\")"
      ],
      "metadata": {
        "colab": {
          "base_uri": "https://localhost:8080/"
        },
        "id": "IKoRBVsiVUfV",
        "outputId": "0150ecd6-7aab-4900-a385-8f4501a16511"
      },
      "execution_count": null,
      "outputs": [
        {
          "output_type": "stream",
          "name": "stdout",
          "text": [
            "--------------------------------------------\n",
            "Quantidade de clientes que estão em vendas_df: 4661\n",
            "quantidade client_id em clientes_df: 600750\n",
            "quantidade client_id em vendas_df: 349828\n",
            "--------------------------------------------\n"
          ]
        }
      ]
    },
    {
      "cell_type": "code",
      "source": [
        "#Limpeza de dados:\n",
        "#--Remover duplicatas\n",
        "print(f\"antes:{clientes_df.shape[0]}\")\n",
        "clientes_df = clientes_df.drop_duplicates(subset='client_id')\n",
        "print(f\"depois:{clientes_df.shape[0]}\")"
      ],
      "metadata": {
        "colab": {
          "base_uri": "https://localhost:8080/"
        },
        "id": "wOMNsY2KuUNg",
        "outputId": "1863b44b-0315-41d2-a943-9fc837d4a3d9"
      },
      "execution_count": null,
      "outputs": [
        {
          "output_type": "stream",
          "name": "stdout",
          "text": [
            "antes:600750\n",
            "depois:328582\n"
          ]
        }
      ]
    },
    {
      "cell_type": "code",
      "source": [
        "print(f\"antes:{vendas_df.shape[0]}\")\n",
        "vendas_df = vendas_df.drop_duplicates(subset=['client_id','order_id','product_id','salesman_id'])\n",
        "print(f\"depois:{vendas_df.shape[0]}\")"
      ],
      "metadata": {
        "colab": {
          "base_uri": "https://localhost:8080/"
        },
        "id": "3YC5J41aT05V",
        "outputId": "96877225-da71-496e-8b35-b869a92d9a38"
      },
      "execution_count": null,
      "outputs": [
        {
          "output_type": "stream",
          "name": "stdout",
          "text": [
            "antes:349828\n",
            "depois:182685\n"
          ]
        }
      ]
    },
    {
      "cell_type": "markdown",
      "source": [
        "##### Tratar valores ausentes"
      ],
      "metadata": {
        "id": "483WAfDUMlDW"
      }
    },
    {
      "cell_type": "code",
      "source": [
        "#Limpeza de dados:\n",
        "#Tratar valores ausentes, utilizando estratégias adequadas para cada coluna (ex: preenchimento com valores padrão, médias, etc.).\n",
        "# exibir valores nulos em cada coluna\n",
        "def exibir_valores_nulos(df, df_name):\n",
        "    print(f\"\\nValores nulos no DataFrame: {df_name}\")\n",
        "    for coluna in df.columns:\n",
        "        num_nulos = df[coluna].isna().sum()\n",
        "        print(f\"Coluna {coluna}: {num_nulos} valores nulos\")\n",
        "\n",
        "\n",
        "exibir_valores_nulos(clientes_df, \"clientes_df\")\n",
        "exibir_valores_nulos(vendas_df, \"vendas_df\")"
      ],
      "metadata": {
        "colab": {
          "base_uri": "https://localhost:8080/"
        },
        "id": "1_RbxJ-BubEe",
        "outputId": "6f30bac1-e744-4bf8-fdf6-823f76a209fd"
      },
      "execution_count": null,
      "outputs": [
        {
          "output_type": "stream",
          "name": "stdout",
          "text": [
            "\n",
            "Valores nulos no DataFrame: clientes_df\n",
            "Coluna city: 2557 valores nulos\n",
            "Coluna client_id: 1 valores nulos\n",
            "Coluna cnae_id: 318335 valores nulos\n",
            "Coluna cod_city: 1449 valores nulos\n",
            "Coluna cod_tract: 1449 valores nulos\n",
            "Coluna cod_uf: 1449 valores nulos\n",
            "Coluna state: 1305 valores nulos\n",
            "Coluna client: 1 valores nulos\n",
            "Coluna company_id: 0 valores nulos\n",
            "\n",
            "Valores nulos no DataFrame: vendas_df\n",
            "Coluna client_id: 0 valores nulos\n",
            "Coluna items_count: 0 valores nulos\n",
            "Coluna list_price: 0 valores nulos\n",
            "Coluna order_date: 0 valores nulos\n",
            "Coluna order_id: 182685 valores nulos\n",
            "Coluna product_id: 1126 valores nulos\n",
            "Coluna sale_price: 0 valores nulos\n",
            "Coluna salesman_id: 0 valores nulos\n",
            "Coluna supplier_id: 0 valores nulos\n",
            "Coluna company_id: 0 valores nulos\n",
            "Coluna product: 1126 valores nulos\n",
            "Coluna salesman: 0 valores nulos\n",
            "Coluna supplier: 0 valores nulos\n",
            "Coluna client: 0 valores nulos\n"
          ]
        }
      ]
    },
    {
      "cell_type": "code",
      "source": [
        "#Limpeza de dados:\n",
        "#Tratar valores ausentes, utilizando estratégias adequadas para cada coluna (ex: preenchimento com valores padrão, médias, etc.).\n",
        "\n",
        "#Valores nulos no DataFrame: clientes_df\n",
        "#Coluna city: 2557 valores nulos\n",
        "clientes_df['city'].fillna('cidade_fantasma', inplace=True)\n",
        "\n",
        "#Coluna cnae_id: 318335 valores nulos\n",
        "clientes_df['cnae_id'].fillna(0, inplace=True)\n",
        "\n",
        "#Coluna cod_city: 1449 valores nulos\n",
        "clientes_df['cod_city'].fillna(0, inplace=True)\n",
        "\n",
        "#Coluna cod_tract: 1449 valores nulos\n",
        "clientes_df['cod_tract'].fillna(0, inplace=True)\n",
        "\n",
        "#Coluna cod_uf: 1449 valores nulos\n",
        "clientes_df['cod_uf'].fillna(0, inplace=True)\n",
        "\n",
        "#Coluna state: 1305 valores nulos\n",
        "clientes_df['state'].fillna('estado_fantasma', inplace=True)\n",
        "\n",
        "#Valores nulos no DataFrame: vendas_df\n",
        "#Coluna order_id: 4661 valores nulos\n",
        "vendas_df['order_id'].fillna('ordem_fantasma', inplace=True)"
      ],
      "metadata": {
        "colab": {
          "base_uri": "https://localhost:8080/"
        },
        "id": "6cv8AWbE4S3O",
        "outputId": "792631d1-b8e0-4070-8d1d-ae48f046af08"
      },
      "execution_count": null,
      "outputs": [
        {
          "output_type": "stream",
          "name": "stderr",
          "text": [
            "<ipython-input-32-d8bb8976582e>:6: FutureWarning: A value is trying to be set on a copy of a DataFrame or Series through chained assignment using an inplace method.\n",
            "The behavior will change in pandas 3.0. This inplace method will never work because the intermediate object on which we are setting values always behaves as a copy.\n",
            "\n",
            "For example, when doing 'df[col].method(value, inplace=True)', try using 'df.method({col: value}, inplace=True)' or df[col] = df[col].method(value) instead, to perform the operation inplace on the original object.\n",
            "\n",
            "\n",
            "  clientes_df['city'].fillna('cidade_fantasma', inplace=True)\n",
            "<ipython-input-32-d8bb8976582e>:9: FutureWarning: A value is trying to be set on a copy of a DataFrame or Series through chained assignment using an inplace method.\n",
            "The behavior will change in pandas 3.0. This inplace method will never work because the intermediate object on which we are setting values always behaves as a copy.\n",
            "\n",
            "For example, when doing 'df[col].method(value, inplace=True)', try using 'df.method({col: value}, inplace=True)' or df[col] = df[col].method(value) instead, to perform the operation inplace on the original object.\n",
            "\n",
            "\n",
            "  clientes_df['cnae_id'].fillna(0, inplace=True)\n",
            "<ipython-input-32-d8bb8976582e>:12: FutureWarning: A value is trying to be set on a copy of a DataFrame or Series through chained assignment using an inplace method.\n",
            "The behavior will change in pandas 3.0. This inplace method will never work because the intermediate object on which we are setting values always behaves as a copy.\n",
            "\n",
            "For example, when doing 'df[col].method(value, inplace=True)', try using 'df.method({col: value}, inplace=True)' or df[col] = df[col].method(value) instead, to perform the operation inplace on the original object.\n",
            "\n",
            "\n",
            "  clientes_df['cod_city'].fillna(0, inplace=True)\n",
            "<ipython-input-32-d8bb8976582e>:15: FutureWarning: A value is trying to be set on a copy of a DataFrame or Series through chained assignment using an inplace method.\n",
            "The behavior will change in pandas 3.0. This inplace method will never work because the intermediate object on which we are setting values always behaves as a copy.\n",
            "\n",
            "For example, when doing 'df[col].method(value, inplace=True)', try using 'df.method({col: value}, inplace=True)' or df[col] = df[col].method(value) instead, to perform the operation inplace on the original object.\n",
            "\n",
            "\n",
            "  clientes_df['cod_tract'].fillna(0, inplace=True)\n",
            "<ipython-input-32-d8bb8976582e>:18: FutureWarning: A value is trying to be set on a copy of a DataFrame or Series through chained assignment using an inplace method.\n",
            "The behavior will change in pandas 3.0. This inplace method will never work because the intermediate object on which we are setting values always behaves as a copy.\n",
            "\n",
            "For example, when doing 'df[col].method(value, inplace=True)', try using 'df.method({col: value}, inplace=True)' or df[col] = df[col].method(value) instead, to perform the operation inplace on the original object.\n",
            "\n",
            "\n",
            "  clientes_df['cod_uf'].fillna(0, inplace=True)\n",
            "<ipython-input-32-d8bb8976582e>:21: FutureWarning: A value is trying to be set on a copy of a DataFrame or Series through chained assignment using an inplace method.\n",
            "The behavior will change in pandas 3.0. This inplace method will never work because the intermediate object on which we are setting values always behaves as a copy.\n",
            "\n",
            "For example, when doing 'df[col].method(value, inplace=True)', try using 'df.method({col: value}, inplace=True)' or df[col] = df[col].method(value) instead, to perform the operation inplace on the original object.\n",
            "\n",
            "\n",
            "  clientes_df['state'].fillna('estado_fantasma', inplace=True)\n",
            "<ipython-input-32-d8bb8976582e>:25: FutureWarning: A value is trying to be set on a copy of a DataFrame or Series through chained assignment using an inplace method.\n",
            "The behavior will change in pandas 3.0. This inplace method will never work because the intermediate object on which we are setting values always behaves as a copy.\n",
            "\n",
            "For example, when doing 'df[col].method(value, inplace=True)', try using 'df.method({col: value}, inplace=True)' or df[col] = df[col].method(value) instead, to perform the operation inplace on the original object.\n",
            "\n",
            "\n",
            "  vendas_df['order_id'].fillna('ordem_fantasma', inplace=True)\n"
          ]
        }
      ]
    },
    {
      "cell_type": "code",
      "source": [
        "linha_nula = clientes_df[clientes_df['client'].isna()]\n",
        "linha_nula"
      ],
      "metadata": {
        "colab": {
          "base_uri": "https://localhost:8080/",
          "height": 89
        },
        "id": "LHhTssyeBv6n",
        "outputId": "65cb98c0-e502-4f10-9226-0c5d0e3bc86d"
      },
      "execution_count": null,
      "outputs": [
        {
          "output_type": "execute_result",
          "data": {
            "text/plain": [
              "           city client_id cnae_id cod_city        cod_tract cod_uf state  \\\n",
              "597559  Goiânia      None       0  5208707  520870705450017     52    GO   \n",
              "\n",
              "       client company_id  \n",
              "597559   None         43  "
            ],
            "text/html": [
              "\n",
              "  <div id=\"df-d1c3cb0e-58e1-490b-af44-405a5cc55542\" class=\"colab-df-container\">\n",
              "    <div>\n",
              "<style scoped>\n",
              "    .dataframe tbody tr th:only-of-type {\n",
              "        vertical-align: middle;\n",
              "    }\n",
              "\n",
              "    .dataframe tbody tr th {\n",
              "        vertical-align: top;\n",
              "    }\n",
              "\n",
              "    .dataframe thead th {\n",
              "        text-align: right;\n",
              "    }\n",
              "</style>\n",
              "<table border=\"1\" class=\"dataframe\">\n",
              "  <thead>\n",
              "    <tr style=\"text-align: right;\">\n",
              "      <th></th>\n",
              "      <th>city</th>\n",
              "      <th>client_id</th>\n",
              "      <th>cnae_id</th>\n",
              "      <th>cod_city</th>\n",
              "      <th>cod_tract</th>\n",
              "      <th>cod_uf</th>\n",
              "      <th>state</th>\n",
              "      <th>client</th>\n",
              "      <th>company_id</th>\n",
              "    </tr>\n",
              "  </thead>\n",
              "  <tbody>\n",
              "    <tr>\n",
              "      <th>597559</th>\n",
              "      <td>Goiânia</td>\n",
              "      <td>None</td>\n",
              "      <td>0</td>\n",
              "      <td>5208707</td>\n",
              "      <td>520870705450017</td>\n",
              "      <td>52</td>\n",
              "      <td>GO</td>\n",
              "      <td>None</td>\n",
              "      <td>43</td>\n",
              "    </tr>\n",
              "  </tbody>\n",
              "</table>\n",
              "</div>\n",
              "    <div class=\"colab-df-buttons\">\n",
              "\n",
              "  <div class=\"colab-df-container\">\n",
              "    <button class=\"colab-df-convert\" onclick=\"convertToInteractive('df-d1c3cb0e-58e1-490b-af44-405a5cc55542')\"\n",
              "            title=\"Convert this dataframe to an interactive table.\"\n",
              "            style=\"display:none;\">\n",
              "\n",
              "  <svg xmlns=\"http://www.w3.org/2000/svg\" height=\"24px\" viewBox=\"0 -960 960 960\">\n",
              "    <path d=\"M120-120v-720h720v720H120Zm60-500h600v-160H180v160Zm220 220h160v-160H400v160Zm0 220h160v-160H400v160ZM180-400h160v-160H180v160Zm440 0h160v-160H620v160ZM180-180h160v-160H180v160Zm440 0h160v-160H620v160Z\"/>\n",
              "  </svg>\n",
              "    </button>\n",
              "\n",
              "  <style>\n",
              "    .colab-df-container {\n",
              "      display:flex;\n",
              "      gap: 12px;\n",
              "    }\n",
              "\n",
              "    .colab-df-convert {\n",
              "      background-color: #E8F0FE;\n",
              "      border: none;\n",
              "      border-radius: 50%;\n",
              "      cursor: pointer;\n",
              "      display: none;\n",
              "      fill: #1967D2;\n",
              "      height: 32px;\n",
              "      padding: 0 0 0 0;\n",
              "      width: 32px;\n",
              "    }\n",
              "\n",
              "    .colab-df-convert:hover {\n",
              "      background-color: #E2EBFA;\n",
              "      box-shadow: 0px 1px 2px rgba(60, 64, 67, 0.3), 0px 1px 3px 1px rgba(60, 64, 67, 0.15);\n",
              "      fill: #174EA6;\n",
              "    }\n",
              "\n",
              "    .colab-df-buttons div {\n",
              "      margin-bottom: 4px;\n",
              "    }\n",
              "\n",
              "    [theme=dark] .colab-df-convert {\n",
              "      background-color: #3B4455;\n",
              "      fill: #D2E3FC;\n",
              "    }\n",
              "\n",
              "    [theme=dark] .colab-df-convert:hover {\n",
              "      background-color: #434B5C;\n",
              "      box-shadow: 0px 1px 3px 1px rgba(0, 0, 0, 0.15);\n",
              "      filter: drop-shadow(0px 1px 2px rgba(0, 0, 0, 0.3));\n",
              "      fill: #FFFFFF;\n",
              "    }\n",
              "  </style>\n",
              "\n",
              "    <script>\n",
              "      const buttonEl =\n",
              "        document.querySelector('#df-d1c3cb0e-58e1-490b-af44-405a5cc55542 button.colab-df-convert');\n",
              "      buttonEl.style.display =\n",
              "        google.colab.kernel.accessAllowed ? 'block' : 'none';\n",
              "\n",
              "      async function convertToInteractive(key) {\n",
              "        const element = document.querySelector('#df-d1c3cb0e-58e1-490b-af44-405a5cc55542');\n",
              "        const dataTable =\n",
              "          await google.colab.kernel.invokeFunction('convertToInteractive',\n",
              "                                                    [key], {});\n",
              "        if (!dataTable) return;\n",
              "\n",
              "        const docLinkHtml = 'Like what you see? Visit the ' +\n",
              "          '<a target=\"_blank\" href=https://colab.research.google.com/notebooks/data_table.ipynb>data table notebook</a>'\n",
              "          + ' to learn more about interactive tables.';\n",
              "        element.innerHTML = '';\n",
              "        dataTable['output_type'] = 'display_data';\n",
              "        await google.colab.output.renderOutput(dataTable, element);\n",
              "        const docLink = document.createElement('div');\n",
              "        docLink.innerHTML = docLinkHtml;\n",
              "        element.appendChild(docLink);\n",
              "      }\n",
              "    </script>\n",
              "  </div>\n",
              "\n",
              "\n",
              "  <div id=\"id_b4457e97-3d73-4c14-8699-abce9e68370a\">\n",
              "    <style>\n",
              "      .colab-df-generate {\n",
              "        background-color: #E8F0FE;\n",
              "        border: none;\n",
              "        border-radius: 50%;\n",
              "        cursor: pointer;\n",
              "        display: none;\n",
              "        fill: #1967D2;\n",
              "        height: 32px;\n",
              "        padding: 0 0 0 0;\n",
              "        width: 32px;\n",
              "      }\n",
              "\n",
              "      .colab-df-generate:hover {\n",
              "        background-color: #E2EBFA;\n",
              "        box-shadow: 0px 1px 2px rgba(60, 64, 67, 0.3), 0px 1px 3px 1px rgba(60, 64, 67, 0.15);\n",
              "        fill: #174EA6;\n",
              "      }\n",
              "\n",
              "      [theme=dark] .colab-df-generate {\n",
              "        background-color: #3B4455;\n",
              "        fill: #D2E3FC;\n",
              "      }\n",
              "\n",
              "      [theme=dark] .colab-df-generate:hover {\n",
              "        background-color: #434B5C;\n",
              "        box-shadow: 0px 1px 3px 1px rgba(0, 0, 0, 0.15);\n",
              "        filter: drop-shadow(0px 1px 2px rgba(0, 0, 0, 0.3));\n",
              "        fill: #FFFFFF;\n",
              "      }\n",
              "    </style>\n",
              "    <button class=\"colab-df-generate\" onclick=\"generateWithVariable('linha_nula')\"\n",
              "            title=\"Generate code using this dataframe.\"\n",
              "            style=\"display:none;\">\n",
              "\n",
              "  <svg xmlns=\"http://www.w3.org/2000/svg\" height=\"24px\"viewBox=\"0 0 24 24\"\n",
              "       width=\"24px\">\n",
              "    <path d=\"M7,19H8.4L18.45,9,17,7.55,7,17.6ZM5,21V16.75L18.45,3.32a2,2,0,0,1,2.83,0l1.4,1.43a1.91,1.91,0,0,1,.58,1.4,1.91,1.91,0,0,1-.58,1.4L9.25,21ZM18.45,9,17,7.55Zm-12,3A5.31,5.31,0,0,0,4.9,8.1,5.31,5.31,0,0,0,1,6.5,5.31,5.31,0,0,0,4.9,4.9,5.31,5.31,0,0,0,6.5,1,5.31,5.31,0,0,0,8.1,4.9,5.31,5.31,0,0,0,12,6.5,5.46,5.46,0,0,0,6.5,12Z\"/>\n",
              "  </svg>\n",
              "    </button>\n",
              "    <script>\n",
              "      (() => {\n",
              "      const buttonEl =\n",
              "        document.querySelector('#id_b4457e97-3d73-4c14-8699-abce9e68370a button.colab-df-generate');\n",
              "      buttonEl.style.display =\n",
              "        google.colab.kernel.accessAllowed ? 'block' : 'none';\n",
              "\n",
              "      buttonEl.onclick = () => {\n",
              "        google.colab.notebook.generateWithVariable('linha_nula');\n",
              "      }\n",
              "      })();\n",
              "    </script>\n",
              "  </div>\n",
              "\n",
              "    </div>\n",
              "  </div>\n"
            ],
            "application/vnd.google.colaboratory.intrinsic+json": {
              "type": "dataframe",
              "variable_name": "linha_nula",
              "repr_error": "0"
            }
          },
          "metadata": {},
          "execution_count": 33
        }
      ]
    },
    {
      "cell_type": "markdown",
      "source": [
        "Nesse caso `tanto \"client_id\" quanto \"clinet\" estao vazias`, logo vou dropar a linha inteira"
      ],
      "metadata": {
        "id": "51X19e_vCP5N"
      }
    },
    {
      "cell_type": "code",
      "source": [
        "#Valores nulos no DataFrame: clientes_df\n",
        "#Coluna client_id: 1 valores nulos\n",
        "clientes_df = clientes_df.dropna(subset=['client_id'])\n",
        "\n",
        "#Coluna client: 1 valores nulos\n",
        "clientes_df = clientes_df.dropna(subset=['client'])"
      ],
      "metadata": {
        "id": "1bJWjDUjBl7l"
      },
      "execution_count": null,
      "outputs": []
    },
    {
      "cell_type": "code",
      "source": [
        "linha_nula = vendas_df[vendas_df['product_id'].isna()]\n",
        "print(linha_nula.shape[0])\n",
        "linha_nula"
      ],
      "metadata": {
        "colab": {
          "base_uri": "https://localhost:8080/",
          "height": 635
        },
        "id": "L_wJ9CL1EzYF",
        "outputId": "03232672-8501-4b31-e968-3fe502717d7b"
      },
      "execution_count": null,
      "outputs": [
        {
          "output_type": "stream",
          "name": "stdout",
          "text": [
            "1126\n"
          ]
        },
        {
          "output_type": "execute_result",
          "data": {
            "text/plain": [
              "       client_id items_count list_price  order_date        order_id  \\\n",
              "40           c45           1        0.0  2020-05-18  ordem_fantasma   \n",
              "115        c3815           4        0.0  2020-05-19  ordem_fantasma   \n",
              "536        c2416           6        0.0  2020-06-17  ordem_fantasma   \n",
              "545        c5691           6        0.0  2020-06-17  ordem_fantasma   \n",
              "649        c1028           2        0.0  2020-06-22  ordem_fantasma   \n",
              "...          ...         ...        ...         ...             ...   \n",
              "345391     c3141           2        0.0  2022-04-11  ordem_fantasma   \n",
              "346963    c26198           3        0.0  2022-05-05  ordem_fantasma   \n",
              "347231    c28434           1        0.0  2022-05-11  ordem_fantasma   \n",
              "348691    c27136           2        0.0  2022-06-09  ordem_fantasma   \n",
              "348695    c26174           1        0.0  2022-06-09  ordem_fantasma   \n",
              "\n",
              "       product_id sale_price salesman_id supplier_id company_id product  \\\n",
              "40           None      32.78         s12        su48        603    None   \n",
              "115          None      21.07         s25        su57        603    None   \n",
              "536          None       43.0         s20        su16        603    None   \n",
              "545          None      42.14         s76        su16        603    None   \n",
              "649          None       22.3         s80        su48        603    None   \n",
              "...           ...        ...         ...         ...        ...     ...   \n",
              "345391       None      47.28         s81        su16        603    None   \n",
              "346963       None  46.333332         s76        su16        603    None   \n",
              "347231       None      37.82         s99        su16        603    None   \n",
              "348691       None      47.28         s98        su16        603    None   \n",
              "348695       None      47.28         s78        su16        603    None   \n",
              "\n",
              "            salesman       supplier         client  \n",
              "40      Salesman s12  Supplier su48     Client c45  \n",
              "115     Salesman s25  Supplier su57   Client c3815  \n",
              "536     Salesman s20  Supplier su16   Client c2416  \n",
              "545     Salesman s76  Supplier su16   Client c5691  \n",
              "649     Salesman s80  Supplier su48   Client c1028  \n",
              "...              ...            ...            ...  \n",
              "345391  Salesman s81  Supplier su16   Client c3141  \n",
              "346963  Salesman s76  Supplier su16  Client c26198  \n",
              "347231  Salesman s99  Supplier su16  Client c28434  \n",
              "348691  Salesman s98  Supplier su16  Client c27136  \n",
              "348695  Salesman s78  Supplier su16  Client c26174  \n",
              "\n",
              "[1126 rows x 14 columns]"
            ],
            "text/html": [
              "\n",
              "  <div id=\"df-7e15ade8-f658-4f9d-9c78-9afd71631876\" class=\"colab-df-container\">\n",
              "    <div>\n",
              "<style scoped>\n",
              "    .dataframe tbody tr th:only-of-type {\n",
              "        vertical-align: middle;\n",
              "    }\n",
              "\n",
              "    .dataframe tbody tr th {\n",
              "        vertical-align: top;\n",
              "    }\n",
              "\n",
              "    .dataframe thead th {\n",
              "        text-align: right;\n",
              "    }\n",
              "</style>\n",
              "<table border=\"1\" class=\"dataframe\">\n",
              "  <thead>\n",
              "    <tr style=\"text-align: right;\">\n",
              "      <th></th>\n",
              "      <th>client_id</th>\n",
              "      <th>items_count</th>\n",
              "      <th>list_price</th>\n",
              "      <th>order_date</th>\n",
              "      <th>order_id</th>\n",
              "      <th>product_id</th>\n",
              "      <th>sale_price</th>\n",
              "      <th>salesman_id</th>\n",
              "      <th>supplier_id</th>\n",
              "      <th>company_id</th>\n",
              "      <th>product</th>\n",
              "      <th>salesman</th>\n",
              "      <th>supplier</th>\n",
              "      <th>client</th>\n",
              "    </tr>\n",
              "  </thead>\n",
              "  <tbody>\n",
              "    <tr>\n",
              "      <th>40</th>\n",
              "      <td>c45</td>\n",
              "      <td>1</td>\n",
              "      <td>0.0</td>\n",
              "      <td>2020-05-18</td>\n",
              "      <td>ordem_fantasma</td>\n",
              "      <td>None</td>\n",
              "      <td>32.78</td>\n",
              "      <td>s12</td>\n",
              "      <td>su48</td>\n",
              "      <td>603</td>\n",
              "      <td>None</td>\n",
              "      <td>Salesman s12</td>\n",
              "      <td>Supplier su48</td>\n",
              "      <td>Client c45</td>\n",
              "    </tr>\n",
              "    <tr>\n",
              "      <th>115</th>\n",
              "      <td>c3815</td>\n",
              "      <td>4</td>\n",
              "      <td>0.0</td>\n",
              "      <td>2020-05-19</td>\n",
              "      <td>ordem_fantasma</td>\n",
              "      <td>None</td>\n",
              "      <td>21.07</td>\n",
              "      <td>s25</td>\n",
              "      <td>su57</td>\n",
              "      <td>603</td>\n",
              "      <td>None</td>\n",
              "      <td>Salesman s25</td>\n",
              "      <td>Supplier su57</td>\n",
              "      <td>Client c3815</td>\n",
              "    </tr>\n",
              "    <tr>\n",
              "      <th>536</th>\n",
              "      <td>c2416</td>\n",
              "      <td>6</td>\n",
              "      <td>0.0</td>\n",
              "      <td>2020-06-17</td>\n",
              "      <td>ordem_fantasma</td>\n",
              "      <td>None</td>\n",
              "      <td>43.0</td>\n",
              "      <td>s20</td>\n",
              "      <td>su16</td>\n",
              "      <td>603</td>\n",
              "      <td>None</td>\n",
              "      <td>Salesman s20</td>\n",
              "      <td>Supplier su16</td>\n",
              "      <td>Client c2416</td>\n",
              "    </tr>\n",
              "    <tr>\n",
              "      <th>545</th>\n",
              "      <td>c5691</td>\n",
              "      <td>6</td>\n",
              "      <td>0.0</td>\n",
              "      <td>2020-06-17</td>\n",
              "      <td>ordem_fantasma</td>\n",
              "      <td>None</td>\n",
              "      <td>42.14</td>\n",
              "      <td>s76</td>\n",
              "      <td>su16</td>\n",
              "      <td>603</td>\n",
              "      <td>None</td>\n",
              "      <td>Salesman s76</td>\n",
              "      <td>Supplier su16</td>\n",
              "      <td>Client c5691</td>\n",
              "    </tr>\n",
              "    <tr>\n",
              "      <th>649</th>\n",
              "      <td>c1028</td>\n",
              "      <td>2</td>\n",
              "      <td>0.0</td>\n",
              "      <td>2020-06-22</td>\n",
              "      <td>ordem_fantasma</td>\n",
              "      <td>None</td>\n",
              "      <td>22.3</td>\n",
              "      <td>s80</td>\n",
              "      <td>su48</td>\n",
              "      <td>603</td>\n",
              "      <td>None</td>\n",
              "      <td>Salesman s80</td>\n",
              "      <td>Supplier su48</td>\n",
              "      <td>Client c1028</td>\n",
              "    </tr>\n",
              "    <tr>\n",
              "      <th>...</th>\n",
              "      <td>...</td>\n",
              "      <td>...</td>\n",
              "      <td>...</td>\n",
              "      <td>...</td>\n",
              "      <td>...</td>\n",
              "      <td>...</td>\n",
              "      <td>...</td>\n",
              "      <td>...</td>\n",
              "      <td>...</td>\n",
              "      <td>...</td>\n",
              "      <td>...</td>\n",
              "      <td>...</td>\n",
              "      <td>...</td>\n",
              "      <td>...</td>\n",
              "    </tr>\n",
              "    <tr>\n",
              "      <th>345391</th>\n",
              "      <td>c3141</td>\n",
              "      <td>2</td>\n",
              "      <td>0.0</td>\n",
              "      <td>2022-04-11</td>\n",
              "      <td>ordem_fantasma</td>\n",
              "      <td>None</td>\n",
              "      <td>47.28</td>\n",
              "      <td>s81</td>\n",
              "      <td>su16</td>\n",
              "      <td>603</td>\n",
              "      <td>None</td>\n",
              "      <td>Salesman s81</td>\n",
              "      <td>Supplier su16</td>\n",
              "      <td>Client c3141</td>\n",
              "    </tr>\n",
              "    <tr>\n",
              "      <th>346963</th>\n",
              "      <td>c26198</td>\n",
              "      <td>3</td>\n",
              "      <td>0.0</td>\n",
              "      <td>2022-05-05</td>\n",
              "      <td>ordem_fantasma</td>\n",
              "      <td>None</td>\n",
              "      <td>46.333332</td>\n",
              "      <td>s76</td>\n",
              "      <td>su16</td>\n",
              "      <td>603</td>\n",
              "      <td>None</td>\n",
              "      <td>Salesman s76</td>\n",
              "      <td>Supplier su16</td>\n",
              "      <td>Client c26198</td>\n",
              "    </tr>\n",
              "    <tr>\n",
              "      <th>347231</th>\n",
              "      <td>c28434</td>\n",
              "      <td>1</td>\n",
              "      <td>0.0</td>\n",
              "      <td>2022-05-11</td>\n",
              "      <td>ordem_fantasma</td>\n",
              "      <td>None</td>\n",
              "      <td>37.82</td>\n",
              "      <td>s99</td>\n",
              "      <td>su16</td>\n",
              "      <td>603</td>\n",
              "      <td>None</td>\n",
              "      <td>Salesman s99</td>\n",
              "      <td>Supplier su16</td>\n",
              "      <td>Client c28434</td>\n",
              "    </tr>\n",
              "    <tr>\n",
              "      <th>348691</th>\n",
              "      <td>c27136</td>\n",
              "      <td>2</td>\n",
              "      <td>0.0</td>\n",
              "      <td>2022-06-09</td>\n",
              "      <td>ordem_fantasma</td>\n",
              "      <td>None</td>\n",
              "      <td>47.28</td>\n",
              "      <td>s98</td>\n",
              "      <td>su16</td>\n",
              "      <td>603</td>\n",
              "      <td>None</td>\n",
              "      <td>Salesman s98</td>\n",
              "      <td>Supplier su16</td>\n",
              "      <td>Client c27136</td>\n",
              "    </tr>\n",
              "    <tr>\n",
              "      <th>348695</th>\n",
              "      <td>c26174</td>\n",
              "      <td>1</td>\n",
              "      <td>0.0</td>\n",
              "      <td>2022-06-09</td>\n",
              "      <td>ordem_fantasma</td>\n",
              "      <td>None</td>\n",
              "      <td>47.28</td>\n",
              "      <td>s78</td>\n",
              "      <td>su16</td>\n",
              "      <td>603</td>\n",
              "      <td>None</td>\n",
              "      <td>Salesman s78</td>\n",
              "      <td>Supplier su16</td>\n",
              "      <td>Client c26174</td>\n",
              "    </tr>\n",
              "  </tbody>\n",
              "</table>\n",
              "<p>1126 rows × 14 columns</p>\n",
              "</div>\n",
              "    <div class=\"colab-df-buttons\">\n",
              "\n",
              "  <div class=\"colab-df-container\">\n",
              "    <button class=\"colab-df-convert\" onclick=\"convertToInteractive('df-7e15ade8-f658-4f9d-9c78-9afd71631876')\"\n",
              "            title=\"Convert this dataframe to an interactive table.\"\n",
              "            style=\"display:none;\">\n",
              "\n",
              "  <svg xmlns=\"http://www.w3.org/2000/svg\" height=\"24px\" viewBox=\"0 -960 960 960\">\n",
              "    <path d=\"M120-120v-720h720v720H120Zm60-500h600v-160H180v160Zm220 220h160v-160H400v160Zm0 220h160v-160H400v160ZM180-400h160v-160H180v160Zm440 0h160v-160H620v160ZM180-180h160v-160H180v160Zm440 0h160v-160H620v160Z\"/>\n",
              "  </svg>\n",
              "    </button>\n",
              "\n",
              "  <style>\n",
              "    .colab-df-container {\n",
              "      display:flex;\n",
              "      gap: 12px;\n",
              "    }\n",
              "\n",
              "    .colab-df-convert {\n",
              "      background-color: #E8F0FE;\n",
              "      border: none;\n",
              "      border-radius: 50%;\n",
              "      cursor: pointer;\n",
              "      display: none;\n",
              "      fill: #1967D2;\n",
              "      height: 32px;\n",
              "      padding: 0 0 0 0;\n",
              "      width: 32px;\n",
              "    }\n",
              "\n",
              "    .colab-df-convert:hover {\n",
              "      background-color: #E2EBFA;\n",
              "      box-shadow: 0px 1px 2px rgba(60, 64, 67, 0.3), 0px 1px 3px 1px rgba(60, 64, 67, 0.15);\n",
              "      fill: #174EA6;\n",
              "    }\n",
              "\n",
              "    .colab-df-buttons div {\n",
              "      margin-bottom: 4px;\n",
              "    }\n",
              "\n",
              "    [theme=dark] .colab-df-convert {\n",
              "      background-color: #3B4455;\n",
              "      fill: #D2E3FC;\n",
              "    }\n",
              "\n",
              "    [theme=dark] .colab-df-convert:hover {\n",
              "      background-color: #434B5C;\n",
              "      box-shadow: 0px 1px 3px 1px rgba(0, 0, 0, 0.15);\n",
              "      filter: drop-shadow(0px 1px 2px rgba(0, 0, 0, 0.3));\n",
              "      fill: #FFFFFF;\n",
              "    }\n",
              "  </style>\n",
              "\n",
              "    <script>\n",
              "      const buttonEl =\n",
              "        document.querySelector('#df-7e15ade8-f658-4f9d-9c78-9afd71631876 button.colab-df-convert');\n",
              "      buttonEl.style.display =\n",
              "        google.colab.kernel.accessAllowed ? 'block' : 'none';\n",
              "\n",
              "      async function convertToInteractive(key) {\n",
              "        const element = document.querySelector('#df-7e15ade8-f658-4f9d-9c78-9afd71631876');\n",
              "        const dataTable =\n",
              "          await google.colab.kernel.invokeFunction('convertToInteractive',\n",
              "                                                    [key], {});\n",
              "        if (!dataTable) return;\n",
              "\n",
              "        const docLinkHtml = 'Like what you see? Visit the ' +\n",
              "          '<a target=\"_blank\" href=https://colab.research.google.com/notebooks/data_table.ipynb>data table notebook</a>'\n",
              "          + ' to learn more about interactive tables.';\n",
              "        element.innerHTML = '';\n",
              "        dataTable['output_type'] = 'display_data';\n",
              "        await google.colab.output.renderOutput(dataTable, element);\n",
              "        const docLink = document.createElement('div');\n",
              "        docLink.innerHTML = docLinkHtml;\n",
              "        element.appendChild(docLink);\n",
              "      }\n",
              "    </script>\n",
              "  </div>\n",
              "\n",
              "\n",
              "<div id=\"df-26564748-ccfa-429a-a982-38c89bae8f57\">\n",
              "  <button class=\"colab-df-quickchart\" onclick=\"quickchart('df-26564748-ccfa-429a-a982-38c89bae8f57')\"\n",
              "            title=\"Suggest charts\"\n",
              "            style=\"display:none;\">\n",
              "\n",
              "<svg xmlns=\"http://www.w3.org/2000/svg\" height=\"24px\"viewBox=\"0 0 24 24\"\n",
              "     width=\"24px\">\n",
              "    <g>\n",
              "        <path d=\"M19 3H5c-1.1 0-2 .9-2 2v14c0 1.1.9 2 2 2h14c1.1 0 2-.9 2-2V5c0-1.1-.9-2-2-2zM9 17H7v-7h2v7zm4 0h-2V7h2v10zm4 0h-2v-4h2v4z\"/>\n",
              "    </g>\n",
              "</svg>\n",
              "  </button>\n",
              "\n",
              "<style>\n",
              "  .colab-df-quickchart {\n",
              "      --bg-color: #E8F0FE;\n",
              "      --fill-color: #1967D2;\n",
              "      --hover-bg-color: #E2EBFA;\n",
              "      --hover-fill-color: #174EA6;\n",
              "      --disabled-fill-color: #AAA;\n",
              "      --disabled-bg-color: #DDD;\n",
              "  }\n",
              "\n",
              "  [theme=dark] .colab-df-quickchart {\n",
              "      --bg-color: #3B4455;\n",
              "      --fill-color: #D2E3FC;\n",
              "      --hover-bg-color: #434B5C;\n",
              "      --hover-fill-color: #FFFFFF;\n",
              "      --disabled-bg-color: #3B4455;\n",
              "      --disabled-fill-color: #666;\n",
              "  }\n",
              "\n",
              "  .colab-df-quickchart {\n",
              "    background-color: var(--bg-color);\n",
              "    border: none;\n",
              "    border-radius: 50%;\n",
              "    cursor: pointer;\n",
              "    display: none;\n",
              "    fill: var(--fill-color);\n",
              "    height: 32px;\n",
              "    padding: 0;\n",
              "    width: 32px;\n",
              "  }\n",
              "\n",
              "  .colab-df-quickchart:hover {\n",
              "    background-color: var(--hover-bg-color);\n",
              "    box-shadow: 0 1px 2px rgba(60, 64, 67, 0.3), 0 1px 3px 1px rgba(60, 64, 67, 0.15);\n",
              "    fill: var(--button-hover-fill-color);\n",
              "  }\n",
              "\n",
              "  .colab-df-quickchart-complete:disabled,\n",
              "  .colab-df-quickchart-complete:disabled:hover {\n",
              "    background-color: var(--disabled-bg-color);\n",
              "    fill: var(--disabled-fill-color);\n",
              "    box-shadow: none;\n",
              "  }\n",
              "\n",
              "  .colab-df-spinner {\n",
              "    border: 2px solid var(--fill-color);\n",
              "    border-color: transparent;\n",
              "    border-bottom-color: var(--fill-color);\n",
              "    animation:\n",
              "      spin 1s steps(1) infinite;\n",
              "  }\n",
              "\n",
              "  @keyframes spin {\n",
              "    0% {\n",
              "      border-color: transparent;\n",
              "      border-bottom-color: var(--fill-color);\n",
              "      border-left-color: var(--fill-color);\n",
              "    }\n",
              "    20% {\n",
              "      border-color: transparent;\n",
              "      border-left-color: var(--fill-color);\n",
              "      border-top-color: var(--fill-color);\n",
              "    }\n",
              "    30% {\n",
              "      border-color: transparent;\n",
              "      border-left-color: var(--fill-color);\n",
              "      border-top-color: var(--fill-color);\n",
              "      border-right-color: var(--fill-color);\n",
              "    }\n",
              "    40% {\n",
              "      border-color: transparent;\n",
              "      border-right-color: var(--fill-color);\n",
              "      border-top-color: var(--fill-color);\n",
              "    }\n",
              "    60% {\n",
              "      border-color: transparent;\n",
              "      border-right-color: var(--fill-color);\n",
              "    }\n",
              "    80% {\n",
              "      border-color: transparent;\n",
              "      border-right-color: var(--fill-color);\n",
              "      border-bottom-color: var(--fill-color);\n",
              "    }\n",
              "    90% {\n",
              "      border-color: transparent;\n",
              "      border-bottom-color: var(--fill-color);\n",
              "    }\n",
              "  }\n",
              "</style>\n",
              "\n",
              "  <script>\n",
              "    async function quickchart(key) {\n",
              "      const quickchartButtonEl =\n",
              "        document.querySelector('#' + key + ' button');\n",
              "      quickchartButtonEl.disabled = true;  // To prevent multiple clicks.\n",
              "      quickchartButtonEl.classList.add('colab-df-spinner');\n",
              "      try {\n",
              "        const charts = await google.colab.kernel.invokeFunction(\n",
              "            'suggestCharts', [key], {});\n",
              "      } catch (error) {\n",
              "        console.error('Error during call to suggestCharts:', error);\n",
              "      }\n",
              "      quickchartButtonEl.classList.remove('colab-df-spinner');\n",
              "      quickchartButtonEl.classList.add('colab-df-quickchart-complete');\n",
              "    }\n",
              "    (() => {\n",
              "      let quickchartButtonEl =\n",
              "        document.querySelector('#df-26564748-ccfa-429a-a982-38c89bae8f57 button');\n",
              "      quickchartButtonEl.style.display =\n",
              "        google.colab.kernel.accessAllowed ? 'block' : 'none';\n",
              "    })();\n",
              "  </script>\n",
              "</div>\n",
              "\n",
              "  <div id=\"id_309bbe54-c80d-4580-bd56-2041e75858d6\">\n",
              "    <style>\n",
              "      .colab-df-generate {\n",
              "        background-color: #E8F0FE;\n",
              "        border: none;\n",
              "        border-radius: 50%;\n",
              "        cursor: pointer;\n",
              "        display: none;\n",
              "        fill: #1967D2;\n",
              "        height: 32px;\n",
              "        padding: 0 0 0 0;\n",
              "        width: 32px;\n",
              "      }\n",
              "\n",
              "      .colab-df-generate:hover {\n",
              "        background-color: #E2EBFA;\n",
              "        box-shadow: 0px 1px 2px rgba(60, 64, 67, 0.3), 0px 1px 3px 1px rgba(60, 64, 67, 0.15);\n",
              "        fill: #174EA6;\n",
              "      }\n",
              "\n",
              "      [theme=dark] .colab-df-generate {\n",
              "        background-color: #3B4455;\n",
              "        fill: #D2E3FC;\n",
              "      }\n",
              "\n",
              "      [theme=dark] .colab-df-generate:hover {\n",
              "        background-color: #434B5C;\n",
              "        box-shadow: 0px 1px 3px 1px rgba(0, 0, 0, 0.15);\n",
              "        filter: drop-shadow(0px 1px 2px rgba(0, 0, 0, 0.3));\n",
              "        fill: #FFFFFF;\n",
              "      }\n",
              "    </style>\n",
              "    <button class=\"colab-df-generate\" onclick=\"generateWithVariable('linha_nula')\"\n",
              "            title=\"Generate code using this dataframe.\"\n",
              "            style=\"display:none;\">\n",
              "\n",
              "  <svg xmlns=\"http://www.w3.org/2000/svg\" height=\"24px\"viewBox=\"0 0 24 24\"\n",
              "       width=\"24px\">\n",
              "    <path d=\"M7,19H8.4L18.45,9,17,7.55,7,17.6ZM5,21V16.75L18.45,3.32a2,2,0,0,1,2.83,0l1.4,1.43a1.91,1.91,0,0,1,.58,1.4,1.91,1.91,0,0,1-.58,1.4L9.25,21ZM18.45,9,17,7.55Zm-12,3A5.31,5.31,0,0,0,4.9,8.1,5.31,5.31,0,0,0,1,6.5,5.31,5.31,0,0,0,4.9,4.9,5.31,5.31,0,0,0,6.5,1,5.31,5.31,0,0,0,8.1,4.9,5.31,5.31,0,0,0,12,6.5,5.46,5.46,0,0,0,6.5,12Z\"/>\n",
              "  </svg>\n",
              "    </button>\n",
              "    <script>\n",
              "      (() => {\n",
              "      const buttonEl =\n",
              "        document.querySelector('#id_309bbe54-c80d-4580-bd56-2041e75858d6 button.colab-df-generate');\n",
              "      buttonEl.style.display =\n",
              "        google.colab.kernel.accessAllowed ? 'block' : 'none';\n",
              "\n",
              "      buttonEl.onclick = () => {\n",
              "        google.colab.notebook.generateWithVariable('linha_nula');\n",
              "      }\n",
              "      })();\n",
              "    </script>\n",
              "  </div>\n",
              "\n",
              "    </div>\n",
              "  </div>\n"
            ],
            "application/vnd.google.colaboratory.intrinsic+json": {
              "type": "dataframe",
              "variable_name": "linha_nula",
              "repr_error": "0"
            }
          },
          "metadata": {},
          "execution_count": 35
        }
      ]
    },
    {
      "cell_type": "markdown",
      "source": [
        ">> As colunas produtct_id e product correspondem a ambas estao vazias em 35 linhas"
      ],
      "metadata": {
        "id": "iIH3Ik_OFLoq"
      }
    },
    {
      "cell_type": "markdown",
      "source": [
        ">> Qual a minha hipotese:\n",
        "`Existem valores unicos em sale_price? `\n",
        "\n",
        ">>Se sim, devmos olhar para os valores de sale_price que contem product e product_id vazios e preenche-los os valores para esse mesmo sale_price"
      ],
      "metadata": {
        "id": "8D17dnJnK8jY"
      }
    },
    {
      "cell_type": "code",
      "source": [
        "#encontrar onde o mesmo sale_price está associado a diferentes product_id\n",
        "duplicates_check_df = vendas_df.groupby('sale_price')['product_id'].nunique()\n",
        "\n",
        "# apenas os sale_prices com mais de um product_id\n",
        "duplicates_check_df = duplicates_check_df[duplicates_check_df > 1]\n",
        "\n",
        "#duplicates_check_df"
      ],
      "metadata": {
        "id": "xcVOkpJ9DF4n"
      },
      "execution_count": null,
      "outputs": []
    },
    {
      "cell_type": "code",
      "source": [
        "# valores de sale_price em linha_nula\n",
        "linha_nula_sale_prices = linha_nula['sale_price'].tolist()\n",
        "\n",
        "#valores de sale_price que estão em duplicates_check_df\n",
        "duplicated_sale_prices = duplicates_check_df.index.tolist()\n",
        "\n",
        "# sale_prices que estão em linha_nula mas NÃO estão em duplicates_check_df\n",
        "non_duplicated_sale_prices = [price for price in linha_nula_sale_prices if price not in duplicated_sale_prices]\n",
        "\n",
        "print(non_duplicated_sale_prices)"
      ],
      "metadata": {
        "colab": {
          "base_uri": "https://localhost:8080/"
        },
        "id": "IEh9JBNmH3NB",
        "outputId": "9076b5b1-a693-465c-eb26-011fb0a86f35"
      },
      "execution_count": null,
      "outputs": [
        {
          "output_type": "stream",
          "name": "stdout",
          "text": [
            "['22.3', '32.912', '40.51', '40.51', '16.896667', '16.896667', '119.09', '41.275', '42.38', '32.8', '19.269167', '41.28', '24.09', '41.28', '20.07', '50.06', '41.28', '29.135', '43.01', '23.129', '19.629', '2.601', '19.032', '23.408333', '138.195', '138.2', '138.2', '17.721', '55.4', '33.45', '36.57', '29.66', '24.09', '29.66', '55.4', '35.325', '22.3', '28.55', '39.74', '41.708332', '3.7', '3.7', '45.84', '37.823334', '37.82', '3.7', '45.84', '37.82', '40.51', '40.51', '40.51', '119.09', '31.488', '24.09', '24.09', '119.09', '119.09', '22.3', '28.55', '21.405', '22.3', '81.6', '33.45', '29.736', '17.448334', '29.736666', '24.093334', '138.2', '138.2', '55.4', '128.04', '29.66', '55.4', '28.55', '22.3', '138.2', '55.4', '33.45', '33.45', '55.4', '39.735', '55.4', '29.66', '33.45', '22.3', '42.011665', '23.55', '41.708332', '41.708332', '3.7', '45.84', '3.7', '30.976667', '24.67', '24.67', '24.67', '24.67', '42.552', '42.552', '46.335', '42.552', '46.334286', '46.335', '42.552', '46.335', '40.51', '40.51', '3.5', '41.28', '41.29', '25.69', '24.09', '35.32', '22.3', '42.142', '43.002', '19.629', '138.2', '138.2', '138.2', '23.375', '138.2', '138.2', '3.535', '28.55', '46.335', '37.82', '45.84', '46.335', '3.7', '38.984665', '40.51', '40.51', '40.51', '40.51', '24.09', '16.88', '24.09', '33.45', '20.555', '22.939', '138.195', '24.09', '43.002', '43.002', '138.195', '55.4', '138.195', '43.003334', '128.04', '102.43', '29.66', '138.2', '138.2', '138.2', '138.2', '55.4', '47.51', '37.82', '3.625', '3.7', '3.6266668', '24.67', '24.67', '31.658333', '42.552', '42.552', '42.552', '40.51', '40.51', '3.5', '3.5', '267.27', '41.29', '1.9175', '2.4966667', '41.28', '2.601', '124.38', '41.27', '138.19', '138.2', '138.2', '138.2', '138.2', '55.4', '55.4', '55.4', '3.525', '29.66', '46.335', '41.708332', '41.708332', '41.708332', '3.6266668', '42.34667', '37.82', '34.815', '42.39', '40.35', '32.911', '44.315', '138.2', '138.2', '55.4', '138.2', '138.2', '29.66', '3.7', '46.335', '3.7', '37.82', '37.82', '24.67', '24.67', '24.67', '24.67', '37.82', '43.9704', '42.552', '42.552', '42.552', '42.552', '40.51', '119.09', '40.51', '119.09', '41.28', '41.28', '42.995', '28.55', '138.195', '138.2', '124.38', '138.195', '128.04', '55.4', '138.2', '55.4', '55.4', '39.74', '41.708332', '46.335', '45.84', '3.7', '45.84', '40.51', '3.5', '20.985', '25.49', '138.2', '138.2', '55.4', '138.2', '138.2', '55.4', '22.64', '45.84', '3.7', '46.333332', '3.7', '3.7', '37.82', '37.82', '24.67', '24.67', '24.67', '24.67', '45.254284', '42.552', '40.51', '40.51', '3.5', '40.51', '41.28', '41.28', '43.002', '49.86', '55.4', '3.5283334', '39.73', '3.6266668', '3.7', '40.51', '2.8', '40.51', '40.51', '40.51', '36.57', '41.28', '267.27', '43.003334', '43.002', '43.003334', '138.195', '43.002', '138.195', '3.7', '3.7', '37.82', '3.625', '3.7', '24.67', '24.67', '46.333332', '37.82']\n"
          ]
        }
      ]
    },
    {
      "cell_type": "code",
      "source": [
        "# cada sale_price da lista\n",
        "for price in non_duplicated_sale_prices:\n",
        "    # buscar o product_id e product onde sale_price é igual\n",
        "    referencia_produto = vendas_df[(vendas_df['sale_price'] == price) & (vendas_df['product_id'].notnull()) & (vendas_df['product'].notnull())]\n",
        "\n",
        "    if not referencia_produto.empty:\n",
        "        # valores de product_id e product para preencher\n",
        "        product_id_ref = referencia_produto['product_id'].iloc[0]\n",
        "        product_ref = referencia_produto['product'].iloc[0]\n",
        "\n",
        "        # att as colunas product_id e product onde sale_price é igual e as colunas estão vazias\n",
        "        vendas_df.loc[(vendas_df['sale_price'] == price) & (vendas_df['product_id'].isnull()), 'product_id'] = product_id_ref\n",
        "        vendas_df.loc[(vendas_df['sale_price'] == price) & (vendas_df['product'].isnull()), 'product'] = product_ref"
      ],
      "metadata": {
        "id": "j812ctKEKMDq"
      },
      "execution_count": null,
      "outputs": []
    },
    {
      "cell_type": "code",
      "source": [
        "linha_nula = vendas_df[vendas_df['product_id'].isna()]\n",
        "print(linha_nula.shape[0])"
      ],
      "metadata": {
        "colab": {
          "base_uri": "https://localhost:8080/"
        },
        "id": "oP7dzMbfK463",
        "outputId": "70f7776a-f8e3-4460-83c3-fe2019b6ada1"
      },
      "execution_count": null,
      "outputs": [
        {
          "output_type": "stream",
          "name": "stdout",
          "text": [
            "1027\n"
          ]
        }
      ]
    },
    {
      "cell_type": "markdown",
      "source": [
        ">> `Resultado`: Ganhei 99 linhas perdidas kkkkkkkkkkkk"
      ],
      "metadata": {
        "id": "4FzHKe-zL9Kp"
      }
    },
    {
      "cell_type": "code",
      "source": [
        "#Coluna product_id: 1126  valores nulos\n",
        "vendas_df['product_id'].fillna('produto_id_fantasma', inplace=True)\n",
        "\n",
        "#Coluna product: 1126 valores nulos\n",
        "vendas_df['product'].fillna('produto_fantasma', inplace=True)"
      ],
      "metadata": {
        "colab": {
          "base_uri": "https://localhost:8080/"
        },
        "id": "pwcTFc1FDE-P",
        "outputId": "258eeae9-3617-4644-cdc7-d89519d939d3"
      },
      "execution_count": null,
      "outputs": [
        {
          "output_type": "stream",
          "name": "stderr",
          "text": [
            "<ipython-input-40-bf73d029a03e>:2: FutureWarning: A value is trying to be set on a copy of a DataFrame or Series through chained assignment using an inplace method.\n",
            "The behavior will change in pandas 3.0. This inplace method will never work because the intermediate object on which we are setting values always behaves as a copy.\n",
            "\n",
            "For example, when doing 'df[col].method(value, inplace=True)', try using 'df.method({col: value}, inplace=True)' or df[col] = df[col].method(value) instead, to perform the operation inplace on the original object.\n",
            "\n",
            "\n",
            "  vendas_df['product_id'].fillna('produto_id_fantasma', inplace=True)\n",
            "<ipython-input-40-bf73d029a03e>:5: FutureWarning: A value is trying to be set on a copy of a DataFrame or Series through chained assignment using an inplace method.\n",
            "The behavior will change in pandas 3.0. This inplace method will never work because the intermediate object on which we are setting values always behaves as a copy.\n",
            "\n",
            "For example, when doing 'df[col].method(value, inplace=True)', try using 'df.method({col: value}, inplace=True)' or df[col] = df[col].method(value) instead, to perform the operation inplace on the original object.\n",
            "\n",
            "\n",
            "  vendas_df['product'].fillna('produto_fantasma', inplace=True)\n"
          ]
        }
      ]
    },
    {
      "cell_type": "code",
      "source": [
        "list_price_counts = vendas_df['list_price'].value_counts()\n",
        "print(list_price_counts)"
      ],
      "metadata": {
        "colab": {
          "base_uri": "https://localhost:8080/"
        },
        "id": "lm6IJEdLSjVG",
        "outputId": "96c6079a-6c55-49f2-e6c9-f5f28eae3dda"
      },
      "execution_count": null,
      "outputs": [
        {
          "output_type": "stream",
          "name": "stdout",
          "text": [
            "list_price\n",
            "0.0    182685\n",
            "Name: count, dtype: int64\n"
          ]
        }
      ]
    },
    {
      "cell_type": "markdown",
      "source": [
        "#### Converter tipos de dados"
      ],
      "metadata": {
        "id": "AmcWr7DjMz9F"
      }
    },
    {
      "cell_type": "code",
      "source": [
        "print(vendas_df.dtypes)"
      ],
      "metadata": {
        "colab": {
          "base_uri": "https://localhost:8080/"
        },
        "id": "oEqENPl6TUvV",
        "outputId": "1a38dd43-d37e-43cf-9b06-d5a70f752399"
      },
      "execution_count": null,
      "outputs": [
        {
          "output_type": "stream",
          "name": "stdout",
          "text": [
            "client_id      object\n",
            "items_count    object\n",
            "list_price     object\n",
            "order_date     object\n",
            "order_id       object\n",
            "product_id     object\n",
            "sale_price     object\n",
            "salesman_id    object\n",
            "supplier_id    object\n",
            "company_id     object\n",
            "product        object\n",
            "salesman       object\n",
            "supplier       object\n",
            "client         object\n",
            "dtype: object\n"
          ]
        }
      ]
    },
    {
      "cell_type": "code",
      "source": [
        "print(clientes_df.dtypes)"
      ],
      "metadata": {
        "colab": {
          "base_uri": "https://localhost:8080/"
        },
        "id": "HJ3qEunjTYTl",
        "outputId": "28a4289f-8d70-4289-ab29-b41eff86ebb1"
      },
      "execution_count": null,
      "outputs": [
        {
          "output_type": "stream",
          "name": "stdout",
          "text": [
            "city          object\n",
            "client_id     object\n",
            "cnae_id       object\n",
            "cod_city      object\n",
            "cod_tract     object\n",
            "cod_uf        object\n",
            "state         object\n",
            "client        object\n",
            "company_id    object\n",
            "dtype: object\n"
          ]
        }
      ]
    },
    {
      "cell_type": "code",
      "source": [
        "from pyspark.sql.functions import col\n",
        "#Limpeza de dados:\n",
        "#Converter tipos de dados para os formatos corretos (ex: datas, números).\n",
        "\n",
        "# Ajustar os tipos de dados no Spark DataFrame\n",
        "vendas_df['client_id'] = vendas_df['client_id'].astype(str)\n",
        "vendas_df['items_count'] = vendas_df['items_count'].astype(int)  #para inteiro\n",
        "vendas_df['list_price'] = vendas_df['list_price'].astype(float)  # para float\n",
        "vendas_df['order_date'] = vendas_df['order_date'].astype('datetime64[ns]')  # para datetime\n",
        "vendas_df['order_id'] = vendas_df['order_id'].astype(str)\n",
        "vendas_df['product_id'] = vendas_df['product_id'].astype(str)\n",
        "vendas_df['sale_price'] = vendas_df['sale_price'].astype(float)  # para float\n",
        "vendas_df['salesman_id'] = vendas_df['salesman_id'].astype(str)\n",
        "vendas_df['supplier_id'] = vendas_df['supplier_id'].astype(str)\n",
        "vendas_df['company_id'] = vendas_df['company_id'].astype(int)\n",
        "vendas_df['product'] = vendas_df['product'].astype(str)\n",
        "vendas_df['salesman'] = vendas_df['salesman'].astype(str)\n",
        "vendas_df['supplier'] = vendas_df['supplier'].astype(str)\n",
        "vendas_df['client'] = vendas_df['client'].astype(str)"
      ],
      "metadata": {
        "id": "jUdgz1WkDGSz"
      },
      "execution_count": null,
      "outputs": []
    },
    {
      "cell_type": "code",
      "source": [
        "print(vendas_df.dtypes)"
      ],
      "metadata": {
        "colab": {
          "base_uri": "https://localhost:8080/"
        },
        "id": "jge3D7twYuTm",
        "outputId": "0c0c33c7-646f-4931-c8c9-de50347c211b"
      },
      "execution_count": null,
      "outputs": [
        {
          "output_type": "stream",
          "name": "stdout",
          "text": [
            "client_id              object\n",
            "items_count             int64\n",
            "list_price            float64\n",
            "order_date     datetime64[ns]\n",
            "order_id               object\n",
            "product_id             object\n",
            "sale_price            float64\n",
            "salesman_id            object\n",
            "supplier_id            object\n",
            "company_id              int64\n",
            "product                object\n",
            "salesman               object\n",
            "supplier               object\n",
            "client                 object\n",
            "dtype: object\n"
          ]
        }
      ]
    },
    {
      "cell_type": "code",
      "source": [
        "clientes_df['city'] = clientes_df['city'].astype(str)\n",
        "clientes_df['client_id'] = clientes_df['client_id'].astype(str)\n",
        "clientes_df['cnae_id'] = clientes_df['cnae_id'].astype(str)\n",
        "clientes_df['cod_city'] = clientes_df['cod_city'].astype(int)\n",
        "clientes_df['cod_tract'] = clientes_df['cod_tract'].astype(str)\n",
        "clientes_df['cod_uf'] = clientes_df['cod_uf'].astype(int)\n",
        "clientes_df['state'] = clientes_df['state'].astype(str)\n",
        "clientes_df['client'] = clientes_df['client'].astype(str)\n",
        "clientes_df['company_id'] = clientes_df['company_id'].astype(int)"
      ],
      "metadata": {
        "id": "GnXTy_t0Y7wG"
      },
      "execution_count": null,
      "outputs": []
    },
    {
      "cell_type": "code",
      "source": [
        "print(clientes_df.dtypes)"
      ],
      "metadata": {
        "colab": {
          "base_uri": "https://localhost:8080/"
        },
        "id": "nYAVZVNXY9Xr",
        "outputId": "8f96374d-aa40-4368-c679-4c4af0402c69"
      },
      "execution_count": null,
      "outputs": [
        {
          "output_type": "stream",
          "name": "stdout",
          "text": [
            "city          object\n",
            "client_id     object\n",
            "cnae_id       object\n",
            "cod_city       int64\n",
            "cod_tract     object\n",
            "cod_uf         int64\n",
            "state         object\n",
            "client        object\n",
            "company_id     int64\n",
            "dtype: object\n"
          ]
        }
      ]
    },
    {
      "cell_type": "markdown",
      "source": [
        "### Enriquecimento de dados"
      ],
      "metadata": {
        "id": "lFez7OFdOJq3"
      }
    },
    {
      "cell_type": "markdown",
      "source": [
        "#### Juntar as tabelas vendas e clientes utilizando a chave client_id"
      ],
      "metadata": {
        "id": "pR9SG723OOR1"
      }
    },
    {
      "cell_type": "code",
      "source": [
        "# diferentes join, vai que precisa\n",
        "inner_join_df = vendas_df.merge(clientes_df, how=\"inner\", on=\"client_id\")\n",
        "left_join_df = vendas_df.merge(clientes_df, how=\"left\", on=\"client_id\")\n",
        "right_join_df = vendas_df.merge(clientes_df, how=\"right\", on=\"client_id\")\n",
        "outer_join_df = vendas_df.merge(clientes_df, how=\"outer\", on=\"client_id\")"
      ],
      "metadata": {
        "id": "7WwtSI3WOV3E"
      },
      "execution_count": null,
      "outputs": []
    },
    {
      "cell_type": "markdown",
      "source": [
        "#### Criar novas colunas com informações relevantes"
      ],
      "metadata": {
        "id": "_7j2DreSOP35"
      }
    },
    {
      "cell_type": "code",
      "source": [
        "inner_join_df['valor_total'] = inner_join_df['items_count'] * inner_join_df['sale_price']\n",
        "left_join_df['valor_total'] = left_join_df['items_count'] * left_join_df['sale_price']\n",
        "right_join_df['valor_total'] = right_join_df['items_count'] * right_join_df['sale_price']\n",
        "outer_join_df['valor_total'] = outer_join_df['items_count'] * outer_join_df['sale_price']"
      ],
      "metadata": {
        "id": "2Y7XISdbOkQG"
      },
      "execution_count": null,
      "outputs": []
    },
    {
      "cell_type": "code",
      "source": [
        "inner_join_df['ano_venda'] = inner_join_df['order_date'].dt.year\n",
        "inner_join_df['mes_venda'] = inner_join_df['order_date'].dt.month\n",
        "\n",
        "\n",
        "left_join_df['ano_venda'] = left_join_df['order_date'].dt.year\n",
        "left_join_df['mes_venda'] = left_join_df['order_date'].dt.month\n",
        "\n",
        "\n",
        "right_join_df['ano_venda'] = right_join_df['order_date'].dt.year\n",
        "right_join_df['mes_venda'] = right_join_df['order_date'].dt.month\n",
        "\n",
        "\n",
        "outer_join_df['ano_venda'] = outer_join_df['order_date'].dt.year\n",
        "outer_join_df['mes_venda'] = outer_join_df['order_date'].dt.month"
      ],
      "metadata": {
        "id": "lTguCDksOo8L"
      },
      "execution_count": null,
      "outputs": []
    },
    {
      "cell_type": "code",
      "source": [
        "# 'dia_semana' eh 0 = segunda e 6 = domingo\n",
        "inner_join_df['dia_semana'] = inner_join_df['order_date'].dt.dayofweek\n",
        "left_join_df['dia_semana'] = left_join_df['order_date'].dt.dayofweek\n",
        "right_join_df['dia_semana'] = right_join_df['order_date'].dt.dayofweek\n",
        "outer_join_df['dia_semana'] = outer_join_df['order_date'].dt.dayofweek\n",
        "\n",
        "# nomes dos dias da semana eh 'Monday', 'Tuesday'\n",
        "inner_join_df['nome_dia_semana'] = inner_join_df['order_date'].dt.day_name()\n",
        "left_join_df['nome_dia_semana'] = left_join_df['order_date'].dt.day_name()\n",
        "right_join_df['nome_dia_semana'] = right_join_df['order_date'].dt.day_name()\n",
        "outer_join_df['nome_dia_semana'] = outer_join_df['order_date'].dt.day_name()"
      ],
      "metadata": {
        "id": "fHZNMZl7Ph5V"
      },
      "execution_count": null,
      "outputs": []
    },
    {
      "cell_type": "code",
      "source": [
        "inner_join_df['order_date'] = inner_join_df['order_date'].astype('datetime64[ns]')"
      ],
      "metadata": {
        "id": "wFC9ZAya0Gd6"
      },
      "execution_count": null,
      "outputs": []
    },
    {
      "cell_type": "code",
      "source": [
        "#salvar na pasta Silver\n",
        "silver_folder_path = '/content/drive/MyDrive/Silver'\n",
        "os.makedirs(silver_folder_path, exist_ok=True)\n",
        "\n",
        "inner_join_df.to_csv(f'{silver_folder_path}/inner_join_df.csv', index=False)\n",
        "left_join_df.to_csv(f'{silver_folder_path}/left_join_df.csv', index=False)\n",
        "right_join_df.to_csv(f'{silver_folder_path}/right_join_df.csv', index=False)\n",
        "outer_join_df.to_csv(f'{silver_folder_path}/outer_join_df.csv', index=False)\n",
        "vendas_df.to_csv(f'{silver_folder_path}/vendas_df.csv', index=False)\n",
        "clientes_df.to_csv(f'{silver_folder_path}/clientes_df.csv', index=False)"
      ],
      "metadata": {
        "id": "kbdBunVtbAks"
      },
      "execution_count": null,
      "outputs": []
    }
  ]
}