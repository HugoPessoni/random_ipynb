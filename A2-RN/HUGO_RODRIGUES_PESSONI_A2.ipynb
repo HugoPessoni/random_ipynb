{
  "nbformat": 4,
  "nbformat_minor": 0,
  "metadata": {
    "colab": {
      "provenance": [],
      "gpuType": "T4"
    },
    "kernelspec": {
      "name": "python3",
      "display_name": "Python 3"
    },
    "language_info": {
      "name": "python"
    },
    "accelerator": "GPU"
  },
  "cells": [
    {
      "cell_type": "markdown",
      "source": [
        "Faça o upload de um arquivo .zip com os seus dados e use o comando abaixo após a finalização do upload para a extração do conteúdo do arquivo no colab."
      ],
      "metadata": {
        "id": "_NpMi6bG9z1t"
      }
    },
    {
      "cell_type": "code",
      "source": [
        "#dataset antigos excluidos por forca maior\n",
        "\n",
        "## dataset 6 - Hugo\n",
        "#!gdown 1tdHs2NG09NnYgIKhe8J5ztdknn6WpUTu\n",
        "#!unzip -qq dataset-10.zip\n",
        "#!ls -la\n",
        "#%cd dataset-10\n",
        "\n",
        "### dataset 7 - Hugo\n",
        "#!gdown 1vJpktwXMPsNY3H4Cew-_W--QSGmD3fxC\n",
        "#!unzip -qq dataset-7.zip\n",
        "#!ls -la\n",
        "#%cd dataset-7\n",
        "\n",
        "### dataset 8 - Hugo\n",
        "#!gdown 16DGg0YxLdNkQwauEhDDhO0J6SnNMFeJY\n",
        "#!unzip -qq dataset-8.zip\n",
        "#!ls -la\n",
        "#%cd dataset-8\n",
        "\n",
        "### dataset 9 - Hugo\n",
        "#!gdown 1qaE5KGc-j7nqtsQtG_Fg_R6RT_kzLsTJ\n",
        "#!unzip -qq dataset-9.zip\n",
        "#!ls -la\n",
        "#%cd dataset-9\n",
        "\n",
        "### dataset 10 - Hugo\n",
        "#!gdown 1aa2rjXkivBGZIWlSuT7aX6xKxEOB16jn\n",
        "#!unzip -qq dataset-10.zip\n",
        "#!ls -la\n",
        "#%cd dataset-10\n",
        "\n",
        "### dataset 10_1 - Hugo\n",
        "#!gdown 1aa2rjXkivBGZIWlSuT7aX54h3EOB1bXx\n",
        "#!unzip -qq dataset-10.zip\n",
        "#!ls -la\n",
        "#%cd dataset-10\n",
        "\n",
        "### dataset 10_2 - Hugo\n",
        "#!gdown 15elWOvo38sq62JTPqihkc5bUcS17IuNI\n",
        "#!unzip -qq dataset-10.zip\n",
        "#!ls -la\n",
        "#%cd dataset-10\n",
        "\n",
        "### dataset 12 - Hugo\n",
        "!gdown 1j-pmnJeVEmZAahDm9NMpXGqpr2BzmcNe\n",
        "!unzip -qq dataset-12.zip\n",
        "!ls -la\n",
        "%cd dataset-12"
      ],
      "metadata": {
        "colab": {
          "base_uri": "https://localhost:8080/"
        },
        "id": "qs-ie-rH_Zee",
        "outputId": "a35f38ed-1081-4ef5-bf1b-7402ad7bfc59"
      },
      "execution_count": 1,
      "outputs": [
        {
          "output_type": "stream",
          "name": "stdout",
          "text": [
            "Downloading...\n",
            "From (original): https://drive.google.com/uc?id=1j-pmnJeVEmZAahDm9NMpXGqpr2BzmcNe\n",
            "From (redirected): https://drive.google.com/uc?id=1j-pmnJeVEmZAahDm9NMpXGqpr2BzmcNe&confirm=t&uuid=72e0917a-f9e7-48bd-8b8b-5f659c731849\n",
            "To: /content/dataset-12.zip\n",
            "100% 435M/435M [00:17<00:00, 25.1MB/s]\n",
            "total 424352\n",
            "drwxr-xr-x 1 root root      4096 Jul  8 15:26 .\n",
            "drwxr-xr-x 1 root root      4096 Jul  8 15:25 ..\n",
            "drwxr-xr-x 4 root root      4096 Jul  3 13:21 .config\n",
            "drwxr-xr-x 3 root root      4096 Jul  8 15:26 dataset-12\n",
            "-rw-r--r-- 1 root root 434508813 Jul  8 15:26 dataset-12.zip\n",
            "drwxr-xr-x 1 root root      4096 Jul  3 13:21 sample_data\n",
            "/content/dataset-12\n"
          ]
        }
      ]
    },
    {
      "cell_type": "markdown",
      "source": [
        "\n",
        "\n",
        "---\n",
        "Aqui carregamos diferentes datasets, ao todo testamos cerca de 20 e o que se mostrou melhor foi nosso ultimo dataset gravado por 4 pessoas distintas. Esse ultimo dataset contem:\n",
        "\n",
        "*   1 volta com o carro centralizado\n",
        "*   1 volta com o carro centralizado (outra pessoa)\n",
        "*   1 volta com o carro a esquerda\n",
        "*   1 volta com o carro esquerda (outra pessoa)\n",
        "*   1 volta com o carro a direita\n",
        "*   1 volta com o carro direita (outra pessoa)\n",
        "*   Várias vezes a curva da terra com o carro centralizado\n",
        "*   Várias vezes a curva da terra com o carro a esquerda\n",
        "*   Várias vezes a curva após a terra com o carro centralizado\n",
        "*   Várias vezes a curva após a terra com o carro a direita\n",
        "\n",
        "\n",
        "Dessa forma concatenamos todos esses datasets obtendo cerca de 32k de fotos.\n",
        "\n",
        "\n",
        "---\n",
        "\n",
        "\n",
        "\n",
        "\n",
        "\n",
        "\n",
        "\n"
      ],
      "metadata": {
        "id": "WgEUfYd2W-Pf"
      }
    },
    {
      "cell_type": "markdown",
      "source": [
        "Implemente as funções a seguir."
      ],
      "metadata": {
        "id": "smgD-6OS-KuL"
      }
    },
    {
      "cell_type": "code",
      "source": [
        "from torch.utils.data import Dataset, DataLoader\n",
        "import torch\n",
        "from torch import nn\n",
        "from torchvision.transforms import v2\n",
        "import torch.nn.functional as F\n",
        "import torchvision.transforms as transforms\n",
        "import pandas as pd\n",
        "from sklearn.model_selection import train_test_split\n",
        "from PIL import Image, ImageFilter\n",
        "import matplotlib.pyplot as plt\n",
        "import numpy as np\n",
        "from sklearn.utils import shuffle\n",
        "import cv2\n",
        "from collections import Counter"
      ],
      "metadata": {
        "id": "__8dnSXJ_YtC"
      },
      "execution_count": 269,
      "outputs": []
    },
    {
      "cell_type": "code",
      "source": [
        "class CarSimDataset(Dataset):\n",
        "    def __init__(self, data, transform=None):\n",
        "        self.data = data\n",
        "        self.transform = transform\n",
        "        #self.correction = 0.25\n",
        "\n",
        "    def __len__(self):\n",
        "        return len(self.data)\n",
        "\n",
        "    def __getitem__(self, idx):\n",
        "        if torch.is_tensor(idx):\n",
        "            idx = idx.tolist()\n",
        "\n",
        "        sample = self.data[idx]\n",
        "        original_img_path = sample[0]\n",
        "\n",
        "        #img_path = img_path.replace('/', '\\\\')\n",
        "        img_path = original_img_path.split('\\\\')[-1]\n",
        "        #print(img_path)\n",
        "        img_path = f'IMG/{img_path}'\n",
        "\n",
        "        angle = sample[1]\n",
        "\n",
        "        #if 'left' in original_img_path:\n",
        "            #angle += self.correction\n",
        "        #elif 'right' in original_img_path:\n",
        "            #angle -= self.correction\n",
        "\n",
        "        # Read image and shape it to 28x28\n",
        "        img = Image.open(img_path)\n",
        "        img = self.transform(img)\n",
        "\n",
        "\n",
        "        return img, torch.tensor(angle, dtype=torch.float32)"
      ],
      "metadata": {
        "id": "FcJZmBhalnWp"
      },
      "execution_count": 3,
      "outputs": []
    },
    {
      "cell_type": "markdown",
      "source": [
        "\n",
        "\n",
        "---\n",
        "Aqui foi utilizado o split por '\\\\' devido a uma formatação do path do meu windowns\"\n",
        "\n",
        "\n",
        "---\n",
        "\n"
      ],
      "metadata": {
        "id": "gVEQ3z_aYB8S"
      }
    },
    {
      "cell_type": "code",
      "source": [
        "'''tfms = v2.Compose([\n",
        "    v2.Resize((28, 28)),\n",
        "    v2.CenterCrop((25, 25)),\n",
        "    v2.Resize((28, 28)),\n",
        "    v2.ToImage(),\n",
        "    v2.ToDtype(torch.float32, scale=True),w\n",
        "])'''\n",
        "\n",
        "\n",
        "tfms = v2.Compose([\n",
        "    v2.Resize((28, 28)),\n",
        "    v2.ToImage(),\n",
        "    v2.ToDtype(torch.float32, scale=True),\n",
        "    #v2.GaussianBlur(kernel_size=1, sigma=(0.1, 2.0)),\n",
        "    #transforms.ColorJitter(brightness=0.2, contrast=0.9)\n",
        "\n",
        "])\n",
        "\n",
        "'''def preprocess(image, top_offset=.375, bottom_offset=.125):\n",
        "  top = int(top_offset * image.shape[0])\n",
        "  bottom = int(bottom_offset * image.shape[0])\n",
        "  image = image[top:-bottom, :]\n",
        "  return tfms(image)'''\n",
        "\n",
        "'''def preprocess(image, top_offset=.375, bottom_offset=.125):\n",
        "    top = int(top_offset * image.shape[0])\n",
        "    bottom = int(bottom_offset * image.shape[0])\n",
        "    image = image.crop((0, top, image.width, image.height - bottom))\n",
        "    return tfms(image)'''\n",
        "\n",
        "def preprocess(image):\n",
        "    #image = image.filter(ImageFilter.GaussianBlur(radius=1))\n",
        "    #image = image.resize((28, 28))\n",
        "    #image = image.crop((0, 5, 28, 28))  # (left, upper, right, lower)\n",
        "    return tfms(image)"
      ],
      "metadata": {
        "id": "X7D2tcuEHz3T"
      },
      "execution_count": 79,
      "outputs": []
    },
    {
      "cell_type": "markdown",
      "source": [
        "\n",
        "\n",
        "---\n",
        "Inicialmente acreditavamos que filtros poderiam ser a solução, então testamos diversos filtros diferentes como os contido na biblioteca PIL e Pytorch:\n",
        "* BLUR\n",
        "* CONTOUR\n",
        "* DETAIL\n",
        "* EDGE_ENHANCE\n",
        "* EDGE_ENHANCE_MORE\n",
        "* EMBOSS\n",
        "* FIND_EDGES\n",
        "* SHARPEN\n",
        "* SMOOTH\n",
        "* SMOOTH_MORE\n",
        "* FLIP\n",
        "* CROP\n",
        "* GAUSSIAN\n",
        "* SOBEL (com multiplicação de matriz)\n",
        "\n",
        "Ao fim, notamos que por conta da dimensionalidade da imagem esses filtros talvez estejam mais atrapalhando que ajudando. Fizemos testes com e sem eles para notar a diferença e não tinham tanto na performance do modelo.\n",
        "\n",
        "\n",
        "---\n",
        "\n",
        "\n",
        "\n"
      ],
      "metadata": {
        "id": "ba8V8TFLYK5J"
      }
    },
    {
      "cell_type": "markdown",
      "source": [
        "Crie as variáveis a seguir a partir da classe implementada acima."
      ],
      "metadata": {
        "id": "lhEBCg_AEEtB"
      }
    },
    {
      "cell_type": "code",
      "source": [
        " # Load the full dataset for TRAIN\n",
        "data_path = '/content/dataset-12/driving_log.csv'\n",
        "full_data = pd.read_csv(data_path,index_col=0)\n",
        "#print(full_data.head(1))\n",
        "full_data.columns = ['Center','Left','Right','angle','1','2','speed']"
      ],
      "metadata": {
        "id": "db2kXQbYWVNS"
      },
      "execution_count": 332,
      "outputs": []
    },
    {
      "cell_type": "code",
      "source": [
        "len(full_data)"
      ],
      "metadata": {
        "colab": {
          "base_uri": "https://localhost:8080/"
        },
        "id": "yqhG5dDygHx1",
        "outputId": "20339b3a-84d1-4fb4-b444-4e89571d01df"
      },
      "execution_count": 226,
      "outputs": [
        {
          "output_type": "execute_result",
          "data": {
            "text/plain": [
              "10690"
            ]
          },
          "metadata": {},
          "execution_count": 226
        }
      ]
    },
    {
      "cell_type": "code",
      "source": [
        "full_data.describe()"
      ],
      "metadata": {
        "colab": {
          "base_uri": "https://localhost:8080/",
          "height": 300
        },
        "id": "LGx3h2AYbQbz",
        "outputId": "8a6d9b28-1a68-4240-db2c-71342869e8f2"
      },
      "execution_count": 206,
      "outputs": [
        {
          "output_type": "execute_result",
          "data": {
            "text/plain": [
              "              angle             1             2         speed\n",
              "count  10690.000000  10690.000000  10690.000000  1.069000e+04\n",
              "mean      -0.033469      0.818631      0.000856  2.783422e+01\n",
              "std        0.123742      0.352841      0.024110  5.099617e+00\n",
              "min       -1.000000      0.000000      0.000000  5.722931e-07\n",
              "25%       -0.075472      1.000000      0.000000  3.003739e+01\n",
              "50%        0.000000      1.000000      0.000000  3.018978e+01\n",
              "75%        0.000000      1.000000      0.000000  3.019024e+01\n",
              "max        1.000000      1.000000      1.000000  3.040643e+01"
            ],
            "text/html": [
              "\n",
              "  <div id=\"df-307ba47c-db12-4493-9a67-f159139c00f1\" class=\"colab-df-container\">\n",
              "    <div>\n",
              "<style scoped>\n",
              "    .dataframe tbody tr th:only-of-type {\n",
              "        vertical-align: middle;\n",
              "    }\n",
              "\n",
              "    .dataframe tbody tr th {\n",
              "        vertical-align: top;\n",
              "    }\n",
              "\n",
              "    .dataframe thead th {\n",
              "        text-align: right;\n",
              "    }\n",
              "</style>\n",
              "<table border=\"1\" class=\"dataframe\">\n",
              "  <thead>\n",
              "    <tr style=\"text-align: right;\">\n",
              "      <th></th>\n",
              "      <th>angle</th>\n",
              "      <th>1</th>\n",
              "      <th>2</th>\n",
              "      <th>speed</th>\n",
              "    </tr>\n",
              "  </thead>\n",
              "  <tbody>\n",
              "    <tr>\n",
              "      <th>count</th>\n",
              "      <td>10690.000000</td>\n",
              "      <td>10690.000000</td>\n",
              "      <td>10690.000000</td>\n",
              "      <td>1.069000e+04</td>\n",
              "    </tr>\n",
              "    <tr>\n",
              "      <th>mean</th>\n",
              "      <td>-0.033469</td>\n",
              "      <td>0.818631</td>\n",
              "      <td>0.000856</td>\n",
              "      <td>2.783422e+01</td>\n",
              "    </tr>\n",
              "    <tr>\n",
              "      <th>std</th>\n",
              "      <td>0.123742</td>\n",
              "      <td>0.352841</td>\n",
              "      <td>0.024110</td>\n",
              "      <td>5.099617e+00</td>\n",
              "    </tr>\n",
              "    <tr>\n",
              "      <th>min</th>\n",
              "      <td>-1.000000</td>\n",
              "      <td>0.000000</td>\n",
              "      <td>0.000000</td>\n",
              "      <td>5.722931e-07</td>\n",
              "    </tr>\n",
              "    <tr>\n",
              "      <th>25%</th>\n",
              "      <td>-0.075472</td>\n",
              "      <td>1.000000</td>\n",
              "      <td>0.000000</td>\n",
              "      <td>3.003739e+01</td>\n",
              "    </tr>\n",
              "    <tr>\n",
              "      <th>50%</th>\n",
              "      <td>0.000000</td>\n",
              "      <td>1.000000</td>\n",
              "      <td>0.000000</td>\n",
              "      <td>3.018978e+01</td>\n",
              "    </tr>\n",
              "    <tr>\n",
              "      <th>75%</th>\n",
              "      <td>0.000000</td>\n",
              "      <td>1.000000</td>\n",
              "      <td>0.000000</td>\n",
              "      <td>3.019024e+01</td>\n",
              "    </tr>\n",
              "    <tr>\n",
              "      <th>max</th>\n",
              "      <td>1.000000</td>\n",
              "      <td>1.000000</td>\n",
              "      <td>1.000000</td>\n",
              "      <td>3.040643e+01</td>\n",
              "    </tr>\n",
              "  </tbody>\n",
              "</table>\n",
              "</div>\n",
              "    <div class=\"colab-df-buttons\">\n",
              "\n",
              "  <div class=\"colab-df-container\">\n",
              "    <button class=\"colab-df-convert\" onclick=\"convertToInteractive('df-307ba47c-db12-4493-9a67-f159139c00f1')\"\n",
              "            title=\"Convert this dataframe to an interactive table.\"\n",
              "            style=\"display:none;\">\n",
              "\n",
              "  <svg xmlns=\"http://www.w3.org/2000/svg\" height=\"24px\" viewBox=\"0 -960 960 960\">\n",
              "    <path d=\"M120-120v-720h720v720H120Zm60-500h600v-160H180v160Zm220 220h160v-160H400v160Zm0 220h160v-160H400v160ZM180-400h160v-160H180v160Zm440 0h160v-160H620v160ZM180-180h160v-160H180v160Zm440 0h160v-160H620v160Z\"/>\n",
              "  </svg>\n",
              "    </button>\n",
              "\n",
              "  <style>\n",
              "    .colab-df-container {\n",
              "      display:flex;\n",
              "      gap: 12px;\n",
              "    }\n",
              "\n",
              "    .colab-df-convert {\n",
              "      background-color: #E8F0FE;\n",
              "      border: none;\n",
              "      border-radius: 50%;\n",
              "      cursor: pointer;\n",
              "      display: none;\n",
              "      fill: #1967D2;\n",
              "      height: 32px;\n",
              "      padding: 0 0 0 0;\n",
              "      width: 32px;\n",
              "    }\n",
              "\n",
              "    .colab-df-convert:hover {\n",
              "      background-color: #E2EBFA;\n",
              "      box-shadow: 0px 1px 2px rgba(60, 64, 67, 0.3), 0px 1px 3px 1px rgba(60, 64, 67, 0.15);\n",
              "      fill: #174EA6;\n",
              "    }\n",
              "\n",
              "    .colab-df-buttons div {\n",
              "      margin-bottom: 4px;\n",
              "    }\n",
              "\n",
              "    [theme=dark] .colab-df-convert {\n",
              "      background-color: #3B4455;\n",
              "      fill: #D2E3FC;\n",
              "    }\n",
              "\n",
              "    [theme=dark] .colab-df-convert:hover {\n",
              "      background-color: #434B5C;\n",
              "      box-shadow: 0px 1px 3px 1px rgba(0, 0, 0, 0.15);\n",
              "      filter: drop-shadow(0px 1px 2px rgba(0, 0, 0, 0.3));\n",
              "      fill: #FFFFFF;\n",
              "    }\n",
              "  </style>\n",
              "\n",
              "    <script>\n",
              "      const buttonEl =\n",
              "        document.querySelector('#df-307ba47c-db12-4493-9a67-f159139c00f1 button.colab-df-convert');\n",
              "      buttonEl.style.display =\n",
              "        google.colab.kernel.accessAllowed ? 'block' : 'none';\n",
              "\n",
              "      async function convertToInteractive(key) {\n",
              "        const element = document.querySelector('#df-307ba47c-db12-4493-9a67-f159139c00f1');\n",
              "        const dataTable =\n",
              "          await google.colab.kernel.invokeFunction('convertToInteractive',\n",
              "                                                    [key], {});\n",
              "        if (!dataTable) return;\n",
              "\n",
              "        const docLinkHtml = 'Like what you see? Visit the ' +\n",
              "          '<a target=\"_blank\" href=https://colab.research.google.com/notebooks/data_table.ipynb>data table notebook</a>'\n",
              "          + ' to learn more about interactive tables.';\n",
              "        element.innerHTML = '';\n",
              "        dataTable['output_type'] = 'display_data';\n",
              "        await google.colab.output.renderOutput(dataTable, element);\n",
              "        const docLink = document.createElement('div');\n",
              "        docLink.innerHTML = docLinkHtml;\n",
              "        element.appendChild(docLink);\n",
              "      }\n",
              "    </script>\n",
              "  </div>\n",
              "\n",
              "\n",
              "<div id=\"df-36e291f5-b0c3-47ae-8f65-6fe2060f1137\">\n",
              "  <button class=\"colab-df-quickchart\" onclick=\"quickchart('df-36e291f5-b0c3-47ae-8f65-6fe2060f1137')\"\n",
              "            title=\"Suggest charts\"\n",
              "            style=\"display:none;\">\n",
              "\n",
              "<svg xmlns=\"http://www.w3.org/2000/svg\" height=\"24px\"viewBox=\"0 0 24 24\"\n",
              "     width=\"24px\">\n",
              "    <g>\n",
              "        <path d=\"M19 3H5c-1.1 0-2 .9-2 2v14c0 1.1.9 2 2 2h14c1.1 0 2-.9 2-2V5c0-1.1-.9-2-2-2zM9 17H7v-7h2v7zm4 0h-2V7h2v10zm4 0h-2v-4h2v4z\"/>\n",
              "    </g>\n",
              "</svg>\n",
              "  </button>\n",
              "\n",
              "<style>\n",
              "  .colab-df-quickchart {\n",
              "      --bg-color: #E8F0FE;\n",
              "      --fill-color: #1967D2;\n",
              "      --hover-bg-color: #E2EBFA;\n",
              "      --hover-fill-color: #174EA6;\n",
              "      --disabled-fill-color: #AAA;\n",
              "      --disabled-bg-color: #DDD;\n",
              "  }\n",
              "\n",
              "  [theme=dark] .colab-df-quickchart {\n",
              "      --bg-color: #3B4455;\n",
              "      --fill-color: #D2E3FC;\n",
              "      --hover-bg-color: #434B5C;\n",
              "      --hover-fill-color: #FFFFFF;\n",
              "      --disabled-bg-color: #3B4455;\n",
              "      --disabled-fill-color: #666;\n",
              "  }\n",
              "\n",
              "  .colab-df-quickchart {\n",
              "    background-color: var(--bg-color);\n",
              "    border: none;\n",
              "    border-radius: 50%;\n",
              "    cursor: pointer;\n",
              "    display: none;\n",
              "    fill: var(--fill-color);\n",
              "    height: 32px;\n",
              "    padding: 0;\n",
              "    width: 32px;\n",
              "  }\n",
              "\n",
              "  .colab-df-quickchart:hover {\n",
              "    background-color: var(--hover-bg-color);\n",
              "    box-shadow: 0 1px 2px rgba(60, 64, 67, 0.3), 0 1px 3px 1px rgba(60, 64, 67, 0.15);\n",
              "    fill: var(--button-hover-fill-color);\n",
              "  }\n",
              "\n",
              "  .colab-df-quickchart-complete:disabled,\n",
              "  .colab-df-quickchart-complete:disabled:hover {\n",
              "    background-color: var(--disabled-bg-color);\n",
              "    fill: var(--disabled-fill-color);\n",
              "    box-shadow: none;\n",
              "  }\n",
              "\n",
              "  .colab-df-spinner {\n",
              "    border: 2px solid var(--fill-color);\n",
              "    border-color: transparent;\n",
              "    border-bottom-color: var(--fill-color);\n",
              "    animation:\n",
              "      spin 1s steps(1) infinite;\n",
              "  }\n",
              "\n",
              "  @keyframes spin {\n",
              "    0% {\n",
              "      border-color: transparent;\n",
              "      border-bottom-color: var(--fill-color);\n",
              "      border-left-color: var(--fill-color);\n",
              "    }\n",
              "    20% {\n",
              "      border-color: transparent;\n",
              "      border-left-color: var(--fill-color);\n",
              "      border-top-color: var(--fill-color);\n",
              "    }\n",
              "    30% {\n",
              "      border-color: transparent;\n",
              "      border-left-color: var(--fill-color);\n",
              "      border-top-color: var(--fill-color);\n",
              "      border-right-color: var(--fill-color);\n",
              "    }\n",
              "    40% {\n",
              "      border-color: transparent;\n",
              "      border-right-color: var(--fill-color);\n",
              "      border-top-color: var(--fill-color);\n",
              "    }\n",
              "    60% {\n",
              "      border-color: transparent;\n",
              "      border-right-color: var(--fill-color);\n",
              "    }\n",
              "    80% {\n",
              "      border-color: transparent;\n",
              "      border-right-color: var(--fill-color);\n",
              "      border-bottom-color: var(--fill-color);\n",
              "    }\n",
              "    90% {\n",
              "      border-color: transparent;\n",
              "      border-bottom-color: var(--fill-color);\n",
              "    }\n",
              "  }\n",
              "</style>\n",
              "\n",
              "  <script>\n",
              "    async function quickchart(key) {\n",
              "      const quickchartButtonEl =\n",
              "        document.querySelector('#' + key + ' button');\n",
              "      quickchartButtonEl.disabled = true;  // To prevent multiple clicks.\n",
              "      quickchartButtonEl.classList.add('colab-df-spinner');\n",
              "      try {\n",
              "        const charts = await google.colab.kernel.invokeFunction(\n",
              "            'suggestCharts', [key], {});\n",
              "      } catch (error) {\n",
              "        console.error('Error during call to suggestCharts:', error);\n",
              "      }\n",
              "      quickchartButtonEl.classList.remove('colab-df-spinner');\n",
              "      quickchartButtonEl.classList.add('colab-df-quickchart-complete');\n",
              "    }\n",
              "    (() => {\n",
              "      let quickchartButtonEl =\n",
              "        document.querySelector('#df-36e291f5-b0c3-47ae-8f65-6fe2060f1137 button');\n",
              "      quickchartButtonEl.style.display =\n",
              "        google.colab.kernel.accessAllowed ? 'block' : 'none';\n",
              "    })();\n",
              "  </script>\n",
              "</div>\n",
              "\n",
              "    </div>\n",
              "  </div>\n"
            ],
            "application/vnd.google.colaboratory.intrinsic+json": {
              "type": "dataframe",
              "summary": "{\n  \"name\": \"full_data\",\n  \"rows\": 8,\n  \"fields\": [\n    {\n      \"column\": \"angle\",\n      \"properties\": {\n        \"dtype\": \"number\",\n        \"std\": 3779.485036105513,\n        \"min\": -1.0,\n        \"max\": 10690.0,\n        \"num_unique_values\": 7,\n        \"samples\": [\n          10690.0,\n          -0.0334692153445276,\n          0.0\n        ],\n        \"semantic_type\": \"\",\n        \"description\": \"\"\n      }\n    },\n    {\n      \"column\": \"1\",\n      \"properties\": {\n        \"dtype\": \"number\",\n        \"std\": 3779.2245650598747,\n        \"min\": 0.0,\n        \"max\": 10690.0,\n        \"num_unique_values\": 5,\n        \"samples\": [\n          0.8186308095273246,\n          1.0,\n          0.35284143512269134\n        ],\n        \"semantic_type\": \"\",\n        \"description\": \"\"\n      }\n    },\n    {\n      \"column\": \"2\",\n      \"properties\": {\n        \"dtype\": \"number\",\n        \"std\": 3779.4339929404864,\n        \"min\": 0.0,\n        \"max\": 10690.0,\n        \"num_unique_values\": 5,\n        \"samples\": [\n          0.0008557240177736201,\n          1.0,\n          0.024109778038656618\n        ],\n        \"semantic_type\": \"\",\n        \"description\": \"\"\n      }\n    },\n    {\n      \"column\": \"speed\",\n      \"properties\": {\n        \"dtype\": \"number\",\n        \"std\": 3771.74013138539,\n        \"min\": 5.722931e-07,\n        \"max\": 10690.0,\n        \"num_unique_values\": 8,\n        \"samples\": [\n          27.83422360155324,\n          30.18978,\n          10690.0\n        ],\n        \"semantic_type\": \"\",\n        \"description\": \"\"\n      }\n    }\n  ]\n}"
            }
          },
          "metadata": {},
          "execution_count": 206
        }
      ]
    },
    {
      "cell_type": "code",
      "source": [
        "#histograma de imagens de acordo com o angulo do volante\n",
        "num_bins = 25\n",
        "samples_per_bin = 250\n",
        "hist, bins = np.histogram(full_data['angle'], num_bins)\n",
        "center = (bins[:-1]+ bins[1:]) * 0.5\n",
        "plt.bar(center, hist, width=0.05)\n",
        "plt.plot((np.min(full_data['angle']), np.max(full_data['angle'])),\n",
        "         (samples_per_bin, samples_per_bin),'-r') #desenha threshold para remover\n",
        "                                            #uma quantidade massiva de imagens com valor 0\n",
        "print('total full_data:', len(full_data))\n",
        "print(full_data['angle'].max())"
      ],
      "metadata": {
        "colab": {
          "base_uri": "https://localhost:8080/",
          "height": 465
        },
        "id": "qDs-PKV_WWV5",
        "outputId": "51c43f9a-6be7-44e9-b2e8-406c52a23108"
      },
      "execution_count": 313,
      "outputs": [
        {
          "output_type": "stream",
          "name": "stdout",
          "text": [
            "total full_data: 10690\n",
            "1.0\n"
          ]
        },
        {
          "output_type": "display_data",
          "data": {
            "text/plain": [
              "<Figure size 640x480 with 1 Axes>"
            ],
            "image/png": "[encoded data removed]"
          },
          "metadata": {}
        }
      ]
    },
    {
      "cell_type": "markdown",
      "source": [
        "\n",
        "\n",
        "---\n",
        "Inicialmente estavamos usando datasets muito curtos, com 10k de imagens em média e aplicando data augmentation para aumentar. A principal estratégia erá a de flip horizontal, invertendo a imagem e o angulo respectivamente.\n",
        "\n",
        "Na parte desse colab dita como \"nao rodar\" foi o momento que estavamos tentnado balancear o dataset de uma forma muito mais bruta, retirando valores zeros e trocando valores em ranges diferenciados. Como agora decidimos usar datasets gigantes, alguns com mais de 50k, precisavamos cortar uma boa quantidade de valores que se destacavam de mais, inviesando o modelo.\n",
        "\n",
        "\n",
        "\n",
        "\n",
        "---\n",
        "\n",
        "\n"
      ],
      "metadata": {
        "id": "plEWZD8cZnXC"
      }
    },
    {
      "cell_type": "markdown",
      "source": [
        "# NAO RODAR"
      ],
      "metadata": {
        "id": "iEqd5_3h02O2"
      }
    },
    {
      "cell_type": "code",
      "source": [
        "'''def balance_data(data, num_bins=100, samples_per_bin=200):\n",
        "    hist, bins = np.histogram(data['angle'], num_bins)\n",
        "    remove_list = []\n",
        "\n",
        "    for j in range(num_bins):\n",
        "        bin_indices = []\n",
        "        for i in range(len(data)):\n",
        "            if data['angle'][i] >= bins[j] and data['angle'][i] <= bins[j+1]:\n",
        "                bin_indices.append(i)\n",
        "        bin_indices = shuffle(bin_indices)\n",
        "        bin_indices = bin_indices[samples_per_bin:]\n",
        "        remove_list.extend(bin_indices)\n",
        "\n",
        "    print('removed:', len(remove_list))\n",
        "    data.drop(data.index[remove_list], inplace=True)\n",
        "    print('remaining:', len(data))\n",
        "\n",
        "    return data'''\n",
        "\n",
        "#full_data = balance_data(full_data)"
      ],
      "metadata": {
        "id": "4S8yMT9gXu0-",
        "colab": {
          "base_uri": "https://localhost:8080/",
          "height": 88
        },
        "outputId": "a77d9da8-1213-4115-e92f-8c0d1e574a82"
      },
      "execution_count": null,
      "outputs": [
        {
          "output_type": "execute_result",
          "data": {
            "text/plain": [
              "\"def balance_data(data, num_bins=100, samples_per_bin=200):\\n    hist, bins = np.histogram(data['angle'], num_bins)\\n    remove_list = []\\n\\n    for j in range(num_bins):\\n        bin_indices = []\\n        for i in range(len(data)):\\n            if data['angle'][i] >= bins[j] and data['angle'][i] <= bins[j+1]:\\n                bin_indices.append(i)\\n        bin_indices = shuffle(bin_indices)\\n        bin_indices = bin_indices[samples_per_bin:]\\n        remove_list.extend(bin_indices)\\n\\n    print('removed:', len(remove_list))\\n    data.drop(data.index[remove_list], inplace=True)\\n    print('remaining:', len(data))\\n\\n    return data\""
            ],
            "application/vnd.google.colaboratory.intrinsic+json": {
              "type": "string"
            }
          },
          "metadata": {},
          "execution_count": 34
        }
      ]
    },
    {
      "cell_type": "code",
      "source": [
        "# Contar quantidade de zeros\n",
        "num_zeros = (full_data['angle'] == 0).sum()\n",
        "print(f\"Número de zeros: {num_zeros}\")"
      ],
      "metadata": {
        "colab": {
          "base_uri": "https://localhost:8080/"
        },
        "id": "HEp-iapFB8PC",
        "outputId": "61aa5a81-a0f0-4507-b907-34b3e89b6dcf"
      },
      "execution_count": null,
      "outputs": [
        {
          "output_type": "stream",
          "name": "stdout",
          "text": [
            "Número de zeros: 3724\n"
          ]
        }
      ]
    },
    {
      "cell_type": "markdown",
      "source": [],
      "metadata": {
        "id": "DpA4WvprchmW"
      }
    },
    {
      "cell_type": "code",
      "source": [
        "#Selecionar aleatoriamente um quantidade de entradas para remover com valor 0\n",
        "'''angle_zero_data = full_data[full_data['angle'] == 0]\n",
        "angle_zero_data_sampled = angle_zero_data.sample(n=2800, random_state=42)\n",
        "\n",
        "# Remover as 9 mil entradas selecionadas\n",
        "full_data = full_data.drop(angle_zero_data_sampled.index)'''"
      ],
      "metadata": {
        "id": "W8q1KSPwX67m"
      },
      "execution_count": null,
      "outputs": []
    },
    {
      "cell_type": "code",
      "source": [
        "#Selecionar aleatoriamente um quantidade de entradas para remover com valor de um range\n",
        "'''angle_range_data = full_data[(full_data['angle'] > -0.25) & (full_data['angle'] <= -0.001)]\n",
        "angle_range_data_sampled = angle_range_data.sample(n=1000, random_state=42)  # Ajuste o valor de n conforme necessário\n",
        "\n",
        "# Remover as entradas selecionadas\n",
        "full_data = full_data.drop(angle_range_data_sampled.index)'''"
      ],
      "metadata": {
        "id": "HSHHWVXJksaW"
      },
      "execution_count": null,
      "outputs": []
    },
    {
      "cell_type": "code",
      "source": [
        "'''full_data['angle'] += 0.1'''"
      ],
      "metadata": {
        "id": "lrt2E6f_g_2Q"
      },
      "execution_count": null,
      "outputs": []
    },
    {
      "cell_type": "code",
      "source": [
        "full_data.describe()"
      ],
      "metadata": {
        "colab": {
          "base_uri": "https://localhost:8080/",
          "height": 300
        },
        "id": "aH89QecKcfl1",
        "outputId": "d96db075-aa16-4f7d-de9e-ff4b734ccd61"
      },
      "execution_count": null,
      "outputs": [
        {
          "output_type": "execute_result",
          "data": {
            "text/plain": [
              "             angle            1       2        speed\n",
              "count  6917.000000  6917.000000  6917.0  6917.000000\n",
              "mean     -0.047080     0.951110     0.0    29.538454\n",
              "std       0.235869     0.201448     0.0     2.571596\n",
              "min      -1.000000     0.000000     0.0     1.057201\n",
              "25%      -0.200000     1.000000     0.0    30.170250\n",
              "50%      -0.050000     1.000000     0.0    30.183100\n",
              "75%       0.100000     1.000000     0.0    30.189240\n",
              "max       0.950000     1.000000     0.0    30.626210"
            ],
            "text/html": [
              "\n",
              "  <div id=\"df-ea528c7b-2324-4440-b38c-e4d81d41cec4\" class=\"colab-df-container\">\n",
              "    <div>\n",
              "<style scoped>\n",
              "    .dataframe tbody tr th:only-of-type {\n",
              "        vertical-align: middle;\n",
              "    }\n",
              "\n",
              "    .dataframe tbody tr th {\n",
              "        vertical-align: top;\n",
              "    }\n",
              "\n",
              "    .dataframe thead th {\n",
              "        text-align: right;\n",
              "    }\n",
              "</style>\n",
              "<table border=\"1\" class=\"dataframe\">\n",
              "  <thead>\n",
              "    <tr style=\"text-align: right;\">\n",
              "      <th></th>\n",
              "      <th>angle</th>\n",
              "      <th>1</th>\n",
              "      <th>2</th>\n",
              "      <th>speed</th>\n",
              "    </tr>\n",
              "  </thead>\n",
              "  <tbody>\n",
              "    <tr>\n",
              "      <th>count</th>\n",
              "      <td>6917.000000</td>\n",
              "      <td>6917.000000</td>\n",
              "      <td>6917.0</td>\n",
              "      <td>6917.000000</td>\n",
              "    </tr>\n",
              "    <tr>\n",
              "      <th>mean</th>\n",
              "      <td>-0.047080</td>\n",
              "      <td>0.951110</td>\n",
              "      <td>0.0</td>\n",
              "      <td>29.538454</td>\n",
              "    </tr>\n",
              "    <tr>\n",
              "      <th>std</th>\n",
              "      <td>0.235869</td>\n",
              "      <td>0.201448</td>\n",
              "      <td>0.0</td>\n",
              "      <td>2.571596</td>\n",
              "    </tr>\n",
              "    <tr>\n",
              "      <th>min</th>\n",
              "      <td>-1.000000</td>\n",
              "      <td>0.000000</td>\n",
              "      <td>0.0</td>\n",
              "      <td>1.057201</td>\n",
              "    </tr>\n",
              "    <tr>\n",
              "      <th>25%</th>\n",
              "      <td>-0.200000</td>\n",
              "      <td>1.000000</td>\n",
              "      <td>0.0</td>\n",
              "      <td>30.170250</td>\n",
              "    </tr>\n",
              "    <tr>\n",
              "      <th>50%</th>\n",
              "      <td>-0.050000</td>\n",
              "      <td>1.000000</td>\n",
              "      <td>0.0</td>\n",
              "      <td>30.183100</td>\n",
              "    </tr>\n",
              "    <tr>\n",
              "      <th>75%</th>\n",
              "      <td>0.100000</td>\n",
              "      <td>1.000000</td>\n",
              "      <td>0.0</td>\n",
              "      <td>30.189240</td>\n",
              "    </tr>\n",
              "    <tr>\n",
              "      <th>max</th>\n",
              "      <td>0.950000</td>\n",
              "      <td>1.000000</td>\n",
              "      <td>0.0</td>\n",
              "      <td>30.626210</td>\n",
              "    </tr>\n",
              "  </tbody>\n",
              "</table>\n",
              "</div>\n",
              "    <div class=\"colab-df-buttons\">\n",
              "\n",
              "  <div class=\"colab-df-container\">\n",
              "    <button class=\"colab-df-convert\" onclick=\"convertToInteractive('df-ea528c7b-2324-4440-b38c-e4d81d41cec4')\"\n",
              "            title=\"Convert this dataframe to an interactive table.\"\n",
              "            style=\"display:none;\">\n",
              "\n",
              "  <svg xmlns=\"http://www.w3.org/2000/svg\" height=\"24px\" viewBox=\"0 -960 960 960\">\n",
              "    <path d=\"M120-120v-720h720v720H120Zm60-500h600v-160H180v160Zm220 220h160v-160H400v160Zm0 220h160v-160H400v160ZM180-400h160v-160H180v160Zm440 0h160v-160H620v160ZM180-180h160v-160H180v160Zm440 0h160v-160H620v160Z\"/>\n",
              "  </svg>\n",
              "    </button>\n",
              "\n",
              "  <style>\n",
              "    .colab-df-container {\n",
              "      display:flex;\n",
              "      gap: 12px;\n",
              "    }\n",
              "\n",
              "    .colab-df-convert {\n",
              "      background-color: #E8F0FE;\n",
              "      border: none;\n",
              "      border-radius: 50%;\n",
              "      cursor: pointer;\n",
              "      display: none;\n",
              "      fill: #1967D2;\n",
              "      height: 32px;\n",
              "      padding: 0 0 0 0;\n",
              "      width: 32px;\n",
              "    }\n",
              "\n",
              "    .colab-df-convert:hover {\n",
              "      background-color: #E2EBFA;\n",
              "      box-shadow: 0px 1px 2px rgba(60, 64, 67, 0.3), 0px 1px 3px 1px rgba(60, 64, 67, 0.15);\n",
              "      fill: #174EA6;\n",
              "    }\n",
              "\n",
              "    .colab-df-buttons div {\n",
              "      margin-bottom: 4px;\n",
              "    }\n",
              "\n",
              "    [theme=dark] .colab-df-convert {\n",
              "      background-color: #3B4455;\n",
              "      fill: #D2E3FC;\n",
              "    }\n",
              "\n",
              "    [theme=dark] .colab-df-convert:hover {\n",
              "      background-color: #434B5C;\n",
              "      box-shadow: 0px 1px 3px 1px rgba(0, 0, 0, 0.15);\n",
              "      filter: drop-shadow(0px 1px 2px rgba(0, 0, 0, 0.3));\n",
              "      fill: #FFFFFF;\n",
              "    }\n",
              "  </style>\n",
              "\n",
              "    <script>\n",
              "      const buttonEl =\n",
              "        document.querySelector('#df-ea528c7b-2324-4440-b38c-e4d81d41cec4 button.colab-df-convert');\n",
              "      buttonEl.style.display =\n",
              "        google.colab.kernel.accessAllowed ? 'block' : 'none';\n",
              "\n",
              "      async function convertToInteractive(key) {\n",
              "        const element = document.querySelector('#df-ea528c7b-2324-4440-b38c-e4d81d41cec4');\n",
              "        const dataTable =\n",
              "          await google.colab.kernel.invokeFunction('convertToInteractive',\n",
              "                                                    [key], {});\n",
              "        if (!dataTable) return;\n",
              "\n",
              "        const docLinkHtml = 'Like what you see? Visit the ' +\n",
              "          '<a target=\"_blank\" href=https://colab.research.google.com/notebooks/data_table.ipynb>data table notebook</a>'\n",
              "          + ' to learn more about interactive tables.';\n",
              "        element.innerHTML = '';\n",
              "        dataTable['output_type'] = 'display_data';\n",
              "        await google.colab.output.renderOutput(dataTable, element);\n",
              "        const docLink = document.createElement('div');\n",
              "        docLink.innerHTML = docLinkHtml;\n",
              "        element.appendChild(docLink);\n",
              "      }\n",
              "    </script>\n",
              "  </div>\n",
              "\n",
              "\n",
              "<div id=\"df-52e06009-bb7f-44fa-b385-cf7b2a404c07\">\n",
              "  <button class=\"colab-df-quickchart\" onclick=\"quickchart('df-52e06009-bb7f-44fa-b385-cf7b2a404c07')\"\n",
              "            title=\"Suggest charts\"\n",
              "            style=\"display:none;\">\n",
              "\n",
              "<svg xmlns=\"http://www.w3.org/2000/svg\" height=\"24px\"viewBox=\"0 0 24 24\"\n",
              "     width=\"24px\">\n",
              "    <g>\n",
              "        <path d=\"M19 3H5c-1.1 0-2 .9-2 2v14c0 1.1.9 2 2 2h14c1.1 0 2-.9 2-2V5c0-1.1-.9-2-2-2zM9 17H7v-7h2v7zm4 0h-2V7h2v10zm4 0h-2v-4h2v4z\"/>\n",
              "    </g>\n",
              "</svg>\n",
              "  </button>\n",
              "\n",
              "<style>\n",
              "  .colab-df-quickchart {\n",
              "      --bg-color: #E8F0FE;\n",
              "      --fill-color: #1967D2;\n",
              "      --hover-bg-color: #E2EBFA;\n",
              "      --hover-fill-color: #174EA6;\n",
              "      --disabled-fill-color: #AAA;\n",
              "      --disabled-bg-color: #DDD;\n",
              "  }\n",
              "\n",
              "  [theme=dark] .colab-df-quickchart {\n",
              "      --bg-color: #3B4455;\n",
              "      --fill-color: #D2E3FC;\n",
              "      --hover-bg-color: #434B5C;\n",
              "      --hover-fill-color: #FFFFFF;\n",
              "      --disabled-bg-color: #3B4455;\n",
              "      --disabled-fill-color: #666;\n",
              "  }\n",
              "\n",
              "  .colab-df-quickchart {\n",
              "    background-color: var(--bg-color);\n",
              "    border: none;\n",
              "    border-radius: 50%;\n",
              "    cursor: pointer;\n",
              "    display: none;\n",
              "    fill: var(--fill-color);\n",
              "    height: 32px;\n",
              "    padding: 0;\n",
              "    width: 32px;\n",
              "  }\n",
              "\n",
              "  .colab-df-quickchart:hover {\n",
              "    background-color: var(--hover-bg-color);\n",
              "    box-shadow: 0 1px 2px rgba(60, 64, 67, 0.3), 0 1px 3px 1px rgba(60, 64, 67, 0.15);\n",
              "    fill: var(--button-hover-fill-color);\n",
              "  }\n",
              "\n",
              "  .colab-df-quickchart-complete:disabled,\n",
              "  .colab-df-quickchart-complete:disabled:hover {\n",
              "    background-color: var(--disabled-bg-color);\n",
              "    fill: var(--disabled-fill-color);\n",
              "    box-shadow: none;\n",
              "  }\n",
              "\n",
              "  .colab-df-spinner {\n",
              "    border: 2px solid var(--fill-color);\n",
              "    border-color: transparent;\n",
              "    border-bottom-color: var(--fill-color);\n",
              "    animation:\n",
              "      spin 1s steps(1) infinite;\n",
              "  }\n",
              "\n",
              "  @keyframes spin {\n",
              "    0% {\n",
              "      border-color: transparent;\n",
              "      border-bottom-color: var(--fill-color);\n",
              "      border-left-color: var(--fill-color);\n",
              "    }\n",
              "    20% {\n",
              "      border-color: transparent;\n",
              "      border-left-color: var(--fill-color);\n",
              "      border-top-color: var(--fill-color);\n",
              "    }\n",
              "    30% {\n",
              "      border-color: transparent;\n",
              "      border-left-color: var(--fill-color);\n",
              "      border-top-color: var(--fill-color);\n",
              "      border-right-color: var(--fill-color);\n",
              "    }\n",
              "    40% {\n",
              "      border-color: transparent;\n",
              "      border-right-color: var(--fill-color);\n",
              "      border-top-color: var(--fill-color);\n",
              "    }\n",
              "    60% {\n",
              "      border-color: transparent;\n",
              "      border-right-color: var(--fill-color);\n",
              "    }\n",
              "    80% {\n",
              "      border-color: transparent;\n",
              "      border-right-color: var(--fill-color);\n",
              "      border-bottom-color: var(--fill-color);\n",
              "    }\n",
              "    90% {\n",
              "      border-color: transparent;\n",
              "      border-bottom-color: var(--fill-color);\n",
              "    }\n",
              "  }\n",
              "</style>\n",
              "\n",
              "  <script>\n",
              "    async function quickchart(key) {\n",
              "      const quickchartButtonEl =\n",
              "        document.querySelector('#' + key + ' button');\n",
              "      quickchartButtonEl.disabled = true;  // To prevent multiple clicks.\n",
              "      quickchartButtonEl.classList.add('colab-df-spinner');\n",
              "      try {\n",
              "        const charts = await google.colab.kernel.invokeFunction(\n",
              "            'suggestCharts', [key], {});\n",
              "      } catch (error) {\n",
              "        console.error('Error during call to suggestCharts:', error);\n",
              "      }\n",
              "      quickchartButtonEl.classList.remove('colab-df-spinner');\n",
              "      quickchartButtonEl.classList.add('colab-df-quickchart-complete');\n",
              "    }\n",
              "    (() => {\n",
              "      let quickchartButtonEl =\n",
              "        document.querySelector('#df-52e06009-bb7f-44fa-b385-cf7b2a404c07 button');\n",
              "      quickchartButtonEl.style.display =\n",
              "        google.colab.kernel.accessAllowed ? 'block' : 'none';\n",
              "    })();\n",
              "  </script>\n",
              "</div>\n",
              "\n",
              "    </div>\n",
              "  </div>\n"
            ],
            "application/vnd.google.colaboratory.intrinsic+json": {
              "type": "dataframe",
              "summary": "{\n  \"name\": \"full_data\",\n  \"rows\": 8,\n  \"fields\": [\n    {\n      \"column\": \"angle\",\n      \"properties\": {\n        \"dtype\": \"number\",\n        \"std\": 2445.5294277374414,\n        \"min\": -1.0,\n        \"max\": 6917.0,\n        \"num_unique_values\": 8,\n        \"samples\": [\n          -0.0470796599533686,\n          -0.05,\n          6917.0\n        ],\n        \"semantic_type\": \"\",\n        \"description\": \"\"\n      }\n    },\n    {\n      \"column\": \"1\",\n      \"properties\": {\n        \"dtype\": \"number\",\n        \"std\": 2445.268592958413,\n        \"min\": 0.0,\n        \"max\": 6917.0,\n        \"num_unique_values\": 5,\n        \"samples\": [\n          0.9511095145645511,\n          1.0,\n          0.20144773452603923\n        ],\n        \"semantic_type\": \"\",\n        \"description\": \"\"\n      }\n    },\n    {\n      \"column\": \"2\",\n      \"properties\": {\n        \"dtype\": \"number\",\n        \"std\": 2445.5288027336746,\n        \"min\": 0.0,\n        \"max\": 6917.0,\n        \"num_unique_values\": 2,\n        \"samples\": [\n          0.0,\n          6917.0\n        ],\n        \"semantic_type\": \"\",\n        \"description\": \"\"\n      }\n    },\n    {\n      \"column\": \"speed\",\n      \"properties\": {\n        \"dtype\": \"number\",\n        \"std\": 2437.767294515914,\n        \"min\": 1.057201,\n        \"max\": 6917.0,\n        \"num_unique_values\": 8,\n        \"samples\": [\n          29.538454210351304,\n          30.1831\n        ],\n        \"semantic_type\": \"\",\n        \"description\": \"\"\n      }\n    }\n  ]\n}"
            }
          },
          "metadata": {},
          "execution_count": 63
        }
      ]
    },
    {
      "cell_type": "code",
      "source": [
        "'''small_random_values = np.random.uniform(low=-0.20, high=0.20, size=num_zeros)\n",
        "# Substituir os valores zero por pequenos valores aleatórios\n",
        "full_data.loc[full_data['angle'] == 0, 'angle'] = small_random_values'''"
      ],
      "metadata": {
        "id": "LOhILFFLCInc",
        "colab": {
          "base_uri": "https://localhost:8080/",
          "height": 35
        },
        "outputId": "caf975b6-0dac-41b5-e2f7-df8354079951"
      },
      "execution_count": null,
      "outputs": [
        {
          "output_type": "execute_result",
          "data": {
            "text/plain": [
              "\"small_random_values = np.random.uniform(low=-0.20, high=0.20, size=num_zeros)\\n# Substituir os valores zero por pequenos valores aleatórios\\nfull_data.loc[full_data['angle'] == 0, 'angle'] = small_random_values\""
            ],
            "application/vnd.google.colaboratory.intrinsic+json": {
              "type": "string"
            }
          },
          "metadata": {},
          "execution_count": 146
        }
      ]
    },
    {
      "cell_type": "code",
      "source": [
        "#histograma de imagens de acordo com o angulo do volante\n",
        "num_bins = 25\n",
        "samples_per_bin = 250\n",
        "hist, bins = np.histogram(full_data['angle'], num_bins)\n",
        "center = (bins[:-1]+ bins[1:]) * 0.5\n",
        "plt.bar(center, hist, width=0.05)\n",
        "plt.plot((np.min(full_data['angle']), np.max(full_data['angle'])),\n",
        "         (samples_per_bin, samples_per_bin),'-r') #desenha threshold para remover\n",
        "                                            #uma quantidade massiva de imagens com valor 0\n",
        "print('total full_data:', len(full_data))"
      ],
      "metadata": {
        "colab": {
          "base_uri": "https://localhost:8080/",
          "height": 447
        },
        "id": "NFRjeuATCMIP",
        "outputId": "262c70ab-28a1-443c-8520-956b67952733"
      },
      "execution_count": null,
      "outputs": [
        {
          "output_type": "stream",
          "name": "stdout",
          "text": [
            "total full_data: 6890\n"
          ]
        },
        {
          "output_type": "display_data",
          "data": {
            "text/plain": [
              "<Figure size 640x480 with 1 Axes>"
            ],
            "image/png": "[encoded data removed]"
          },
          "metadata": {}
        }
      ]
    },
    {
      "cell_type": "code",
      "source": [
        "full_data.head(2)"
      ],
      "metadata": {
        "colab": {
          "base_uri": "https://localhost:8080/",
          "height": 112
        },
        "id": "3ijrp64ntQa0",
        "outputId": "cb632cab-dac3-4636-8fa0-a79e07f6aa3b"
      },
      "execution_count": null,
      "outputs": [
        {
          "output_type": "execute_result",
          "data": {
            "text/plain": [
              "                                              Center  \\\n",
              "2  D:\\term1-simulator-windows\\beta_simulator_wind...   \n",
              "3  D:\\term1-simulator-windows\\beta_simulator_wind...   \n",
              "\n",
              "                                                Left  \\\n",
              "2  D:\\term1-simulator-windows\\beta_simulator_wind...   \n",
              "3  D:\\term1-simulator-windows\\beta_simulator_wind...   \n",
              "\n",
              "                                               Right  angle         1  2  \\\n",
              "2  D:\\term1-simulator-windows\\beta_simulator_wind...  -0.15  0.607472  0   \n",
              "3  D:\\term1-simulator-windows\\beta_simulator_wind...  -0.35  0.839084  0   \n",
              "\n",
              "      speed  \n",
              "2  0.743317  \n",
              "3  1.462674  "
            ],
            "text/html": [
              "\n",
              "  <div id=\"df-7239e314-01fb-4e6b-8e96-2205bb325afa\" class=\"colab-df-container\">\n",
              "    <div>\n",
              "<style scoped>\n",
              "    .dataframe tbody tr th:only-of-type {\n",
              "        vertical-align: middle;\n",
              "    }\n",
              "\n",
              "    .dataframe tbody tr th {\n",
              "        vertical-align: top;\n",
              "    }\n",
              "\n",
              "    .dataframe thead th {\n",
              "        text-align: right;\n",
              "    }\n",
              "</style>\n",
              "<table border=\"1\" class=\"dataframe\">\n",
              "  <thead>\n",
              "    <tr style=\"text-align: right;\">\n",
              "      <th></th>\n",
              "      <th>Center</th>\n",
              "      <th>Left</th>\n",
              "      <th>Right</th>\n",
              "      <th>angle</th>\n",
              "      <th>1</th>\n",
              "      <th>2</th>\n",
              "      <th>speed</th>\n",
              "    </tr>\n",
              "  </thead>\n",
              "  <tbody>\n",
              "    <tr>\n",
              "      <th>2</th>\n",
              "      <td>D:\\term1-simulator-windows\\beta_simulator_wind...</td>\n",
              "      <td>D:\\term1-simulator-windows\\beta_simulator_wind...</td>\n",
              "      <td>D:\\term1-simulator-windows\\beta_simulator_wind...</td>\n",
              "      <td>-0.15</td>\n",
              "      <td>0.607472</td>\n",
              "      <td>0</td>\n",
              "      <td>0.743317</td>\n",
              "    </tr>\n",
              "    <tr>\n",
              "      <th>3</th>\n",
              "      <td>D:\\term1-simulator-windows\\beta_simulator_wind...</td>\n",
              "      <td>D:\\term1-simulator-windows\\beta_simulator_wind...</td>\n",
              "      <td>D:\\term1-simulator-windows\\beta_simulator_wind...</td>\n",
              "      <td>-0.35</td>\n",
              "      <td>0.839084</td>\n",
              "      <td>0</td>\n",
              "      <td>1.462674</td>\n",
              "    </tr>\n",
              "  </tbody>\n",
              "</table>\n",
              "</div>\n",
              "    <div class=\"colab-df-buttons\">\n",
              "\n",
              "  <div class=\"colab-df-container\">\n",
              "    <button class=\"colab-df-convert\" onclick=\"convertToInteractive('df-7239e314-01fb-4e6b-8e96-2205bb325afa')\"\n",
              "            title=\"Convert this dataframe to an interactive table.\"\n",
              "            style=\"display:none;\">\n",
              "\n",
              "  <svg xmlns=\"http://www.w3.org/2000/svg\" height=\"24px\" viewBox=\"0 -960 960 960\">\n",
              "    <path d=\"M120-120v-720h720v720H120Zm60-500h600v-160H180v160Zm220 220h160v-160H400v160Zm0 220h160v-160H400v160ZM180-400h160v-160H180v160Zm440 0h160v-160H620v160ZM180-180h160v-160H180v160Zm440 0h160v-160H620v160Z\"/>\n",
              "  </svg>\n",
              "    </button>\n",
              "\n",
              "  <style>\n",
              "    .colab-df-container {\n",
              "      display:flex;\n",
              "      gap: 12px;\n",
              "    }\n",
              "\n",
              "    .colab-df-convert {\n",
              "      background-color: #E8F0FE;\n",
              "      border: none;\n",
              "      border-radius: 50%;\n",
              "      cursor: pointer;\n",
              "      display: none;\n",
              "      fill: #1967D2;\n",
              "      height: 32px;\n",
              "      padding: 0 0 0 0;\n",
              "      width: 32px;\n",
              "    }\n",
              "\n",
              "    .colab-df-convert:hover {\n",
              "      background-color: #E2EBFA;\n",
              "      box-shadow: 0px 1px 2px rgba(60, 64, 67, 0.3), 0px 1px 3px 1px rgba(60, 64, 67, 0.15);\n",
              "      fill: #174EA6;\n",
              "    }\n",
              "\n",
              "    .colab-df-buttons div {\n",
              "      margin-bottom: 4px;\n",
              "    }\n",
              "\n",
              "    [theme=dark] .colab-df-convert {\n",
              "      background-color: #3B4455;\n",
              "      fill: #D2E3FC;\n",
              "    }\n",
              "\n",
              "    [theme=dark] .colab-df-convert:hover {\n",
              "      background-color: #434B5C;\n",
              "      box-shadow: 0px 1px 3px 1px rgba(0, 0, 0, 0.15);\n",
              "      filter: drop-shadow(0px 1px 2px rgba(0, 0, 0, 0.3));\n",
              "      fill: #FFFFFF;\n",
              "    }\n",
              "  </style>\n",
              "\n",
              "    <script>\n",
              "      const buttonEl =\n",
              "        document.querySelector('#df-7239e314-01fb-4e6b-8e96-2205bb325afa button.colab-df-convert');\n",
              "      buttonEl.style.display =\n",
              "        google.colab.kernel.accessAllowed ? 'block' : 'none';\n",
              "\n",
              "      async function convertToInteractive(key) {\n",
              "        const element = document.querySelector('#df-7239e314-01fb-4e6b-8e96-2205bb325afa');\n",
              "        const dataTable =\n",
              "          await google.colab.kernel.invokeFunction('convertToInteractive',\n",
              "                                                    [key], {});\n",
              "        if (!dataTable) return;\n",
              "\n",
              "        const docLinkHtml = 'Like what you see? Visit the ' +\n",
              "          '<a target=\"_blank\" href=https://colab.research.google.com/notebooks/data_table.ipynb>data table notebook</a>'\n",
              "          + ' to learn more about interactive tables.';\n",
              "        element.innerHTML = '';\n",
              "        dataTable['output_type'] = 'display_data';\n",
              "        await google.colab.output.renderOutput(dataTable, element);\n",
              "        const docLink = document.createElement('div');\n",
              "        docLink.innerHTML = docLinkHtml;\n",
              "        element.appendChild(docLink);\n",
              "      }\n",
              "    </script>\n",
              "  </div>\n",
              "\n",
              "\n",
              "<div id=\"df-334235a6-d80a-4136-b1a9-a142e397246b\">\n",
              "  <button class=\"colab-df-quickchart\" onclick=\"quickchart('df-334235a6-d80a-4136-b1a9-a142e397246b')\"\n",
              "            title=\"Suggest charts\"\n",
              "            style=\"display:none;\">\n",
              "\n",
              "<svg xmlns=\"http://www.w3.org/2000/svg\" height=\"24px\"viewBox=\"0 0 24 24\"\n",
              "     width=\"24px\">\n",
              "    <g>\n",
              "        <path d=\"M19 3H5c-1.1 0-2 .9-2 2v14c0 1.1.9 2 2 2h14c1.1 0 2-.9 2-2V5c0-1.1-.9-2-2-2zM9 17H7v-7h2v7zm4 0h-2V7h2v10zm4 0h-2v-4h2v4z\"/>\n",
              "    </g>\n",
              "</svg>\n",
              "  </button>\n",
              "\n",
              "<style>\n",
              "  .colab-df-quickchart {\n",
              "      --bg-color: #E8F0FE;\n",
              "      --fill-color: #1967D2;\n",
              "      --hover-bg-color: #E2EBFA;\n",
              "      --hover-fill-color: #174EA6;\n",
              "      --disabled-fill-color: #AAA;\n",
              "      --disabled-bg-color: #DDD;\n",
              "  }\n",
              "\n",
              "  [theme=dark] .colab-df-quickchart {\n",
              "      --bg-color: #3B4455;\n",
              "      --fill-color: #D2E3FC;\n",
              "      --hover-bg-color: #434B5C;\n",
              "      --hover-fill-color: #FFFFFF;\n",
              "      --disabled-bg-color: #3B4455;\n",
              "      --disabled-fill-color: #666;\n",
              "  }\n",
              "\n",
              "  .colab-df-quickchart {\n",
              "    background-color: var(--bg-color);\n",
              "    border: none;\n",
              "    border-radius: 50%;\n",
              "    cursor: pointer;\n",
              "    display: none;\n",
              "    fill: var(--fill-color);\n",
              "    height: 32px;\n",
              "    padding: 0;\n",
              "    width: 32px;\n",
              "  }\n",
              "\n",
              "  .colab-df-quickchart:hover {\n",
              "    background-color: var(--hover-bg-color);\n",
              "    box-shadow: 0 1px 2px rgba(60, 64, 67, 0.3), 0 1px 3px 1px rgba(60, 64, 67, 0.15);\n",
              "    fill: var(--button-hover-fill-color);\n",
              "  }\n",
              "\n",
              "  .colab-df-quickchart-complete:disabled,\n",
              "  .colab-df-quickchart-complete:disabled:hover {\n",
              "    background-color: var(--disabled-bg-color);\n",
              "    fill: var(--disabled-fill-color);\n",
              "    box-shadow: none;\n",
              "  }\n",
              "\n",
              "  .colab-df-spinner {\n",
              "    border: 2px solid var(--fill-color);\n",
              "    border-color: transparent;\n",
              "    border-bottom-color: var(--fill-color);\n",
              "    animation:\n",
              "      spin 1s steps(1) infinite;\n",
              "  }\n",
              "\n",
              "  @keyframes spin {\n",
              "    0% {\n",
              "      border-color: transparent;\n",
              "      border-bottom-color: var(--fill-color);\n",
              "      border-left-color: var(--fill-color);\n",
              "    }\n",
              "    20% {\n",
              "      border-color: transparent;\n",
              "      border-left-color: var(--fill-color);\n",
              "      border-top-color: var(--fill-color);\n",
              "    }\n",
              "    30% {\n",
              "      border-color: transparent;\n",
              "      border-left-color: var(--fill-color);\n",
              "      border-top-color: var(--fill-color);\n",
              "      border-right-color: var(--fill-color);\n",
              "    }\n",
              "    40% {\n",
              "      border-color: transparent;\n",
              "      border-right-color: var(--fill-color);\n",
              "      border-top-color: var(--fill-color);\n",
              "    }\n",
              "    60% {\n",
              "      border-color: transparent;\n",
              "      border-right-color: var(--fill-color);\n",
              "    }\n",
              "    80% {\n",
              "      border-color: transparent;\n",
              "      border-right-color: var(--fill-color);\n",
              "      border-bottom-color: var(--fill-color);\n",
              "    }\n",
              "    90% {\n",
              "      border-color: transparent;\n",
              "      border-bottom-color: var(--fill-color);\n",
              "    }\n",
              "  }\n",
              "</style>\n",
              "\n",
              "  <script>\n",
              "    async function quickchart(key) {\n",
              "      const quickchartButtonEl =\n",
              "        document.querySelector('#' + key + ' button');\n",
              "      quickchartButtonEl.disabled = true;  // To prevent multiple clicks.\n",
              "      quickchartButtonEl.classList.add('colab-df-spinner');\n",
              "      try {\n",
              "        const charts = await google.colab.kernel.invokeFunction(\n",
              "            'suggestCharts', [key], {});\n",
              "      } catch (error) {\n",
              "        console.error('Error during call to suggestCharts:', error);\n",
              "      }\n",
              "      quickchartButtonEl.classList.remove('colab-df-spinner');\n",
              "      quickchartButtonEl.classList.add('colab-df-quickchart-complete');\n",
              "    }\n",
              "    (() => {\n",
              "      let quickchartButtonEl =\n",
              "        document.querySelector('#df-334235a6-d80a-4136-b1a9-a142e397246b button');\n",
              "      quickchartButtonEl.style.display =\n",
              "        google.colab.kernel.accessAllowed ? 'block' : 'none';\n",
              "    })();\n",
              "  </script>\n",
              "</div>\n",
              "\n",
              "    </div>\n",
              "  </div>\n"
            ],
            "application/vnd.google.colaboratory.intrinsic+json": {
              "type": "dataframe",
              "variable_name": "full_data",
              "summary": "{\n  \"name\": \"full_data\",\n  \"rows\": 7613,\n  \"fields\": [\n    {\n      \"column\": \"Center\",\n      \"properties\": {\n        \"dtype\": \"string\",\n        \"num_unique_values\": 7613,\n        \"samples\": [\n          \"D:\\\\term1-simulator-windows\\\\beta_simulator_windows\\\\track\\\\dataset-9\\\\IMG\\\\center_2024_07_05_16_23_56_715.jpg\",\n          \"D:\\\\term1-simulator-windows\\\\beta_simulator_windows\\\\track\\\\dataset-9\\\\IMG\\\\center_2024_07_05_16_22_29_430.jpg\",\n          \"D:\\\\term1-simulator-windows\\\\beta_simulator_windows\\\\track\\\\dataset-9\\\\IMG\\\\center_2024_07_05_17_49_24_678.jpg\"\n        ],\n        \"semantic_type\": \"\",\n        \"description\": \"\"\n      }\n    },\n    {\n      \"column\": \"Left\",\n      \"properties\": {\n        \"dtype\": \"string\",\n        \"num_unique_values\": 7613,\n        \"samples\": [\n          \"D:\\\\term1-simulator-windows\\\\beta_simulator_windows\\\\track\\\\dataset-9\\\\IMG\\\\left_2024_07_05_16_23_56_715.jpg\",\n          \"D:\\\\term1-simulator-windows\\\\beta_simulator_windows\\\\track\\\\dataset-9\\\\IMG\\\\left_2024_07_05_16_22_29_430.jpg\",\n          \"D:\\\\term1-simulator-windows\\\\beta_simulator_windows\\\\track\\\\dataset-9\\\\IMG\\\\left_2024_07_05_17_49_24_678.jpg\"\n        ],\n        \"semantic_type\": \"\",\n        \"description\": \"\"\n      }\n    },\n    {\n      \"column\": \"Right\",\n      \"properties\": {\n        \"dtype\": \"string\",\n        \"num_unique_values\": 7613,\n        \"samples\": [\n          \"D:\\\\term1-simulator-windows\\\\beta_simulator_windows\\\\track\\\\dataset-9\\\\IMG\\\\right_2024_07_05_16_23_56_715.jpg\",\n          \"D:\\\\term1-simulator-windows\\\\beta_simulator_windows\\\\track\\\\dataset-9\\\\IMG\\\\right_2024_07_05_16_22_29_430.jpg\",\n          \"D:\\\\term1-simulator-windows\\\\beta_simulator_windows\\\\track\\\\dataset-9\\\\IMG\\\\right_2024_07_05_17_49_24_678.jpg\"\n        ],\n        \"semantic_type\": \"\",\n        \"description\": \"\"\n      }\n    },\n    {\n      \"column\": \"angle\",\n      \"properties\": {\n        \"dtype\": \"number\",\n        \"std\": 0.2358563601675394,\n        \"min\": -1.0,\n        \"max\": 1.0,\n        \"num_unique_values\": 48,\n        \"samples\": [\n          0.6500001,\n          -0.9500002,\n          0.45\n        ],\n        \"semantic_type\": \"\",\n        \"description\": \"\"\n      }\n    },\n    {\n      \"column\": \"1\",\n      \"properties\": {\n        \"dtype\": \"number\",\n        \"std\": 0.05270329356214114,\n        \"min\": 0.0,\n        \"max\": 1.0,\n        \"num_unique_values\": 14,\n        \"samples\": [\n          0.7887676,\n          0.9277345,\n          0.6074715\n        ],\n        \"semantic_type\": \"\",\n        \"description\": \"\"\n      }\n    },\n    {\n      \"column\": \"2\",\n      \"properties\": {\n        \"dtype\": \"number\",\n        \"std\": 0,\n        \"min\": 0,\n        \"max\": 0,\n        \"num_unique_values\": 1,\n        \"samples\": [\n          0\n        ],\n        \"semantic_type\": \"\",\n        \"description\": \"\"\n      }\n    },\n    {\n      \"column\": \"speed\",\n      \"properties\": {\n        \"dtype\": \"number\",\n        \"std\": 1.8309132933672303,\n        \"min\": 4.97562e-06,\n        \"max\": 30.61864,\n        \"num_unique_values\": 3248,\n        \"samples\": [\n          30.18226\n        ],\n        \"semantic_type\": \"\",\n        \"description\": \"\"\n      }\n    }\n  ]\n}"
            }
          },
          "metadata": {},
          "execution_count": 148
        }
      ]
    },
    {
      "cell_type": "code",
      "source": [
        "'''# Create augmented data by flipping images\n",
        "augmented_data = []\n",
        "\n",
        "def add_flipped_images(data, img_col_name):\n",
        "    for _, row in data.iterrows():\n",
        "        img_path = row[img_col_name]\n",
        "        angle = row['angle']\n",
        "        augmented_data.append([img_path, angle, False])  # original\n",
        "        augmented_data.append([img_path, angle, True])   # flipped\n",
        "\n",
        "# Add flipped images for center, left, and right images\n",
        "add_flipped_images(full_data[['Center', 'angle']], 'Center')\n",
        "add_flipped_images(full_data[['Left', 'angle']], 'Left')\n",
        "add_flipped_images(full_data[['Right', 'angle']], 'Right')'''"
      ],
      "metadata": {
        "id": "saYbVeBRoizn",
        "colab": {
          "base_uri": "https://localhost:8080/",
          "height": 70
        },
        "outputId": "ea1ea9ff-4c56-45aa-f716-b7ceaf7acb14"
      },
      "execution_count": null,
      "outputs": [
        {
          "output_type": "execute_result",
          "data": {
            "text/plain": [
              "\"# Create augmented data by flipping images\\naugmented_data = []\\n\\ndef add_flipped_images(data, img_col_name):\\n    for _, row in data.iterrows():\\n        img_path = row[img_col_name]\\n        angle = row['angle']\\n        augmented_data.append([img_path, angle, False])  # original\\n        augmented_data.append([img_path, angle, True])   # flipped\\n\\n# Add flipped images for center, left, and right images\\nadd_flipped_images(full_data[['Center', 'angle']], 'Center')\\nadd_flipped_images(full_data[['Left', 'angle']], 'Left')\\nadd_flipped_images(full_data[['Right', 'angle']], 'Right')\""
            ],
            "application/vnd.google.colaboratory.intrinsic+json": {
              "type": "string"
            }
          },
          "metadata": {},
          "execution_count": 149
        }
      ]
    },
    {
      "cell_type": "code",
      "source": [
        "#augmented_data"
      ],
      "metadata": {
        "id": "mJwX3J6oui2l"
      },
      "execution_count": null,
      "outputs": []
    },
    {
      "cell_type": "markdown",
      "source": [
        "# RODAR"
      ],
      "metadata": {
        "id": "B2M96brL06Ro"
      }
    },
    {
      "cell_type": "code",
      "source": [
        "#training_data = CarSimDataset(augmented_data, preprocess)"
      ],
      "metadata": {
        "id": "kY17qxN7QkZs"
      },
      "execution_count": null,
      "outputs": []
    },
    {
      "cell_type": "markdown",
      "source": [
        "\n",
        "\n",
        "---\n",
        "Aqui foi a ultima alteração que fizemos. Inicialmente estavamos alterando os angulos das imagens laterais em todo o dataset. Inclusive foi a primeira vez que o carrinho conseguiu chegar na estrada de terra inumeras vezes, mas nunca conseguia completar a curva.\n",
        "\n",
        "Com o ultimo dataset testado, o que se trata de um frankenstein de datasets decidimos alterar os angulos apenas nos momentos que fosses necessários. Como nós sabiamos o tamanho de cada um dos datasets ficou mais fácil de mudar isso via codigo, testando diversos parametros diferentes de correção de angulos.\n",
        "\n",
        "A ideia era forçar os angulos para corrigir a tragetória do carro, por exemplo, com a volta a esquerda forçamos um angulo de correção positivo, tentando fazer o valor desse angulo ser menos negativo e o carro puxar para o centro da pista. Isso foi feito para todos os lugares que achavamos necessário. Para as voltas no centro que são teoricamente os valores perfeitos tentamos fazer a menor quantidade de intervenção possível, tentando ate mesmo nao alterar em nada.\n",
        "\n",
        "\n",
        "---\n",
        "\n",
        "\n"
      ],
      "metadata": {
        "id": "BDNFF1E9bbiv"
      }
    },
    {
      "cell_type": "markdown",
      "source": [
        "\n",
        "\n",
        "---\n",
        "A função balance_data tem como objetivo balancear os dados de acordo com os ângulos, limitando o número de amostras por bin, ajudando a evitar picos no histograma dos ângulos.\n",
        "\n",
        "\n",
        "---\n",
        "\n",
        "\n"
      ],
      "metadata": {
        "id": "t71bPeCfhiw9"
      }
    },
    {
      "cell_type": "markdown",
      "source": [
        "\n",
        "\n",
        "---\n",
        " função balance_data_by_frequency tenta balancear um conjunto de dados limitando o número de amostras dos ângulos mais frequentes. Ela primeiro conta a frequência de cada ângulo, identifica os top_n (escolhemos 10) ângulos mais frequentes e então subamostra esses ângulos para garantir que nenhum deles tenha mais do que max_samples_per_angle amostras. Isso reduz os picos dos ângulos mais comuns, resultando em um dataset mais equilibrado\n",
        "\n",
        "\n",
        "---\n",
        "\n"
      ],
      "metadata": {
        "id": "GxX6LnJ9mD7S"
      }
    },
    {
      "cell_type": "code",
      "source": [
        "def balance_data_by_frequency(data, max_samples_per_angle=50, top_n=10):\n",
        "    # Contar a frequência de cada ângulo\n",
        "    angle_data = [item[1] for item in data]\n",
        "    angle_counts = Counter(angle_data)\n",
        "\n",
        "    # Identificar os top_n ângulos mais frequentes\n",
        "    most_common_angles = [angle for angle, count in angle_counts.most_common(top_n)]\n",
        "\n",
        "    balanced_data = []\n",
        "    for angle, count in angle_counts.items():\n",
        "        # Obter dados com este ângulo específico\n",
        "        angle_specific_data = [item for item in data if item[1] == angle]\n",
        "        if angle in most_common_angles and count > max_samples_per_angle:\n",
        "            # Subamostrar se a contagem for maior que o máximo permitido\n",
        "            indices = np.random.choice(len(angle_specific_data), max_samples_per_angle, replace=False)\n",
        "            angle_specific_data = [angle_specific_data[i] for i in indices]\n",
        "        balanced_data.extend(angle_specific_data)\n",
        "\n",
        "    return balanced_data"
      ],
      "metadata": {
        "id": "2UKXhMTBjg5B"
      },
      "execution_count": 333,
      "outputs": []
    },
    {
      "cell_type": "code",
      "source": [
        "# Split the dataset into training and test sets\n",
        "#train_data, test_data = train_test_split(full_data, test_size=0.2, random_state=42)\n",
        "\n",
        "\n",
        "full_data['left_angle'] = full_data['angle']\n",
        "full_data['right_angle'] = full_data['angle']\n",
        "\n",
        "# volta no centro\n",
        "#full_data.loc[0:2375, ['left_angle']] += 0.1\n",
        "#full_data.loc[0:2375, ['right_angle']] -= 0.1\n",
        "\n",
        "# volta para esquerda\n",
        "full_data.loc[2376:4640, ['left_angle']] += 0.65\n",
        "full_data.loc[2376:4640, ['right_angle']] -= 0.6\n",
        "\n",
        "#volta para direita\n",
        "full_data.loc[4640:8032, ['left_angle']] += 0.6\n",
        "full_data.loc[4640:8032, ['right_angle']] -= 0.65\n",
        "\n",
        "#curva depois da terra encostado a direita\n",
        "full_data.loc[8487:9362, ['left_angle']] += 0.60\n",
        "full_data.loc[8487:9362, ['right_angle']] -= 0.65\n",
        "\n",
        "#curva da terra a esquerda\n",
        "full_data.loc[9973:10691, ['left_angle']] += 0.65\n",
        "full_data.loc[9973:10691, ['right_angle']] -= 0.6\n",
        "\n",
        "# angulos centrais\n",
        "full_data.loc[2376:4640, ['angle']] += 0.1 # volta para esquerda\n",
        "full_data.loc[4640:8032, ['angle']] -= 0.1 #volta para direita\n",
        "full_data.loc[8487:9362, ['angle']] -= 0.1 #curva depois da terra encostado a direita\n",
        "full_data.loc[9973:10691, ['angle']] += 0.1 #curva da terra a esquerda\n",
        "\n",
        "# Aplicar np.clip para garantir que os valores dos ângulos estejam no intervalo [-1, 1]\n",
        "#full_data['left_angle'] = np.clip(full_data['left_angle'], -1, 1)\n",
        "#full_data['right_angle'] = np.clip(full_data['right_angle'], -1, 1)\n",
        "\n",
        "# List all images as list\n",
        "train_data_center = full_data[['Center','angle']].values.tolist()\n",
        "train_data_left = full_data[['Left','left_angle']].values.tolist()\n",
        "train_data_right = full_data[['Right','right_angle']].values.tolist()\n",
        "\n",
        "train_data_list = train_data_center + train_data_left + train_data_right\n",
        "\n",
        "# função de balanceamento\n",
        "'''def balance_data(data, max_samples_per_bin=1100, bin_width=0.1):\n",
        "    angle_data = [item[1] for item in data]\n",
        "    bins = np.arange(-2, 2, bin_width)\n",
        "    balanced_data = []\n",
        "\n",
        "    for b in bins:\n",
        "        bin_data = [item for item in data if b <= item[1] < b + bin_width]\n",
        "        if len(bin_data) > max_samples_per_bin:\n",
        "            bin_data = bin_data[:max_samples_per_bin]\n",
        "        balanced_data.extend(bin_data)\n",
        "\n",
        "    return balanced_data'''\n",
        "\n",
        "#random.shuffle(train_data_list)\n",
        "print(f'antes {len(train_data_list)}')\n",
        "#train_data_list = balance_data(train_data_list)\n",
        "\n",
        "train_data_list = balance_data_by_frequency(train_data_list)\n",
        "print(f'depois {len(train_data_list)}')\n",
        "\n",
        "train_data_list = shuffle(train_data_list, random_state=42)\n",
        "\n",
        "\n",
        "#test_data_center = full_data_test[['Center','angle']].values.tolist()\n",
        "#test_data_left = full_data_test[['Left','angle']].values.tolist()\n",
        "#test_data_right = full_data_test[['Right','angle']].values.tolist()\n",
        "\n",
        "#test_data_list = test_data_center + test_data_left + test_data_right\n",
        "\n",
        "##### Create the datasets\n",
        "training_data = CarSimDataset(train_data_list, preprocess)\n",
        "#test_data = CarSimDataset(test_data_list, preprocess)\n",
        "\n",
        "# ####### Create the datasets with only center images\n",
        "# training_data = CarSimDataset(train_data_center, preprocess)\n",
        "# test_data = CarSimDataset(test_data_center, preprocess)"
      ],
      "metadata": {
        "id": "s8mvVf6TniBX",
        "colab": {
          "base_uri": "https://localhost:8080/"
        },
        "outputId": "bd04efc0-f20c-4aa7-dffa-4fde7624660b"
      },
      "execution_count": 334,
      "outputs": [
        {
          "output_type": "stream",
          "name": "stdout",
          "text": [
            "antes 32070\n",
            "depois 20591\n"
          ]
        }
      ]
    },
    {
      "cell_type": "code",
      "source": [
        "# Extrair os ângulos do train_data_list\n",
        "angles = [item[1] for item in train_data_list]\n",
        "\n",
        "# Plotar o histograma\n",
        "plt.figure(figsize=(10, 6))\n",
        "plt.hist(angles, bins=50, edgecolor='black')\n",
        "plt.title('Histograma dos Ângulos de Direção')\n",
        "plt.xlabel('Ângulo de Direção')\n",
        "plt.ylabel('Frequência')\n",
        "plt.grid(True)\n",
        "plt.show()"
      ],
      "metadata": {
        "colab": {
          "base_uri": "https://localhost:8080/",
          "height": 569
        },
        "id": "XB0p_bqptW9V",
        "outputId": "c6f4b01e-ca39-4b92-c56a-9f99e1a067c1"
      },
      "execution_count": 335,
      "outputs": [
        {
          "output_type": "display_data",
          "data": {
            "text/plain": [
              "<Figure size 1000x600 with 1 Axes>"
            ],
            "image/png": "[encoded data removed]"
          },
          "metadata": {}
        }
      ]
    },
    {
      "cell_type": "markdown",
      "source": [
        "# prints dos datasets de treinos distintos (central, esquerda e direita)"
      ],
      "metadata": {
        "id": "ZEllLTdyWNV7"
      }
    },
    {
      "cell_type": "code",
      "source": [
        "# histograma do CENTRO\n",
        "angles = [item[1] for item in train_data_center]\n",
        "\n",
        "# Plotar o histograma\n",
        "plt.figure(figsize=(10, 6))\n",
        "plt.hist(angles, bins=50, edgecolor='black')\n",
        "plt.title('Histograma dos Ângulos de Centro')\n",
        "plt.xlabel('Ângulo de Direção')\n",
        "plt.ylabel('Frequência')\n",
        "plt.grid(True)\n",
        "plt.show()\n",
        "\n",
        "print(len(train_data_center))"
      ],
      "metadata": {
        "colab": {
          "base_uri": "https://localhost:8080/",
          "height": 586
        },
        "id": "r7qy7IgTgXgb",
        "outputId": "49ab202d-25ac-4605-bf77-2cfbc7d58e45"
      },
      "execution_count": 336,
      "outputs": [
        {
          "output_type": "display_data",
          "data": {
            "text/plain": [
              "<Figure size 1000x600 with 1 Axes>"
            ],
            "image/png": "[encoded data removed]"
          },
          "metadata": {}
        },
        {
          "output_type": "stream",
          "name": "stdout",
          "text": [
            "10690\n"
          ]
        }
      ]
    },
    {
      "cell_type": "code",
      "source": [
        "# histograma do LEFT\n",
        "angles = [item[1] for item in train_data_left]\n",
        "\n",
        "# Plotar o histograma\n",
        "plt.figure(figsize=(10, 6))\n",
        "plt.hist(angles, bins=50, edgecolor='black')\n",
        "plt.title('Histograma dos Ângulos de LEFT')\n",
        "plt.xlabel('Ângulo de Direção')\n",
        "plt.ylabel('Frequência')\n",
        "plt.grid(True)\n",
        "plt.show()\n",
        "\n",
        "print(len(train_data_left))"
      ],
      "metadata": {
        "colab": {
          "base_uri": "https://localhost:8080/",
          "height": 586
        },
        "id": "ajdEc5kH76Fn",
        "outputId": "0e0e6560-d46a-4fdb-ec5c-77a0c35fff98"
      },
      "execution_count": 337,
      "outputs": [
        {
          "output_type": "display_data",
          "data": {
            "text/plain": [
              "<Figure size 1000x600 with 1 Axes>"
            ],
            "image/png": "[encoded data removed]"
          },
          "metadata": {}
        },
        {
          "output_type": "stream",
          "name": "stdout",
          "text": [
            "10690\n"
          ]
        }
      ]
    },
    {
      "cell_type": "code",
      "source": [
        "# histograma do LEFT\n",
        "angles = [item[1] for item in train_data_right]\n",
        "\n",
        "# Plotar o histograma\n",
        "plt.figure(figsize=(10, 6))\n",
        "plt.hist(angles, bins=50, edgecolor='black')\n",
        "plt.title('Histograma dos Ângulos de RIGHT')\n",
        "plt.xlabel('Ângulo de Direção')\n",
        "plt.ylabel('Frequência')\n",
        "plt.grid(True)\n",
        "plt.show()\n",
        "\n",
        "print(len(train_data_right))"
      ],
      "metadata": {
        "colab": {
          "base_uri": "https://localhost:8080/",
          "height": 586
        },
        "id": "w_SIX0mF8HwC",
        "outputId": "06bd3c23-0d68-4c1f-9496-a80147a60d5f"
      },
      "execution_count": 338,
      "outputs": [
        {
          "output_type": "display_data",
          "data": {
            "text/plain": [
              "<Figure size 1000x600 with 1 Axes>"
            ],
            "image/png": "[encoded data removed]"
          },
          "metadata": {}
        },
        {
          "output_type": "stream",
          "name": "stdout",
          "text": [
            "10690\n"
          ]
        }
      ]
    },
    {
      "cell_type": "markdown",
      "source": [
        "# Train e Export"
      ],
      "metadata": {
        "id": "ApifN4Q-ZY5n"
      }
    },
    {
      "cell_type": "code",
      "source": [
        "type(training_data)"
      ],
      "metadata": {
        "colab": {
          "base_uri": "https://localhost:8080/",
          "height": 187
        },
        "id": "9GL-Q1u_zuId",
        "outputId": "01c07507-2583-4db2-a3be-2f49ccb71549"
      },
      "execution_count": 318,
      "outputs": [
        {
          "output_type": "execute_result",
          "data": {
            "text/plain": [
              "__main__.CarSimDataset"
            ],
            "text/html": [
              "<div style=\"max-width:800px; border: 1px solid var(--colab-border-color);\"><style>\n",
              "      pre.function-repr-contents {\n",
              "        overflow-x: auto;\n",
              "        padding: 8px 12px;\n",
              "        max-height: 500px;\n",
              "      }\n",
              "\n",
              "      pre.function-repr-contents.function-repr-contents-collapsed {\n",
              "        cursor: pointer;\n",
              "        max-height: 100px;\n",
              "      }\n",
              "    </style>\n",
              "    <pre style=\"white-space: initial; background:\n",
              "         var(--colab-secondary-surface-color); padding: 8px 12px;\n",
              "         border-bottom: 1px solid var(--colab-border-color);\"><b>CarSimDataset</b><br/>def __init__(data, transform=None)</pre><pre class=\"function-repr-contents function-repr-contents-collapsed\" style=\"\"><a class=\"filepath\" style=\"display:none\" href=\"#\"></a>An abstract class representing a :class:`Dataset`.\n",
              "\n",
              "All datasets that represent a map from keys to data samples should subclass\n",
              "it. All subclasses should overwrite :meth:`__getitem__`, supporting fetching a\n",
              "data sample for a given key. Subclasses could also optionally overwrite\n",
              ":meth:`__len__`, which is expected to return the size of the dataset by many\n",
              ":class:`~torch.utils.data.Sampler` implementations and the default options\n",
              "of :class:`~torch.utils.data.DataLoader`. Subclasses could also\n",
              "optionally implement :meth:`__getitems__`, for speedup batched samples\n",
              "loading. This method accepts list of indices of samples of batch and returns\n",
              "list of samples.\n",
              "\n",
              ".. note::\n",
              "  :class:`~torch.utils.data.DataLoader` by default constructs an index\n",
              "  sampler that yields integral indices.  To make it work with a map-style\n",
              "  dataset with non-integral indices/keys, a custom sampler must be provided.</pre></div>"
            ]
          },
          "metadata": {},
          "execution_count": 318
        }
      ]
    },
    {
      "cell_type": "code",
      "source": [
        "import matplotlib.pyplot as plt\n",
        "import random\n",
        "\n",
        "random_index = random.randint(0,len(training_data))\n",
        "img = training_data[random_index][0]\n",
        "print(img.shape)\n",
        "\n",
        "# Plot image\n",
        "plt.imshow(img.permute(1, 2, 0))\n",
        "plt.show()\n",
        "print(training_data[random_index][1])\n",
        "len(training_data)"
      ],
      "metadata": {
        "colab": {
          "base_uri": "https://localhost:8080/",
          "height": 482
        },
        "id": "ehj_ZBqrKN7q",
        "outputId": "9e78c78e-c928-4bf2-90bc-de07c03c142a"
      },
      "execution_count": 339,
      "outputs": [
        {
          "output_type": "stream",
          "name": "stdout",
          "text": [
            "torch.Size([3, 28, 28])\n"
          ]
        },
        {
          "output_type": "display_data",
          "data": {
            "text/plain": [
              "<Figure size 640x480 with 1 Axes>"
            ],
            "image/png": "[encoded data removed]"
          },
          "metadata": {}
        },
        {
          "output_type": "stream",
          "name": "stdout",
          "text": [
            "tensor(-0.1579)\n"
          ]
        },
        {
          "output_type": "execute_result",
          "data": {
            "text/plain": [
              "20591"
            ]
          },
          "metadata": {},
          "execution_count": 339
        }
      ]
    },
    {
      "cell_type": "code",
      "source": [
        "batch_size = 64\n",
        "\n",
        "# Create data loaders.\n",
        "train_dataloader = DataLoader(training_data, batch_size=batch_size)\n",
        "#test_dataloader = DataLoader(test_data, batch_size=batch_size)\n",
        "\n",
        "for X, y in train_dataloader:\n",
        "    print(f\"Shape of X [N, C, H, W]: {X.shape}\")\n",
        "    print(f\"Shape of y: {y.shape} {y.dtype}\")\n",
        "    break"
      ],
      "metadata": {
        "id": "Xwd083wA_rrD",
        "colab": {
          "base_uri": "https://localhost:8080/"
        },
        "outputId": "68400978-9b7e-4f51-fea9-56c11df167a8"
      },
      "execution_count": 340,
      "outputs": [
        {
          "output_type": "stream",
          "name": "stdout",
          "text": [
            "Shape of X [N, C, H, W]: torch.Size([64, 3, 28, 28])\n",
            "Shape of y: torch.Size([64]) torch.float32\n"
          ]
        }
      ]
    },
    {
      "cell_type": "code",
      "source": [
        "#print(len(test_dataloader))\n",
        "print(len(train_dataloader))"
      ],
      "metadata": {
        "colab": {
          "base_uri": "https://localhost:8080/"
        },
        "id": "5w6wJNA_IL6Y",
        "outputId": "a8319a64-4d85-4419-e5d2-6330b4af1190"
      },
      "execution_count": 341,
      "outputs": [
        {
          "output_type": "stream",
          "name": "stdout",
          "text": [
            "322\n"
          ]
        }
      ]
    },
    {
      "cell_type": "code",
      "source": [
        "# Get cpu, gpu or mps device for training.\n",
        "device = (\n",
        "    \"cuda\"\n",
        "    if torch.cuda.is_available()\n",
        "    else \"mps\"\n",
        "    if torch.backends.mps.is_available()\n",
        "    else \"cpu\"\n",
        ")\n",
        "print(f\"Using {device} device\")\n",
        "\n",
        "# Define model\n",
        "class NeuralNetwork(nn.Module):\n",
        "    def __init__(self):\n",
        "        super().__init__()\n",
        "        self.flatten = nn.Flatten()\n",
        "        self.linear_relu_stack = nn.Sequential(\n",
        "            nn.Linear(28*28*3, 512),\n",
        "            nn.ReLU(),\n",
        "            nn.Linear(512, 512),\n",
        "            nn.ReLU(),\n",
        "            nn.Linear(512, 1)\n",
        "        )\n",
        "\n",
        "    def forward(self, x):\n",
        "        x = self.flatten(x)\n",
        "        logits = self.linear_relu_stack(x)\n",
        "        return logits.squeeze()\n",
        "\n",
        "model = NeuralNetwork().to(device)\n",
        "print(model)"
      ],
      "metadata": {
        "id": "ROBTIl6pAESA",
        "colab": {
          "base_uri": "https://localhost:8080/"
        },
        "outputId": "5f3a36db-87ff-4938-aef8-b37b70586dab"
      },
      "execution_count": 342,
      "outputs": [
        {
          "output_type": "stream",
          "name": "stdout",
          "text": [
            "Using cpu device\n",
            "NeuralNetwork(\n",
            "  (flatten): Flatten(start_dim=1, end_dim=-1)\n",
            "  (linear_relu_stack): Sequential(\n",
            "    (0): Linear(in_features=2352, out_features=512, bias=True)\n",
            "    (1): ReLU()\n",
            "    (2): Linear(in_features=512, out_features=512, bias=True)\n",
            "    (3): ReLU()\n",
            "    (4): Linear(in_features=512, out_features=1, bias=True)\n",
            "  )\n",
            ")\n"
          ]
        }
      ]
    },
    {
      "cell_type": "code",
      "source": [
        "loss_fn = nn.MSELoss()\n",
        "optimizer = torch.optim.SGD(model.parameters(), lr=1e-3)"
      ],
      "metadata": {
        "id": "PJxdeuCBBRc-"
      },
      "execution_count": 343,
      "outputs": []
    },
    {
      "cell_type": "code",
      "source": [
        "def train(dataloader, model, loss_fn, optimizer):\n",
        "    size = len(dataloader.dataset)\n",
        "    model.train()\n",
        "    for batch, (X, y) in enumerate(dataloader):\n",
        "        X, y = X.to(device), y.to(device)\n",
        "\n",
        "        # Compute prediction error\n",
        "        pred = model(X)\n",
        "        loss = loss_fn(pred, y)\n",
        "\n",
        "        # Backpropagation\n",
        "        optimizer.zero_grad()\n",
        "        loss.backward()\n",
        "        optimizer.step()\n",
        "\n",
        "        if batch % 100 == 0:\n",
        "            loss, current = loss.item(), (batch + 1) * len(X)\n",
        "            print(f\"loss: {loss:>7f}  [{current:>5d}/{size:>5d}]\")"
      ],
      "metadata": {
        "id": "0Cw8XfLNBY97"
      },
      "execution_count": 344,
      "outputs": []
    },
    {
      "cell_type": "code",
      "source": [
        "def test(dataloader, model, loss_fn):\n",
        "    size = len(dataloader.dataset)\n",
        "    num_batches = len(dataloader)\n",
        "    model.eval()\n",
        "    test_loss, correct = 0, 0\n",
        "    with torch.no_grad():\n",
        "        for X, y in dataloader:\n",
        "            X, y = X.to(device), y.to(device)\n",
        "            pred = model(X)\n",
        "            test_loss += loss_fn(pred, y).item()\n",
        "            #correct += (pred.argmax(0) == y).type(torch.float).sum().item()\n",
        "    test_loss /= num_batches\n",
        "    #correct /= size\n",
        "    print(f\"Avg loss: {test_loss:>8f} \\n\")"
      ],
      "metadata": {
        "id": "b-T_bjFhBnOX"
      },
      "execution_count": 345,
      "outputs": []
    },
    {
      "cell_type": "code",
      "source": [
        "epochs = 10\n",
        "for t in range(epochs):\n",
        "    print(f\"Epoch {t+1}\\n-------------------------------\")\n",
        "    train(train_dataloader, model, loss_fn, optimizer)\n",
        "    #test(test_dataloader, model, loss_fn)\n",
        "print(\"Done!\")"
      ],
      "metadata": {
        "id": "8x4aJZpNBqAt",
        "colab": {
          "base_uri": "https://localhost:8080/"
        },
        "outputId": "383ecdc6-e41f-458c-b02f-ff8e5d102fff"
      },
      "execution_count": 346,
      "outputs": [
        {
          "output_type": "stream",
          "name": "stdout",
          "text": [
            "Epoch 1\n",
            "-------------------------------\n",
            "loss: 0.223660  [   64/20591]\n",
            "loss: 0.213670  [ 6464/20591]\n",
            "loss: 0.182732  [12864/20591]\n",
            "loss: 0.230661  [19264/20591]\n",
            "Epoch 2\n",
            "-------------------------------\n",
            "loss: 0.208132  [   64/20591]\n",
            "loss: 0.204746  [ 6464/20591]\n",
            "loss: 0.175339  [12864/20591]\n",
            "loss: 0.222466  [19264/20591]\n",
            "Epoch 3\n",
            "-------------------------------\n",
            "loss: 0.201159  [   64/20591]\n",
            "loss: 0.197263  [ 6464/20591]\n",
            "loss: 0.168363  [12864/20591]\n",
            "loss: 0.214613  [19264/20591]\n",
            "Epoch 4\n",
            "-------------------------------\n",
            "loss: 0.193587  [   64/20591]\n",
            "loss: 0.189361  [ 6464/20591]\n",
            "loss: 0.161007  [12864/20591]\n",
            "loss: 0.206143  [19264/20591]\n",
            "Epoch 5\n",
            "-------------------------------\n",
            "loss: 0.184380  [   64/20591]\n",
            "loss: 0.180761  [ 6464/20591]\n",
            "loss: 0.152906  [12864/20591]\n",
            "loss: 0.197395  [19264/20591]\n",
            "Epoch 6\n",
            "-------------------------------\n",
            "loss: 0.174212  [   64/20591]\n",
            "loss: 0.171334  [ 6464/20591]\n",
            "loss: 0.144189  [12864/20591]\n",
            "loss: 0.188086  [19264/20591]\n",
            "Epoch 7\n",
            "-------------------------------\n",
            "loss: 0.162867  [   64/20591]\n",
            "loss: 0.160862  [ 6464/20591]\n",
            "loss: 0.135280  [12864/20591]\n",
            "loss: 0.178377  [19264/20591]\n",
            "Epoch 8\n",
            "-------------------------------\n",
            "loss: 0.150588  [   64/20591]\n",
            "loss: 0.149997  [ 6464/20591]\n",
            "loss: 0.126235  [12864/20591]\n",
            "loss: 0.168411  [19264/20591]\n",
            "Epoch 9\n",
            "-------------------------------\n",
            "loss: 0.137597  [   64/20591]\n",
            "loss: 0.139105  [ 6464/20591]\n",
            "loss: 0.117116  [12864/20591]\n",
            "loss: 0.158432  [19264/20591]\n",
            "Epoch 10\n",
            "-------------------------------\n",
            "loss: 0.124404  [   64/20591]\n",
            "loss: 0.128477  [ 6464/20591]\n",
            "loss: 0.108205  [12864/20591]\n",
            "loss: 0.148655  [19264/20591]\n",
            "Done!\n"
          ]
        }
      ]
    },
    {
      "cell_type": "code",
      "source": [
        "torch.save(model.state_dict(), \"model_14_v2.pth\")\n",
        "print(\"Saved PyTorch Model State to model.pth\")"
      ],
      "metadata": {
        "id": "5AaRBZ1gDxUP",
        "colab": {
          "base_uri": "https://localhost:8080/"
        },
        "outputId": "a0efdef9-f39a-4815-c4ad-5e49248d32b1"
      },
      "execution_count": 347,
      "outputs": [
        {
          "output_type": "stream",
          "name": "stdout",
          "text": [
            "Saved PyTorch Model State to model.pth\n"
          ]
        }
      ]
    },
    {
      "cell_type": "markdown",
      "source": [
        "\n",
        "\n",
        "---\n",
        "Infelizmente nosso melhor modelo chegou na curva da terra e não passou de lá. (temos videos para comprovar hehe).\n",
        "\n",
        "Entemos que o maior defeito do grupo foi poucos terem atuado na atividade devida a uma semana corrida com outras entregas. **Várias ideias, poucas execuções**. Mas apredemos bastante com essa atividade, principalmente com manipulação de datasets e manipulaçãpo de imagens. Foram diversos erros e aprendizagens sobre.\n",
        "\n",
        "Uma rede pequena, pode sim conseguir extrair boas informações, desde que os dados sejam bem coletados. Trash in, trash out. Um modelo é a representação dos dados, logo...\n",
        "\n",
        "Um hipótese de porque pode nao ter funcionado é o fato de varias pessoas diferentes pilotando. Cada um pilota de um jeito e isso pode ter influenciado um pouco. O balanceamento do dataset não me parece muito correto tbm, afinal tem 3 curvas normais no dataset.\n",
        "\n",
        "\n",
        "---\n",
        "\n",
        "\n"
      ],
      "metadata": {
        "id": "WzDRYpRJiTGX"
      }
    },
    {
      "cell_type": "markdown",
      "source": [
        "# random"
      ],
      "metadata": {
        "id": "Ch9uVVnUQdMg"
      }
    },
    {
      "cell_type": "markdown",
      "source": [
        "Faça o download do seu modelo após o treinamento, caso queira testá-lo no simulador.\n",
        "\n",
        "O código a seguir demonstra como o modelo será usado para inferência no simulador. Caso seja necessário, altere a função *preprocess*."
      ],
      "metadata": {
        "id": "TvtnIBFlD35c"
      }
    },
    {
      "cell_type": "code",
      "source": [
        "tfms = v2.Compose([\n",
        "    v2.Resize((28, 28)),\n",
        "    v2.ToImage(),\n",
        "    v2.ToDtype(torch.float32, scale=True),\n",
        "])\n",
        "\n",
        "def preprocess(image):\n",
        "    return tfms(image)"
      ],
      "metadata": {
        "id": "AoYDILcKmkUB"
      },
      "execution_count": null,
      "outputs": []
    },
    {
      "cell_type": "code",
      "source": [
        "# original do professor\n",
        "\n",
        "# def preprocess(x):\n",
        "#     # TODO: se necessário, alterar função\n",
        "#     return x"
      ],
      "metadata": {
        "id": "RVqjjnUOGc8F"
      },
      "execution_count": null,
      "outputs": []
    },
    {
      "cell_type": "code",
      "source": [
        "model = NeuralNetwork().to(device)\n",
        "model.load_state_dict(torch.load(\"model.pth\"))"
      ],
      "metadata": {
        "id": "1LLWerSXFjRR",
        "colab": {
          "base_uri": "https://localhost:8080/"
        },
        "outputId": "11f6710a-f9d9-4dda-e257-5bceeab4f96c"
      },
      "execution_count": null,
      "outputs": [
        {
          "output_type": "execute_result",
          "data": {
            "text/plain": [
              "<All keys matched successfully>"
            ]
          },
          "metadata": {},
          "execution_count": 82
        }
      ]
    },
    {
      "cell_type": "code",
      "source": [],
      "metadata": {
        "id": "XdWyzeByNVhn"
      },
      "execution_count": null,
      "outputs": []
    },
    {
      "cell_type": "code",
      "source": [
        "model.eval()\n",
        "x = test_data[0][0]\n",
        "with torch.no_grad():\n",
        "    x = preprocess(x)\n",
        "    print(x.shape)\n",
        "    x = x.to(device)\n",
        "    pred = model(x)"
      ],
      "metadata": {
        "id": "ZAI2oGcAGqsz"
      },
      "execution_count": null,
      "outputs": []
    },
    {
      "cell_type": "code",
      "source": [],
      "metadata": {
        "id": "STF4-CbrMENf"
      },
      "execution_count": null,
      "outputs": []
    }
  ]
}