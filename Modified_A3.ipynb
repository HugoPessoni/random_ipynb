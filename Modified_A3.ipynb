{
 "cells": [
  {
   "cell_type": "markdown",
   "metadata": {
    "id": "Q9uWXW8sXv_6"
   },
   "source": [
    "Faça o upload do arquivo data.pkl com os dados fornecidos para a atividade. Use a célula de comando abaixo após a finalização do upload para a preparação do conteúdo do arquivo no colab."
   ]
  },
  {
   "cell_type": "code",
   "execution_count": null,
   "metadata": {
    "id": "9lEKyaza-eG0"
   },
   "outputs": [],
   "source": [
    "import pickle\n",
    "from torch.utils.data import DataLoader\n",
    "import numpy as np\n",
    "import pandas as pd\n",
    "import torch.nn as nn\n",
    "import torch\n",
    "from tqdm import trange\n",
    "import matplotlib.pyplot as plt\n",
    "from sklearn.metrics import classification_report\n",
    "from sklearn.metrics import confusion_matrix, classification_report\n",
    "import seaborn as sns\n",
    "import torch.nn.functional as F"
   ]
  },
  {
   "cell_type": "code",
   "execution_count": null,
   "metadata": {
    "id": "hPincMZ3XpxP"
   },
   "outputs": [],
   "source": [
    "#=======================\n",
    "# não altere essa célula\n",
    "#=======================\n",
    "with open('data.pkl', 'rb') as handle:\n",
    "    dataset = pickle.load(handle)\n",
    "\n",
    "training_data = list(zip(dataset['x'].astype(np.float32),dataset['y']))\n",
    "test_data = list(zip(dataset['x_test'].astype(np.float32),dataset['y_test']))\n",
    "\n",
    "train_dataloader = DataLoader(training_data, batch_size=32, shuffle=True, drop_last=True)\n",
    "test_dataloader = DataLoader(test_data, batch_size=100, shuffle=False)"
   ]
  },
  {
   "cell_type": "markdown",
   "metadata": {
    "id": "wXt42GiqX93y"
   },
   "source": [
    "O dataset representa uma tarefa de classificação com 10 classes e é composto por um input sequencial com 40 float features e um output inteiro contendo o índice da classe de cada amostra (i.e. de 0 a 9)."
   ]
  },
  {
   "cell_type": "code",
   "execution_count": null,
   "metadata": {
    "colab": {
     "base_uri": "https://localhost:8080/"
    },
    "id": "q48j_EgaG2Dv",
    "outputId": "75ff4c5a-db93-44b1-95c6-d43329ffe752"
   },
   "outputs": [
    {
     "data": {
      "text/plain": [
       "list"
      ]
     },
     "execution_count": 151,
     "metadata": {},
     "output_type": "execute_result"
    }
   ],
   "source": [
    "type(training_data)"
   ]
  },
  {
   "cell_type": "code",
   "execution_count": null,
   "metadata": {
    "colab": {
     "base_uri": "https://localhost:8080/"
    },
    "id": "3E6NkwddGwXq",
    "outputId": "5d7197b0-60f9-42f7-83bc-98ea64e6f16f"
   },
   "outputs": [
    {
     "data": {
      "text/plain": [
       "(array([-0.33200568, -0.47191036, -0.7786971 , -1.0097408 , -0.8823526 ,\n",
       "         0.10393481,  1.6432843 ,  1.6525071 ,  0.6830781 , -0.3426375 ,\n",
       "        -1.5214309 , -1.103984  , -0.01709391,  1.014668  ,  0.6235863 ,\n",
       "        -0.02391367,  0.25410828,  0.8673926 ,  0.9354101 ,  1.035874  ,\n",
       "         1.593488  ,  1.2368417 ,  0.4101985 , -0.21979299,  0.09805559,\n",
       "         0.5301637 ,  0.5202782 ,  0.18998057,  0.07043655,  0.32433057,\n",
       "         0.26860833, -0.57907736, -1.0934857 , -0.86458045, -0.11352962,\n",
       "         0.01950092, -0.32821417, -0.7167305 , -0.9619582 , -0.8901664 ],\n",
       "       dtype=float32),\n",
       " 2)"
      ]
     },
     "execution_count": 152,
     "metadata": {},
     "output_type": "execute_result"
    }
   ],
   "source": [
    "training_data[0]"
   ]
  },
  {
   "cell_type": "code",
   "execution_count": null,
   "metadata": {
    "colab": {
     "base_uri": "https://localhost:8080/"
    },
    "id": "8U8vopIzHYTo",
    "outputId": "a254b190-0695-432e-e451-b3d4785bf79c"
   },
   "outputs": [
    {
     "data": {
      "text/plain": [
       "40"
      ]
     },
     "execution_count": 153,
     "metadata": {},
     "output_type": "execute_result"
    }
   ],
   "source": [
    "len(training_data[0][0])"
   ]
  },
  {
   "cell_type": "code",
   "execution_count": null,
   "metadata": {
    "colab": {
     "base_uri": "https://localhost:8080/"
    },
    "id": "TlenYRn3X5vM",
    "outputId": "b4a677c8-6093-4dab-9668-2a084c6d95b3"
   },
   "outputs": [
    {
     "name": "stdout",
     "output_type": "stream",
     "text": [
      "Shape of X [N, L]: torch.Size([32, 40])\n",
      "Shape of y: torch.Size([32]) torch.int64\n"
     ]
    }
   ],
   "source": [
    "for X, y in train_dataloader:\n",
    "    print(f\"Shape of X [N, L]: {X.shape}\")\n",
    "    print(f\"Shape of y: {y.shape} {y.dtype}\")\n",
    "    break"
   ]
  },
  {
   "cell_type": "code",
   "execution_count": null,
   "metadata": {
    "colab": {
     "base_uri": "https://localhost:8080/"
    },
    "id": "e53SDe9OYz6Q",
    "outputId": "c967366d-bcaa-414f-90cd-9e07c2fd6279"
   },
   "outputs": [
    {
     "name": "stdout",
     "output_type": "stream",
     "text": [
      "Using cpu device\n"
     ]
    }
   ],
   "source": [
    "# Get cpu, gpu or mps device for training.\n",
    "device = (\n",
    "    \"cuda\"\n",
    "    if torch.cuda.is_available()\n",
    "    else \"mps\"\n",
    "    if torch.backends.mps.is_available()\n",
    "    else \"cpu\"\n",
    ")\n",
    "print(f\"Using {device} device\")"
   ]
  },
  {
   "cell_type": "markdown",
   "metadata": {
    "id": "gaIz2spHmXOA"
   },
   "source": [
    "Altere as classes abaixo implementando os seguintes modelos:\n",
    "\n",
    "1. modelo de classificação linear\n",
    "2. mlp com no máximo 20k parâmetros (contando pesos e biases)\n",
    "3. rede convolucional estilo LeNet\n",
    "4. rede convolucional estilo VGG\n",
    "5. rede convolucional estilo ResNet\n",
    "\n",
    "(extra)\n",
    "6. rede recorrente\n",
    "7. rede estilo ViT"
   ]
  },
  {
   "cell_type": "code",
   "execution_count": null,
   "metadata": {
    "id": "yk0GOVcrhyMg"
   },
   "outputs": [],
   "source": [
    "# Define model LinearNet\n",
    "class LinearNet(nn.Module):\n",
    "    def __init__(self, input_size, output_size):\n",
    "        super().__init__()\n",
    "        self.linear = nn.Linear(input_size, output_size)\n",
    "\n",
    "    def forward(self, x):\n",
    "        return self.linear(x)\n",
    "\n",
    "'''\n",
    "1. Entrada de um vetor de tamanho input_size = 40 é alimentado na rede.\n",
    "2. A entrada passa por uma única camada linear, que aplica uma transformação linear (multiplicação de matriz e adição de viés).\n",
    "3. A camada linear produz um vetor de tamanho output_size, que é a saída final do modelo.\n",
    "'''\n",
    "#=============================================================================================================\n",
    "\n",
    "#=============================================================================================================\n",
    "# Define model MLPNet\n",
    "class MLPNet(nn.Module):\n",
    "    def __init__(self, input_size, hidden_sizes, output_size):\n",
    "        super(MLPNet, self).__init__()\n",
    "        self.hidden_layers = nn.ModuleList()\n",
    "        self.hidden_layers.append(nn.Linear(input_size, hidden_sizes[0], bias=True))\n",
    "        for i in range(1, len(hidden_sizes)):\n",
    "            self.hidden_layers.append(nn.Linear(hidden_sizes[i-1], hidden_sizes[i], bias=True))\n",
    "        self.output_layer = nn.Linear(hidden_sizes[-1], output_size, bias=True)\n",
    "\n",
    "    def forward(self, x):\n",
    "        for layer in self.hidden_layers:\n",
    "            x = F.relu(layer(x))\n",
    "        x = self.output_layer(x)\n",
    "        return x\n",
    "'''\n",
    "1. Um vetor de tamanho input_size é alimentado na rede.\n",
    "2. A entrada passa pela primeira camada linear, que a transforma em um vetor de tamanho hidden_sizes[0].\n",
    "3. A função de ativação ReLU é aplicada à saída da primeira camada oculta.\n",
    "4. O vetor passa sequencialmente por cada camada oculta subsequente, definida em hidden_sizes, com uma transformação linear seguida de ReLU em cada etapa.\n",
    "5. A saída da última camada oculta é passada para a camada de saída linear, que a transforma em um vetor de tamanho output_size.\n",
    "'''\n",
    "#=============================================================================================================\n",
    "\n",
    "#=============================================================================================================\n",
    "# Define model LeNet\n",
    "class LeNet(nn.Module):\n",
    "    def __init__(self):\n",
    "        super(LeNet, self).__init__()\n",
    "        self.conv1 = nn.Conv1d(in_channels=1, out_channels=4, kernel_size=5)  # conv1\n",
    "        self.pool1 = nn.AvgPool1d(kernel_size=2, stride=2) #pooling1\n",
    "\n",
    "        self.conv2 = nn.Conv1d(in_channels=4, out_channels=8, kernel_size=5)  # conv2\n",
    "        self.pool2 = nn.AvgPool1d(kernel_size=2, stride=2) #pooling2\n",
    "\n",
    "        self.conv3 = nn.Conv1d(in_channels=8, out_channels=16, kernel_size=5)  # conv3\n",
    "        self.pool3 = nn.AvgPool1d(kernel_size=2, stride=2) #pooling3\n",
    "\n",
    "        self.flatten = nn.Flatten() #flat\n",
    "\n",
    "        self.fc1 = nn.Linear(in_features=16 * 1, out_features=60)  # full conected1\n",
    "        self.fc2 = nn.Linear(in_features=60, out_features=42)  # full conected2\n",
    "        self.fc3 = nn.Linear(in_features=42, out_features=10) # full conected3\n",
    "\n",
    "\n",
    "\n",
    "    def forward(self, x):\n",
    "        x = x.unsqueeze(1) # Adiciona uma dimensão de canal\n",
    "        x = self.pool1(F.relu(self.conv1(x)))\n",
    "        x = self.pool2(F.relu(self.conv2(x)))\n",
    "        x = self.pool3(F.relu(self.conv3(x)))\n",
    "        x = self.flatten(x)\n",
    "        x = F.relu(self.fc1(x)) #relu\n",
    "        x = F.relu(self.fc2(x)) #relu\n",
    "        x = self.fc3(x)\n",
    "\n",
    "        return x\n",
    "'''\n",
    "1. O tensor passa pelas camadas convolucionais e de pooling, onde as características são extraídas e a dimensionalidade é reduzida pela metade em cada pooling\n",
    "2. O tensor tridimensional resultante é achatado em um vetor unidimensional na camada de flatten\n",
    "3. O vetor passa pelas camadas totalmente conectadas, onde são aplicadas funções de ativação ReLU\n",
    "4. Finalmente, a última camada totalmente conectada produz a saída final do modelo\n",
    "'''\n",
    "#=============================================================================================================\n",
    "\n",
    "#=============================================================================================================\n",
    "# Define model VGGNet\n",
    "class VGGNet(nn.Module): #VGG baseado no modelo acima, apenas alterando a forma de construcao.\n",
    "    def __init__(self):\n",
    "        super(VGGNet, self).__init__()\n",
    "\n",
    "        # Bloco 1 Convolução -> ReLU -> Pooling\n",
    "        self.block1 = nn.Sequential(\n",
    "            nn.Conv1d(in_channels=1, out_channels=4, kernel_size=5),\n",
    "            nn.ReLU(),\n",
    "            nn.AvgPool1d(kernel_size=2, stride=2)\n",
    "        )\n",
    "\n",
    "        # Block 2 Convolução -> ReLU -> Pooling\n",
    "        self.block2 = nn.Sequential(\n",
    "            nn.Conv1d(in_channels=4, out_channels=8, kernel_size=5),\n",
    "            nn.ReLU(),\n",
    "            nn.AvgPool1d(kernel_size=2, stride=2)\n",
    "        )\n",
    "\n",
    "        # Block 3 Convolução -> ReLU -> Pooling\n",
    "        self.block3 = nn.Sequential(\n",
    "            nn.Conv1d(in_channels=8, out_channels=16, kernel_size=5),\n",
    "            nn.ReLU(),\n",
    "            nn.AvgPool1d(kernel_size=2, stride=2)\n",
    "        )\n",
    "\n",
    "        self.flatten = nn.Flatten() #flat\n",
    "\n",
    "        # FC layers\n",
    "        self.fc1 = nn.Linear(in_features=16 * 1, out_features=60)  # full connected1\n",
    "        self.fc2 = nn.Linear(in_features=60, out_features=42)  # full connected2\n",
    "        self.fc3 = nn.Linear(in_features=42, out_features=10) # full connected3\n",
    "\n",
    "\n",
    "\n",
    "    def forward(self, x):\n",
    "        x = x.unsqueeze(1) # Adiciona uma dimensão de canal\n",
    "        x = self.block1(x)\n",
    "        x = self.block2(x)\n",
    "        x = self.block3(x)\n",
    "        x = self.flatten(x)\n",
    "        x = F.relu(self.fc1(x))\n",
    "        x = F.relu(self.fc2(x))\n",
    "        x = self.fc3(x)\n",
    "\n",
    "        return x\n",
    "'''\n",
    "1. O tensor passa sequencialmente pelos Blocos 1, 2 e 3, onde CADA bloco consiste em uma camada convolucional seguida por uma função de ativação ReLU e uma camada de pooling.\n",
    "2. O tensor tridimensional resultante do Bloco 3 é achatado em um vetor unidimensional na camada de flatten\n",
    "3. O vetor passa pelas camadas totalmente conectadas (fc1, fc2), onde são aplicadas funções de ativação ReLU\n",
    "4. Finalmente, a última camada totalmente conectada (fc3) produz a saída final do modelo.\n",
    "'''\n",
    "#=============================================================================================================\n",
    "\n",
    "#=============================================================================================================\n",
    "# Define model ResNet\n",
    "class Residual(nn.Module):\n",
    "    def __init__(self, input_channels, num_channels, use_1x1conv=False, strides=1):\n",
    "        super(Residual, self).__init__()\n",
    "        self.conv1 = nn.Conv1d(input_channels, num_channels, kernel_size=3, padding=1, stride=strides) #conv 1\n",
    "        self.conv2 = nn.Conv1d(num_channels, num_channels, kernel_size=3, padding=1) #conv 2\n",
    "        if use_1x1conv:\n",
    "            self.conv3 = nn.Conv1d(input_channels, num_channels, kernel_size=1, stride=strides) # conv 1x1 sendo opcional\n",
    "        else:\n",
    "            self.conv3 = None\n",
    "        self.bn1 = nn.BatchNorm1d(num_channels) # normalização\n",
    "        self.bn2 = nn.BatchNorm1d(num_channels) # normalização\n",
    "\n",
    "\n",
    "    def forward(self, X):\n",
    "        Y = F.relu(self.bn1(self.conv1(X))) # conv 1 -> BatchNorm -> ReLU\n",
    "        Y = self.bn2(self.conv2(Y)) # Conv 2 -> BatchNorm\n",
    "        if self.conv3:  # ajuste de dimensionalidade com conv 1x1, se for colocado o True\n",
    "            X = self.conv3(X)\n",
    "        Y += X # conexão residual\n",
    "        return F.relu(Y) # ReLU na soma residual\n",
    "\n",
    "\n",
    "\n",
    "class ResNet(nn.Module):\n",
    "    def __init__(self):\n",
    "        super(ResNet, self).__init__()\n",
    "        # Bloco 1: Conv -> BatchNorm -> ReLU -> Pooling\n",
    "        self.b1 = nn.Sequential(\n",
    "            nn.Conv1d(1, 3, kernel_size=3, padding=1, stride=1),\n",
    "            nn.BatchNorm1d(3),\n",
    "            nn.ReLU(),\n",
    "            nn.AvgPool1d(kernel_size=2, stride=2)\n",
    "        )\n",
    "\n",
    "        # Bloco 2: Dois blocos residuais\n",
    "        self.b2 = nn.Sequential(\n",
    "            Residual(3, 6, use_1x1conv=True, strides=2), # residual COM ajuste de dimensionalidade\n",
    "            Residual(6, 6) # residual SEM ajuste de dimensionalidade\n",
    "        )\n",
    "\n",
    "        # Bloco 3: Dois blocos residuais\n",
    "        self.b3 = nn.Sequential(\n",
    "            Residual(6, 12, use_1x1conv=True, strides=2), # residual COM ajuste de dimensionalidade\n",
    "            Residual(12, 12) # residual SEM ajuste de dimensionalidade\n",
    "        )\n",
    "\n",
    "        self.flatten = nn.Flatten() #flat\n",
    "\n",
    "        self.fc1 = nn.Linear(12 * 5, 50)  # Ajuste para corresponder à saída do pooling\n",
    "        self.fc2 = nn.Linear(50, 35)\n",
    "        self.fc3 = nn.Linear(35, 10)\n",
    "\n",
    "\n",
    "    def forward(self, x):\n",
    "        x = x.unsqueeze(1) # Adiciona uma dimensão de canal\n",
    "        x = self.b1(x)\n",
    "        x = self.b2(x)\n",
    "        x = self.b3(x)\n",
    "        x = self.flatten(x)\n",
    "        x = F.relu(self.fc1(x))\n",
    "        x = F.relu(self.fc2(x))\n",
    "        x = self.fc3(x)\n",
    "        return x\n",
    "'''\n",
    "Dada a aplicacao feita no conteudo do ***Dive Into Deep Learning*** adouto-se implementar da seguinte forma:\n",
    "\n",
    "1. O tensor passa sequencialmente pelos blocos b1, b2 e b3, sendo que bloco 1 como Conv ->Batch Normal. ->ReLU ->Pooling AVG\n",
    "2. Os bloos 2 e 3 sao blocos residuais com 2 blocos dentro:\n",
    "        sendo o primeiro formado por Conv -> Batch Normal ->ReLU ->Conv ->Batch Normal ->Conexão Residual (1x1 conv) ->Soma Residual -> ReLU\n",
    "        sendo o segundo formado por Conv -> Batch Normal ->ReLU ->Conv ->Batch Normal ->Soma Residual -> ReLU\n",
    "3. O tensor tridimensional resultante do Bloco 3 é achatado em um vetor unidimensional na camada de flatten\n",
    "4. O vetor passa pelas camadas totalmente conectadas (fc1, fc2), onde são aplicadas funções de ativação ReLU\n",
    "5. Finalmente, a última camada totalmente conectada (fc3) produz a saída final do modelo.\n",
    "'''\n",
    "#=============================================================================================================\n",
    "\n",
    "#=============================================================================================================\n",
    "# Define model RecurrentNet\n",
    "class RecurrentNet(nn.Module):\n",
    "    def __init__(self, input_size=1, hidden_size=32, num_layers=1, output_size=10):\n",
    "        super(RecurrentNet, self).__init__()\n",
    "        self.hidden_size = hidden_size\n",
    "        self.num_layers = num_layers\n",
    "\n",
    "        # Camada GRU (mais leve que LSTM)\n",
    "        self.gru = nn.GRU(input_size, hidden_size, num_layers, batch_first=True)\n",
    "\n",
    "        # Camada totalmente conectada\n",
    "        self.fc = nn.Linear(hidden_size, output_size)\n",
    "\n",
    "        # Batch Normalization\n",
    "        self.bn = nn.BatchNorm1d(hidden_size)\n",
    "\n",
    "    def forward(self, x):\n",
    "        # Redimensiona a entrada para (batch_size, sequence_length, input_size)\n",
    "        x = x.unsqueeze(2)\n",
    "\n",
    "        # Inicializa o estado oculto\n",
    "        h0 = torch.zeros(self.num_layers, x.size(0), self.hidden_size).to(x.device)\n",
    "\n",
    "        # Passa pela camada GRU\n",
    "        out, _ = self.gru(x, h0)\n",
    "\n",
    "        # Pega apenas o último output da sequência\n",
    "        out = out[:, -1, :]\n",
    "\n",
    "        # Aplica Batch Normalization\n",
    "        out = self.bn(out)\n",
    "\n",
    "        # Aplica ReLU\n",
    "        out = F.relu(out)\n",
    "\n",
    "        # Passa pela camada totalmente conectada\n",
    "        out = self.fc(out)\n",
    "\n",
    "        return out\n",
    "'''\n",
    "1. A entrada passa pela camada GRU, que processa a sequência de dados.\n",
    "2. Pegamos apenas o último output da sequência GRU.\n",
    "3. Aplicamos Batch Normalization seguido de ReLU para normalização e não-linearidade.\n",
    "4. A camada totalmente conectada (fc) produz a saída final do modelo.\n",
    "5. Usamos Adam como otimizador com uma taxa de aprendizado menor e regularização L2.\n",
    "'''\n",
    "#=============================================================================================================\n",
    "\n",
    "#=============================================================================================================\n",
    "# Define model ViTNet\n",
    "class ViTNet(nn.Module):\n",
    "    def __init__(self, input_dim=40, n_classes=10, n_heads=2, n_layers=1, hidden_dim=32, dropout=0.1):\n",
    "        super(ViTNet, self).__init__()\n",
    "        self.input_dim = input_dim\n",
    "        self.hidden_dim = hidden_dim\n",
    "\n",
    "        self.embedding = nn.Linear(input_dim, hidden_dim)\n",
    "\n",
    "        # Positional Encoding\n",
    "        max_len = 5000\n",
    "        pe = torch.zeros(max_len, hidden_dim)\n",
    "        position = torch.arange(0, max_len, dtype=torch.float).unsqueeze(1)\n",
    "        div_term = torch.exp(torch.arange(0, hidden_dim, 2).float() * (-torch.log(torch.tensor(10000.0)) / hidden_dim))\n",
    "        pe[:, 0::2] = torch.sin(position * div_term)\n",
    "        pe[:, 1::2] = torch.cos(position * div_term)\n",
    "        pe = pe.unsqueeze(0).transpose(0, 1)\n",
    "        self.register_buffer('pe', pe)\n",
    "\n",
    "        encoder_layers = nn.TransformerEncoderLayer(hidden_dim, n_heads, dim_feedforward=hidden_dim*2, dropout=dropout)\n",
    "        self.transformer_encoder = nn.TransformerEncoder(encoder_layers, num_layers=n_layers)\n",
    "\n",
    "        self.classifier = nn.Linear(hidden_dim, n_classes)\n",
    "\n",
    "    def forward(self, x):\n",
    "        x = self.embedding(x)  # (N, L, hidden_dim)\n",
    "        x = x.unsqueeze(1)  # (N, 1, hidden_dim)\n",
    "        x = x.permute(1, 0, 2)  # (1, N, hidden_dim)\n",
    "        x = self.add_positional_encoding(x)\n",
    "        x = self.transformer_encoder(x)\n",
    "        x = x.mean(dim=0)  # (N, hidden_dim)\n",
    "        x = self.classifier(x)\n",
    "        return x\n",
    "\n",
    "    def add_positional_encoding(self, x):\n",
    "        x = x + self.pe[:x.size(0), :]\n",
    "        return x\n",
    "\n",
    "'''\n",
    "O modelo ViTNet é uma implementação de um Vision Transformer, que usa a arquitetura Transformer para processar dados visuais, e não sentenças/tokens.\n",
    "1-O tensor de entrada passa pela camada de embedding que mapeia a dimensão de entrada para a hidden_dim.\n",
    "2-Adicionamos uma dimensão pra entrar no transformer.\n",
    "3-\"Trocamos\" as dimensões pelo Transformer.\n",
    "4- Adicionamos o positional encoding para adicionarmos a informação da posição ao nosso vetor.\n",
    "5- Passa pelo Encoder do Transformer que aplica camadas de atenção usando matrizes Q, K e V para extrair relações importantes entre vetores e conseguir boas representações a partir disso,\n",
    "e a camada feed foward que adiciona ainda mais precisão a representação.\n",
    "6- U x.mean(dim=0) para reduzir a saída do Transformer para um vetor fixo.\n",
    "7- Passamos o vetor pela camada classificadora para obter as previsões finais do modelo de acordo com a nossa representação.\n",
    "'''"
   ]
  },
  {
   "cell_type": "markdown",
   "metadata": {
    "id": "FYVtKgpuoK6h"
   },
   "source": [
    "Escolha o modelo implementado, a função de custo e o otimizador e treine o modelo até atingir a melhor acurácia possível no conjunto de teste."
   ]
  },
  {
   "cell_type": "code",
   "execution_count": null,
   "metadata": {
    "colab": {
     "base_uri": "https://localhost:8080/"
    },
    "id": "lWPMjfHahz3t",
    "outputId": "8b076120-bd85-4ea0-8969-d5d94002ba28"
   },
   "outputs": [
    {
     "name": "stdout",
     "output_type": "stream",
     "text": [
      "ResNet(\n",
      "  (b1): Sequential(\n",
      "    (0): Conv1d(1, 3, kernel_size=(3,), stride=(1,), padding=(1,))\n",
      "    (1): BatchNorm1d(3, eps=1e-05, momentum=0.1, affine=True, track_running_stats=True)\n",
      "    (2): ReLU()\n",
      "    (3): AvgPool1d(kernel_size=(2,), stride=(2,), padding=(0,))\n",
      "  )\n",
      "  (b2): Sequential(\n",
      "    (0): Residual(\n",
      "      (conv1): Conv1d(3, 6, kernel_size=(3,), stride=(2,), padding=(1,))\n",
      "      (conv2): Conv1d(6, 6, kernel_size=(3,), stride=(1,), padding=(1,))\n",
      "      (conv3): Conv1d(3, 6, kernel_size=(1,), stride=(2,))\n",
      "      (bn1): BatchNorm1d(6, eps=1e-05, momentum=0.1, affine=True, track_running_stats=True)\n",
      "      (bn2): BatchNorm1d(6, eps=1e-05, momentum=0.1, affine=True, track_running_stats=True)\n",
      "    )\n",
      "    (1): Residual(\n",
      "      (conv1): Conv1d(6, 6, kernel_size=(3,), stride=(1,), padding=(1,))\n",
      "      (conv2): Conv1d(6, 6, kernel_size=(3,), stride=(1,), padding=(1,))\n",
      "      (bn1): BatchNorm1d(6, eps=1e-05, momentum=0.1, affine=True, track_running_stats=True)\n",
      "      (bn2): BatchNorm1d(6, eps=1e-05, momentum=0.1, affine=True, track_running_stats=True)\n",
      "    )\n",
      "  )\n",
      "  (b3): Sequential(\n",
      "    (0): Residual(\n",
      "      (conv1): Conv1d(6, 12, kernel_size=(3,), stride=(2,), padding=(1,))\n",
      "      (conv2): Conv1d(12, 12, kernel_size=(3,), stride=(1,), padding=(1,))\n",
      "      (conv3): Conv1d(6, 12, kernel_size=(1,), stride=(2,))\n",
      "      (bn1): BatchNorm1d(12, eps=1e-05, momentum=0.1, affine=True, track_running_stats=True)\n",
      "      (bn2): BatchNorm1d(12, eps=1e-05, momentum=0.1, affine=True, track_running_stats=True)\n",
      "    )\n",
      "    (1): Residual(\n",
      "      (conv1): Conv1d(12, 12, kernel_size=(3,), stride=(1,), padding=(1,))\n",
      "      (conv2): Conv1d(12, 12, kernel_size=(3,), stride=(1,), padding=(1,))\n",
      "      (bn1): BatchNorm1d(12, eps=1e-05, momentum=0.1, affine=True, track_running_stats=True)\n",
      "      (bn2): BatchNorm1d(12, eps=1e-05, momentum=0.1, affine=True, track_running_stats=True)\n",
      "    )\n",
      "  )\n",
      "  (flatten): Flatten(start_dim=1, end_dim=-1)\n",
      "  (fc1): Linear(in_features=60, out_features=50, bias=True)\n",
      "  (fc2): Linear(in_features=50, out_features=35, bias=True)\n",
      "  (fc3): Linear(in_features=35, out_features=10, bias=True)\n",
      ")\n"
     ]
    }
   ],
   "source": [
    "# altere o modelo nessa célula\n",
    "model = ResNet().to(device)\n",
    "print(model)"
   ]
  },
  {
   "cell_type": "code",
   "execution_count": null,
   "metadata": {
    "colab": {
     "base_uri": "https://localhost:8080/"
    },
    "id": "BNcj7rWaKs_D",
    "outputId": "099bc04a-3215-4b19-e484-ef78c52f3f8e"
   },
   "outputs": [
    {
     "name": "stdout",
     "output_type": "stream",
     "text": [
      "Total de parâmetros treináveis: 7427\n"
     ]
    }
   ],
   "source": [
    "def count_parameters(model):\n",
    "    return sum(p.numel() for p in model.parameters() if p.requires_grad)\n",
    "\n",
    "# quantidade de parâmetros\n",
    "print(f'Total de parâmetros treináveis: {count_parameters(model)}')"
   ]
  },
  {
   "cell_type": "code",
   "execution_count": null,
   "metadata": {
    "id": "qt6oIWMJZPsX"
   },
   "outputs": [],
   "source": [
    "# altere a função de custo e o otimizador nessa célula\n",
    "loss_fn = nn.CrossEntropyLoss()\n",
    "optimizer = torch.optim.SGD(model.parameters(), lr=1e-1)"
   ]
  },
  {
   "cell_type": "code",
   "execution_count": null,
   "metadata": {
    "id": "73dlFChDZTXF"
   },
   "outputs": [],
   "source": [
    "#=======================\n",
    "# não altere essa célula\n",
    "#=======================\n",
    "\n",
    "def train(dataloader, model, loss_fn, optimizer):\n",
    "    train_loss = []\n",
    "    train_acc = []\n",
    "\n",
    "    size = len(dataloader.dataset)\n",
    "    model.train()\n",
    "    for batch, (X, y) in enumerate(dataloader):\n",
    "        X, y = X.to(device), y.to(device)\n",
    "\n",
    "        # Compute prediction error\n",
    "        pred = model(X)\n",
    "        loss = loss_fn(pred, y)\n",
    "\n",
    "        # Backpropagation\n",
    "        optimizer.zero_grad()\n",
    "        loss.backward()\n",
    "        optimizer.step()\n",
    "\n",
    "        train_loss += [loss.item()]\n",
    "\n",
    "        correct = (pred.argmax(1) == y).type(torch.float).mean().item()\n",
    "        train_acc += [100*correct]\n",
    "\n",
    "    return train_loss, train_acc"
   ]
  },
  {
   "cell_type": "code",
   "execution_count": null,
   "metadata": {
    "id": "diu_Ks67ZVmV"
   },
   "outputs": [],
   "source": [
    "#=======================\n",
    "# não altere essa célula\n",
    "#=======================\n",
    "\n",
    "def test(dataloader, model, loss_fn):\n",
    "    size = len(dataloader.dataset)\n",
    "    num_batches = len(dataloader)\n",
    "    model.eval()\n",
    "    test_loss, correct = 0, 0\n",
    "    with torch.no_grad():\n",
    "        for X, y in dataloader:\n",
    "            X, y = X.to(device), y.to(device)\n",
    "            pred = model(X)\n",
    "            test_loss += loss_fn(pred, y).item()\n",
    "            correct += (pred.argmax(1) == y).type(torch.float).sum().item()\n",
    "    test_loss /= num_batches\n",
    "    test_acc = 100*correct/size\n",
    "\n",
    "    return test_loss, test_acc"
   ]
  },
  {
   "cell_type": "markdown",
   "metadata": {
    "id": "l_UAmG1Qpp_i"
   },
   "source": [
    "Escolha o número de épocas para o treinamento."
   ]
  },
  {
   "cell_type": "code",
   "execution_count": null,
   "metadata": {
    "id": "v7_nSAFbpydU"
   },
   "outputs": [],
   "source": [
    "# pode escolher mais epocas caso seja necessário\n",
    "epochs = 50"
   ]
  },
  {
   "cell_type": "code",
   "execution_count": null,
   "metadata": {
    "colab": {
     "base_uri": "https://localhost:8080/"
    },
    "id": "3WYhz3EpZXsl",
    "outputId": "da116eb7-f23e-4e68-ce57-2e076c269144"
   },
   "outputs": [
    {
     "name": "stderr",
     "output_type": "stream",
     "text": [
      "100%|██████████| 50/50 [01:29<00:00,  1.78s/it]\n"
     ]
    }
   ],
   "source": [
    "#=======================\n",
    "# não altere essa célula\n",
    "#=======================\n",
    "\n",
    "train_loss_hist = []\n",
    "train_acc_hist = []\n",
    "\n",
    "test_loss_0, test_acc_0 = test(test_dataloader, model, loss_fn)\n",
    "test_loss_hist = [test_loss_0]\n",
    "test_acc_hist = [test_acc_0]\n",
    "\n",
    "for t in trange(epochs):\n",
    "    train_loss, train_acc = train(train_dataloader, model, loss_fn, optimizer)\n",
    "    train_loss_hist += train_loss\n",
    "    train_acc_hist += train_acc\n",
    "\n",
    "    test_loss, test_acc = test(test_dataloader, model, loss_fn)\n",
    "    test_loss_hist += [test_loss]\n",
    "    test_acc_hist += [test_acc]\n",
    "\n",
    "train_loss_hist = np.array(train_loss_hist)\n",
    "test_loss_hist = np.array(test_loss_hist)\n",
    "train_acc_hist = np.array(train_acc_hist)\n",
    "test_acc_hist = np.array(test_acc_hist)"
   ]
  },
  {
   "cell_type": "markdown",
   "metadata": {
    "id": "IqIAfUE6uaEd"
   },
   "source": [
    "Execute essa célula para visualizar as curvas de loss."
   ]
  },
  {
   "cell_type": "code",
   "execution_count": null,
   "metadata": {
    "colab": {
     "base_uri": "https://localhost:8080/"
    },
    "id": "EDHDBScIvFYE",
    "outputId": "4efa0a74-b3fa-4f60-ede3-80a831352c63"
   },
   "outputs": [
    {
     "name": "stdout",
     "output_type": "stream",
     "text": [
      "Loss Treino: 6250\n",
      "Loss Teste: 51\n",
      "Acc Treino: 6250\n",
      "Acc Teste: 51\n"
     ]
    }
   ],
   "source": [
    "print(f'Loss Treino: {len(train_loss_hist)}')\n",
    "print(f'Loss Teste: {len(test_loss_hist)}')\n",
    "print(f'Acc Treino: {len(train_acc_hist)}')\n",
    "print(f'Acc Teste: {len(test_acc_hist)}')"
   ]
  },
  {
   "cell_type": "markdown",
   "metadata": {
    "id": "y5PEAaDLui5v"
   },
   "source": [
    "Execute essa célula para visualizar as curvas de acurácia."
   ]
  },
  {
   "cell_type": "code",
   "execution_count": null,
   "metadata": {
    "colab": {
     "base_uri": "https://localhost:8080/",
     "height": 447
    },
    "id": "hnmPZu0IlELA",
    "outputId": "50b1b75f-014e-410c-9157-5e34abd3ecae"
   },
   "outputs": [
    {
     "data": {
      "text/plain": [
       "[<matplotlib.lines.Line2D at 0x7f3e77f9c8b0>]"
      ]
     },
     "execution_count": 220,
     "metadata": {},
     "output_type": "execute_result"
    },
    {
     "data": {
      "image/png": "[encoded data removed]",
      "text/plain": [
       "<Figure size 640x480 with 1 Axes>"
      ]
     },
     "metadata": {},
     "output_type": "display_data"
    }
   ],
   "source": [
    "#Curva de de loss\n",
    "x_axis = np.linspace(0, epochs, len(train_loss_hist))\n",
    "plt.plot(x_axis, train_loss_hist)\n",
    "plt.plot(test_loss_hist, color = 'red')"
   ]
  },
  {
   "cell_type": "code",
   "execution_count": null,
   "metadata": {
    "colab": {
     "base_uri": "https://localhost:8080/",
     "height": 447
    },
    "id": "s-dRgPvtZhVT",
    "outputId": "470dd4c6-c41f-4a4c-a8c6-2186aafb396e"
   },
   "outputs": [
    {
     "data": {
      "text/plain": [
       "[<matplotlib.lines.Line2D at 0x7f3e77de7eb0>]"
      ]
     },
     "execution_count": 221,
     "metadata": {},
     "output_type": "execute_result"
    },
    {
     "data": {
      "image/png": "[encoded data removed]",
      "text/plain": [
       "<Figure size 640x480 with 1 Axes>"
      ]
     },
     "metadata": {},
     "output_type": "display_data"
    }
   ],
   "source": [
    "#Curva de de acc\n",
    "x_axis = np.linspace(0, epochs, len(train_acc_hist))\n",
    "plt.plot(x_axis, train_acc_hist)\n",
    "plt.plot(test_acc_hist, color = 'red')"
   ]
  },
  {
   "cell_type": "markdown",
   "metadata": {
    "id": "zojDx3oouuC9"
   },
   "source": [
    "Utilize os códigos acima para comparar os melhores modelos obtidos para cada arquitetura e, assim, faça um resumo das conclusões encontradas a partir dessas comparações."
   ]
  },
  {
   "cell_type": "code",
   "execution_count": null,
   "metadata": {
    "colab": {
     "base_uri": "https://localhost:8080/",
     "height": 744
    },
    "id": "Ue0WxafiyYLR",
    "outputId": "fe0514df-e280-471e-fc84-4d48e5bc8053"
   },
   "outputs": [
    {
     "data": {
      "image/png": "[encoded data removed]",
      "text/plain": [
       "<Figure size 640x480 with 2 Axes>"
      ]
     },
     "metadata": {},
     "output_type": "display_data"
    },
    {
     "name": "stdout",
     "output_type": "stream",
     "text": [
      "              precision    recall  f1-score   support\n",
      "\n",
      "           0       0.97      0.96      0.97       102\n",
      "           1       0.76      0.84      0.79       104\n",
      "           2       0.84      0.88      0.86        89\n",
      "           3       0.95      1.00      0.98       106\n",
      "           4       0.81      0.63      0.71       106\n",
      "           5       0.79      0.84      0.81        98\n",
      "           6       0.93      0.99      0.96        99\n",
      "           7       0.93      0.77      0.84        96\n",
      "           8       0.96      0.95      0.95        98\n",
      "           9       0.63      0.69      0.66       102\n",
      "\n",
      "    accuracy                           0.85      1000\n",
      "   macro avg       0.86      0.85      0.85      1000\n",
      "weighted avg       0.86      0.85      0.85      1000\n",
      "\n"
     ]
    }
   ],
   "source": [
    "# Função de avaliação do modelo\n",
    "def evaluate_model(model, dataloader, device):\n",
    "    model.eval()\n",
    "    all_preds = []\n",
    "    all_labels = []\n",
    "    with torch.no_grad():\n",
    "        for X, y in dataloader:\n",
    "            X, y = X.to(device), y.to(device)\n",
    "            preds = model(X).argmax(dim=1)\n",
    "            all_preds.append(preds.cpu().numpy())\n",
    "            all_labels.append(y.cpu().numpy())\n",
    "\n",
    "    all_preds = np.concatenate(all_preds)\n",
    "    all_labels = np.concatenate(all_labels)\n",
    "\n",
    "    # Matriz de Confusão\n",
    "    cm = confusion_matrix(all_labels, all_preds)\n",
    "    sns.heatmap(cm, annot=True, fmt='d', cmap='Blues')\n",
    "    plt.xlabel('Predicted')\n",
    "    plt.ylabel('True')\n",
    "    plt.show()\n",
    "\n",
    "    # report da classificacao\n",
    "    print(classification_report(all_labels, all_preds))\n",
    "\n",
    "\n",
    "# Avaliando o modelo no teste\n",
    "evaluate_model(model, test_dataloader, device)"
   ]
  },
  {
   "cell_type": "markdown",
   "metadata": {
    "id": "H-BTchmG8rC3"
   },
   "source": []
  },
  {
   "cell_type": "markdown",
   "metadata": {
    "id": "QuzAqfvm3apU"
   },
   "source": [
    "\n",
    "---\n",
    "> Para a `LinearNet` (410 parâmetros) -> É uma arquitetura extremamente simples e rápida de treinar, ideal para problemas lineares ou como um ponto de partida para entender redes neurais. Com um número reduzido de parâmetros, é computacionalmente eficiente e roda muito rapidamente (sendo a mais rápida de todas as arquiteturas para 50 épocas). No entanto, sua simplicidade pode limitar sua capacidade de capturar padrões complexos nos dados, e ela não inclui técnicas avançadas de regularização. Mesmo utilizando weight_decay no otimizador, o resultado não foi como esperávamos. Rodou em 8.7s e alcançou 33% de ACC.\n",
    "\n",
    "> Para a `MLP` (15.985 parâmetros) -> É uma arquitetura mais sofisticada e poderosa do que a LinearNet, sendo capaz de capturar padrões não lineares nos dados graças às suas camadas ocultas. Embora tenha mais parâmetros, continua sendo relativamente eficiente em termos computacionais.  Apesar de sua maior capacidade, ainda é suscetível ao overfitting, e mesmo com a aplicação de weight_decay no otimizador, o resultado não foi completamente satisfatório. Rodou em 19.4s e alcançou 63% de ACC.\n",
    "\n",
    "> Para a `LeNet` (4860 parametros) -> É uma estrutura simples e fácil de entender e ensinar, computacionalmente eficiente (sendo a mais rapida dentre as 3 para 50 epocas),pois demanda menos poder computacional. Entretanto não possui técnicas de regularização avançadas, podendo se ajustar demais aos dados de treinamento gerando o overfitting. Rodou em 35s e alcançou 83% de ACC.\n",
    "\n",
    "\n",
    "> Para a `VGG` (4860 parametros) -> Facilita a compreensão e a modificação da arquitetura, uma vez que, voce pode alterar os blocos isoladaemnte ou criar blocos \"selhantes\" para reutilizá-los. Assim como a LeNet, essa arquitetura tem o ganho na construção, mas não possui técnicas de regularização avançadas também. Rodou em 45s e alcançou 81% de ACC.\n",
    "\n",
    "\n",
    "> Para a `ResNet` (7427 parametros) -> Por utilizar a tecnica de resíduo mitigam problemas de desvanecimento do gradiente, fazendo essas conexões residuais atuam como uma forma de regularização, melhorando a generalização do modelo. Porém, mais complexa e computacionalmente intensiva, sendo a que mais demorou no treinamento de 50 epocas (1min e 40s) e alcançou 85% de ACC.\n",
    "\n",
    "> Para a `RecurrentNet` (3754 parametros) -> O modelo RecurrentNet é uma arquitetura de rede neural recorrente que utiliza a célula GRU (Gated Recurrent Unit) para processar sequências de dados. Com uma estrutura leve e eficiente, nossa RecurrentNet possui aproximadamente 4000 parâmetros, tornando-o computacionalmente eficiente. A rede é composta por uma camada GRU, seguida por uma camada de Batch Normalization, uma função de ativação ReLU e uma camada totalmente conectada. Essa estrutura permite que o modelo capture padrões temporais e não lineares nos dados, sem demandar um alto custo computacional. Durante os testes, o RecurrentNet rodou em 2 minutos e 17 segundos e alcançou uma acurácia de 84% nos dados de validação. Essa performance é competitiva quando comparada aos outros modelos analisados, como a LeNet (83% de acurácia) e a ResNet (85% de acurácia), demonstrando a eficácia do modelo RecurrentNet.\n",
    "\n",
    ">Para a `ViTNet` (1018 parâmetros) -> A ViTNet utiliza a arquitetura Transformer, caracterizada por camadas de Atenção e camadas Feed Forward. Este modelo adiciona complexidade e aumenta a quantidade de parâmetros devido às múltiplas cabeças de atenção e as camadas Feed Foward. As camadas de Atenção permitem que o modelo foque em diferentes partes dos dados de entrada, enquanto as camadas Feed Forward ajudam no processamento e transformação dos dados. Adicionalmente, a ViTNet incorpora técnicas de normalização e conexões residuais (add&norm) para mitigar problemas de desvanecimento do gradiente, melhorando a estabilidade durante o treinamento. Tivemos um bom desempenho usando multiplas heads e camadas, além de camadas maiores. Porém ao diminuirmos o numero de parametros consideravelmente (10 mil), nossa acurácia também diminuiu, já que por ser uma arquiterura \"grande\" teve um impacto. No nosso teste, a ViTNet alcançou uma acurácia de 51%, Este desempenho sugere que, embora a ViTNet tenha potencial, a arquitetura mostra necessidade do  uso de mais parametros.\n",
    "---\n",
    "\n",
    "\n",
    "\n",
    "\n"
   ]
  },
  {
   "cell_type": "code",
   "execution_count": null,
   "metadata": {
    "id": "U_n-iBZftGeU"
   },
   "outputs": [],
   "source": []
  },
  {
   "cell_type": "code",
   "execution_count": null,
   "id": "5eccddfe",
   "metadata": {},
   "outputs": [],
   "source": [
    "\n",
    "# Dictionary to store history for each model\n",
    "history_dict = {}\n",
    "\n",
    "# Training and evaluating models\n",
    "for model_name, model in models.items():\n",
    "    print(f\"Training {model_name}...\")\n",
    "    history = model.fit(train_images, train_labels, epochs=EPOCHS, validation_data=(test_images, test_labels))\n",
    "    \n",
    "    # Saving history\n",
    "    history_dict[model_name] = history.history\n",
    "\n",
    "    # Plotting individual model loss and accuracy\n",
    "    plt.figure(figsize=(12, 4))\n",
    "    plt.subplot(1, 2, 1)\n",
    "    plt.plot(history.history['loss'], label='train_loss')\n",
    "    plt.plot(history.history['val_loss'], label='val_loss')\n",
    "    plt.title(f'{model_name} Loss')\n",
    "    plt.legend()\n",
    "    \n",
    "    plt.subplot(1, 2, 2)\n",
    "    plt.plot(history.history['accuracy'], label='train_acc')\n",
    "    plt.plot(history.history['val_accuracy'], label='val_acc')\n",
    "    plt.title(f'{model_name} Accuracy')\n",
    "    plt.legend()\n",
    "    \n",
    "    plt.show()\n",
    "\n",
    "# Plotting comparison of all models\n",
    "plt.figure(figsize=(12, 4))\n",
    "\n",
    "# Plotting loss comparison\n",
    "plt.subplot(1, 2, 1)\n",
    "for model_name, history in history_dict.items():\n",
    "    plt.plot(history['val_loss'], label=f'{model_name} val_loss')\n",
    "plt.title('Loss Comparison')\n",
    "plt.legend()\n",
    "\n",
    "# Plotting accuracy comparison\n",
    "plt.subplot(1, 2, 2)\n",
    "for model_name, history in history_dict.items():\n",
    "    plt.plot(history['val_accuracy'], label=f'{model_name} val_acc')\n",
    "plt.title('Accuracy Comparison')\n",
    "plt.legend()\n",
    "\n",
    "plt.show()\n"
   ]
  }
 ],
 "metadata": {
  "colab": {
   "provenance": []
  },
  "kernelspec": {
   "display_name": "Python 3",
   "name": "python3"
  },
  "language_info": {
   "name": "python"
  }
 },
 "nbformat": 4,
 "nbformat_minor": 0
}
