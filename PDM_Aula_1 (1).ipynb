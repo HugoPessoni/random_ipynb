{
  "nbformat": 4,
  "nbformat_minor": 0,
  "metadata": {
    "colab": {
      "provenance": []
    },
    "kernelspec": {
      "name": "python3",
      "display_name": "Python 3"
    },
    "language_info": {
      "name": "python"
    }
  },
  "cells": [
    {
      "cell_type": "markdown",
      "source": [
        "# Introdução ao Big Data com Apache Spark\n",
        "\n",
        "Este tutorial tem como objetivo facilitar o entendimento do conceito de Big Data utilizando o Apache Spark.\n",
        "    \n",
        "## Arquitetura do Apache Spark\n",
        "\n",
        "Antes de partir para o código, vamos ver uma visão geral da arquitetura do Apache Spark. Esta arquitetura permite que você possa processar seus códigos em várias máquinas como se fosse uma só através da arquitetura master-worker, onde existe um `driver` ou nó master no cluster, acompanhado pelos nós `worker`. O master envia o trabalho para os workers com instruções para carregar os dados da memória ou do disco.\n",
        "\n",
        "O diagrama abaixo apresenta um exemplo de um cluster com Apache Spark, onde basicamente existe um nó Driver que comunica com os nós executors. Cada um destes nós executors tem slots que são logicamente como núcleos de processsamento.\n",
        "\n",
        "![spark-architecture](https://miro.medium.com/v2/resize:fit:962/1*AWt1p2zUo9lLQ_X_gN0vZg.png)\n"
      ],
      "metadata": {
        "id": "_NCGbNGg5jml"
      }
    },
    {
      "cell_type": "markdown",
      "source": [
        "## Introdução ao Big Data com Spark\n",
        "\n",
        "Neste tutorial, vamos explorar o poder do Apache Spark através da análise de um conjunto de dados de vendas e clientes. Nossos dados serão carregados a partir de arquivos CSV, representando transações de vendas e informações de clientes.\n",
        "\n",
        "Vamos usar esses dados para realizar tarefas comuns de análise de dados, como:\n",
        "\n",
        "Carregamento e tratamento dos dados: Abordaremos como carregar os dados CSV no Spark e prepará-los para análise.\n",
        "Transformações e agregações: Realizaremos operações de transformação e agregação para obter insights valiosos dos dados.\n",
        "Exploração e visualização: Utilizaremos ferramentas de visualização para explorar os dados e apresentar as conclusões de forma clara e intuitiva.\n",
        "\n",
        "Ao longo do tutorial, você aprenderá os conceitos básicos do Spark e como aplicar suas funcionalidades para analisar dados do mundo real.\n",
        "\n",
        "\n"
      ],
      "metadata": {
        "id": "MwAMszBN5m0i"
      }
    },
    {
      "cell_type": "markdown",
      "source": [
        "# Download dos arquivos\n",
        "\n",
        "Iremos baixar os arquivos de entrada:\n",
        "- clients.csv\n",
        "- vendas.csv\n",
        "\n",
        "Os dados em `vendas.csv` são relativos a vendas realizadas por atacadistas e distribuidores."
      ],
      "metadata": {
        "id": "wZNyqh8F8Yz4"
      }
    },
    {
      "cell_type": "markdown",
      "source": [
        "## Dados de clientes\n",
        "\n",
        "Iremos realizar o download de dados de clientes do link abaixo:"
      ],
      "metadata": {
        "id": "xNZitw1TEPTY"
      }
    },
    {
      "cell_type": "code",
      "execution_count": 1,
      "metadata": {
        "id": "xVJyy_fUNNyW",
        "outputId": "4a996202-d5e9-413e-cc3b-2db58a2da5cd",
        "colab": {
          "base_uri": "https://localhost:8080/"
        }
      },
      "outputs": [
        {
          "output_type": "stream",
          "name": "stdout",
          "text": [
            "--2024-09-20 19:15:23--  https://www.dropbox.com/scl/fi/vd5hmlr7ghj2j5rx3w681/clients.csv?rlkey=rmcalhytfjm6nfklw7hhtykid\n",
            "Resolving www.dropbox.com (www.dropbox.com)... 162.125.5.18, 2620:100:601d:18::a27d:512\n",
            "Connecting to www.dropbox.com (www.dropbox.com)|162.125.5.18|:443... connected.\n",
            "HTTP request sent, awaiting response... 302 Found\n",
            "Location: https://uc4657ebdab229a20b38db5c0b3c.dl.dropboxusercontent.com/cd/0/inline/Ca_pEdxhiHGp5KtbTFYUgQCjpAe0oIZWjf7L23ivBPBVQjVxAqxVGXuZFGV1IspiB8I_LoDHu-igyBaqWxovZ9xsNt1UAb3W2IlSYEgjnGLDdjKuIqLY-bn9I3VhuRLYx6HD8SybdINof8B-0UkOMeig/file# [following]\n",
            "--2024-09-20 19:15:24--  https://uc4657ebdab229a20b38db5c0b3c.dl.dropboxusercontent.com/cd/0/inline/Ca_pEdxhiHGp5KtbTFYUgQCjpAe0oIZWjf7L23ivBPBVQjVxAqxVGXuZFGV1IspiB8I_LoDHu-igyBaqWxovZ9xsNt1UAb3W2IlSYEgjnGLDdjKuIqLY-bn9I3VhuRLYx6HD8SybdINof8B-0UkOMeig/file\n",
            "Resolving uc4657ebdab229a20b38db5c0b3c.dl.dropboxusercontent.com (uc4657ebdab229a20b38db5c0b3c.dl.dropboxusercontent.com)... 162.125.5.15, 2620:100:601d:15::a27d:50f\n",
            "Connecting to uc4657ebdab229a20b38db5c0b3c.dl.dropboxusercontent.com (uc4657ebdab229a20b38db5c0b3c.dl.dropboxusercontent.com)|162.125.5.15|:443... connected.\n",
            "HTTP request sent, awaiting response... 200 OK\n",
            "Length: 42358668 (40M) [text/plain]\n",
            "Saving to: ‘clients.csv’\n",
            "\n",
            "clients.csv         100%[===================>]  40.40M  70.0MB/s    in 0.6s    \n",
            "\n",
            "2024-09-20 19:15:25 (70.0 MB/s) - ‘clients.csv’ saved [42358668/42358668]\n",
            "\n"
          ]
        }
      ],
      "source": [
        "!wget -O clients.csv https://www.dropbox.com/scl/fi/vd5hmlr7ghj2j5rx3w681/clients.csv?rlkey=rmcalhytfjm6nfklw7hhtykid&dl=1"
      ]
    },
    {
      "cell_type": "markdown",
      "source": [
        "**Se não funcionar o download acima, tente o link abaixo:**\n",
        "\n",
        "---\n",
        "\n"
      ],
      "metadata": {
        "id": "R-PhnPvyCnZH"
      }
    },
    {
      "cell_type": "code",
      "source": [
        "#!gdown https://drive.google.com/uc?id=1SQn8nCPhdFXFOe2wZ9wn1exTAIdgo2QU"
      ],
      "metadata": {
        "id": "oInJIJszCryu"
      },
      "execution_count": null,
      "outputs": []
    },
    {
      "cell_type": "markdown",
      "source": [
        "## Dados de vendas\n",
        "\n",
        "Iremos realizar o download dos dados de vendas presentes no arquivo `vendas.csv`:"
      ],
      "metadata": {
        "id": "Grs7LvgUEXbO"
      }
    },
    {
      "cell_type": "code",
      "source": [
        "!wget -O vendas.csv https://www.dropbox.com/scl/fi/y6h3do8rp9fhovunvj36c/vendas.csv?rlkey=m4yl4h8vzfyg5fq8vyb2sbd2x&st=nz4dme6m&dl=1"
      ],
      "metadata": {
        "id": "XKdikSZa7GNp",
        "colab": {
          "base_uri": "https://localhost:8080/"
        },
        "outputId": "c934efae-c6ac-4d1b-ae69-6cfb1b862921"
      },
      "execution_count": 2,
      "outputs": [
        {
          "output_type": "stream",
          "name": "stdout",
          "text": [
            "--2024-09-20 19:15:25--  https://www.dropbox.com/scl/fi/y6h3do8rp9fhovunvj36c/vendas.csv?rlkey=m4yl4h8vzfyg5fq8vyb2sbd2x\n",
            "Resolving www.dropbox.com (www.dropbox.com)... 162.125.5.18, 2620:100:601d:18::a27d:512\n",
            "Connecting to www.dropbox.com (www.dropbox.com)|162.125.5.18|:443... connected.\n",
            "HTTP request sent, awaiting response... 302 Found\n",
            "Location: https://uc4fc3c32b0f79ff2a39ff62486d.dl.dropboxusercontent.com/cd/0/inline/Ca_GpeaxL9hYCGgsfdQ1D4VNH1KTuXmSSdxHv8bWYnEe3zxVgavdiufoUzdi7ZmIZD8api3wt7jYKaXnl46_YMpYbFaJly8_Oo5YTBiqgtkIBiwyGiZzzFT5yMTUMVSP9ugQ8bKp_tgA4lRbNArdHPgb/file# [following]\n",
            "--2024-09-20 19:15:26--  https://uc4fc3c32b0f79ff2a39ff62486d.dl.dropboxusercontent.com/cd/0/inline/Ca_GpeaxL9hYCGgsfdQ1D4VNH1KTuXmSSdxHv8bWYnEe3zxVgavdiufoUzdi7ZmIZD8api3wt7jYKaXnl46_YMpYbFaJly8_Oo5YTBiqgtkIBiwyGiZzzFT5yMTUMVSP9ugQ8bKp_tgA4lRbNArdHPgb/file\n",
            "Resolving uc4fc3c32b0f79ff2a39ff62486d.dl.dropboxusercontent.com (uc4fc3c32b0f79ff2a39ff62486d.dl.dropboxusercontent.com)... 162.125.5.15, 2620:100:601d:15::a27d:50f\n",
            "Connecting to uc4fc3c32b0f79ff2a39ff62486d.dl.dropboxusercontent.com (uc4fc3c32b0f79ff2a39ff62486d.dl.dropboxusercontent.com)|162.125.5.15|:443... connected.\n",
            "HTTP request sent, awaiting response... 200 OK\n",
            "Length: 36215113 (35M) [text/plain]\n",
            "Saving to: ‘vendas.csv’\n",
            "\n",
            "vendas.csv          100%[===================>]  34.54M  53.8MB/s    in 0.6s    \n",
            "\n",
            "2024-09-20 19:15:27 (53.8 MB/s) - ‘vendas.csv’ saved [36215113/36215113]\n",
            "\n"
          ]
        }
      ]
    },
    {
      "cell_type": "markdown",
      "source": [
        "**Se não funcionar o download acima, tente o link abaixo:**"
      ],
      "metadata": {
        "id": "WpYgkXP3DLTW"
      }
    },
    {
      "cell_type": "code",
      "source": [
        "#!gdown https://drive.google.com/uc?id=1ubiLTdjEdy8C86MdkW1HRyPOFZl4irT1"
      ],
      "metadata": {
        "id": "vAREVqLIDPXR"
      },
      "execution_count": null,
      "outputs": []
    },
    {
      "cell_type": "markdown",
      "source": [
        "# Analisando dados de vendas\n",
        "Você está recebendo um conjunto de dados histórico de vendas de ERPs de várias empresas. Temos o histórico de vendas de várias empresas dentro do arquivo e, por isso, podemos ter períodos históricos diferentes de dados de vendas disponíveis.\n",
        "\n",
        "## Arquivos\n",
        "- **vendas.parquet** - contém dados históricos de vendas até junho de 2022.\n",
        "- **clients.csv** - dados dos clientes que compraram o produto.\n",
        "\n",
        "## Campos do arquivo de vendas\n",
        "\n",
        "- *client_id*: id do cliente.\n",
        "- *items_count*: número de itens vendidos\n",
        "- *list_price*: preço do produto no catálogo da empresa.\n",
        "- *order_date*: data da venda.\n",
        "- *order_id*: id do pedido. Cada pedido pode conter vários produtos vendidos dentro dele.\n",
        "- *product_id*: id do produto vendido.\n",
        "- *sale_price*: preço vendido ao cliente.\n",
        "- *salesman_id*: id do vendedor.\n",
        "- *supplier_id*: id do fornecedor do produto. Por exemplo, a indústria fabricando do produto.\n",
        "- *company_id*: id da empresa. Temos dentro da base o histórico de vendas de várias empresas para clientes finais.\n",
        "- *product*: nome do produto.\n",
        "- *salesman*: nome do vendedor.\n",
        "- *supplier*: nome do fornecedor.\n",
        "- *client*: nome do cliente.\n",
        "\n",
        "\n",
        "## Campos do arquivo clients.csv\n",
        "- *client_id*: id do cliente.\n",
        "- *cnae_id*: CNAE do cliente que está realizando a compra.\n",
        "- *cod_city*: código da cidade no IBGE em que o cliente está localizado.\n",
        "- *cod_tract*: código do setor censitário no IBGE em que o cliente está localizado.\n",
        "- *cod_uf*: código da UF no IBGE em que o cliente está localizado.\n",
        "- *city*: cidade do cliente.\n",
        "- *state*: UF do cliente.\n",
        "- *client*: nome do cliente.\n",
        "- *company_id*: id da empresa. Temos dentro da base o histórico de vendas de várias empresas para clientes finais.\n"
      ],
      "metadata": {
        "id": "byQsilyGtLLJ"
      }
    },
    {
      "cell_type": "markdown",
      "metadata": {
        "id": "5ts2iqOfStVG"
      },
      "source": [
        "## Iniciando o PySpark\n",
        "\n",
        "Esta célula de código instala o Spark no ambiente de execução Colab. Aqui está uma explicação passo a passo:\n",
        "\n",
        "1. **`!apt-get install openjdk-11-jdk-headless -qq > /dev/null`**: este comando instala o OpenJDK 11 (versão headless, sem interface gráfica), que é um requisito para o Spark. O `-qq` suprime a saída e o `> /dev/null` redireciona a saída para o nada, tornando o processo mais silencioso.\n",
        "\n",
        "2. **`!wget -q https://dlcdn.apache.org/spark/spark-3.5.2/spark-3.5.2-bin-hadoop3.tgz`**: Este comando baixa o arquivo compactado do Spark 3.5.2 (construído para o Hadoop 3) do site oficial do Apache Spark. O `-q` suprime a saída de download.\n",
        "\n",
        "3. **`!tar xf spark-3.5.2-bin-hadoop3.tgz`**: Este comando extrai o arquivo compactado baixado do Spark, criando um diretório chamado `spark-3.5.2-bin-hadoop3`.\n",
        "\n",
        "4. **`!pip -q install findspark`**: Este comando instala a biblioteca `findspark` usando `pip`. Findspark é uma biblioteca Python que torna mais fácil configurar o Spark em um ambiente Python, principalmente no Colab. Ela define as variáveis de ambiente necessárias para que o Spark funcione corretamente.\n",
        "\n",
        "Após executar essas linhas, você terá o Spark instalado e pronto para ser usado em seu notebook Colab."
      ]
    },
    {
      "cell_type": "code",
      "execution_count": 3,
      "metadata": {
        "id": "Ek_RTaPXSwLp"
      },
      "outputs": [],
      "source": [
        "!apt-get install openjdk-11-jdk-headless -qq > /dev/null\n",
        "!wget -q https://dlcdn.apache.org/spark/spark-3.5.2/spark-3.5.2-bin-hadoop3.tgz\n",
        "!tar xf spark-3.5.2-bin-hadoop3.tgz\n",
        "!pip -q install findspark"
      ]
    },
    {
      "cell_type": "markdown",
      "source": [
        "Defina as variáveis de ambiente do Spark:"
      ],
      "metadata": {
        "id": "duVQdGSXo1fS"
      }
    },
    {
      "cell_type": "code",
      "execution_count": 4,
      "metadata": {
        "id": "qM3oCEa4Sx1g"
      },
      "outputs": [],
      "source": [
        "import os\n",
        "os.environ[\"JAVA_HOME\"] = \"/usr/lib/jvm/java-11-openjdk-amd64\"\n",
        "os.environ[\"SPARK_HOME\"] = \"/content/spark-3.5.2-bin-hadoop3\""
      ]
    },
    {
      "cell_type": "markdown",
      "source": [
        "O código a seguir garante que o Spark seja configurado corretamente e esteja pronto para uso em seu ambiente Python.\n",
        "\n",
        "* **`findspark.init()`**: executa a função `init()` do módulo `findspark`. Esta função:\n",
        "    * Localiza a instalação do Spark em seu sistema.\n",
        "    * Configura as variáveis de ambiente necessárias para que o Python possa interagir com o Spark. Isso permite que o driver Python (seu código Python) se comunique com o executor Spark (o código que realmente processa os dados).\n"
      ],
      "metadata": {
        "id": "QV6xIUNwo2KZ"
      }
    },
    {
      "cell_type": "code",
      "execution_count": 5,
      "metadata": {
        "id": "LgkpQMC6S0SE"
      },
      "outputs": [],
      "source": [
        "import findspark\n",
        "findspark.init()"
      ]
    },
    {
      "cell_type": "markdown",
      "source": [
        "Depois de executar a célula anterior, você poderá importar e usar as bibliotecas Spark como `pyspark.sql.SparkSession` para criar uma sessão Spark e começar a trabalhar com dados."
      ],
      "metadata": {
        "id": "WMUFJ_Bto5BJ"
      }
    },
    {
      "cell_type": "code",
      "execution_count": 6,
      "metadata": {
        "id": "IAhdigi7S04j"
      },
      "outputs": [],
      "source": [
        "from pyspark.sql import SparkSession\n",
        "from pyspark.sql.functions import *\n",
        "spark = SparkSession.builder.appName('Aula 1').master(\"local[*]\").getOrCreate()"
      ]
    },
    {
      "cell_type": "code",
      "source": [
        "spark.version"
      ],
      "metadata": {
        "colab": {
          "base_uri": "https://localhost:8080/",
          "height": 35
        },
        "id": "6ADpe_K-MzFc",
        "outputId": "c2bfa25d-f686-4711-d0e2-12691c2f9be8"
      },
      "execution_count": null,
      "outputs": [
        {
          "output_type": "execute_result",
          "data": {
            "text/plain": [
              "'3.5.2'"
            ],
            "application/vnd.google.colaboratory.intrinsic+json": {
              "type": "string"
            }
          },
          "metadata": {},
          "execution_count": 7
        }
      ]
    },
    {
      "cell_type": "markdown",
      "metadata": {
        "id": "gRw-e1pRT9qD"
      },
      "source": [
        "# Primeira etapa: carregar os arquivos\n",
        "\n",
        "Nessa etapa você deve carregar os quatro arquivos abaixos, utilizando o **Spark**\n",
        "\n",
        "**Dicas:**\n",
        "\n",
        "- Separador dos arquivos é , (vírgula)\n",
        "- Os arquivos possuem cabeçalho"
      ]
    },
    {
      "cell_type": "code",
      "source": [
        "clients_df = spark.read.csv(\"clients.csv\")\n",
        "#clients_df = spark.read.csv(\"clients.csv\", header=True) --> coloca o nome das colunas\n",
        "#clients_df = spark.read.csv(\"clients.csv\", header=True, inferSchema=True) --> faz com que o proprio spark infere o tipo do dado"
      ],
      "metadata": {
        "id": "BwGxPxEeM6tU"
      },
      "execution_count": 7,
      "outputs": []
    },
    {
      "cell_type": "code",
      "source": [
        "clients_df.show(30)"
      ],
      "metadata": {
        "colab": {
          "base_uri": "https://localhost:8080/"
        },
        "id": "rj-7TlMkNFes",
        "outputId": "6b28df1e-ebf1-4810-c741-0a99e90f8d39"
      },
      "execution_count": 8,
      "outputs": [
        {
          "output_type": "stream",
          "name": "stdout",
          "text": [
            "+--------------------+---------+-------+--------+---------------+------+-----+--------------+----------+\n",
            "|                 _c0|      _c1|    _c2|     _c3|            _c4|   _c5|  _c6|           _c7|       _c8|\n",
            "+--------------------+---------+-------+--------+---------------+------+-----+--------------+----------+\n",
            "|                city|client_id|cnae_id|cod_city|      cod_tract|cod_uf|state|        client|company_id|\n",
            "|                NULL|  c855767|   NULL| 5211503|521150305000094|    52|   GO|Client c855767|      0567|\n",
            "|               POSSE|  c836888|   NULL| 5218300|521830005000006|    52|   GO|Client c836888|      0567|\n",
            "|                 POA|  c836597|   NULL| 3539806|353980605000005|    35|   SP|Client c836597|      0567|\n",
            "|           SAO PAULO|  c836596|   NULL| 3550308|355030837000019|    35|   SP|Client c836596|      0567|\n",
            "|              CUIABA|  c855005|   NULL| 5103403|510340310400031|    51|   MT|Client c855005|      0567|\n",
            "|         BREU BRANCO|  c855045|   NULL| 1501782|150178205000045|    15|   PA|Client c855045|      0567|\n",
            "|APARECIDA DE GOIANIA|  c836630|   NULL| 5201405|520140505000019|    52|   GO|Client c836630|      0567|\n",
            "|      PEDRAS MA CRUZ|  c904501|   NULL| 3149150|314915005000003|    31|   MG|Client c904501|      0567|\n",
            "|            JANUARIA|  c903627|   NULL| 3135209|313520905000021|    31|   MG|Client c903627|      0567|\n",
            "|        RONDONOPOLIS|  c903616|   NULL| 5107602|510760205000190|    51|   MT|Client c903616|      0567|\n",
            "|             JANAUBA|  c903671|   NULL| 3135100|313510005000048|    31|   MG|Client c903671|      0567|\n",
            "|             GOIANIA|  c903669|   NULL| 5208707|520870705020011|    52|   GO|Client c903669|      0567|\n",
            "|      PATOS DE MINAS|  c903656|   NULL| 3148004|314800405000184|    31|   MG|Client c903656|      0567|\n",
            "|         SAO GOTARDO|  c903643|   NULL| 3162104|316210415000001|    31|   MG|Client c903643|      0567|\n",
            "|        PORTO FRANCO|  c903694|   NULL| 2109007|210900705000023|    21|   MA|Client c903694|      0567|\n",
            "|        PORTO FRANCO|  c903693|   NULL| 2109007|210900705000023|    21|   MA|Client c903693|      0567|\n",
            "|        PORTO FRANCO|  c903692|   NULL| 2109007|210900705000008|    21|   MA|Client c903692|      0567|\n",
            "|             GOIANIA|  c903681|   NULL| 5208707|520870705090001|    52|   GO|Client c903681|      0567|\n",
            "|     SAO FELIX XINGU|  c903751|   NULL| 1507300|150730005000010|    15|   PA|Client c903751|      0567|\n",
            "|        RONDONOPOLIS|  c903715|   NULL| 5107602|510760205000022|    51|   MT|Client c903715|      0567|\n",
            "|        RONDONOPOLIS|  c903714|   NULL| 5107602|510760205000127|    51|   MT|Client c903714|      0567|\n",
            "|            MINEIROS|  c904496|   NULL| 5213103|521310305000087|    52|   GO|Client c904496|      0567|\n",
            "|               JATAI|  c903726|   NULL| 5211909|521190905000139|    52|   GO|Client c903726|      0567|\n",
            "|       SAO FRANCISCO|  c903705|   NULL| 3161106|316110605000001|    31|   MG|Client c903705|      0567|\n",
            "|               JATAI|  c904464|   NULL| 5211909|521190905000088|    52|   GO|Client c904464|      0567|\n",
            "|              LONTRA|  c904456|   NULL| 3138658|313865805000001|    31|   MG|Client c904456|      0567|\n",
            "|         PORTEIRINHA|  c904455|   NULL| 3152204|315220405000001|    31|   MG|Client c904455|      0567|\n",
            "|       SAO FRANCISCO|  c903701|   NULL| 3161106|316110605000003|    31|   MG|Client c903701|      0567|\n",
            "|            XINGUARA|  c904492|   NULL| 1508407|150840705000011|    15|   PA|Client c904492|      0567|\n",
            "+--------------------+---------+-------+--------+---------------+------+-----+--------------+----------+\n",
            "only showing top 30 rows\n",
            "\n"
          ]
        }
      ]
    },
    {
      "cell_type": "code",
      "source": [
        "clients_df.printSchema()"
      ],
      "metadata": {
        "colab": {
          "base_uri": "https://localhost:8080/"
        },
        "id": "pHjz14bsNXWU",
        "outputId": "805cc87f-8886-4357-e042-204da739d69b"
      },
      "execution_count": 9,
      "outputs": [
        {
          "output_type": "stream",
          "name": "stdout",
          "text": [
            "root\n",
            " |-- _c0: string (nullable = true)\n",
            " |-- _c1: string (nullable = true)\n",
            " |-- _c2: string (nullable = true)\n",
            " |-- _c3: string (nullable = true)\n",
            " |-- _c4: string (nullable = true)\n",
            " |-- _c5: string (nullable = true)\n",
            " |-- _c6: string (nullable = true)\n",
            " |-- _c7: string (nullable = true)\n",
            " |-- _c8: string (nullable = true)\n",
            "\n"
          ]
        }
      ]
    },
    {
      "cell_type": "code",
      "execution_count": 10,
      "metadata": {
        "id": "WzsaH61tUH6b"
      },
      "outputs": [],
      "source": [
        "clients_schema = \"city string, client_id string, cnae_id string, \\\n",
        "cod_city integer, cod_tract long, cod_uf integer, state string, client string, \\\n",
        " company_id integer\"\n",
        "clients_df = spark.read.csv(\"clients.csv\", header=True, schema=clients_schema, mode=\"FAILFAST\") #FAILFAST faz com que se algum valor nao der certo com o\n",
        "#schema ele vai errar rapido e avisar assim que acontecer e para, o contrário é p PERMISSIVE assim que nao para, porém coloca NULL no lugar.\n",
        "\n",
        "#em casos de problemas adcione uma coluna nova no schema do tipo string e no read chame columnNameOfCorruptRecord com o nome dessa coluna."
      ]
    },
    {
      "cell_type": "code",
      "execution_count": 11,
      "metadata": {
        "id": "xFpp2lmlUT8A"
      },
      "outputs": [],
      "source": [
        "vendas_df = spark.read.csv(\"vendas.csv\",header=True)"
      ]
    },
    {
      "cell_type": "code",
      "execution_count": 12,
      "metadata": {
        "id": "GbeJjvp3X7jQ",
        "colab": {
          "base_uri": "https://localhost:8080/"
        },
        "outputId": "37c314ed-7312-42d8-d3c6-60ab905b55f5"
      },
      "outputs": [
        {
          "output_type": "stream",
          "name": "stdout",
          "text": [
            "+---------+---------+-------+--------+---------------+------+-----+--------------+----------+\n",
            "|     city|client_id|cnae_id|cod_city|      cod_tract|cod_uf|state|        client|company_id|\n",
            "+---------+---------+-------+--------+---------------+------+-----+--------------+----------+\n",
            "|     NULL|  c855767|   NULL| 5211503|521150305000094|    52|   GO|Client c855767|       567|\n",
            "|    POSSE|  c836888|   NULL| 5218300|521830005000006|    52|   GO|Client c836888|       567|\n",
            "|      POA|  c836597|   NULL| 3539806|353980605000005|    35|   SP|Client c836597|       567|\n",
            "|SAO PAULO|  c836596|   NULL| 3550308|355030837000019|    35|   SP|Client c836596|       567|\n",
            "|   CUIABA|  c855005|   NULL| 5103403|510340310400031|    51|   MT|Client c855005|       567|\n",
            "+---------+---------+-------+--------+---------------+------+-----+--------------+----------+\n",
            "only showing top 5 rows\n",
            "\n"
          ]
        }
      ],
      "source": [
        "clients_df.show(5)"
      ]
    },
    {
      "cell_type": "code",
      "source": [
        "vendas_df.show(10)"
      ],
      "metadata": {
        "colab": {
          "base_uri": "https://localhost:8080/"
        },
        "id": "KSE5gagdWykB",
        "outputId": "1fbed6c3-65da-4a62-c25e-dda808d36850"
      },
      "execution_count": 13,
      "outputs": [
        {
          "output_type": "stream",
          "name": "stdout",
          "text": [
            "+---------+-----------+----------+----------+--------+----------+----------+-----------+-----------+----------+-------------+------------+-------------+------------+\n",
            "|client_id|items_count|list_price|order_date|order_id|product_id|sale_price|salesman_id|supplier_id|company_id|      product|    salesman|     supplier|      client|\n",
            "+---------+-----------+----------+----------+--------+----------+----------+-----------+-----------+----------+-------------+------------+-------------+------------+\n",
            "|    c2943|          3|       0.0|2020-05-21|    NULL|     p1477| 25.166666|        s69|       su28|      0603|Product p1477|Salesman s69|Supplier su28|Client c2943|\n",
            "|    c2943|         12|       0.0|2020-05-21|    NULL|      p156|   19.4653|        s69|       su16|      0603| Product p156|Salesman s69|Supplier su16|Client c2943|\n",
            "|    c2092|          2|       0.0|2020-05-21|    NULL|     p1314|    39.985|        s19|       su16|      0603|Product p1314|Salesman s19|Supplier su16|Client c2092|\n",
            "|    c3412|          5|       0.0|2020-05-18|    NULL|      p272|     26.25|        s79|       su19|      0603| Product p272|Salesman s79|Supplier su19|Client c3412|\n",
            "|    c3412|         10|       0.0|2020-05-18|    NULL|      p339|     13.68|        s79|       su19|      0603| Product p339|Salesman s79|Supplier su19|Client c3412|\n",
            "|    c3412|         20|       0.0|2020-05-18|    NULL|      p480|      4.02|        s79|       su19|      0603| Product p480|Salesman s79|Supplier su19|Client c3412|\n",
            "|    c4073|          3|       0.0|2020-05-18|    NULL|      p359|       5.7|        s81|       su19|      0603| Product p359|Salesman s81|Supplier su19|Client c4073|\n",
            "|    c4073|          5|       0.0|2020-05-18|    NULL|      p361|       5.7|        s81|       su19|      0603| Product p361|Salesman s81|Supplier su19|Client c4073|\n",
            "|    c4073|          2|       0.0|2020-05-18|    NULL|      p362|       5.7|        s81|       su19|      0603| Product p362|Salesman s81|Supplier su19|Client c4073|\n",
            "|    c4073|          1|       0.0|2020-05-18|    NULL|      p469|       6.8|        s81|       su19|      0603| Product p469|Salesman s81|Supplier su19|Client c4073|\n",
            "+---------+-----------+----------+----------+--------+----------+----------+-----------+-----------+----------+-------------+------------+-------------+------------+\n",
            "only showing top 10 rows\n",
            "\n"
          ]
        }
      ]
    },
    {
      "cell_type": "code",
      "source": [
        "vendas_df.printSchema()"
      ],
      "metadata": {
        "colab": {
          "base_uri": "https://localhost:8080/"
        },
        "id": "eBVQQ1aUW2To",
        "outputId": "342caae5-edd9-426d-8452-eb61bcdd77a3"
      },
      "execution_count": 14,
      "outputs": [
        {
          "output_type": "stream",
          "name": "stdout",
          "text": [
            "root\n",
            " |-- client_id: string (nullable = true)\n",
            " |-- items_count: string (nullable = true)\n",
            " |-- list_price: string (nullable = true)\n",
            " |-- order_date: string (nullable = true)\n",
            " |-- order_id: string (nullable = true)\n",
            " |-- product_id: string (nullable = true)\n",
            " |-- sale_price: string (nullable = true)\n",
            " |-- salesman_id: string (nullable = true)\n",
            " |-- supplier_id: string (nullable = true)\n",
            " |-- company_id: string (nullable = true)\n",
            " |-- product: string (nullable = true)\n",
            " |-- salesman: string (nullable = true)\n",
            " |-- supplier: string (nullable = true)\n",
            " |-- client: string (nullable = true)\n",
            "\n"
          ]
        }
      ]
    },
    {
      "cell_type": "code",
      "source": [
        "vendas_schema = \"client_id string, items_count integer, list_price float, \\\n",
        "order_date date, order_id integer, product_id integer, sale_price float, salesman_id string, \\\n",
        " supplier_id integer, company_id integer, product string, salesman string, supplier string, client string\""
      ],
      "metadata": {
        "id": "OKJdSk5VW9vg"
      },
      "execution_count": 15,
      "outputs": []
    },
    {
      "cell_type": "markdown",
      "source": [
        "## Spark Pandas\n",
        "\n",
        "### O que é Spark Pandas?\n",
        "\n",
        "Spark Pandas é uma biblioteca que fornece uma interface similar ao Pandas para trabalhar com dados em clusters Apache Spark. Isso significa que você pode usar as mesmas funções e métodos do Pandas, mas com a capacidade de processar datasets imensos distribuídos em vários nós.\n",
        "\n",
        "### Por que usar Spark Pandas?\n",
        "\n",
        "Para cientistas de dados, o Spark Pandas oferece diversas vantagens:\n",
        "\n",
        "- Escalabilidade: processa conjuntos de dados enormes com rapidez e eficiência, utilizando a computação distribuída do Spark.\n",
        "- Familiaridade: permite utilizar a linguagem e as funções do Pandas, que você já conhece, para análise de dados em grande escala.\n",
        "- Performance: aproveita as otimizações do Spark para acelerar tarefas como leitura, transformação e agregação de dados.\n",
        "- Integração: funciona perfeitamente com outros componentes do ecossistema Spark, como Spark SQL e MLlib."
      ],
      "metadata": {
        "id": "D3KMk5UC7Ey3"
      }
    },
    {
      "cell_type": "markdown",
      "source": [
        "Agora vamos fazer a mesma operação de leitura de dados de clientes e vendas com **Spark Pandas** (vide [documentação](https://spark.apache.org/docs/latest/api/python/user_guide/pandas_on_spark/index.html)).\n",
        "\n",
        "Os clientes vamos armazenar no Dataframe `clients_pdf` e os dados de vendas em `vendas_pdf`. A leitura do csv é semelhante ao Pandas com o método `read_csv`."
      ],
      "metadata": {
        "id": "Sx-MIEKB7K_A"
      }
    },
    {
      "cell_type": "code",
      "source": [
        "import pyspark.pandas as ps"
      ],
      "metadata": {
        "id": "UkjV-kl37VMT",
        "colab": {
          "base_uri": "https://localhost:8080/"
        },
        "outputId": "8ba7cd27-7f44-4a84-cdb1-83d52b57bf87"
      },
      "execution_count": 16,
      "outputs": [
        {
          "output_type": "stream",
          "name": "stderr",
          "text": [
            "/content/spark-3.5.2-bin-hadoop3/python/pyspark/pandas/__init__.py:50: UserWarning: 'PYARROW_IGNORE_TIMEZONE' environment variable was not set. It is required to set this environment variable to '1' in both driver and executor sides if you use pyarrow>=2.0.0. pandas-on-Spark will set it for you but it does not work if there is a Spark context already launched.\n",
            "  warnings.warn(\n"
          ]
        }
      ]
    },
    {
      "cell_type": "code",
      "source": [
        "clients_pdf = ps.read_csv('clients.csv', names=clients_schema, header=0)"
      ],
      "metadata": {
        "id": "JT6o5V7_7THu",
        "colab": {
          "base_uri": "https://localhost:8080/"
        },
        "outputId": "7490e46b-18cb-4a0e-c659-de4bc945ea2b"
      },
      "execution_count": 17,
      "outputs": [
        {
          "output_type": "stream",
          "name": "stderr",
          "text": [
            "/content/spark-3.5.2-bin-hadoop3/python/pyspark/pandas/utils.py:1016: PandasAPIOnSparkAdviceWarning: If `index_col` is not specified for `read_csv`, the default index is attached which can cause additional overhead.\n",
            "  warnings.warn(message, PandasAPIOnSparkAdviceWarning)\n"
          ]
        }
      ]
    },
    {
      "cell_type": "code",
      "source": [
        "clients_pdf.head(5)"
      ],
      "metadata": {
        "id": "b6daEk7D8f65",
        "colab": {
          "base_uri": "https://localhost:8080/",
          "height": 206
        },
        "outputId": "84915665-2583-4061-d0b3-3df7a741cea9"
      },
      "execution_count": 18,
      "outputs": [
        {
          "output_type": "execute_result",
          "data": {
            "text/plain": [
              "        city client_id cnae_id  cod_city        cod_tract  cod_uf state          client  company_id\n",
              "0       None   c855767    None   5211503  521150305000094      52    GO  Client c855767         567\n",
              "1      POSSE   c836888    None   5218300  521830005000006      52    GO  Client c836888         567\n",
              "2        POA   c836597    None   3539806  353980605000005      35    SP  Client c836597         567\n",
              "3  SAO PAULO   c836596    None   3550308  355030837000019      35    SP  Client c836596         567\n",
              "4     CUIABA   c855005    None   5103403  510340310400031      51    MT  Client c855005         567"
            ],
            "text/html": [
              "<div>\n",
              "<style scoped>\n",
              "    .dataframe tbody tr th:only-of-type {\n",
              "        vertical-align: middle;\n",
              "    }\n",
              "\n",
              "    .dataframe tbody tr th {\n",
              "        vertical-align: top;\n",
              "    }\n",
              "\n",
              "    .dataframe thead th {\n",
              "        text-align: right;\n",
              "    }\n",
              "</style>\n",
              "<table border=\"1\" class=\"dataframe\">\n",
              "  <thead>\n",
              "    <tr style=\"text-align: right;\">\n",
              "      <th></th>\n",
              "      <th>city</th>\n",
              "      <th>client_id</th>\n",
              "      <th>cnae_id</th>\n",
              "      <th>cod_city</th>\n",
              "      <th>cod_tract</th>\n",
              "      <th>cod_uf</th>\n",
              "      <th>state</th>\n",
              "      <th>client</th>\n",
              "      <th>company_id</th>\n",
              "    </tr>\n",
              "  </thead>\n",
              "  <tbody>\n",
              "    <tr>\n",
              "      <th>0</th>\n",
              "      <td>None</td>\n",
              "      <td>c855767</td>\n",
              "      <td>None</td>\n",
              "      <td>5211503</td>\n",
              "      <td>521150305000094</td>\n",
              "      <td>52</td>\n",
              "      <td>GO</td>\n",
              "      <td>Client c855767</td>\n",
              "      <td>567</td>\n",
              "    </tr>\n",
              "    <tr>\n",
              "      <th>1</th>\n",
              "      <td>POSSE</td>\n",
              "      <td>c836888</td>\n",
              "      <td>None</td>\n",
              "      <td>5218300</td>\n",
              "      <td>521830005000006</td>\n",
              "      <td>52</td>\n",
              "      <td>GO</td>\n",
              "      <td>Client c836888</td>\n",
              "      <td>567</td>\n",
              "    </tr>\n",
              "    <tr>\n",
              "      <th>2</th>\n",
              "      <td>POA</td>\n",
              "      <td>c836597</td>\n",
              "      <td>None</td>\n",
              "      <td>3539806</td>\n",
              "      <td>353980605000005</td>\n",
              "      <td>35</td>\n",
              "      <td>SP</td>\n",
              "      <td>Client c836597</td>\n",
              "      <td>567</td>\n",
              "    </tr>\n",
              "    <tr>\n",
              "      <th>3</th>\n",
              "      <td>SAO PAULO</td>\n",
              "      <td>c836596</td>\n",
              "      <td>None</td>\n",
              "      <td>3550308</td>\n",
              "      <td>355030837000019</td>\n",
              "      <td>35</td>\n",
              "      <td>SP</td>\n",
              "      <td>Client c836596</td>\n",
              "      <td>567</td>\n",
              "    </tr>\n",
              "    <tr>\n",
              "      <th>4</th>\n",
              "      <td>CUIABA</td>\n",
              "      <td>c855005</td>\n",
              "      <td>None</td>\n",
              "      <td>5103403</td>\n",
              "      <td>510340310400031</td>\n",
              "      <td>51</td>\n",
              "      <td>MT</td>\n",
              "      <td>Client c855005</td>\n",
              "      <td>567</td>\n",
              "    </tr>\n",
              "  </tbody>\n",
              "</table>\n",
              "</div>"
            ]
          },
          "metadata": {},
          "execution_count": 18
        }
      ]
    },
    {
      "cell_type": "code",
      "source": [
        "vendas_pdf = ps.read_csv(\"vendas.csv\", names=vendas_schema, header=0)"
      ],
      "metadata": {
        "id": "MlXh5Q9_6wkp",
        "colab": {
          "base_uri": "https://localhost:8080/"
        },
        "outputId": "fd933af6-3519-42bb-f3ac-4528e65760a8"
      },
      "execution_count": 19,
      "outputs": [
        {
          "output_type": "stream",
          "name": "stderr",
          "text": [
            "/content/spark-3.5.2-bin-hadoop3/python/pyspark/pandas/utils.py:1016: PandasAPIOnSparkAdviceWarning: If `index_col` is not specified for `read_csv`, the default index is attached which can cause additional overhead.\n",
            "  warnings.warn(message, PandasAPIOnSparkAdviceWarning)\n"
          ]
        }
      ]
    },
    {
      "cell_type": "code",
      "source": [
        "vendas_pdf.head(5)"
      ],
      "metadata": {
        "id": "4unpRqVW8W8A",
        "colab": {
          "base_uri": "https://localhost:8080/",
          "height": 206
        },
        "outputId": "54989ec2-3712-4dca-a73e-fd43841ed769"
      },
      "execution_count": 20,
      "outputs": [
        {
          "output_type": "execute_result",
          "data": {
            "text/plain": [
              "  client_id  items_count  list_price  order_date  order_id  product_id  sale_price salesman_id  supplier_id  company_id        product      salesman       supplier        client\n",
              "0     c2943            3         0.0  2020-05-21       NaN         NaN   25.166666         s69          NaN         603  Product p1477  Salesman s69  Supplier su28  Client c2943\n",
              "1     c2943           12         0.0  2020-05-21       NaN         NaN   19.465300         s69          NaN         603   Product p156  Salesman s69  Supplier su16  Client c2943\n",
              "2     c2092            2         0.0  2020-05-21       NaN         NaN   39.985001         s19          NaN         603  Product p1314  Salesman s19  Supplier su16  Client c2092\n",
              "3     c3412            5         0.0  2020-05-18       NaN         NaN   26.250000         s79          NaN         603   Product p272  Salesman s79  Supplier su19  Client c3412\n",
              "4     c3412           10         0.0  2020-05-18       NaN         NaN   13.680000         s79          NaN         603   Product p339  Salesman s79  Supplier su19  Client c3412"
            ],
            "text/html": [
              "<div>\n",
              "<style scoped>\n",
              "    .dataframe tbody tr th:only-of-type {\n",
              "        vertical-align: middle;\n",
              "    }\n",
              "\n",
              "    .dataframe tbody tr th {\n",
              "        vertical-align: top;\n",
              "    }\n",
              "\n",
              "    .dataframe thead th {\n",
              "        text-align: right;\n",
              "    }\n",
              "</style>\n",
              "<table border=\"1\" class=\"dataframe\">\n",
              "  <thead>\n",
              "    <tr style=\"text-align: right;\">\n",
              "      <th></th>\n",
              "      <th>client_id</th>\n",
              "      <th>items_count</th>\n",
              "      <th>list_price</th>\n",
              "      <th>order_date</th>\n",
              "      <th>order_id</th>\n",
              "      <th>product_id</th>\n",
              "      <th>sale_price</th>\n",
              "      <th>salesman_id</th>\n",
              "      <th>supplier_id</th>\n",
              "      <th>company_id</th>\n",
              "      <th>product</th>\n",
              "      <th>salesman</th>\n",
              "      <th>supplier</th>\n",
              "      <th>client</th>\n",
              "    </tr>\n",
              "  </thead>\n",
              "  <tbody>\n",
              "    <tr>\n",
              "      <th>0</th>\n",
              "      <td>c2943</td>\n",
              "      <td>3</td>\n",
              "      <td>0.0</td>\n",
              "      <td>2020-05-21</td>\n",
              "      <td>NaN</td>\n",
              "      <td>NaN</td>\n",
              "      <td>25.166666</td>\n",
              "      <td>s69</td>\n",
              "      <td>NaN</td>\n",
              "      <td>603</td>\n",
              "      <td>Product p1477</td>\n",
              "      <td>Salesman s69</td>\n",
              "      <td>Supplier su28</td>\n",
              "      <td>Client c2943</td>\n",
              "    </tr>\n",
              "    <tr>\n",
              "      <th>1</th>\n",
              "      <td>c2943</td>\n",
              "      <td>12</td>\n",
              "      <td>0.0</td>\n",
              "      <td>2020-05-21</td>\n",
              "      <td>NaN</td>\n",
              "      <td>NaN</td>\n",
              "      <td>19.465300</td>\n",
              "      <td>s69</td>\n",
              "      <td>NaN</td>\n",
              "      <td>603</td>\n",
              "      <td>Product p156</td>\n",
              "      <td>Salesman s69</td>\n",
              "      <td>Supplier su16</td>\n",
              "      <td>Client c2943</td>\n",
              "    </tr>\n",
              "    <tr>\n",
              "      <th>2</th>\n",
              "      <td>c2092</td>\n",
              "      <td>2</td>\n",
              "      <td>0.0</td>\n",
              "      <td>2020-05-21</td>\n",
              "      <td>NaN</td>\n",
              "      <td>NaN</td>\n",
              "      <td>39.985001</td>\n",
              "      <td>s19</td>\n",
              "      <td>NaN</td>\n",
              "      <td>603</td>\n",
              "      <td>Product p1314</td>\n",
              "      <td>Salesman s19</td>\n",
              "      <td>Supplier su16</td>\n",
              "      <td>Client c2092</td>\n",
              "    </tr>\n",
              "    <tr>\n",
              "      <th>3</th>\n",
              "      <td>c3412</td>\n",
              "      <td>5</td>\n",
              "      <td>0.0</td>\n",
              "      <td>2020-05-18</td>\n",
              "      <td>NaN</td>\n",
              "      <td>NaN</td>\n",
              "      <td>26.250000</td>\n",
              "      <td>s79</td>\n",
              "      <td>NaN</td>\n",
              "      <td>603</td>\n",
              "      <td>Product p272</td>\n",
              "      <td>Salesman s79</td>\n",
              "      <td>Supplier su19</td>\n",
              "      <td>Client c3412</td>\n",
              "    </tr>\n",
              "    <tr>\n",
              "      <th>4</th>\n",
              "      <td>c3412</td>\n",
              "      <td>10</td>\n",
              "      <td>0.0</td>\n",
              "      <td>2020-05-18</td>\n",
              "      <td>NaN</td>\n",
              "      <td>NaN</td>\n",
              "      <td>13.680000</td>\n",
              "      <td>s79</td>\n",
              "      <td>NaN</td>\n",
              "      <td>603</td>\n",
              "      <td>Product p339</td>\n",
              "      <td>Salesman s79</td>\n",
              "      <td>Supplier su19</td>\n",
              "      <td>Client c3412</td>\n",
              "    </tr>\n",
              "  </tbody>\n",
              "</table>\n",
              "</div>"
            ]
          },
          "metadata": {},
          "execution_count": 20
        }
      ]
    },
    {
      "cell_type": "markdown",
      "source": [
        "# Consultas nas bases de dados"
      ],
      "metadata": {
        "id": "LVOKNJ9dEnGW"
      }
    },
    {
      "cell_type": "code",
      "source": [
        "clients_df.createOrReplaceTempView(\"clients\")"
      ],
      "metadata": {
        "id": "RMU48-n0gLmb"
      },
      "execution_count": 47,
      "outputs": []
    },
    {
      "cell_type": "code",
      "source": [
        "sql = \"\"\"select state, client_id\n",
        "from clients\n",
        "limit 10\"\"\""
      ],
      "metadata": {
        "id": "uXNFCHuLhUa3"
      },
      "execution_count": 22,
      "outputs": []
    },
    {
      "cell_type": "code",
      "source": [
        "sql = \"\"\"select state, count(*) as contagem\n",
        "from clients\n",
        "where cnae_id is not null\n",
        "group by state\n",
        "order by contagem asc\n",
        "limit 10\"\"\""
      ],
      "metadata": {
        "id": "mTRUdjRdfz_7"
      },
      "execution_count": 23,
      "outputs": []
    },
    {
      "cell_type": "code",
      "source": [
        "spark.sql(sql).show()"
      ],
      "metadata": {
        "colab": {
          "base_uri": "https://localhost:8080/"
        },
        "id": "nz0K5aUXgyck",
        "outputId": "e4338ee0-51fb-4820-ee91-db7de4d35544"
      },
      "execution_count": 24,
      "outputs": [
        {
          "output_type": "stream",
          "name": "stdout",
          "text": [
            "+-----+--------+\n",
            "|state|contagem|\n",
            "+-----+--------+\n",
            "|   EX|       1|\n",
            "|   RR|      63|\n",
            "|   AL|     130|\n",
            "|   SE|     135|\n",
            "|   AC|     157|\n",
            "|   AP|     208|\n",
            "|   MS|     212|\n",
            "|   MT|     284|\n",
            "|   ES|     445|\n",
            "|   PE|     463|\n",
            "+-----+--------+\n",
            "\n"
          ]
        }
      ]
    },
    {
      "cell_type": "code",
      "source": [
        "clients_df.filter(\"cnae_id is null\").count()"
      ],
      "metadata": {
        "colab": {
          "base_uri": "https://localhost:8080/"
        },
        "id": "TCCLF9QUfO0i",
        "outputId": "e0587521-f354-4cf8-fb5f-4b0288cba5c3"
      },
      "execution_count": 25,
      "outputs": [
        {
          "output_type": "execute_result",
          "data": {
            "text/plain": [
              "551036"
            ]
          },
          "metadata": {},
          "execution_count": 25
        }
      ]
    },
    {
      "cell_type": "code",
      "source": [
        "clients_pdf[clients_pdf['state'] == 'GO'].head(3)"
      ],
      "metadata": {
        "id": "3dnLQisPEq0v",
        "colab": {
          "base_uri": "https://localhost:8080/",
          "height": 143
        },
        "outputId": "b2246c91-e8a7-4762-fc3a-dc93e2b33137"
      },
      "execution_count": 26,
      "outputs": [
        {
          "output_type": "execute_result",
          "data": {
            "text/plain": [
              "                   city client_id cnae_id  cod_city        cod_tract  cod_uf state          client  company_id\n",
              "0                  None   c855767    None   5211503  521150305000094      52    GO  Client c855767         567\n",
              "1                 POSSE   c836888    None   5218300  521830005000006      52    GO  Client c836888         567\n",
              "6  APARECIDA DE GOIANIA   c836630    None   5201405  520140505000019      52    GO  Client c836630         567"
            ],
            "text/html": [
              "<div>\n",
              "<style scoped>\n",
              "    .dataframe tbody tr th:only-of-type {\n",
              "        vertical-align: middle;\n",
              "    }\n",
              "\n",
              "    .dataframe tbody tr th {\n",
              "        vertical-align: top;\n",
              "    }\n",
              "\n",
              "    .dataframe thead th {\n",
              "        text-align: right;\n",
              "    }\n",
              "</style>\n",
              "<table border=\"1\" class=\"dataframe\">\n",
              "  <thead>\n",
              "    <tr style=\"text-align: right;\">\n",
              "      <th></th>\n",
              "      <th>city</th>\n",
              "      <th>client_id</th>\n",
              "      <th>cnae_id</th>\n",
              "      <th>cod_city</th>\n",
              "      <th>cod_tract</th>\n",
              "      <th>cod_uf</th>\n",
              "      <th>state</th>\n",
              "      <th>client</th>\n",
              "      <th>company_id</th>\n",
              "    </tr>\n",
              "  </thead>\n",
              "  <tbody>\n",
              "    <tr>\n",
              "      <th>0</th>\n",
              "      <td>None</td>\n",
              "      <td>c855767</td>\n",
              "      <td>None</td>\n",
              "      <td>5211503</td>\n",
              "      <td>521150305000094</td>\n",
              "      <td>52</td>\n",
              "      <td>GO</td>\n",
              "      <td>Client c855767</td>\n",
              "      <td>567</td>\n",
              "    </tr>\n",
              "    <tr>\n",
              "      <th>1</th>\n",
              "      <td>POSSE</td>\n",
              "      <td>c836888</td>\n",
              "      <td>None</td>\n",
              "      <td>5218300</td>\n",
              "      <td>521830005000006</td>\n",
              "      <td>52</td>\n",
              "      <td>GO</td>\n",
              "      <td>Client c836888</td>\n",
              "      <td>567</td>\n",
              "    </tr>\n",
              "    <tr>\n",
              "      <th>6</th>\n",
              "      <td>APARECIDA DE GOIANIA</td>\n",
              "      <td>c836630</td>\n",
              "      <td>None</td>\n",
              "      <td>5201405</td>\n",
              "      <td>520140505000019</td>\n",
              "      <td>52</td>\n",
              "      <td>GO</td>\n",
              "      <td>Client c836630</td>\n",
              "      <td>567</td>\n",
              "    </tr>\n",
              "  </tbody>\n",
              "</table>\n",
              "</div>"
            ]
          },
          "metadata": {},
          "execution_count": 26
        }
      ]
    },
    {
      "cell_type": "code",
      "source": [
        "clients_pdf[clients_pdf['cnae_id'].notna()].groupby('state').size().sort_values().head(10).to_frame()"
      ],
      "metadata": {
        "colab": {
          "base_uri": "https://localhost:8080/",
          "height": 394
        },
        "id": "zauDtxjGjtQY",
        "outputId": "6cb53739-01ec-45f4-f574-a47c47505d16"
      },
      "execution_count": 27,
      "outputs": [
        {
          "output_type": "execute_result",
          "data": {
            "text/plain": [
              "       None\n",
              "state      \n",
              "EX        1\n",
              "RR       63\n",
              "AL      130\n",
              "SE      135\n",
              "AC      157\n",
              "AP      208\n",
              "MS      212\n",
              "MT      284\n",
              "ES      445\n",
              "PE      463"
            ],
            "text/html": [
              "<div>\n",
              "<style scoped>\n",
              "    .dataframe tbody tr th:only-of-type {\n",
              "        vertical-align: middle;\n",
              "    }\n",
              "\n",
              "    .dataframe tbody tr th {\n",
              "        vertical-align: top;\n",
              "    }\n",
              "\n",
              "    .dataframe thead th {\n",
              "        text-align: right;\n",
              "    }\n",
              "</style>\n",
              "<table border=\"1\" class=\"dataframe\">\n",
              "  <thead>\n",
              "    <tr style=\"text-align: right;\">\n",
              "      <th></th>\n",
              "      <th>None</th>\n",
              "    </tr>\n",
              "    <tr>\n",
              "      <th>state</th>\n",
              "      <th></th>\n",
              "    </tr>\n",
              "  </thead>\n",
              "  <tbody>\n",
              "    <tr>\n",
              "      <th>EX</th>\n",
              "      <td>1</td>\n",
              "    </tr>\n",
              "    <tr>\n",
              "      <th>RR</th>\n",
              "      <td>63</td>\n",
              "    </tr>\n",
              "    <tr>\n",
              "      <th>AL</th>\n",
              "      <td>130</td>\n",
              "    </tr>\n",
              "    <tr>\n",
              "      <th>SE</th>\n",
              "      <td>135</td>\n",
              "    </tr>\n",
              "    <tr>\n",
              "      <th>AC</th>\n",
              "      <td>157</td>\n",
              "    </tr>\n",
              "    <tr>\n",
              "      <th>AP</th>\n",
              "      <td>208</td>\n",
              "    </tr>\n",
              "    <tr>\n",
              "      <th>MS</th>\n",
              "      <td>212</td>\n",
              "    </tr>\n",
              "    <tr>\n",
              "      <th>MT</th>\n",
              "      <td>284</td>\n",
              "    </tr>\n",
              "    <tr>\n",
              "      <th>ES</th>\n",
              "      <td>445</td>\n",
              "    </tr>\n",
              "    <tr>\n",
              "      <th>PE</th>\n",
              "      <td>463</td>\n",
              "    </tr>\n",
              "  </tbody>\n",
              "</table>\n",
              "</div>"
            ]
          },
          "metadata": {},
          "execution_count": 27
        }
      ]
    },
    {
      "cell_type": "code",
      "source": [
        "clients_df.filter(clients_df['state'] == 'GO').show(3)"
      ],
      "metadata": {
        "id": "HBsNd0RNEu3p",
        "colab": {
          "base_uri": "https://localhost:8080/"
        },
        "outputId": "7fb5ba27-7dbd-47d3-a17e-292c01c6a919"
      },
      "execution_count": 28,
      "outputs": [
        {
          "output_type": "stream",
          "name": "stdout",
          "text": [
            "+--------------------+---------+-------+--------+---------------+------+-----+--------------+----------+\n",
            "|                city|client_id|cnae_id|cod_city|      cod_tract|cod_uf|state|        client|company_id|\n",
            "+--------------------+---------+-------+--------+---------------+------+-----+--------------+----------+\n",
            "|                NULL|  c855767|   NULL| 5211503|521150305000094|    52|   GO|Client c855767|       567|\n",
            "|               POSSE|  c836888|   NULL| 5218300|521830005000006|    52|   GO|Client c836888|       567|\n",
            "|APARECIDA DE GOIANIA|  c836630|   NULL| 5201405|520140505000019|    52|   GO|Client c836630|       567|\n",
            "+--------------------+---------+-------+--------+---------------+------+-----+--------------+----------+\n",
            "only showing top 3 rows\n",
            "\n"
          ]
        }
      ]
    },
    {
      "cell_type": "markdown",
      "source": [
        "# **Tarefa: questões a serem respondidas**\n",
        "\n",
        "1. Liste o nome dos 10 clientes que mais compraram no ano de 2021.\n",
        "2. Quais os 5 estados do Brasil que tiveram mais vendas no mês de janeiro de 2022?\n",
        "3. Quantos clientes tiveram compra com mais de um vendedor no ano de 2022?\n",
        "4. Quantos fornecedores distintos existem na base de dados?\n",
        "5. Qual o vendedor com maior volume de vendas analisando todo o histórico de compras?\n",
        "6. Qual o produto mais vendido (em quantidade) por estado brasileiro e qual o valor total de vendas deste produto em cada estado?\n",
        "7. Qual a média do valor total das vendas por dia da semana em cada estado no ano de 2022?\n",
        "\n"
      ],
      "metadata": {
        "id": "50S6eMBa59UJ"
      }
    },
    {
      "cell_type": "markdown",
      "source": [
        "# Junção da base de dados de clientes e vendas"
      ],
      "metadata": {
        "id": "MOWVv9RLWmZk"
      }
    },
    {
      "cell_type": "code",
      "source": [
        "joined_df = vendas_df.join(clients_df, \"client_id\", \"left\")"
      ],
      "metadata": {
        "id": "bxuQlg7RWpnq"
      },
      "execution_count": 29,
      "outputs": []
    },
    {
      "cell_type": "code",
      "source": [
        "joined_df.count()"
      ],
      "metadata": {
        "id": "yOE8lATIW3jO",
        "colab": {
          "base_uri": "https://localhost:8080/"
        },
        "outputId": "7eaeec2a-4d4c-4a3a-b814-ad6d43bd969c"
      },
      "execution_count": 30,
      "outputs": [
        {
          "output_type": "execute_result",
          "data": {
            "text/plain": [
              "4367269"
            ]
          },
          "metadata": {},
          "execution_count": 30
        }
      ]
    },
    {
      "cell_type": "code",
      "source": [
        "joined_pdf = vendas_pdf.merge(clients_pdf, on='client_id', how='left')"
      ],
      "metadata": {
        "id": "dhSaw9DjWsh6"
      },
      "execution_count": 31,
      "outputs": []
    },
    {
      "cell_type": "code",
      "source": [
        "len(joined_pdf)"
      ],
      "metadata": {
        "id": "2qXMR5uVpMgT",
        "colab": {
          "base_uri": "https://localhost:8080/"
        },
        "outputId": "b17b9f1d-1ad7-42b0-9d2f-f0579254902f"
      },
      "execution_count": 32,
      "outputs": [
        {
          "output_type": "execute_result",
          "data": {
            "text/plain": [
              "4367269"
            ]
          },
          "metadata": {},
          "execution_count": 32
        }
      ]
    },
    {
      "cell_type": "markdown",
      "source": [
        "## **Questão 1: Liste o nome dos 10 clientes que mais compraram no ano de 2021.**"
      ],
      "metadata": {
        "id": "chqqv_03RB3z"
      }
    },
    {
      "cell_type": "markdown",
      "source": [
        "### Questão 1: Apache Spark\n",
        "\n",
        "A primeira resposta será desenvolvida utilizando a API do Spark."
      ],
      "metadata": {
        "id": "KUXWV-fmaeh2"
      }
    },
    {
      "cell_type": "code",
      "source": [
        "# Filtrando as vendas de 2021 e removendo valores nulos em 'client_id'\n",
        "vendas_2021 = vendas_df.filter(\"order_date >= '2021-01-01' and order_date <= '2021-12-31' and client_id is not null\")"
      ],
      "metadata": {
        "id": "L1RgJRf3Z5vU"
      },
      "execution_count": 33,
      "outputs": []
    },
    {
      "cell_type": "code",
      "source": [
        "# Agrupando por 'client_id' e 'client' e somando 'sale_price'\n",
        "top_clients = vendas_2021.groupBy([\"client_id\", \"client\"]).agg(sum(\"sale_price\").alias(\"vendas\"))"
      ],
      "metadata": {
        "id": "VRhdDuUCZ971"
      },
      "execution_count": 34,
      "outputs": []
    },
    {
      "cell_type": "code",
      "source": [
        "# Ordenando por 'vendas' em ordem decrescente\n",
        "top_clients = top_clients.orderBy(desc(\"vendas\"))"
      ],
      "metadata": {
        "id": "eGDtFP-8aENI"
      },
      "execution_count": 35,
      "outputs": []
    },
    {
      "cell_type": "code",
      "source": [
        "# Exibindo o resultado\n",
        "top_clients.show(5)"
      ],
      "metadata": {
        "id": "UkgnOWuOaOkJ",
        "colab": {
          "base_uri": "https://localhost:8080/"
        },
        "outputId": "d5e57d80-5f0c-4754-fc80-6637b51ba4eb"
      },
      "execution_count": 36,
      "outputs": [
        {
          "output_type": "stream",
          "name": "stdout",
          "text": [
            "+---------+------------+------------------+\n",
            "|client_id|      client|            vendas|\n",
            "+---------+------------+------------------+\n",
            "|     c354| Client c354|34151.925634000014|\n",
            "|    c4658|Client c4658|       28430.28621|\n",
            "|    c5150|Client c5150|24343.193999999996|\n",
            "|      c98|  Client c98|21936.962434000015|\n",
            "|    c5127|Client c5127|20967.980328200007|\n",
            "+---------+------------+------------------+\n",
            "only showing top 5 rows\n",
            "\n"
          ]
        }
      ]
    },
    {
      "cell_type": "markdown",
      "source": [
        "### Questão 1: Spark Pandas\n",
        "\n",
        "A segunda resposta será desenvolvida utilizando a API do Pandas junto com Spark."
      ],
      "metadata": {
        "id": "IvEWFPIWasrt"
      }
    },
    {
      "cell_type": "code",
      "source": [
        "# Filtrando as vendas de 2021 e removendo valores nulos em 'client_id'\n",
        "vendas_2021 = vendas_pdf[(vendas_pdf['order_date'] >= '2021-01-01') &\n",
        "                          (vendas_pdf['order_date'] <= '2021-12-31') &\n",
        "                          (vendas_pdf['client_id'].notna())]\n",
        "\n",
        "# Agrupando por 'client_id' e 'client' e somando 'sale_price'\n",
        "top_clients = vendas_2021.groupby(['client_id', 'client'])['sale_price'].sum().reset_index(name='vendas')\n",
        "\n",
        "# Ordenando por 'vendas' em ordem decrescente\n",
        "top_clients = top_clients.sort_values('vendas', ascending=False)\n",
        "\n",
        "# Exibindo o resultado\n",
        "top_clients.head(5)"
      ],
      "metadata": {
        "id": "UPOyqsTUYHgk",
        "colab": {
          "base_uri": "https://localhost:8080/",
          "height": 241
        },
        "outputId": "be85780e-a5ee-47b6-8341-81b6174e24e2"
      },
      "execution_count": 37,
      "outputs": [
        {
          "output_type": "stream",
          "name": "stderr",
          "text": [
            "/content/spark-3.5.2-bin-hadoop3/python/pyspark/pandas/groupby.py:893: FutureWarning: Default value of `numeric_only` will be changed to `False` instead of `True` in 4.0.0.\n",
            "  warnings.warn(\n"
          ]
        },
        {
          "output_type": "execute_result",
          "data": {
            "text/plain": [
              "     client_id        client        vendas\n",
              "1185      c354   Client c354  34151.925633\n",
              "2771     c4658  Client c4658  28430.286168\n",
              "1968     c5150  Client c5150  24343.193983\n",
              "1778       c98    Client c98  21936.962511\n",
              "831      c5127  Client c5127  20967.980280"
            ],
            "text/html": [
              "<div>\n",
              "<style scoped>\n",
              "    .dataframe tbody tr th:only-of-type {\n",
              "        vertical-align: middle;\n",
              "    }\n",
              "\n",
              "    .dataframe tbody tr th {\n",
              "        vertical-align: top;\n",
              "    }\n",
              "\n",
              "    .dataframe thead th {\n",
              "        text-align: right;\n",
              "    }\n",
              "</style>\n",
              "<table border=\"1\" class=\"dataframe\">\n",
              "  <thead>\n",
              "    <tr style=\"text-align: right;\">\n",
              "      <th></th>\n",
              "      <th>client_id</th>\n",
              "      <th>client</th>\n",
              "      <th>vendas</th>\n",
              "    </tr>\n",
              "  </thead>\n",
              "  <tbody>\n",
              "    <tr>\n",
              "      <th>1185</th>\n",
              "      <td>c354</td>\n",
              "      <td>Client c354</td>\n",
              "      <td>34151.925633</td>\n",
              "    </tr>\n",
              "    <tr>\n",
              "      <th>2771</th>\n",
              "      <td>c4658</td>\n",
              "      <td>Client c4658</td>\n",
              "      <td>28430.286168</td>\n",
              "    </tr>\n",
              "    <tr>\n",
              "      <th>1968</th>\n",
              "      <td>c5150</td>\n",
              "      <td>Client c5150</td>\n",
              "      <td>24343.193983</td>\n",
              "    </tr>\n",
              "    <tr>\n",
              "      <th>1778</th>\n",
              "      <td>c98</td>\n",
              "      <td>Client c98</td>\n",
              "      <td>21936.962511</td>\n",
              "    </tr>\n",
              "    <tr>\n",
              "      <th>831</th>\n",
              "      <td>c5127</td>\n",
              "      <td>Client c5127</td>\n",
              "      <td>20967.980280</td>\n",
              "    </tr>\n",
              "  </tbody>\n",
              "</table>\n",
              "</div>"
            ]
          },
          "metadata": {},
          "execution_count": 37
        }
      ]
    },
    {
      "cell_type": "markdown",
      "source": [
        "### **Questão 2: Quais os 5 estados do Brasil que tiveram mais vendas no mês de janeiro de 2022**"
      ],
      "metadata": {
        "id": "cqcEslAg9H5t"
      }
    },
    {
      "cell_type": "markdown",
      "source": [
        "### Questão 2: Apache Spark\n",
        "\n",
        "Vamos responder utilizando a API do Spark."
      ],
      "metadata": {
        "id": "YEXRJbgyjH7c"
      }
    },
    {
      "cell_type": "code",
      "source": [
        "# Filtrando as vendas de janeiro de 2022\n",
        "jan_2022_sales = joined_df.filter(\"order_date >= '2022-01-01' and order_date <= '2022-01-31'\")"
      ],
      "metadata": {
        "id": "6wdISTXjpRuu"
      },
      "execution_count": 38,
      "outputs": []
    },
    {
      "cell_type": "code",
      "source": [
        "jan_2022_sales.groupBy(\"order_date\").count().show(5)"
      ],
      "metadata": {
        "colab": {
          "base_uri": "https://localhost:8080/"
        },
        "id": "kfvupuySpbwe",
        "outputId": "517bd9d0-a737-49d8-86f0-0f4718986833"
      },
      "execution_count": 39,
      "outputs": [
        {
          "output_type": "stream",
          "name": "stdout",
          "text": [
            "+----------+-----+\n",
            "|order_date|count|\n",
            "+----------+-----+\n",
            "|2022-01-20| 4184|\n",
            "|2022-01-18| 5348|\n",
            "|2022-01-17| 6523|\n",
            "|2022-01-14| 4119|\n",
            "|2022-01-25| 7223|\n",
            "+----------+-----+\n",
            "only showing top 5 rows\n",
            "\n"
          ]
        }
      ]
    },
    {
      "cell_type": "code",
      "source": [
        "# Agrupando por estado e somando as vendas\n",
        "state_sales = jan_2022_sales.groupBy(\"state\").agg(sum(\"sale_price\").alias(\"vendas\"))\n",
        "# Ordenando por vendas em ordem decrescente\n",
        "state_sales = state_sales.orderBy(desc(\"vendas\"))"
      ],
      "metadata": {
        "id": "IZbhYLXbp94P"
      },
      "execution_count": 40,
      "outputs": []
    },
    {
      "cell_type": "code",
      "source": [
        "state_sales.show(5)"
      ],
      "metadata": {
        "id": "b_qA7s-LixTA",
        "colab": {
          "base_uri": "https://localhost:8080/"
        },
        "outputId": "bfbccb21-1174-4fa7-9cb8-b1ef753798b3"
      },
      "execution_count": 41,
      "outputs": [
        {
          "output_type": "stream",
          "name": "stdout",
          "text": [
            "+-----+------------------+\n",
            "|state|            vendas|\n",
            "+-----+------------------+\n",
            "|   RJ| 999410.6045631706|\n",
            "|   SP| 698166.8008689005|\n",
            "|   GO| 608656.8479156648|\n",
            "|   ES|448342.31084699964|\n",
            "|   MG|426551.29759549885|\n",
            "+-----+------------------+\n",
            "only showing top 5 rows\n",
            "\n"
          ]
        }
      ]
    },
    {
      "cell_type": "markdown",
      "source": [
        "### Questão 2: Spark Pandas\n",
        "\n",
        "Vamos responder utilizando o Spark Pandas."
      ],
      "metadata": {
        "id": "Hr9f4HjCjMQW"
      }
    },
    {
      "cell_type": "code",
      "source": [
        "# Filtrando as vendas de janeiro de 2022\n",
        "jan_2022_sales = joined_pdf[(joined_pdf['order_date'] >= '2022-01-01') &\n",
        "                            (joined_pdf['order_date'] <= '2022-01-31')]\n",
        "\n",
        "# Agrupando por estado e somando as vendas\n",
        "state_sales = jan_2022_sales.groupby('state')['sale_price'].sum().reset_index(name='vendas')\n",
        "\n",
        "# Ordenando por vendas em ordem decrescente\n",
        "state_sales = state_sales.sort_values('vendas', ascending=False)\n",
        "\n",
        "# Exibindo os 5 primeiros estados\n",
        "state_sales.head(5)"
      ],
      "metadata": {
        "id": "gdp3ZCJMioxH"
      },
      "execution_count": null,
      "outputs": []
    },
    {
      "cell_type": "markdown",
      "source": [
        "### **Questão 3 Quantos clientes tiveram compra com mais de um vendedor no ano de 2022:**"
      ],
      "metadata": {
        "id": "0_YL15l3VrzN"
      }
    },
    {
      "cell_type": "code",
      "source": [
        "vendas_df = spark.read.csv(\"vendas.csv\", header=True, inferSchema=True)\n",
        "clientes_df = spark.read.csv(\"clients.csv\", header=True, inferSchema=True)"
      ],
      "metadata": {
        "id": "KDNMrE0z5XjT"
      },
      "execution_count": 51,
      "outputs": []
    },
    {
      "cell_type": "code",
      "source": [
        "#view temporária\n",
        "vendas_df.createOrReplaceTempView(\"vendas\")\n",
        "clients_df.createOrReplaceTempView(\"clients\")"
      ],
      "metadata": {
        "id": "ZxJ53B7K5CEL"
      },
      "execution_count": 48,
      "outputs": []
    },
    {
      "cell_type": "code",
      "source": [
        "sql = \"\"\"SELECT client_id, COUNT(DISTINCT salesman_id) AS NumVendedores\n",
        "    FROM vendas\n",
        "    WHERE YEAR(order_date) = 2022\n",
        "    GROUP BY client_id\n",
        "    HAVING NumVendedores > 1\"\"\"\n",
        "\n",
        "    #para cada id diferente ele vai buscar o a quantidade de vendedores diferentes pelo id dos vendedores\n",
        "    #vai pegar pela data de 2022\n",
        "    #vai agrupar esses clientes pelo id\n",
        "    #vai pegar apenas os que tem mais que 1"
      ],
      "metadata": {
        "id": "x51DiU1WVgXO"
      },
      "execution_count": 55,
      "outputs": []
    },
    {
      "cell_type": "code",
      "source": [
        "spark.sql(sql).count()"
      ],
      "metadata": {
        "colab": {
          "base_uri": "https://localhost:8080/"
        },
        "id": "08-EETgP4wpx",
        "outputId": "fc7a3f21-b58e-4244-ee99-78b609957b42"
      },
      "execution_count": 61,
      "outputs": [
        {
          "output_type": "execute_result",
          "data": {
            "text/plain": [
              "60"
            ]
          },
          "metadata": {},
          "execution_count": 61
        }
      ]
    },
    {
      "cell_type": "markdown",
      "source": [
        "### **Questão 4:** Quantos fornecedores distintos existem na base de dados?"
      ],
      "metadata": {
        "id": "rqqSH3ngZ6Ga"
      }
    },
    {
      "cell_type": "code",
      "source": [
        "sql = \"\"\"SELECT COUNT(DISTINCT supplier_id) AS Num_de_Fornecedores\n",
        "    FROM vendas\"\"\"\n",
        "\n",
        "    #na tabela de vendas puxa todos os valores de id para vendedores"
      ],
      "metadata": {
        "id": "LF5usUYbZ533"
      },
      "execution_count": 64,
      "outputs": []
    },
    {
      "cell_type": "code",
      "source": [
        "spark.sql(sql).show()"
      ],
      "metadata": {
        "colab": {
          "base_uri": "https://localhost:8080/"
        },
        "id": "hUJtAQMV7m8z",
        "outputId": "fc1de8c5-c93a-4ed2-dd39-5eb53a5cb831"
      },
      "execution_count": 65,
      "outputs": [
        {
          "output_type": "stream",
          "name": "stdout",
          "text": [
            "+-------------------+\n",
            "|Num_de_Fornecedores|\n",
            "+-------------------+\n",
            "|                 37|\n",
            "+-------------------+\n",
            "\n"
          ]
        }
      ]
    },
    {
      "cell_type": "markdown",
      "source": [
        "### **Questão 5:** Qual o vendedor com maior volume de vendas analisando todo o histórico de compras?"
      ],
      "metadata": {
        "id": "NOf5KbvB6Sp9"
      }
    },
    {
      "cell_type": "code",
      "source": [
        "sql = \"\"\"SELECT salesman_id, SUM(sale_price) AS total_vendas\n",
        "    FROM vendas\n",
        "    GROUP BY salesman_id\n",
        "    ORDER BY total_vendas DESC\n",
        "    LIMIT 1\"\"\"\n",
        "\n",
        "    #na tabela de vendas puxa todos os valores de id para vendedores e soma as vendas de cada um\n",
        "    #agrupa por id das vendas\n",
        "    #ordena decrecente\n",
        "    #pega o primeiro"
      ],
      "metadata": {
        "id": "mKyl3EPUcKXh"
      },
      "execution_count": 68,
      "outputs": []
    },
    {
      "cell_type": "code",
      "source": [
        "spark.sql(sql).show()"
      ],
      "metadata": {
        "colab": {
          "base_uri": "https://localhost:8080/"
        },
        "id": "_hsNBLkj8K-q",
        "outputId": "74ac70da-8da0-4c3e-d618-8c37cf6f679f"
      },
      "execution_count": 69,
      "outputs": [
        {
          "output_type": "stream",
          "name": "stdout",
          "text": [
            "+-----------+------------------+\n",
            "|salesman_id|      total_vendas|\n",
            "+-----------+------------------+\n",
            "|        s25|1852193.9332921728|\n",
            "+-----------+------------------+\n",
            "\n"
          ]
        }
      ]
    },
    {
      "cell_type": "markdown",
      "source": [
        "### **Questão 6:** Qual o produto mais vendido (em quantidade) por estado brasileiro e qual o valor total de vendas deste produto em cada estado?"
      ],
      "metadata": {
        "id": "6EDvJp2ikfWO"
      }
    },
    {
      "cell_type": "code",
      "source": [
        "sql = \"\"\"WITH vendas_por_produto AS (\n",
        "    SELECT c.state, v.product_id, SUM(v.items_count) AS quantidade, SUM(v.sale_price) AS total_vendas\n",
        "    FROM vendas v\n",
        "    JOIN clients c ON v.client_id = c.client_id\n",
        "    GROUP BY c.state, v.product_id\n",
        "    )\n",
        "\n",
        "SELECT state, product_id, quantidade, total_vendas\n",
        "FROM vendas_por_produto\n",
        "WHERE (state, quantidade) IN (\n",
        "    SELECT state, MAX(quantidade)\n",
        "    FROM vendas_por_produto\n",
        "    GROUP BY state\n",
        "    )\"\"\"\n",
        "\n",
        "    #primeiro se cria uma subquary temporaria que agrupa todos os produtos por estado para todos os estados\n",
        "    #seleciona o estado, o produto, a quantidade vendida e o valor total das vendas\n",
        "    #busca no estado o produto mais vendido e retorna ambos"
      ],
      "metadata": {
        "id": "hn14VFqakfWo"
      },
      "execution_count": 86,
      "outputs": []
    },
    {
      "cell_type": "code",
      "source": [
        "spark.sql(sql).show(50)"
      ],
      "metadata": {
        "colab": {
          "base_uri": "https://localhost:8080/"
        },
        "id": "VnpWMjEI-bZ1",
        "outputId": "d935c4f7-68da-46bc-9ef6-ce369bcd2fed"
      },
      "execution_count": 87,
      "outputs": [
        {
          "output_type": "stream",
          "name": "stdout",
          "text": [
            "+-----+----------+----------+------------------+\n",
            "|state|product_id|quantidade|      total_vendas|\n",
            "+-----+----------+----------+------------------+\n",
            "|   PI|     p2526|   28438.0|          15.03764|\n",
            "|   DF|      p510|   38972.0| 71.38007778999997|\n",
            "|   GO|      p510|  591898.0|1069.0584495700086|\n",
            "|   MG|      p510|  306859.0| 568.5343334800011|\n",
            "|   SP|      p510|  734724.0|1340.1239982000047|\n",
            "|   RO|      p510|   75262.0|129.37906094999997|\n",
            "|   BA|      p510|  236388.0|427.91964221999996|\n",
            "|   ES|      p510|  455642.0|  841.338364120006|\n",
            "|   SC|      p510|   17795.0|36.633116669999986|\n",
            "|   PE|     p2526|   37114.0|       20.88906665|\n",
            "|   MA|     p2526|   92547.0| 42.21990665000001|\n",
            "|   SE|     p2526|    8000.0|              2.13|\n",
            "|   TO|     p2526|  125762.0| 60.28399999999999|\n",
            "|   AM|      p510|  146037.0| 310.9626944600001|\n",
            "|   RJ|      p510|  798446.0|1506.1491861299985|\n",
            "|   AL|     p2354|    3450.0|             2.475|\n",
            "|   PB|      p510|   37796.0| 81.70514000999995|\n",
            "|   PR|     p2526|   16590.0|           11.0262|\n",
            "|   RS|      p510|  125075.0| 234.8310511200001|\n",
            "|    0|      p510|    2550.0| 8.546000000000001|\n",
            "|   RN|      p510|  283745.0| 514.7945784599999|\n",
            "|   AC|     p2368|   10845.0|3.4600000000000004|\n",
            "|   CE|      p510|  143103.0| 306.5407165300003|\n",
            "|   PA|     p2526|   54404.0|38.370000000000005|\n",
            "|   MS|     p1871|    6165.0| 8.540000000000001|\n",
            "|   RR|     p2368|   13675.0|           12.3458|\n",
            "|   MT|     p2354|    5270.0|              4.78|\n",
            "|   AP|      p485|    1372.0| 78.00999999999999|\n",
            "+-----+----------+----------+------------------+\n",
            "\n"
          ]
        }
      ]
    },
    {
      "cell_type": "markdown",
      "source": [
        "### **Questão 7:** Qual a média do valor total das vendas por dia da semana em cada estado no ano de 2022?"
      ],
      "metadata": {
        "id": "kenUFfiAkg7K"
      }
    },
    {
      "cell_type": "code",
      "source": [
        "sql = \"\"\"SELECT\n",
        "    c.state,\n",
        "    DAYOFWEEK(v.order_date) AS dia,\n",
        "    AVG(v.sale_price) AS avg_vendas\n",
        "\n",
        "FROM vendas v\n",
        "JOIN clients c ON v.client_id = c.client_id\n",
        "WHERE YEAR(v.order_date) = 2022\n",
        "  AND c.state IS NOT NULL\n",
        "  AND c.state != '0'\n",
        "GROUP BY c.state, DAYOFWEEK(v.order_date)\n",
        "ORDER BY c.state, DAYOFWEEK(v.order_date)\"\"\"\n",
        "\n",
        "#seleciona o estado do cliente\n",
        "#extrai o dia da semana a partir da data e retorna um valor de 1 a 7\n",
        "#calcula a média do valor total das vendas, soma e faz a media\n",
        "#join das tabeals\n",
        "#pega somente as do ano de 2022\n",
        "  #tirar os null\n",
        "  #tirar os 0\n",
        "#agrupa por estado e dia\n",
        "#ordena tudo"
      ],
      "metadata": {
        "id": "LyZ7D9hckg7L"
      },
      "execution_count": 98,
      "outputs": []
    },
    {
      "cell_type": "code",
      "source": [
        "spark.sql(sql).show(100)"
      ],
      "metadata": {
        "colab": {
          "base_uri": "https://localhost:8080/"
        },
        "id": "662wT0lMCEqW",
        "outputId": "9c6e9190-8852-4bc8-88fb-9a90f4ce9e47"
      },
      "execution_count": 99,
      "outputs": [
        {
          "output_type": "stream",
          "name": "stdout",
          "text": [
            "+-----+---+------------------+\n",
            "|state|dia|        avg_vendas|\n",
            "+-----+---+------------------+\n",
            "|   AC|  2| 84.95145245901644|\n",
            "|   AC|  3| 79.81981347619046|\n",
            "|   AC|  4| 57.47847203787879|\n",
            "|   AC|  5| 71.30706666698114|\n",
            "|   AC|  6|49.007189752747266|\n",
            "|   AL|  2| 51.15239948461536|\n",
            "|   AL|  3|57.141082028248654|\n",
            "|   AL|  4| 65.46768146341469|\n",
            "|   AL|  5|      87.471964976|\n",
            "|   AL|  6| 60.61347169811321|\n",
            "|   AM|  2|61.603425651396016|\n",
            "|   AM|  3|58.461317492779784|\n",
            "|   AM|  4|57.022381783221284|\n",
            "|   AM|  5| 59.24582814596862|\n",
            "|   AM|  6| 55.87654099607412|\n",
            "|   AP|  2| 36.22448421052632|\n",
            "|   AP|  3| 61.66444444444445|\n",
            "|   AP|  4|            57.726|\n",
            "|   AP|  5|119.95515789473684|\n",
            "|   AP|  6|             130.0|\n",
            "|   BA|  2| 59.79279370594653|\n",
            "|   BA|  3| 59.27045894868731|\n",
            "|   BA|  4|56.297327775734864|\n",
            "|   BA|  5| 55.67084753542683|\n",
            "|   BA|  6|51.951975840992944|\n",
            "|   CE|  2|60.864588976873115|\n",
            "|   CE|  3| 58.06980395858712|\n",
            "|   CE|  4|57.438274946743064|\n",
            "|   CE|  5| 60.16748033163073|\n",
            "|   CE|  6| 57.26555843299411|\n",
            "|   CE|  7|          42.75075|\n",
            "|   DF|  2| 63.75694175618901|\n",
            "|   DF|  3|  65.5674101123595|\n",
            "|   DF|  4| 59.39035061186121|\n",
            "|   DF|  5| 53.14112797870072|\n",
            "|   DF|  6| 67.58707004048583|\n",
            "|   ES|  2|59.026082600024914|\n",
            "|   ES|  3|59.721421800000115|\n",
            "|   ES|  4|54.978738758965136|\n",
            "|   ES|  5| 56.12233986466683|\n",
            "|   ES|  6|55.656184102613594|\n",
            "|   ES|  7|42.750750000000004|\n",
            "|   GO|  2|60.539518379227175|\n",
            "|   GO|  3| 59.33289155562282|\n",
            "|   GO|  4|55.271530426868246|\n",
            "|   GO|  5| 56.91687420264215|\n",
            "|   GO|  6|53.687359829488074|\n",
            "|   GO|  7|          42.75075|\n",
            "|   MA|  2| 60.79414132224921|\n",
            "|   MA|  3| 61.05759372777049|\n",
            "|   MA|  4| 56.38205872327549|\n",
            "|   MA|  5| 60.49464037327187|\n",
            "|   MA|  6| 57.77379946587535|\n",
            "|   MG|  2| 59.59346450922343|\n",
            "|   MG|  3| 60.73779627453806|\n",
            "|   MG|  4| 55.95808210816864|\n",
            "|   MG|  5| 57.86953666757682|\n",
            "|   MG|  6| 59.03144168107427|\n",
            "|   MS|  2|  56.9571027045977|\n",
            "|   MS|  3| 54.01361625819674|\n",
            "|   MS|  4|60.995736372307675|\n",
            "|   MS|  5| 65.87179791666664|\n",
            "|   MS|  6|         79.139905|\n",
            "|   MT|  2| 57.70852242727271|\n",
            "|   MT|  3| 66.04299507407407|\n",
            "|   MT|  4| 73.24480118421053|\n",
            "|   MT|  5|   70.390888018018|\n",
            "|   MT|  6|  69.3465037037037|\n",
            "|   PA|  2| 62.69838316482149|\n",
            "|   PA|  3| 56.91028856217613|\n",
            "|   PA|  4|56.113086852118364|\n",
            "|   PA|  5| 58.45204076642327|\n",
            "|   PA|  6|63.794012547309855|\n",
            "|   PB|  2|61.448633170488066|\n",
            "|   PB|  3|59.575835346026494|\n",
            "|   PB|  4|  57.3756821835723|\n",
            "|   PB|  5|57.693030871064444|\n",
            "|   PB|  6|56.325605114361736|\n",
            "|   PE|  2|56.563428583570314|\n",
            "|   PE|  3| 64.09043671302288|\n",
            "|   PE|  4| 57.45994441827133|\n",
            "|   PE|  5| 69.61169956615129|\n",
            "|   PE|  6|59.731108926156466|\n",
            "|   PI|  2| 63.47841292431191|\n",
            "|   PI|  3| 58.51791985742187|\n",
            "|   PI|  4| 58.51602089758177|\n",
            "|   PI|  5|52.445042529321036|\n",
            "|   PI|  6|54.918239961988306|\n",
            "|   PR|  2|56.984466066285634|\n",
            "|   PR|  3| 63.08727515040252|\n",
            "|   PR|  4| 57.94544807534242|\n",
            "|   PR|  5| 61.05339213877547|\n",
            "|   PR|  6| 53.35944118798282|\n",
            "|   RJ|  2|60.160658801666365|\n",
            "|   RJ|  3|58.454452274436925|\n",
            "|   RJ|  4| 56.25535882771213|\n",
            "|   RJ|  5| 58.80807105783707|\n",
            "|   RJ|  6| 56.59062194511201|\n",
            "|   RJ|  7|          42.75075|\n",
            "|   RN|  2| 59.80507675582931|\n",
            "+-----+---+------------------+\n",
            "only showing top 100 rows\n",
            "\n"
          ]
        }
      ]
    },
    {
      "cell_type": "code",
      "source": [],
      "metadata": {
        "id": "cWTlO4rzCZwq"
      },
      "execution_count": null,
      "outputs": []
    }
  ]
}